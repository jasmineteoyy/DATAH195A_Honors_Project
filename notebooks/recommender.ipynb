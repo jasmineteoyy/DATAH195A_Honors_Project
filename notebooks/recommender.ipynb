{
 "cells": [
  {
   "cell_type": "code",
   "metadata": {
    "tags": [],
    "cell_id": "64be906b-dc01-4b93-a341-c2856e42832b",
    "deepnote_to_be_reexecuted": false,
    "source_hash": "2529efe3",
    "execution_start": 1651615672411,
    "execution_millis": 28350,
    "deepnote_cell_type": "code",
    "deepnote_cell_height": 1043
   },
   "source": "import numpy as np\nimport pandas as pd\nimport matplotlib.pyplot as plt\nimport seaborn as sns\n#spotify WebAPI\n!pip install spotipy\nimport spotipy\nfrom spotipy.oauth2 import SpotifyOAuth\nfrom spotipy.oauth2 import SpotifyClientCredentials\nimport os\n%matplotlib inline\nimport spotipy.util as util\n\n!pip install -U sentence-transformers\nfrom sentence_transformers import SentenceTransformer\nfrom sklearn.feature_extraction.text import CountVectorizer\nfrom sklearn.cluster import KMeans\nfrom sklearn.metrics.pairwise import cosine_similarity\nfrom sklearn.decomposition import PCA\nfrom sklearn.preprocessing import MinMaxScaler",
   "execution_count": null,
   "outputs": [
    {
     "name": "stdout",
     "text": "Collecting spotipy\n  Downloading spotipy-2.19.0-py3-none-any.whl (27 kB)\nRequirement already satisfied: requests>=2.25.0 in /shared-libs/python3.7/py/lib/python3.7/site-packages (from spotipy) (2.27.1)\nRequirement already satisfied: urllib3>=1.26.0 in /shared-libs/python3.7/py/lib/python3.7/site-packages (from spotipy) (1.26.9)\nRequirement already satisfied: six>=1.15.0 in /shared-libs/python3.7/py-core/lib/python3.7/site-packages (from spotipy) (1.16.0)\nRequirement already satisfied: idna<4,>=2.5; python_version >= \"3\" in /shared-libs/python3.7/py-core/lib/python3.7/site-packages (from requests>=2.25.0->spotipy) (3.3)\nRequirement already satisfied: charset-normalizer~=2.0.0; python_version >= \"3\" in /shared-libs/python3.7/py-core/lib/python3.7/site-packages (from requests>=2.25.0->spotipy) (2.0.12)\nRequirement already satisfied: certifi>=2017.4.17 in /shared-libs/python3.7/py/lib/python3.7/site-packages (from requests>=2.25.0->spotipy) (2021.10.8)\nInstalling collected packages: spotipy\nSuccessfully installed spotipy-2.19.0\n\u001b[33mWARNING: You are using pip version 20.1.1; however, version 22.0.4 is available.\nYou should consider upgrading via the '/root/venv/bin/python -m pip install --upgrade pip' command.\u001b[0m\nCollecting sentence-transformers\n  Downloading sentence-transformers-2.2.0.tar.gz (79 kB)\n\u001b[K     |████████████████████████████████| 79 kB 8.9 MB/s \n\u001b[?25hCollecting transformers<5.0.0,>=4.6.0\n  Downloading transformers-4.18.0-py3-none-any.whl (4.0 MB)\n\u001b[K     |████████████████████████████████| 4.0 MB 40.4 MB/s \n\u001b[?25hRequirement already satisfied, skipping upgrade: tqdm in /shared-libs/python3.7/py/lib/python3.7/site-packages (from sentence-transformers) (4.64.0)\nRequirement already satisfied, skipping upgrade: torch>=1.6.0 in /shared-libs/python3.7/py/lib/python3.7/site-packages (from sentence-transformers) (1.11.0)\nRequirement already satisfied, skipping upgrade: torchvision in /shared-libs/python3.7/py/lib/python3.7/site-packages (from sentence-transformers) (0.12.0)\nRequirement already satisfied, skipping upgrade: numpy in /shared-libs/python3.7/py/lib/python3.7/site-packages (from sentence-transformers) (1.21.6)\nRequirement already satisfied, skipping upgrade: scikit-learn in /shared-libs/python3.7/py/lib/python3.7/site-packages (from sentence-transformers) (1.0.2)\nRequirement already satisfied, skipping upgrade: scipy in /shared-libs/python3.7/py/lib/python3.7/site-packages (from sentence-transformers) (1.7.3)\nRequirement already satisfied, skipping upgrade: nltk in /shared-libs/python3.7/py/lib/python3.7/site-packages (from sentence-transformers) (3.7)\nCollecting sentencepiece\n  Downloading sentencepiece-0.1.96-cp37-cp37m-manylinux_2_17_x86_64.manylinux2014_x86_64.whl (1.2 MB)\n\u001b[K     |████████████████████████████████| 1.2 MB 56.5 MB/s \n\u001b[?25hCollecting huggingface-hub\n  Downloading huggingface_hub-0.5.1-py3-none-any.whl (77 kB)\n\u001b[K     |████████████████████████████████| 77 kB 7.0 MB/s \n\u001b[?25hRequirement already satisfied, skipping upgrade: importlib-metadata; python_version < \"3.8\" in /shared-libs/python3.7/py-core/lib/python3.7/site-packages (from transformers<5.0.0,>=4.6.0->sentence-transformers) (4.11.3)\nRequirement already satisfied, skipping upgrade: requests in /shared-libs/python3.7/py/lib/python3.7/site-packages (from transformers<5.0.0,>=4.6.0->sentence-transformers) (2.27.1)\nRequirement already satisfied, skipping upgrade: packaging>=20.0 in /shared-libs/python3.7/py/lib/python3.7/site-packages (from transformers<5.0.0,>=4.6.0->sentence-transformers) (21.3)\nRequirement already satisfied, skipping upgrade: filelock in /shared-libs/python3.7/py/lib/python3.7/site-packages (from transformers<5.0.0,>=4.6.0->sentence-transformers) (3.6.0)\nRequirement already satisfied, skipping upgrade: regex!=2019.12.17 in /shared-libs/python3.7/py/lib/python3.7/site-packages (from transformers<5.0.0,>=4.6.0->sentence-transformers) (2022.3.15)\nCollecting tokenizers!=0.11.3,<0.13,>=0.11.1\n  Downloading tokenizers-0.12.1-cp37-cp37m-manylinux_2_12_x86_64.manylinux2010_x86_64.whl (6.6 MB)\n\u001b[K     |████████████████████████████████| 6.6 MB 38.1 MB/s \n\u001b[?25hRequirement already satisfied, skipping upgrade: pyyaml>=5.1 in /shared-libs/python3.7/py/lib/python3.7/site-packages (from transformers<5.0.0,>=4.6.0->sentence-transformers) (6.0)\nCollecting sacremoses\n  Downloading sacremoses-0.0.53.tar.gz (880 kB)\n\u001b[K     |████████████████████████████████| 880 kB 66.5 MB/s \n\u001b[?25hRequirement already satisfied, skipping upgrade: typing-extensions in /shared-libs/python3.7/py-core/lib/python3.7/site-packages (from torch>=1.6.0->sentence-transformers) (4.2.0)\nRequirement already satisfied, skipping upgrade: pillow!=8.3.*,>=5.3.0 in /shared-libs/python3.7/py/lib/python3.7/site-packages (from torchvision->sentence-transformers) (9.1.0)\nRequirement already satisfied, skipping upgrade: threadpoolctl>=2.0.0 in /shared-libs/python3.7/py/lib/python3.7/site-packages (from scikit-learn->sentence-transformers) (3.1.0)\nRequirement already satisfied, skipping upgrade: joblib>=0.11 in /shared-libs/python3.7/py/lib/python3.7/site-packages (from scikit-learn->sentence-transformers) (1.1.0)\nRequirement already satisfied, skipping upgrade: click in /shared-libs/python3.7/py/lib/python3.7/site-packages (from nltk->sentence-transformers) (8.0.4)\nRequirement already satisfied, skipping upgrade: zipp>=0.5 in /shared-libs/python3.7/py-core/lib/python3.7/site-packages (from importlib-metadata; python_version < \"3.8\"->transformers<5.0.0,>=4.6.0->sentence-transformers) (3.8.0)\nRequirement already satisfied, skipping upgrade: charset-normalizer~=2.0.0; python_version >= \"3\" in /shared-libs/python3.7/py-core/lib/python3.7/site-packages (from requests->transformers<5.0.0,>=4.6.0->sentence-transformers) (2.0.12)\nRequirement already satisfied, skipping upgrade: urllib3<1.27,>=1.21.1 in /shared-libs/python3.7/py/lib/python3.7/site-packages (from requests->transformers<5.0.0,>=4.6.0->sentence-transformers) (1.26.9)\nRequirement already satisfied, skipping upgrade: idna<4,>=2.5; python_version >= \"3\" in /shared-libs/python3.7/py-core/lib/python3.7/site-packages (from requests->transformers<5.0.0,>=4.6.0->sentence-transformers) (3.3)\nRequirement already satisfied, skipping upgrade: certifi>=2017.4.17 in /shared-libs/python3.7/py/lib/python3.7/site-packages (from requests->transformers<5.0.0,>=4.6.0->sentence-transformers) (2021.10.8)\nRequirement already satisfied, skipping upgrade: pyparsing!=3.0.5,>=2.0.2 in /shared-libs/python3.7/py/lib/python3.7/site-packages (from packaging>=20.0->transformers<5.0.0,>=4.6.0->sentence-transformers) (3.0.8)\nRequirement already satisfied, skipping upgrade: six in /shared-libs/python3.7/py-core/lib/python3.7/site-packages (from sacremoses->transformers<5.0.0,>=4.6.0->sentence-transformers) (1.16.0)\nBuilding wheels for collected packages: sentence-transformers, sacremoses\n  Building wheel for sentence-transformers (setup.py) ... \u001b[?25ldone\n\u001b[?25h  Created wheel for sentence-transformers: filename=sentence_transformers-2.2.0-py3-none-any.whl size=120748 sha256=8b852e8273bb0a2a87f59a608ed40d91b4545dc7c8261cc555ce14fb6b009faa\n  Stored in directory: /root/.cache/pip/wheels/83/c0/df/b6873ab7aac3f2465aa9144b6b4c41c4391cfecc027c8b07e7\n  Building wheel for sacremoses (setup.py) ... \u001b[?25ldone\n\u001b[?25h  Created wheel for sacremoses: filename=sacremoses-0.0.53-py3-none-any.whl size=895253 sha256=d2cc0e94502003129a220f0dcb577eaf64d45b3079342365fc5d2d1b3911c6db\n  Stored in directory: /root/.cache/pip/wheels/87/39/dd/a83eeef36d0bf98e7a4d1933a4ad2d660295a40613079bafc9\nSuccessfully built sentence-transformers sacremoses\nInstalling collected packages: huggingface-hub, tokenizers, sacremoses, transformers, sentencepiece, sentence-transformers\nSuccessfully installed huggingface-hub-0.5.1 sacremoses-0.0.53 sentence-transformers-2.2.0 sentencepiece-0.1.96 tokenizers-0.12.1 transformers-4.18.0\n\u001b[33mWARNING: You are using pip version 20.1.1; however, version 22.0.4 is available.\nYou should consider upgrading via the '/root/venv/bin/python -m pip install --upgrade pip' command.\u001b[0m\n/shared-libs/python3.7/py/lib/python3.7/site-packages/tqdm/auto.py:22: TqdmWarning: IProgress not found. Please update jupyter and ipywidgets. See https://ipywidgets.readthedocs.io/en/stable/user_install.html\n  from .autonotebook import tqdm as notebook_tqdm\n",
     "output_type": "stream"
    }
   ]
  },
  {
   "cell_type": "markdown",
   "source": "## Spotipy (Python Library for Spotify Web API)",
   "metadata": {
    "cell_id": "4e80a4b21e244339b40150a8629f1a7f",
    "tags": [],
    "deepnote_cell_type": "markdown",
    "deepnote_cell_height": 70
   }
  },
  {
   "cell_type": "markdown",
   "source": "1. Extracting albums from artists",
   "metadata": {
    "cell_id": "5d9a4486b8b043b1b0cc07f0cf1d62a8",
    "tags": [],
    "deepnote_cell_type": "markdown",
    "deepnote_cell_height": 69.390625
   }
  },
  {
   "cell_type": "code",
   "metadata": {
    "cell_id": "11f80f6183af40a98bb1ecc3e30d048f",
    "tags": [],
    "deepnote_to_be_reexecuted": false,
    "source_hash": "7f92e8a7",
    "execution_start": 1651615700771,
    "execution_millis": 359,
    "deepnote_cell_type": "code",
    "deepnote_cell_height": 985.625
   },
   "source": "#souce citation: https://spotipy.readthedocs.io/en/2.19.0/\n\nos.environ[\"SPOTIPY_CLIENT_ID\"] ='f236bc4680a64fb8abceca08c84c094e'\nos.environ[\"SPOTIPY_CLIENT_SECRET\"] ='77dc434af00c4a52a1fa6050fef86ee3'\n\n#artist: Coldplay\nbirdy_uri = 'https://open.spotify.com/artist/4gzpq5DPGxSnKTe4SA8HAU?si=TOG_Sl78SqS6cUC-vr5rgA'\nspotify = spotipy.Spotify(client_credentials_manager=SpotifyClientCredentials())\n\nresults = spotify.artist_albums(birdy_uri, album_type='album')\nalbums = results['items']\nwhile results['next']:\n    results = spotify.next(results)\n    albums.extend(results['items'])\n\nfor album in albums:\n    print(album['name'])",
   "execution_count": null,
   "outputs": [
    {
     "name": "stdout",
     "text": "Music Of The Spheres\nEveryday Life\nEveryday Life\nEveryday Life\nEveryday Life\nLive in Buenos Aires\nLove in Tokyo\nA Head Full of Dreams\nA Head Full of Dreams Tour Edition\nGhost Stories Live 2014\nGhost Stories\nLive 2012\nMylo Xyloto\nMylo Xyloto\nMylo Xyloto\nLeftRightLeftRightLeft (Live)\nViva La Vida (Prospekt's March Edition)\nViva La Vida (Prospekt's March Edition)\nViva La Vida (Prospekt's March Edition)\nViva La Vida (Prospekt's March Edition)\nViva La Vida (Prospekt's March Edition)\nViva La Vida or Death and All His Friends\nViva La Vida or Death and All His Friends\nViva La Vida or Death and All His Friends\nViva La Vida or Death and All His Friends\nViva La Vida or Death and All His Friends\nX&Y\nLive 2003\nA Rush of Blood to the Head\nParachutes\n",
     "output_type": "stream"
    }
   ]
  },
  {
   "cell_type": "markdown",
   "source": "2. Extracting tracks from playlists",
   "metadata": {
    "cell_id": "508365ee427842d2a4c8955a9ecd8c53",
    "tags": [],
    "deepnote_cell_type": "markdown",
    "deepnote_cell_height": 69.390625
   }
  },
  {
   "cell_type": "code",
   "metadata": {
    "cell_id": "2656fa7805d24d14ba9269d9ccf2d7aa",
    "tags": [],
    "deepnote_to_be_reexecuted": false,
    "source_hash": "6c89bf19",
    "execution_start": 1651615701152,
    "execution_millis": 154,
    "deepnote_cell_type": "code",
    "deepnote_cell_height": 261
   },
   "source": "#source citation: https://towardsdatascience.com/extracting-song-data-from-the-spotify-api-using-python-b1e79388d50\n\ncid ='f236bc4680a64fb8abceca08c84c094e'\nsecret ='77dc434af00c4a52a1fa6050fef86ee3'\nclient_credentials_manager = SpotifyClientCredentials(client_id=cid, client_secret=secret)\nsp = spotipy.Spotify(client_credentials_manager = client_credentials_manager)\n\n#playlist: Top 50 - USA\nplaylist_link = \"https://open.spotify.com/playlist/37i9dQZEVXbLRQDuF5jeBp?si=9013d4d6311d48b0\"\nplaylist_URI = playlist_link.split(\"/\")[-1].split(\"?\")[0]\ntrack_uris = [x[\"track\"][\"uri\"] for x in sp.playlist_tracks(playlist_URI)[\"items\"]]",
   "execution_count": null,
   "outputs": []
  },
  {
   "cell_type": "markdown",
   "source": "Extract the name of each track, the name of the album that it belongs to, and the popularity of the track (we expect this to be high since we’re looking at the top 50 most popular songs in the USA). ",
   "metadata": {
    "cell_id": "95c5087cffc742b38b2dd417c54c69a8",
    "tags": [],
    "deepnote_cell_type": "markdown",
    "deepnote_cell_height": 74.78125
   }
  },
  {
   "cell_type": "code",
   "metadata": {
    "cell_id": "7f681ccf972449e795c300bcdde601fc",
    "tags": [],
    "deepnote_to_be_reexecuted": false,
    "source_hash": "876f1eaf",
    "execution_start": 1651615701353,
    "execution_millis": 3392,
    "deepnote_cell_type": "code",
    "deepnote_cell_height": 477
   },
   "source": "track_uri_s = []\nfor track in sp.playlist_tracks(playlist_URI)[\"items\"]:\n    #URI\n    track_uri = track[\"track\"][\"uri\"]\n    track_uri_s.append(track_uri)\n    \n    #Track name\n    track_name = track[\"track\"][\"name\"]\n    \n    #Main Artist\n    artist_uri = track[\"track\"][\"artists\"][0][\"uri\"]\n    artist_info = sp.artist(artist_uri)\n    \n    #Name, popularity, genre\n    artist_name = track[\"track\"][\"artists\"][0][\"name\"]\n    artist_pop = artist_info[\"popularity\"]\n    artist_genres = artist_info[\"genres\"]\n    \n    #Album\n    album = track[\"track\"][\"album\"][\"name\"]\n    \n    #Popularity of the track\n    track_pop = track[\"track\"][\"popularity\"]",
   "execution_count": null,
   "outputs": []
  },
  {
   "cell_type": "code",
   "metadata": {
    "cell_id": "169f5e6829a547bda32b02161313db7a",
    "tags": [],
    "deepnote_to_be_reexecuted": false,
    "source_hash": "e424db31",
    "execution_start": 1651615704749,
    "execution_millis": 114,
    "deepnote_cell_type": "code",
    "deepnote_cell_height": 462.375,
    "deepnote_output_heights": [
     347.375
    ]
   },
   "source": "#audio features of first track in playlist\nsp.audio_features(track_uri_s)[0]",
   "execution_count": null,
   "outputs": [
    {
     "output_type": "execute_result",
     "execution_count": 5,
     "data": {
      "text/plain": "{'danceability': 0.52,\n 'energy': 0.731,\n 'key': 6,\n 'loudness': -5.338,\n 'mode': 0,\n 'speechiness': 0.0557,\n 'acousticness': 0.342,\n 'instrumentalness': 0.00101,\n 'liveness': 0.311,\n 'valence': 0.662,\n 'tempo': 173.93,\n 'type': 'audio_features',\n 'id': '4LRPiXqCikLlN15c3yImP7',\n 'uri': 'spotify:track:4LRPiXqCikLlN15c3yImP7',\n 'track_href': 'https://api.spotify.com/v1/tracks/4LRPiXqCikLlN15c3yImP7',\n 'analysis_url': 'https://api.spotify.com/v1/audio-analysis/4LRPiXqCikLlN15c3yImP7',\n 'duration_ms': 167303,\n 'time_signature': 4}"
     },
     "metadata": {}
    }
   ]
  },
  {
   "cell_type": "markdown",
   "source": "3. Convert Spotipy playlist data to dataframe",
   "metadata": {
    "cell_id": "b9d3413df3534ed0a2c8c0d1eb9045fc",
    "tags": [],
    "deepnote_cell_type": "markdown",
    "deepnote_cell_height": 69.390625
   }
  },
  {
   "cell_type": "code",
   "metadata": {
    "cell_id": "22b299d06425405ea8564d967c62f0f0",
    "tags": [],
    "deepnote_to_be_reexecuted": false,
    "source_hash": "402c18d8",
    "execution_start": 1651615704865,
    "execution_millis": 3521,
    "deepnote_cell_type": "code",
    "deepnote_cell_height": 888,
    "deepnote_output_heights": [
     611
    ]
   },
   "source": "#features for all songs in playlist\naudio_features = []\nfor i in range(len(track_uris)):\n    audio_features.append(sp.audio_features(track_uris[i]))\naudio_features[0]\n\n#track names\ntrack_names = []\nfor k in sp.playlist_tracks(playlist_URI)[\"items\"]:\n    track_names.append(k[\"track\"][\"name\"])\ntrack_names",
   "execution_count": null,
   "outputs": [
    {
     "output_type": "execute_result",
     "execution_count": 6,
     "data": {
      "text/plain": "['As It Was',\n 'First Class',\n 'WAIT FOR U (feat. Drake & Tems)',\n 'PUFFIN ON ZOOTIEZ',\n 'Heat Waves',\n \"I'M ON ONE (feat. Drake)\",\n 'About Damn Time',\n '712PM',\n \"I'M DAT N****\",\n 'INDUSTRY BABY (feat. Jack Harlow)',\n 'No Role Modelz',\n 'STAY (with Justin Bieber)',\n 'KEEP IT BURNIN (feat. Kanye West)',\n 'good 4 u',\n 'Woman',\n 'Wait a Minute!',\n 'Ghost',\n 'Enemy (with JID) - from the series Arcane League of Legends',\n '505',\n 'Thousand Miles',\n 'LOVE YOU BETTER',\n 'Honest (feat. Don Toliver)',\n 'MASSAGING ME',\n 'PROVENZA',\n 'Dark Red',\n 'Need to Know',\n 'Super Gremlin',\n 'Knife Talk (with 21 Savage ft. Project Pat)',\n 'I Love You So',\n \"Don't Think Jesus\",\n 'Sweater Weather',\n 'MAMIII',\n 'FOR A NUT (feat. Gunna & Young Thug)',\n 'Bam Bam (feat. Ed Sheeran)',\n 'GOLD STACKS',\n 'THATS WHAT I WANT',\n 'Something in the Orange',\n 'See You Again (feat. Kali Uchis)',\n 'Wasted On You',\n 'Nail Tech',\n 'Cold Heart - PNAU Remix',\n 'Boyfriend',\n 'traitor',\n \"We Don't Talk About Bruno\",\n 'Shivers',\n 'family ties (with Kendrick Lamar)',\n 'MIDDLE OF THE NIGHT',\n 'Wants and Needs (feat. Lil Baby)',\n 'CHICKENS (feat. EST Gee)',\n 'Monëy so big']"
     },
     "metadata": {}
    }
   ]
  },
  {
   "cell_type": "code",
   "metadata": {
    "cell_id": "86861d3016c14cbb9cc5747a5efc5b86",
    "tags": [],
    "deepnote_to_be_reexecuted": false,
    "source_hash": "875aec97",
    "execution_start": 1651615708170,
    "execution_millis": 231,
    "deepnote_cell_type": "code",
    "deepnote_cell_height": 744
   },
   "source": "#construct dataframe for audio_features\ndfs = []\n\nfor x in audio_features:\n    df = pd.DataFrame(x)\n    dfs.append(df)\n\nfinal_df = pd.concat(dfs, ignore_index=True)\nfinal_df",
   "execution_count": null,
   "outputs": [
    {
     "output_type": "execute_result",
     "execution_count": 7,
     "data": {
      "application/vnd.deepnote.dataframe.v3+json": {
       "column_count": 18,
       "row_count": 50,
       "columns": [
        {
         "name": "danceability",
         "dtype": "float64",
         "stats": {
          "unique_count": 46,
          "nan_count": 0,
          "min": "0.345",
          "max": "0.916",
          "histogram": [
           {
            "bin_start": 0.345,
            "bin_end": 0.40209999999999996,
            "count": 4
           },
           {
            "bin_start": 0.40209999999999996,
            "bin_end": 0.4592,
            "count": 1
           },
           {
            "bin_start": 0.4592,
            "bin_end": 0.5163,
            "count": 2
           },
           {
            "bin_start": 0.5163,
            "bin_end": 0.5734,
            "count": 4
           },
           {
            "bin_start": 0.5734,
            "bin_end": 0.6305000000000001,
            "count": 8
           },
           {
            "bin_start": 0.6305000000000001,
            "bin_end": 0.6876,
            "count": 3
           },
           {
            "bin_start": 0.6876,
            "bin_end": 0.7447,
            "count": 8
           },
           {
            "bin_start": 0.7447,
            "bin_end": 0.8018000000000001,
            "count": 7
           },
           {
            "bin_start": 0.8018000000000001,
            "bin_end": 0.8589,
            "count": 7
           },
           {
            "bin_start": 0.8589,
            "bin_end": 0.916,
            "count": 6
           }
          ]
         }
        },
        {
         "name": "energy",
         "dtype": "float64",
         "stats": {
          "unique_count": 45,
          "nan_count": 0,
          "min": "0.192",
          "max": "0.859",
          "histogram": [
           {
            "bin_start": 0.192,
            "bin_end": 0.25870000000000004,
            "count": 1
           },
           {
            "bin_start": 0.25870000000000004,
            "bin_end": 0.3254,
            "count": 0
           },
           {
            "bin_start": 0.3254,
            "bin_end": 0.3921,
            "count": 2
           },
           {
            "bin_start": 0.3921,
            "bin_end": 0.45880000000000004,
            "count": 6
           },
           {
            "bin_start": 0.45880000000000004,
            "bin_end": 0.5255000000000001,
            "count": 3
           },
           {
            "bin_start": 0.5255000000000001,
            "bin_end": 0.5922000000000001,
            "count": 7
           },
           {
            "bin_start": 0.5922000000000001,
            "bin_end": 0.6589,
            "count": 11
           },
           {
            "bin_start": 0.6589,
            "bin_end": 0.7256,
            "count": 8
           },
           {
            "bin_start": 0.7256,
            "bin_end": 0.7923,
            "count": 7
           },
           {
            "bin_start": 0.7923,
            "bin_end": 0.859,
            "count": 5
           }
          ]
         }
        },
        {
         "name": "key",
         "dtype": "int64",
         "stats": {
          "unique_count": 12,
          "nan_count": 0,
          "min": "0",
          "max": "11",
          "histogram": [
           {
            "bin_start": 0,
            "bin_end": 1.1,
            "count": 12
           },
           {
            "bin_start": 1.1,
            "bin_end": 2.2,
            "count": 6
           },
           {
            "bin_start": 2.2,
            "bin_end": 3.3000000000000003,
            "count": 2
           },
           {
            "bin_start": 3.3000000000000003,
            "bin_end": 4.4,
            "count": 4
           },
           {
            "bin_start": 4.4,
            "bin_end": 5.5,
            "count": 5
           },
           {
            "bin_start": 5.5,
            "bin_end": 6.6000000000000005,
            "count": 3
           },
           {
            "bin_start": 6.6000000000000005,
            "bin_end": 7.700000000000001,
            "count": 2
           },
           {
            "bin_start": 7.700000000000001,
            "bin_end": 8.8,
            "count": 4
           },
           {
            "bin_start": 8.8,
            "bin_end": 9.9,
            "count": 1
           },
           {
            "bin_start": 9.9,
            "bin_end": 11,
            "count": 11
           }
          ]
         }
        },
        {
         "name": "loudness",
         "dtype": "float64",
         "stats": {
          "unique_count": 50,
          "nan_count": 0,
          "min": "-12.151",
          "max": "-2.724",
          "histogram": [
           {
            "bin_start": -12.151,
            "bin_end": -11.2083,
            "count": 1
           },
           {
            "bin_start": -11.2083,
            "bin_end": -10.2656,
            "count": 0
           },
           {
            "bin_start": -10.2656,
            "bin_end": -9.3229,
            "count": 1
           },
           {
            "bin_start": -9.3229,
            "bin_end": -8.3802,
            "count": 4
           },
           {
            "bin_start": -8.3802,
            "bin_end": -7.4375,
            "count": 5
           },
           {
            "bin_start": -7.4375,
            "bin_end": -6.4948,
            "count": 9
           },
           {
            "bin_start": -6.4948,
            "bin_end": -5.5521,
            "count": 13
           },
           {
            "bin_start": -5.5521,
            "bin_end": -4.6094,
            "count": 8
           },
           {
            "bin_start": -4.6094,
            "bin_end": -3.6667000000000005,
            "count": 6
           },
           {
            "bin_start": -3.6667000000000005,
            "bin_end": -2.724,
            "count": 3
           }
          ]
         }
        },
        {
         "name": "mode",
         "dtype": "int64",
         "stats": {
          "unique_count": 2,
          "nan_count": 0,
          "min": "0",
          "max": "1",
          "histogram": [
           {
            "bin_start": 0,
            "bin_end": 0.1,
            "count": 21
           },
           {
            "bin_start": 0.1,
            "bin_end": 0.2,
            "count": 0
           },
           {
            "bin_start": 0.2,
            "bin_end": 0.30000000000000004,
            "count": 0
           },
           {
            "bin_start": 0.30000000000000004,
            "bin_end": 0.4,
            "count": 0
           },
           {
            "bin_start": 0.4,
            "bin_end": 0.5,
            "count": 0
           },
           {
            "bin_start": 0.5,
            "bin_end": 0.6000000000000001,
            "count": 0
           },
           {
            "bin_start": 0.6000000000000001,
            "bin_end": 0.7000000000000001,
            "count": 0
           },
           {
            "bin_start": 0.7000000000000001,
            "bin_end": 0.8,
            "count": 0
           },
           {
            "bin_start": 0.8,
            "bin_end": 0.9,
            "count": 0
           },
           {
            "bin_start": 0.9,
            "bin_end": 1,
            "count": 29
           }
          ]
         }
        },
        {
         "name": "speechiness",
         "dtype": "float64",
         "stats": {
          "unique_count": 50,
          "nan_count": 0,
          "min": "0.0269",
          "max": "0.355",
          "histogram": [
           {
            "bin_start": 0.0269,
            "bin_end": 0.05971,
            "count": 16
           },
           {
            "bin_start": 0.05971,
            "bin_end": 0.09251999999999999,
            "count": 14
           },
           {
            "bin_start": 0.09251999999999999,
            "bin_end": 0.12533,
            "count": 3
           },
           {
            "bin_start": 0.12533,
            "bin_end": 0.15814,
            "count": 3
           },
           {
            "bin_start": 0.15814,
            "bin_end": 0.19095,
            "count": 2
           },
           {
            "bin_start": 0.19095,
            "bin_end": 0.22376,
            "count": 3
           },
           {
            "bin_start": 0.22376,
            "bin_end": 0.25656999999999996,
            "count": 0
           },
           {
            "bin_start": 0.25656999999999996,
            "bin_end": 0.28937999999999997,
            "count": 3
           },
           {
            "bin_start": 0.28937999999999997,
            "bin_end": 0.32219,
            "count": 1
           },
           {
            "bin_start": 0.32219,
            "bin_end": 0.355,
            "count": 5
           }
          ]
         }
        },
        {
         "name": "acousticness",
         "dtype": "float64",
         "stats": {
          "unique_count": 50,
          "nan_count": 0,
          "min": "0.000189",
          "max": "0.691",
          "histogram": [
           {
            "bin_start": 0.000189,
            "bin_end": 0.06927009999999999,
            "count": 23
           },
           {
            "bin_start": 0.06927009999999999,
            "bin_end": 0.13835119999999998,
            "count": 6
           },
           {
            "bin_start": 0.13835119999999998,
            "bin_end": 0.20743229999999996,
            "count": 2
           },
           {
            "bin_start": 0.20743229999999996,
            "bin_end": 0.27651339999999996,
            "count": 2
           },
           {
            "bin_start": 0.27651339999999996,
            "bin_end": 0.34559449999999997,
            "count": 6
           },
           {
            "bin_start": 0.34559449999999997,
            "bin_end": 0.4146755999999999,
            "count": 3
           },
           {
            "bin_start": 0.4146755999999999,
            "bin_end": 0.48375669999999993,
            "count": 4
           },
           {
            "bin_start": 0.48375669999999993,
            "bin_end": 0.5528377999999999,
            "count": 0
           },
           {
            "bin_start": 0.5528377999999999,
            "bin_end": 0.6219188999999999,
            "count": 2
           },
           {
            "bin_start": 0.6219188999999999,
            "bin_end": 0.691,
            "count": 2
           }
          ]
         }
        },
        {
         "name": "instrumentalness",
         "dtype": "float64",
         "stats": {
          "unique_count": 23,
          "nan_count": 0,
          "min": "0.0",
          "max": "0.0177",
          "histogram": [
           {
            "bin_start": 0,
            "bin_end": 0.00177,
            "count": 47
           },
           {
            "bin_start": 0.00177,
            "bin_end": 0.00354,
            "count": 1
           },
           {
            "bin_start": 0.00354,
            "bin_end": 0.0053100000000000005,
            "count": 0
           },
           {
            "bin_start": 0.0053100000000000005,
            "bin_end": 0.00708,
            "count": 0
           },
           {
            "bin_start": 0.00708,
            "bin_end": 0.00885,
            "count": 1
           },
           {
            "bin_start": 0.00885,
            "bin_end": 0.010620000000000001,
            "count": 0
           },
           {
            "bin_start": 0.010620000000000001,
            "bin_end": 0.01239,
            "count": 0
           },
           {
            "bin_start": 0.01239,
            "bin_end": 0.01416,
            "count": 0
           },
           {
            "bin_start": 0.01416,
            "bin_end": 0.01593,
            "count": 0
           },
           {
            "bin_start": 0.01593,
            "bin_end": 0.0177,
            "count": 1
           }
          ]
         }
        },
        {
         "name": "liveness",
         "dtype": "float64",
         "stats": {
          "unique_count": 46,
          "nan_count": 0,
          "min": "0.0424",
          "max": "0.434",
          "histogram": [
           {
            "bin_start": 0.0424,
            "bin_end": 0.08156,
            "count": 6
           },
           {
            "bin_start": 0.08156,
            "bin_end": 0.12072,
            "count": 26
           },
           {
            "bin_start": 0.12072,
            "bin_end": 0.15988,
            "count": 7
           },
           {
            "bin_start": 0.15988,
            "bin_end": 0.19904,
            "count": 1
           },
           {
            "bin_start": 0.19904,
            "bin_end": 0.2382,
            "count": 1
           },
           {
            "bin_start": 0.2382,
            "bin_end": 0.27736,
            "count": 1
           },
           {
            "bin_start": 0.27736,
            "bin_end": 0.31652,
            "count": 3
           },
           {
            "bin_start": 0.31652,
            "bin_end": 0.35568,
            "count": 2
           },
           {
            "bin_start": 0.35568,
            "bin_end": 0.39483999999999997,
            "count": 1
           },
           {
            "bin_start": 0.39483999999999997,
            "bin_end": 0.434,
            "count": 2
           }
          ]
         }
        },
        {
         "name": "valence",
         "dtype": "float64",
         "stats": {
          "unique_count": 49,
          "nan_count": 0,
          "min": "0.0849",
          "max": "0.956",
          "histogram": [
           {
            "bin_start": 0.0849,
            "bin_end": 0.17201,
            "count": 11
           },
           {
            "bin_start": 0.17201,
            "bin_end": 0.25912,
            "count": 7
           },
           {
            "bin_start": 0.25912,
            "bin_end": 0.3462299999999999,
            "count": 4
           },
           {
            "bin_start": 0.3462299999999999,
            "bin_end": 0.43333999999999995,
            "count": 3
           },
           {
            "bin_start": 0.43333999999999995,
            "bin_end": 0.52045,
            "count": 4
           },
           {
            "bin_start": 0.52045,
            "bin_end": 0.6075599999999999,
            "count": 6
           },
           {
            "bin_start": 0.6075599999999999,
            "bin_end": 0.6946699999999999,
            "count": 5
           },
           {
            "bin_start": 0.6946699999999999,
            "bin_end": 0.7817799999999999,
            "count": 2
           },
           {
            "bin_start": 0.7817799999999999,
            "bin_end": 0.8688899999999999,
            "count": 3
           },
           {
            "bin_start": 0.8688899999999999,
            "bin_end": 0.956,
            "count": 5
           }
          ]
         }
        },
        {
         "name": "tempo",
         "dtype": "float64",
         "stats": {
          "unique_count": 50,
          "nan_count": 0,
          "min": "72.993",
          "max": "205.863",
          "histogram": [
           {
            "bin_start": 72.993,
            "bin_end": 86.28,
            "count": 10
           },
           {
            "bin_start": 86.28,
            "bin_end": 99.567,
            "count": 4
           },
           {
            "bin_start": 99.567,
            "bin_end": 112.854,
            "count": 7
           },
           {
            "bin_start": 112.854,
            "bin_end": 126.14099999999999,
            "count": 4
           },
           {
            "bin_start": 126.14099999999999,
            "bin_end": 139.428,
            "count": 4
           },
           {
            "bin_start": 139.428,
            "bin_end": 152.715,
            "count": 10
           },
           {
            "bin_start": 152.715,
            "bin_end": 166.002,
            "count": 1
           },
           {
            "bin_start": 166.002,
            "bin_end": 179.289,
            "count": 5
           },
           {
            "bin_start": 179.289,
            "bin_end": 192.57600000000002,
            "count": 3
           },
           {
            "bin_start": 192.57600000000002,
            "bin_end": 205.863,
            "count": 2
           }
          ]
         }
        },
        {
         "name": "type",
         "dtype": "object",
         "stats": {
          "unique_count": 1,
          "nan_count": 0,
          "categories": [
           {
            "name": "audio_features",
            "count": 50
           }
          ]
         }
        },
        {
         "name": "id",
         "dtype": "object",
         "stats": {
          "unique_count": 50,
          "nan_count": 0,
          "categories": [
           {
            "name": "4LRPiXqCikLlN15c3yImP7",
            "count": 1
           },
           {
            "name": "1rDQ4oMwGJI7B4tovsBOxc",
            "count": 1
           },
           {
            "name": "48 others",
            "count": 48
           }
          ]
         }
        },
        {
         "name": "uri",
         "dtype": "object",
         "stats": {
          "unique_count": 50,
          "nan_count": 0,
          "categories": [
           {
            "name": "spotify:track:4LRPiXqCikLlN15c3yImP7",
            "count": 1
           },
           {
            "name": "spotify:track:1rDQ4oMwGJI7B4tovsBOxc",
            "count": 1
           },
           {
            "name": "48 others",
            "count": 48
           }
          ]
         }
        },
        {
         "name": "track_href",
         "dtype": "object",
         "stats": {
          "unique_count": 50,
          "nan_count": 0,
          "categories": [
           {
            "name": "https://api.spotify.com/v1/tracks/4LRPiXqCikLlN15c3yImP7",
            "count": 1
           },
           {
            "name": "https://api.spotify.com/v1/tracks/1rDQ4oMwGJI7B4tovsBOxc",
            "count": 1
           },
           {
            "name": "48 others",
            "count": 48
           }
          ]
         }
        },
        {
         "name": "analysis_url",
         "dtype": "object",
         "stats": {
          "unique_count": 50,
          "nan_count": 0,
          "categories": [
           {
            "name": "https://api.spotify.com/v1/audio-analysis/4LRPiXqCikLlN15c3yImP7",
            "count": 1
           },
           {
            "name": "https://api.spotify.com/v1/audio-analysis/1rDQ4oMwGJI7B4tovsBOxc",
            "count": 1
           },
           {
            "name": "48 others",
            "count": 48
           }
          ]
         }
        },
        {
         "name": "duration_ms",
         "dtype": "int64",
         "stats": {
          "unique_count": 50,
          "nan_count": 0,
          "min": "106133",
          "max": "292799",
          "histogram": [
           {
            "bin_start": 106133,
            "bin_end": 124799.6,
            "count": 1
           },
           {
            "bin_start": 124799.6,
            "bin_end": 143466.2,
            "count": 2
           },
           {
            "bin_start": 143466.2,
            "bin_end": 162132.8,
            "count": 5
           },
           {
            "bin_start": 162132.8,
            "bin_end": 180799.4,
            "count": 12
           },
           {
            "bin_start": 180799.4,
            "bin_end": 199466,
            "count": 7
           },
           {
            "bin_start": 199466,
            "bin_end": 218132.59999999998,
            "count": 11
           },
           {
            "bin_start": 218132.59999999998,
            "bin_end": 236799.19999999998,
            "count": 5
           },
           {
            "bin_start": 236799.19999999998,
            "bin_end": 255465.8,
            "count": 5
           },
           {
            "bin_start": 255465.8,
            "bin_end": 274132.4,
            "count": 1
           },
           {
            "bin_start": 274132.4,
            "bin_end": 292799,
            "count": 1
           }
          ]
         }
        },
        {
         "name": "time_signature",
         "dtype": "int64",
         "stats": {
          "unique_count": 2,
          "nan_count": 0,
          "min": "3",
          "max": "4",
          "histogram": [
           {
            "bin_start": 3,
            "bin_end": 3.1,
            "count": 5
           },
           {
            "bin_start": 3.1,
            "bin_end": 3.2,
            "count": 0
           },
           {
            "bin_start": 3.2,
            "bin_end": 3.3,
            "count": 0
           },
           {
            "bin_start": 3.3,
            "bin_end": 3.4,
            "count": 0
           },
           {
            "bin_start": 3.4,
            "bin_end": 3.5,
            "count": 0
           },
           {
            "bin_start": 3.5,
            "bin_end": 3.6,
            "count": 0
           },
           {
            "bin_start": 3.6,
            "bin_end": 3.7,
            "count": 0
           },
           {
            "bin_start": 3.7,
            "bin_end": 3.8,
            "count": 0
           },
           {
            "bin_start": 3.8,
            "bin_end": 3.9,
            "count": 0
           },
           {
            "bin_start": 3.9,
            "bin_end": 4,
            "count": 45
           }
          ]
         }
        },
        {
         "name": "_deepnote_index_column",
         "dtype": "int64"
        }
       ],
       "rows": [
        {
         "danceability": 0.52,
         "energy": 0.731,
         "key": 6,
         "loudness": -5.338,
         "mode": 0,
         "speechiness": 0.0557,
         "acousticness": 0.342,
         "instrumentalness": 0.00101,
         "liveness": 0.311,
         "valence": 0.662,
         "tempo": 173.93,
         "type": "audio_features",
         "id": "4LRPiXqCikLlN15c3yImP7",
         "uri": "spotify:track:4LRPiXqCikLlN15c3yImP7",
         "track_href": "https://api.spotify.com/v1/tracks/4LRPiXqCikLlN15c3yImP7",
         "analysis_url": "https://api.spotify.com/v1/audio-analysis/4LRPiXqCikLlN15c3yImP7",
         "duration_ms": 167303,
         "time_signature": 4,
         "_deepnote_index_column": 0
        },
        {
         "danceability": 0.905,
         "energy": 0.563,
         "key": 8,
         "loudness": -6.135,
         "mode": 1,
         "speechiness": 0.102,
         "acousticness": 0.0254,
         "instrumentalness": 0.00000971,
         "liveness": 0.113,
         "valence": 0.324,
         "tempo": 106.998,
         "type": "audio_features",
         "id": "1rDQ4oMwGJI7B4tovsBOxc",
         "uri": "spotify:track:1rDQ4oMwGJI7B4tovsBOxc",
         "track_href": "https://api.spotify.com/v1/tracks/1rDQ4oMwGJI7B4tovsBOxc",
         "analysis_url": "https://api.spotify.com/v1/audio-analysis/1rDQ4oMwGJI7B4tovsBOxc",
         "duration_ms": 173948,
         "time_signature": 4,
         "_deepnote_index_column": 1
        },
        {
         "danceability": 0.463,
         "energy": 0.642,
         "key": 1,
         "loudness": -4.474,
         "mode": 1,
         "speechiness": 0.34,
         "acousticness": 0.314,
         "instrumentalness": 0,
         "liveness": 0.0686,
         "valence": 0.339,
         "tempo": 83.389,
         "type": "audio_features",
         "id": "59nOXPmaKlBfGMDeOVGrIK",
         "uri": "spotify:track:59nOXPmaKlBfGMDeOVGrIK",
         "track_href": "https://api.spotify.com/v1/tracks/59nOXPmaKlBfGMDeOVGrIK",
         "analysis_url": "https://api.spotify.com/v1/audio-analysis/59nOXPmaKlBfGMDeOVGrIK",
         "duration_ms": 189893,
         "time_signature": 4,
         "_deepnote_index_column": 2
        },
        {
         "danceability": 0.883,
         "energy": 0.657,
         "key": 8,
         "loudness": -5.748,
         "mode": 1,
         "speechiness": 0.305,
         "acousticness": 0.0603,
         "instrumentalness": 0,
         "liveness": 0.128,
         "valence": 0.284,
         "tempo": 124.992,
         "type": "audio_features",
         "id": "1qMMYpVatbRITKCfq1gasi",
         "uri": "spotify:track:1qMMYpVatbRITKCfq1gasi",
         "track_href": "https://api.spotify.com/v1/tracks/1qMMYpVatbRITKCfq1gasi",
         "analysis_url": "https://api.spotify.com/v1/audio-analysis/1qMMYpVatbRITKCfq1gasi",
         "duration_ms": 172933,
         "time_signature": 4,
         "_deepnote_index_column": 3
        },
        {
         "danceability": 0.761,
         "energy": 0.525,
         "key": 11,
         "loudness": -6.9,
         "mode": 1,
         "speechiness": 0.0944,
         "acousticness": 0.44,
         "instrumentalness": 0.0000067,
         "liveness": 0.0921,
         "valence": 0.531,
         "tempo": 80.87,
         "type": "audio_features",
         "id": "02MWAaffLxlfxAUY7c5dvx",
         "uri": "spotify:track:02MWAaffLxlfxAUY7c5dvx",
         "track_href": "https://api.spotify.com/v1/tracks/02MWAaffLxlfxAUY7c5dvx",
         "analysis_url": "https://api.spotify.com/v1/audio-analysis/02MWAaffLxlfxAUY7c5dvx",
         "duration_ms": 238805,
         "time_signature": 4,
         "_deepnote_index_column": 4
        },
        {
         "danceability": 0.773,
         "energy": 0.707,
         "key": 11,
         "loudness": -5.71,
         "mode": 1,
         "speechiness": 0.0568,
         "acousticness": 0.0103,
         "instrumentalness": 0.0000104,
         "liveness": 0.296,
         "valence": 0.113,
         "tempo": 76.977,
         "type": "audio_features",
         "id": "6wyhUr4Xw8z5uSy0AhoZfU",
         "uri": "spotify:track:6wyhUr4Xw8z5uSy0AhoZfU",
         "track_href": "https://api.spotify.com/v1/tracks/6wyhUr4Xw8z5uSy0AhoZfU",
         "analysis_url": "https://api.spotify.com/v1/audio-analysis/6wyhUr4Xw8z5uSy0AhoZfU",
         "duration_ms": 236187,
         "time_signature": 4,
         "_deepnote_index_column": 5
        },
        {
         "danceability": 0.836,
         "energy": 0.743,
         "key": 10,
         "loudness": -6.305,
         "mode": 0,
         "speechiness": 0.0656,
         "acousticness": 0.0995,
         "instrumentalness": 0,
         "liveness": 0.335,
         "valence": 0.722,
         "tempo": 108.966,
         "type": "audio_features",
         "id": "1PckUlxKqWQs3RlWXVBLw3",
         "uri": "spotify:track:1PckUlxKqWQs3RlWXVBLw3",
         "track_href": "https://api.spotify.com/v1/tracks/1PckUlxKqWQs3RlWXVBLw3",
         "analysis_url": "https://api.spotify.com/v1/audio-analysis/1PckUlxKqWQs3RlWXVBLw3",
         "duration_ms": 191822,
         "time_signature": 4,
         "_deepnote_index_column": 6
        },
        {
         "danceability": 0.711,
         "energy": 0.686,
         "key": 5,
         "loudness": -6.409,
         "mode": 0,
         "speechiness": 0.271,
         "acousticness": 0.0355,
         "instrumentalness": 0,
         "liveness": 0.124,
         "valence": 0.536,
         "tempo": 146.971,
         "type": "audio_features",
         "id": "3FSwpQ9dBZBeBV6UdYHI2R",
         "uri": "spotify:track:3FSwpQ9dBZBeBV6UdYHI2R",
         "track_href": "https://api.spotify.com/v1/tracks/3FSwpQ9dBZBeBV6UdYHI2R",
         "analysis_url": "https://api.spotify.com/v1/audio-analysis/3FSwpQ9dBZBeBV6UdYHI2R",
         "duration_ms": 173187,
         "time_signature": 4,
         "_deepnote_index_column": 7
        },
        {
         "danceability": 0.911,
         "energy": 0.573,
         "key": 2,
         "loudness": -5.573,
         "mode": 1,
         "speechiness": 0.163,
         "acousticness": 0.0112,
         "instrumentalness": 0.0000583,
         "liveness": 0.131,
         "valence": 0.145,
         "tempo": 144.026,
         "type": "audio_features",
         "id": "0AAVJIN4plafvmNKqRCltG",
         "uri": "spotify:track:0AAVJIN4plafvmNKqRCltG",
         "track_href": "https://api.spotify.com/v1/tracks/0AAVJIN4plafvmNKqRCltG",
         "analysis_url": "https://api.spotify.com/v1/audio-analysis/0AAVJIN4plafvmNKqRCltG",
         "duration_ms": 271840,
         "time_signature": 4,
         "_deepnote_index_column": 8
        },
        {
         "danceability": 0.741,
         "energy": 0.691,
         "key": 10,
         "loudness": -7.395,
         "mode": 0,
         "speechiness": 0.0672,
         "acousticness": 0.0221,
         "instrumentalness": 0,
         "liveness": 0.0476,
         "valence": 0.892,
         "tempo": 150.087,
         "type": "audio_features",
         "id": "5Z9KJZvQzH6PFmb8SNkxuk",
         "uri": "spotify:track:5Z9KJZvQzH6PFmb8SNkxuk",
         "track_href": "https://api.spotify.com/v1/tracks/5Z9KJZvQzH6PFmb8SNkxuk",
         "analysis_url": "https://api.spotify.com/v1/audio-analysis/5Z9KJZvQzH6PFmb8SNkxuk",
         "duration_ms": 212353,
         "time_signature": 4,
         "_deepnote_index_column": 9
        }
       ]
      },
      "text/plain": "    danceability  energy  key  loudness  mode  speechiness  acousticness  \\\n0          0.520   0.731    6    -5.338     0       0.0557      0.342000   \n1          0.905   0.563    8    -6.135     1       0.1020      0.025400   \n2          0.463   0.642    1    -4.474     1       0.3400      0.314000   \n3          0.883   0.657    8    -5.748     1       0.3050      0.060300   \n4          0.761   0.525   11    -6.900     1       0.0944      0.440000   \n5          0.773   0.707   11    -5.710     1       0.0568      0.010300   \n6          0.836   0.743   10    -6.305     0       0.0656      0.099500   \n7          0.711   0.686    5    -6.409     0       0.2710      0.035500   \n8          0.911   0.573    2    -5.573     1       0.1630      0.011200   \n9          0.741   0.691   10    -7.395     0       0.0672      0.022100   \n10         0.690   0.521   10    -8.492     0       0.3390      0.324000   \n11         0.591   0.764    1    -5.484     1       0.0483      0.038300   \n12         0.652   0.578    0    -6.187     1       0.1610      0.008610   \n13         0.563   0.664    9    -5.044     1       0.1540      0.335000   \n14         0.824   0.764    5    -4.175     0       0.0854      0.088800   \n15         0.764   0.705    3    -5.279     0       0.0278      0.037100   \n16         0.601   0.741    2    -5.569     1       0.0478      0.185000   \n17         0.728   0.783   11    -4.424     0       0.2660      0.237000   \n18         0.520   0.852    0    -5.866     1       0.0543      0.002370   \n19         0.376   0.657    7    -4.658     1       0.0768      0.085800   \n20         0.709   0.357    5    -9.289     1       0.2140      0.478000   \n21         0.810   0.655    8    -6.779     0       0.0698      0.127000   \n22         0.916   0.453    1    -4.148     1       0.1580      0.000189   \n23         0.870   0.516    1    -8.006     1       0.0541      0.656000   \n24         0.603   0.783    6    -4.023     1       0.0620      0.449000   \n25         0.664   0.609    1    -6.509     1       0.0707      0.304000   \n26         0.825   0.414    2    -6.634     1       0.1440      0.002650   \n27         0.849   0.424    5    -9.579     0       0.3240      0.063500   \n28         0.575   0.648   10    -4.891     1       0.0358      0.583000   \n29         0.578   0.431    2    -7.034     1       0.0269      0.469000   \n30         0.612   0.807   10    -2.810     1       0.0336      0.049500   \n31         0.843   0.700    4    -3.563     0       0.0803      0.093400   \n32         0.824   0.667   10    -6.603     0       0.0814      0.003210   \n33         0.756   0.697    8    -6.377     1       0.0401      0.182000   \n34         0.763   0.526    5    -6.753     0       0.3550      0.009370   \n35         0.737   0.846    1    -4.510     0       0.2200      0.006140   \n36         0.369   0.192    4   -12.151     0       0.0400      0.555000   \n37         0.558   0.559    6    -9.222     1       0.0959      0.371000   \n38         0.505   0.657   11    -5.240     0       0.0318      0.373000   \n39         0.647   0.581    4    -7.678     0       0.0884      0.002900   \n40         0.795   0.800    1    -6.320     1       0.0309      0.035400   \n41         0.345   0.612    7    -6.543     0       0.0608      0.232000   \n42         0.380   0.339    3    -7.885     1       0.0338      0.691000   \n43         0.577   0.450    0    -8.516     0       0.0834      0.357000   \n44         0.788   0.859    2    -2.724     1       0.0856      0.281000   \n45         0.711   0.611    1    -5.453     1       0.3300      0.005880   \n46         0.410   0.611    4    -8.271     0       0.0467      0.022800   \n47         0.578   0.449    1    -6.349     1       0.2860      0.061800   \n48         0.862   0.619   11    -6.197     0       0.2210      0.040300   \n49         0.693   0.575    2    -7.633     1       0.0906      0.121000   \n\n    instrumentalness  liveness  valence    tempo            type  \\\n0           0.001010    0.3110   0.6620  173.930  audio_features   \n1           0.000010    0.1130   0.3240  106.998  audio_features   \n2           0.000000    0.0686   0.3390   83.389  audio_features   \n3           0.000000    0.1280   0.2840  124.992  audio_features   \n4           0.000007    0.0921   0.5310   80.870  audio_features   \n5           0.000010    0.2960   0.1130   76.977  audio_features   \n6           0.000000    0.3350   0.7220  108.966  audio_features   \n7           0.000000    0.1240   0.5360  146.971  audio_features   \n8           0.000058    0.1310   0.1450  144.026  audio_features   \n9           0.000000    0.0476   0.8920  150.087  audio_features   \n10          0.000000    0.0534   0.4940  100.028  audio_features   \n11          0.000000    0.1030   0.4780  169.928  audio_features   \n12          0.000000    0.2850   0.1950   87.395  audio_features   \n13          0.000000    0.0849   0.6880  166.928  audio_features   \n14          0.002940    0.1170   0.8810  107.998  audio_features   \n15          0.000019    0.0943   0.6720  101.003  audio_features   \n16          0.000029    0.4150   0.4410  153.960  audio_features   \n17          0.000000    0.4340   0.5550   77.011  audio_features   \n18          0.000058    0.0733   0.2340  140.267  audio_features   \n19          0.000000    0.0884   0.2030   80.565  audio_features   \n20          0.000294    0.1120   0.5440   75.494  audio_features   \n21          0.000082    0.1050   0.8090  150.002  audio_features   \n22          0.000000    0.1370   0.1520  145.007  audio_features   \n23          0.008230    0.1100   0.5300  111.005  audio_features   \n24          0.000008    0.1190   0.7750  172.041  audio_features   \n25          0.000000    0.0926   0.1940  130.041  audio_features   \n26          0.000000    0.3570   0.1060   72.993  audio_features   \n27          0.000000    0.0834   0.1530  145.887  audio_features   \n28          0.000000    0.1150   0.4660   75.977  audio_features   \n29          0.000000    0.1370   0.2100  116.979  audio_features   \n30          0.017700    0.1010   0.3980  124.053  audio_features   \n31          0.000000    0.1400   0.8990   93.991  audio_features   \n32          0.000003    0.0956   0.3050   82.037  audio_features   \n33          0.000000    0.3330   0.9560   94.996  audio_features   \n34          0.000002    0.1110   0.3620  181.856  audio_features   \n35          0.000000    0.0486   0.5460   87.981  audio_features   \n36          0.000008    0.0954   0.1480  175.212  audio_features   \n37          0.000007    0.1090   0.6200   78.558  audio_features   \n38          0.001070    0.1260   0.2520  196.000  audio_features   \n39          0.000008    0.1190   0.1130  150.149  audio_features   \n40          0.000073    0.0915   0.9340  116.032  audio_features   \n41          0.000000    0.1940   0.2320  179.773  audio_features   \n42          0.000000    0.1200   0.0849  100.607  audio_features   \n43          0.000000    0.1110   0.8300  205.863  audio_features   \n44          0.000000    0.0424   0.8220  141.020  audio_features   \n45          0.000000    0.2300   0.1440  134.093  audio_features   \n46          0.000000    0.1160   0.0899  185.727  audio_features   \n47          0.000002    0.1190   0.1000  136.006  audio_features   \n48          0.000000    0.2530   0.6240  148.059  audio_features   \n49          0.000000    0.1040   0.3530  138.016  audio_features   \n\n                        id                                   uri  \\\n0   4LRPiXqCikLlN15c3yImP7  spotify:track:4LRPiXqCikLlN15c3yImP7   \n1   1rDQ4oMwGJI7B4tovsBOxc  spotify:track:1rDQ4oMwGJI7B4tovsBOxc   \n2   59nOXPmaKlBfGMDeOVGrIK  spotify:track:59nOXPmaKlBfGMDeOVGrIK   \n3   1qMMYpVatbRITKCfq1gasi  spotify:track:1qMMYpVatbRITKCfq1gasi   \n4   02MWAaffLxlfxAUY7c5dvx  spotify:track:02MWAaffLxlfxAUY7c5dvx   \n5   6wyhUr4Xw8z5uSy0AhoZfU  spotify:track:6wyhUr4Xw8z5uSy0AhoZfU   \n6   1PckUlxKqWQs3RlWXVBLw3  spotify:track:1PckUlxKqWQs3RlWXVBLw3   \n7   3FSwpQ9dBZBeBV6UdYHI2R  spotify:track:3FSwpQ9dBZBeBV6UdYHI2R   \n8   0AAVJIN4plafvmNKqRCltG  spotify:track:0AAVJIN4plafvmNKqRCltG   \n9   5Z9KJZvQzH6PFmb8SNkxuk  spotify:track:5Z9KJZvQzH6PFmb8SNkxuk   \n10  68Dni7IE4VyPkTOH9mRWHr  spotify:track:68Dni7IE4VyPkTOH9mRWHr   \n11  5PjdY0CKGZdEuoNab3yDmX  spotify:track:5PjdY0CKGZdEuoNab3yDmX   \n12  7rWCWzPRftzZTZtIyQtaDU  spotify:track:7rWCWzPRftzZTZtIyQtaDU   \n13  4ZtFanR9U6ndgddUvNcjcG  spotify:track:4ZtFanR9U6ndgddUvNcjcG   \n14  6Uj1ctrBOjOas8xZXGqKk4  spotify:track:6Uj1ctrBOjOas8xZXGqKk4   \n15  0y60itmpH0aPKsFiGxmtnh  spotify:track:0y60itmpH0aPKsFiGxmtnh   \n16  6I3mqTwhRpn34SLVafSH7G  spotify:track:6I3mqTwhRpn34SLVafSH7G   \n17  1HhNoOuqm1a5MXYEgAFl8o  spotify:track:1HhNoOuqm1a5MXYEgAFl8o   \n18  58ge6dfP91o9oXMzq3XkIS  spotify:track:58ge6dfP91o9oXMzq3XkIS   \n19  1r8ZCjfrQxoy2wVaBUbpwg  spotify:track:1r8ZCjfrQxoy2wVaBUbpwg   \n20  4XJRpBOG0bU3Nxnvam3FnC  spotify:track:4XJRpBOG0bU3Nxnvam3FnC   \n21  2KdKh9vHbKW0tZLqtpxxI0  spotify:track:2KdKh9vHbKW0tZLqtpxxI0   \n22  2tzgSUZOUKopYbRqQOVT8X  spotify:track:2tzgSUZOUKopYbRqQOVT8X   \n23  7dSZ6zGTQx66c2GF91xCrb  spotify:track:7dSZ6zGTQx66c2GF91xCrb   \n24  37y7iDayfwm3WXn5BiAoRk  spotify:track:37y7iDayfwm3WXn5BiAoRk   \n25  3Vi5XqYrmQgOYBajMWSvCi  spotify:track:3Vi5XqYrmQgOYBajMWSvCi   \n26  1Y5Jvi3eLi4Chwqch9GMem  spotify:track:1Y5Jvi3eLi4Chwqch9GMem   \n27  2BcMwX1MPV6ZHP4tUT9uq6  spotify:track:2BcMwX1MPV6ZHP4tUT9uq6   \n28  4SqWKzw0CbA05TGszDgMlc  spotify:track:4SqWKzw0CbA05TGszDgMlc   \n29  1TUuhV75FeOF6UObRsABo2  spotify:track:1TUuhV75FeOF6UObRsABo2   \n30  2QjOHCTQ1Jl3zawyYOpxh6  spotify:track:2QjOHCTQ1Jl3zawyYOpxh6   \n31  1ri9ZUkBJVFUdgwzCnfcYs  spotify:track:1ri9ZUkBJVFUdgwzCnfcYs   \n32  7HCX1Ch3mklJyEdpwPZBFW  spotify:track:7HCX1Ch3mklJyEdpwPZBFW   \n33  2DB4DdfCFMw1iaR6JaR03a  spotify:track:2DB4DdfCFMw1iaR6JaR03a   \n34  1Ijpng3ZLhTRcEd8iqh4p4  spotify:track:1Ijpng3ZLhTRcEd8iqh4p4   \n35  0e8nrvls4Qqv5Rfa2UhqmO  spotify:track:0e8nrvls4Qqv5Rfa2UhqmO   \n36  3WMj8moIAXJhHsyLaqIIHI  spotify:track:3WMj8moIAXJhHsyLaqIIHI   \n37  7KA4W4McWYRpgf0fWsJZWB  spotify:track:7KA4W4McWYRpgf0fWsJZWB   \n38  3cBsEDNhFI9E82vPj3kvi3  spotify:track:3cBsEDNhFI9E82vPj3kvi3   \n39  62Yo3FDddWY8ydu6PW2wyz  spotify:track:62Yo3FDddWY8ydu6PW2wyz   \n40  6JIC3hbC28JZKZ8AlAqX8h  spotify:track:6JIC3hbC28JZKZ8AlAqX8h   \n41  59CfNbkERJ3NoTXDvoURjj  spotify:track:59CfNbkERJ3NoTXDvoURjj   \n42  5CZ40GBx1sQ9agT82CLQCT  spotify:track:5CZ40GBx1sQ9agT82CLQCT   \n43  52xJxFP6TqMuO4Yt0eOkMz  spotify:track:52xJxFP6TqMuO4Yt0eOkMz   \n44  50nfwKoDiSYg8zOCREWAm5  spotify:track:50nfwKoDiSYg8zOCREWAm5   \n45  3QFInJAm9eyaho5vBzxInN  spotify:track:3QFInJAm9eyaho5vBzxInN   \n46  58HvfVOeJY7lUuCqF0m3ly  spotify:track:58HvfVOeJY7lUuCqF0m3ly   \n47  65OVbaJR5O1RmwOQx0875b  spotify:track:65OVbaJR5O1RmwOQx0875b   \n48  53wBhj706wDMNuBj4FJ0RI  spotify:track:53wBhj706wDMNuBj4FJ0RI   \n49  7BbaIYAdi3pg4MGl6PHwPv  spotify:track:7BbaIYAdi3pg4MGl6PHwPv   \n\n                                           track_href  \\\n0   https://api.spotify.com/v1/tracks/4LRPiXqCikLl...   \n1   https://api.spotify.com/v1/tracks/1rDQ4oMwGJI7...   \n2   https://api.spotify.com/v1/tracks/59nOXPmaKlBf...   \n3   https://api.spotify.com/v1/tracks/1qMMYpVatbRI...   \n4   https://api.spotify.com/v1/tracks/02MWAaffLxlf...   \n5   https://api.spotify.com/v1/tracks/6wyhUr4Xw8z5...   \n6   https://api.spotify.com/v1/tracks/1PckUlxKqWQs...   \n7   https://api.spotify.com/v1/tracks/3FSwpQ9dBZBe...   \n8   https://api.spotify.com/v1/tracks/0AAVJIN4plaf...   \n9   https://api.spotify.com/v1/tracks/5Z9KJZvQzH6P...   \n10  https://api.spotify.com/v1/tracks/68Dni7IE4VyP...   \n11  https://api.spotify.com/v1/tracks/5PjdY0CKGZdE...   \n12  https://api.spotify.com/v1/tracks/7rWCWzPRftzZ...   \n13  https://api.spotify.com/v1/tracks/4ZtFanR9U6nd...   \n14  https://api.spotify.com/v1/tracks/6Uj1ctrBOjOa...   \n15  https://api.spotify.com/v1/tracks/0y60itmpH0aP...   \n16  https://api.spotify.com/v1/tracks/6I3mqTwhRpn3...   \n17  https://api.spotify.com/v1/tracks/1HhNoOuqm1a5...   \n18  https://api.spotify.com/v1/tracks/58ge6dfP91o9...   \n19  https://api.spotify.com/v1/tracks/1r8ZCjfrQxoy...   \n20  https://api.spotify.com/v1/tracks/4XJRpBOG0bU3...   \n21  https://api.spotify.com/v1/tracks/2KdKh9vHbKW0...   \n22  https://api.spotify.com/v1/tracks/2tzgSUZOUKop...   \n23  https://api.spotify.com/v1/tracks/7dSZ6zGTQx66...   \n24  https://api.spotify.com/v1/tracks/37y7iDayfwm3...   \n25  https://api.spotify.com/v1/tracks/3Vi5XqYrmQgO...   \n26  https://api.spotify.com/v1/tracks/1Y5Jvi3eLi4C...   \n27  https://api.spotify.com/v1/tracks/2BcMwX1MPV6Z...   \n28  https://api.spotify.com/v1/tracks/4SqWKzw0CbA0...   \n29  https://api.spotify.com/v1/tracks/1TUuhV75FeOF...   \n30  https://api.spotify.com/v1/tracks/2QjOHCTQ1Jl3...   \n31  https://api.spotify.com/v1/tracks/1ri9ZUkBJVFU...   \n32  https://api.spotify.com/v1/tracks/7HCX1Ch3mklJ...   \n33  https://api.spotify.com/v1/tracks/2DB4DdfCFMw1...   \n34  https://api.spotify.com/v1/tracks/1Ijpng3ZLhTR...   \n35  https://api.spotify.com/v1/tracks/0e8nrvls4Qqv...   \n36  https://api.spotify.com/v1/tracks/3WMj8moIAXJh...   \n37  https://api.spotify.com/v1/tracks/7KA4W4McWYRp...   \n38  https://api.spotify.com/v1/tracks/3cBsEDNhFI9E...   \n39  https://api.spotify.com/v1/tracks/62Yo3FDddWY8...   \n40  https://api.spotify.com/v1/tracks/6JIC3hbC28JZ...   \n41  https://api.spotify.com/v1/tracks/59CfNbkERJ3N...   \n42  https://api.spotify.com/v1/tracks/5CZ40GBx1sQ9...   \n43  https://api.spotify.com/v1/tracks/52xJxFP6TqMu...   \n44  https://api.spotify.com/v1/tracks/50nfwKoDiSYg...   \n45  https://api.spotify.com/v1/tracks/3QFInJAm9eya...   \n46  https://api.spotify.com/v1/tracks/58HvfVOeJY7l...   \n47  https://api.spotify.com/v1/tracks/65OVbaJR5O1R...   \n48  https://api.spotify.com/v1/tracks/53wBhj706wDM...   \n49  https://api.spotify.com/v1/tracks/7BbaIYAdi3pg...   \n\n                                         analysis_url  duration_ms  \\\n0   https://api.spotify.com/v1/audio-analysis/4LRP...       167303   \n1   https://api.spotify.com/v1/audio-analysis/1rDQ...       173948   \n2   https://api.spotify.com/v1/audio-analysis/59nO...       189893   \n3   https://api.spotify.com/v1/audio-analysis/1qMM...       172933   \n4   https://api.spotify.com/v1/audio-analysis/02MW...       238805   \n5   https://api.spotify.com/v1/audio-analysis/6wyh...       236187   \n6   https://api.spotify.com/v1/audio-analysis/1Pck...       191822   \n7   https://api.spotify.com/v1/audio-analysis/3FSw...       173187   \n8   https://api.spotify.com/v1/audio-analysis/0AAV...       271840   \n9   https://api.spotify.com/v1/audio-analysis/5Z9K...       212353   \n10  https://api.spotify.com/v1/audio-analysis/68Dn...       292799   \n11  https://api.spotify.com/v1/audio-analysis/5Pjd...       141806   \n12  https://api.spotify.com/v1/audio-analysis/7rWC...       207213   \n13  https://api.spotify.com/v1/audio-analysis/4ZtF...       178147   \n14  https://api.spotify.com/v1/audio-analysis/6Uj1...       172627   \n15  https://api.spotify.com/v1/audio-analysis/0y60...       196520   \n16  https://api.spotify.com/v1/audio-analysis/6I3m...       153190   \n17  https://api.spotify.com/v1/audio-analysis/1HhN...       173381   \n18  https://api.spotify.com/v1/audio-analysis/58ge...       253587   \n19  https://api.spotify.com/v1/audio-analysis/1r8Z...       164782   \n20  https://api.spotify.com/v1/audio-analysis/4XJR...       129480   \n21  https://api.spotify.com/v1/audio-analysis/2KdK...       193322   \n22  https://api.spotify.com/v1/audio-analysis/2tzg...       106133   \n23  https://api.spotify.com/v1/audio-analysis/7dSZ...       210200   \n24  https://api.spotify.com/v1/audio-analysis/37y7...       173104   \n25  https://api.spotify.com/v1/audio-analysis/3Vi5...       210560   \n26  https://api.spotify.com/v1/audio-analysis/1Y5J...       200548   \n27  https://api.spotify.com/v1/audio-analysis/2BcM...       242966   \n28  https://api.spotify.com/v1/audio-analysis/4SqW...       160240   \n29  https://api.spotify.com/v1/audio-analysis/1TUu...       226975   \n30  https://api.spotify.com/v1/audio-analysis/2QjO...       240400   \n31  https://api.spotify.com/v1/audio-analysis/1ri9...       226088   \n32  https://api.spotify.com/v1/audio-analysis/7HCX...       207933   \n33  https://api.spotify.com/v1/audio-analysis/2DB4...       206071   \n34  https://api.spotify.com/v1/audio-analysis/1Ijp...       162333   \n35  https://api.spotify.com/v1/audio-analysis/0e8n...       143901   \n36  https://api.spotify.com/v1/audio-analysis/3WMj...       228013   \n37  https://api.spotify.com/v1/audio-analysis/7KA4...       180387   \n38  https://api.spotify.com/v1/audio-analysis/3cBs...       178520   \n39  https://api.spotify.com/v1/audio-analysis/62Yo...       206385   \n40  https://api.spotify.com/v1/audio-analysis/6JIC...       202735   \n41  https://api.spotify.com/v1/audio-analysis/59Cf...       153000   \n42  https://api.spotify.com/v1/audio-analysis/5CZ4...       229227   \n43  https://api.spotify.com/v1/audio-analysis/52xJ...       216120   \n44  https://api.spotify.com/v1/audio-analysis/50nf...       207853   \n45  https://api.spotify.com/v1/audio-analysis/3QFI...       252262   \n46  https://api.spotify.com/v1/audio-analysis/58Hv...       184448   \n47  https://api.spotify.com/v1/audio-analysis/65OV...       192956   \n48  https://api.spotify.com/v1/audio-analysis/53wB...       195267   \n49  https://api.spotify.com/v1/audio-analysis/7Bba...       160052   \n\n    time_signature  \n0                4  \n1                4  \n2                4  \n3                4  \n4                4  \n5                4  \n6                4  \n7                4  \n8                4  \n9                4  \n10               4  \n11               4  \n12               4  \n13               4  \n14               4  \n15               4  \n16               4  \n17               4  \n18               4  \n19               4  \n20               4  \n21               4  \n22               4  \n23               4  \n24               4  \n25               4  \n26               4  \n27               4  \n28               4  \n29               3  \n30               4  \n31               4  \n32               4  \n33               4  \n34               4  \n35               4  \n36               3  \n37               4  \n38               3  \n39               4  \n40               4  \n41               3  \n42               4  \n43               4  \n44               4  \n45               4  \n46               3  \n47               4  \n48               4  \n49               4  ",
      "text/html": "<div>\n<style scoped>\n    .dataframe tbody tr th:only-of-type {\n        vertical-align: middle;\n    }\n\n    .dataframe tbody tr th {\n        vertical-align: top;\n    }\n\n    .dataframe thead th {\n        text-align: right;\n    }\n</style>\n<table border=\"1\" class=\"dataframe\">\n  <thead>\n    <tr style=\"text-align: right;\">\n      <th></th>\n      <th>danceability</th>\n      <th>energy</th>\n      <th>key</th>\n      <th>loudness</th>\n      <th>mode</th>\n      <th>speechiness</th>\n      <th>acousticness</th>\n      <th>instrumentalness</th>\n      <th>liveness</th>\n      <th>valence</th>\n      <th>tempo</th>\n      <th>type</th>\n      <th>id</th>\n      <th>uri</th>\n      <th>track_href</th>\n      <th>analysis_url</th>\n      <th>duration_ms</th>\n      <th>time_signature</th>\n    </tr>\n  </thead>\n  <tbody>\n    <tr>\n      <th>0</th>\n      <td>0.520</td>\n      <td>0.731</td>\n      <td>6</td>\n      <td>-5.338</td>\n      <td>0</td>\n      <td>0.0557</td>\n      <td>0.342000</td>\n      <td>0.001010</td>\n      <td>0.3110</td>\n      <td>0.6620</td>\n      <td>173.930</td>\n      <td>audio_features</td>\n      <td>4LRPiXqCikLlN15c3yImP7</td>\n      <td>spotify:track:4LRPiXqCikLlN15c3yImP7</td>\n      <td>https://api.spotify.com/v1/tracks/4LRPiXqCikLl...</td>\n      <td>https://api.spotify.com/v1/audio-analysis/4LRP...</td>\n      <td>167303</td>\n      <td>4</td>\n    </tr>\n    <tr>\n      <th>1</th>\n      <td>0.905</td>\n      <td>0.563</td>\n      <td>8</td>\n      <td>-6.135</td>\n      <td>1</td>\n      <td>0.1020</td>\n      <td>0.025400</td>\n      <td>0.000010</td>\n      <td>0.1130</td>\n      <td>0.3240</td>\n      <td>106.998</td>\n      <td>audio_features</td>\n      <td>1rDQ4oMwGJI7B4tovsBOxc</td>\n      <td>spotify:track:1rDQ4oMwGJI7B4tovsBOxc</td>\n      <td>https://api.spotify.com/v1/tracks/1rDQ4oMwGJI7...</td>\n      <td>https://api.spotify.com/v1/audio-analysis/1rDQ...</td>\n      <td>173948</td>\n      <td>4</td>\n    </tr>\n    <tr>\n      <th>2</th>\n      <td>0.463</td>\n      <td>0.642</td>\n      <td>1</td>\n      <td>-4.474</td>\n      <td>1</td>\n      <td>0.3400</td>\n      <td>0.314000</td>\n      <td>0.000000</td>\n      <td>0.0686</td>\n      <td>0.3390</td>\n      <td>83.389</td>\n      <td>audio_features</td>\n      <td>59nOXPmaKlBfGMDeOVGrIK</td>\n      <td>spotify:track:59nOXPmaKlBfGMDeOVGrIK</td>\n      <td>https://api.spotify.com/v1/tracks/59nOXPmaKlBf...</td>\n      <td>https://api.spotify.com/v1/audio-analysis/59nO...</td>\n      <td>189893</td>\n      <td>4</td>\n    </tr>\n    <tr>\n      <th>3</th>\n      <td>0.883</td>\n      <td>0.657</td>\n      <td>8</td>\n      <td>-5.748</td>\n      <td>1</td>\n      <td>0.3050</td>\n      <td>0.060300</td>\n      <td>0.000000</td>\n      <td>0.1280</td>\n      <td>0.2840</td>\n      <td>124.992</td>\n      <td>audio_features</td>\n      <td>1qMMYpVatbRITKCfq1gasi</td>\n      <td>spotify:track:1qMMYpVatbRITKCfq1gasi</td>\n      <td>https://api.spotify.com/v1/tracks/1qMMYpVatbRI...</td>\n      <td>https://api.spotify.com/v1/audio-analysis/1qMM...</td>\n      <td>172933</td>\n      <td>4</td>\n    </tr>\n    <tr>\n      <th>4</th>\n      <td>0.761</td>\n      <td>0.525</td>\n      <td>11</td>\n      <td>-6.900</td>\n      <td>1</td>\n      <td>0.0944</td>\n      <td>0.440000</td>\n      <td>0.000007</td>\n      <td>0.0921</td>\n      <td>0.5310</td>\n      <td>80.870</td>\n      <td>audio_features</td>\n      <td>02MWAaffLxlfxAUY7c5dvx</td>\n      <td>spotify:track:02MWAaffLxlfxAUY7c5dvx</td>\n      <td>https://api.spotify.com/v1/tracks/02MWAaffLxlf...</td>\n      <td>https://api.spotify.com/v1/audio-analysis/02MW...</td>\n      <td>238805</td>\n      <td>4</td>\n    </tr>\n    <tr>\n      <th>5</th>\n      <td>0.773</td>\n      <td>0.707</td>\n      <td>11</td>\n      <td>-5.710</td>\n      <td>1</td>\n      <td>0.0568</td>\n      <td>0.010300</td>\n      <td>0.000010</td>\n      <td>0.2960</td>\n      <td>0.1130</td>\n      <td>76.977</td>\n      <td>audio_features</td>\n      <td>6wyhUr4Xw8z5uSy0AhoZfU</td>\n      <td>spotify:track:6wyhUr4Xw8z5uSy0AhoZfU</td>\n      <td>https://api.spotify.com/v1/tracks/6wyhUr4Xw8z5...</td>\n      <td>https://api.spotify.com/v1/audio-analysis/6wyh...</td>\n      <td>236187</td>\n      <td>4</td>\n    </tr>\n    <tr>\n      <th>6</th>\n      <td>0.836</td>\n      <td>0.743</td>\n      <td>10</td>\n      <td>-6.305</td>\n      <td>0</td>\n      <td>0.0656</td>\n      <td>0.099500</td>\n      <td>0.000000</td>\n      <td>0.3350</td>\n      <td>0.7220</td>\n      <td>108.966</td>\n      <td>audio_features</td>\n      <td>1PckUlxKqWQs3RlWXVBLw3</td>\n      <td>spotify:track:1PckUlxKqWQs3RlWXVBLw3</td>\n      <td>https://api.spotify.com/v1/tracks/1PckUlxKqWQs...</td>\n      <td>https://api.spotify.com/v1/audio-analysis/1Pck...</td>\n      <td>191822</td>\n      <td>4</td>\n    </tr>\n    <tr>\n      <th>7</th>\n      <td>0.711</td>\n      <td>0.686</td>\n      <td>5</td>\n      <td>-6.409</td>\n      <td>0</td>\n      <td>0.2710</td>\n      <td>0.035500</td>\n      <td>0.000000</td>\n      <td>0.1240</td>\n      <td>0.5360</td>\n      <td>146.971</td>\n      <td>audio_features</td>\n      <td>3FSwpQ9dBZBeBV6UdYHI2R</td>\n      <td>spotify:track:3FSwpQ9dBZBeBV6UdYHI2R</td>\n      <td>https://api.spotify.com/v1/tracks/3FSwpQ9dBZBe...</td>\n      <td>https://api.spotify.com/v1/audio-analysis/3FSw...</td>\n      <td>173187</td>\n      <td>4</td>\n    </tr>\n    <tr>\n      <th>8</th>\n      <td>0.911</td>\n      <td>0.573</td>\n      <td>2</td>\n      <td>-5.573</td>\n      <td>1</td>\n      <td>0.1630</td>\n      <td>0.011200</td>\n      <td>0.000058</td>\n      <td>0.1310</td>\n      <td>0.1450</td>\n      <td>144.026</td>\n      <td>audio_features</td>\n      <td>0AAVJIN4plafvmNKqRCltG</td>\n      <td>spotify:track:0AAVJIN4plafvmNKqRCltG</td>\n      <td>https://api.spotify.com/v1/tracks/0AAVJIN4plaf...</td>\n      <td>https://api.spotify.com/v1/audio-analysis/0AAV...</td>\n      <td>271840</td>\n      <td>4</td>\n    </tr>\n    <tr>\n      <th>9</th>\n      <td>0.741</td>\n      <td>0.691</td>\n      <td>10</td>\n      <td>-7.395</td>\n      <td>0</td>\n      <td>0.0672</td>\n      <td>0.022100</td>\n      <td>0.000000</td>\n      <td>0.0476</td>\n      <td>0.8920</td>\n      <td>150.087</td>\n      <td>audio_features</td>\n      <td>5Z9KJZvQzH6PFmb8SNkxuk</td>\n      <td>spotify:track:5Z9KJZvQzH6PFmb8SNkxuk</td>\n      <td>https://api.spotify.com/v1/tracks/5Z9KJZvQzH6P...</td>\n      <td>https://api.spotify.com/v1/audio-analysis/5Z9K...</td>\n      <td>212353</td>\n      <td>4</td>\n    </tr>\n    <tr>\n      <th>10</th>\n      <td>0.690</td>\n      <td>0.521</td>\n      <td>10</td>\n      <td>-8.492</td>\n      <td>0</td>\n      <td>0.3390</td>\n      <td>0.324000</td>\n      <td>0.000000</td>\n      <td>0.0534</td>\n      <td>0.4940</td>\n      <td>100.028</td>\n      <td>audio_features</td>\n      <td>68Dni7IE4VyPkTOH9mRWHr</td>\n      <td>spotify:track:68Dni7IE4VyPkTOH9mRWHr</td>\n      <td>https://api.spotify.com/v1/tracks/68Dni7IE4VyP...</td>\n      <td>https://api.spotify.com/v1/audio-analysis/68Dn...</td>\n      <td>292799</td>\n      <td>4</td>\n    </tr>\n    <tr>\n      <th>11</th>\n      <td>0.591</td>\n      <td>0.764</td>\n      <td>1</td>\n      <td>-5.484</td>\n      <td>1</td>\n      <td>0.0483</td>\n      <td>0.038300</td>\n      <td>0.000000</td>\n      <td>0.1030</td>\n      <td>0.4780</td>\n      <td>169.928</td>\n      <td>audio_features</td>\n      <td>5PjdY0CKGZdEuoNab3yDmX</td>\n      <td>spotify:track:5PjdY0CKGZdEuoNab3yDmX</td>\n      <td>https://api.spotify.com/v1/tracks/5PjdY0CKGZdE...</td>\n      <td>https://api.spotify.com/v1/audio-analysis/5Pjd...</td>\n      <td>141806</td>\n      <td>4</td>\n    </tr>\n    <tr>\n      <th>12</th>\n      <td>0.652</td>\n      <td>0.578</td>\n      <td>0</td>\n      <td>-6.187</td>\n      <td>1</td>\n      <td>0.1610</td>\n      <td>0.008610</td>\n      <td>0.000000</td>\n      <td>0.2850</td>\n      <td>0.1950</td>\n      <td>87.395</td>\n      <td>audio_features</td>\n      <td>7rWCWzPRftzZTZtIyQtaDU</td>\n      <td>spotify:track:7rWCWzPRftzZTZtIyQtaDU</td>\n      <td>https://api.spotify.com/v1/tracks/7rWCWzPRftzZ...</td>\n      <td>https://api.spotify.com/v1/audio-analysis/7rWC...</td>\n      <td>207213</td>\n      <td>4</td>\n    </tr>\n    <tr>\n      <th>13</th>\n      <td>0.563</td>\n      <td>0.664</td>\n      <td>9</td>\n      <td>-5.044</td>\n      <td>1</td>\n      <td>0.1540</td>\n      <td>0.335000</td>\n      <td>0.000000</td>\n      <td>0.0849</td>\n      <td>0.6880</td>\n      <td>166.928</td>\n      <td>audio_features</td>\n      <td>4ZtFanR9U6ndgddUvNcjcG</td>\n      <td>spotify:track:4ZtFanR9U6ndgddUvNcjcG</td>\n      <td>https://api.spotify.com/v1/tracks/4ZtFanR9U6nd...</td>\n      <td>https://api.spotify.com/v1/audio-analysis/4ZtF...</td>\n      <td>178147</td>\n      <td>4</td>\n    </tr>\n    <tr>\n      <th>14</th>\n      <td>0.824</td>\n      <td>0.764</td>\n      <td>5</td>\n      <td>-4.175</td>\n      <td>0</td>\n      <td>0.0854</td>\n      <td>0.088800</td>\n      <td>0.002940</td>\n      <td>0.1170</td>\n      <td>0.8810</td>\n      <td>107.998</td>\n      <td>audio_features</td>\n      <td>6Uj1ctrBOjOas8xZXGqKk4</td>\n      <td>spotify:track:6Uj1ctrBOjOas8xZXGqKk4</td>\n      <td>https://api.spotify.com/v1/tracks/6Uj1ctrBOjOa...</td>\n      <td>https://api.spotify.com/v1/audio-analysis/6Uj1...</td>\n      <td>172627</td>\n      <td>4</td>\n    </tr>\n    <tr>\n      <th>15</th>\n      <td>0.764</td>\n      <td>0.705</td>\n      <td>3</td>\n      <td>-5.279</td>\n      <td>0</td>\n      <td>0.0278</td>\n      <td>0.037100</td>\n      <td>0.000019</td>\n      <td>0.0943</td>\n      <td>0.6720</td>\n      <td>101.003</td>\n      <td>audio_features</td>\n      <td>0y60itmpH0aPKsFiGxmtnh</td>\n      <td>spotify:track:0y60itmpH0aPKsFiGxmtnh</td>\n      <td>https://api.spotify.com/v1/tracks/0y60itmpH0aP...</td>\n      <td>https://api.spotify.com/v1/audio-analysis/0y60...</td>\n      <td>196520</td>\n      <td>4</td>\n    </tr>\n    <tr>\n      <th>16</th>\n      <td>0.601</td>\n      <td>0.741</td>\n      <td>2</td>\n      <td>-5.569</td>\n      <td>1</td>\n      <td>0.0478</td>\n      <td>0.185000</td>\n      <td>0.000029</td>\n      <td>0.4150</td>\n      <td>0.4410</td>\n      <td>153.960</td>\n      <td>audio_features</td>\n      <td>6I3mqTwhRpn34SLVafSH7G</td>\n      <td>spotify:track:6I3mqTwhRpn34SLVafSH7G</td>\n      <td>https://api.spotify.com/v1/tracks/6I3mqTwhRpn3...</td>\n      <td>https://api.spotify.com/v1/audio-analysis/6I3m...</td>\n      <td>153190</td>\n      <td>4</td>\n    </tr>\n    <tr>\n      <th>17</th>\n      <td>0.728</td>\n      <td>0.783</td>\n      <td>11</td>\n      <td>-4.424</td>\n      <td>0</td>\n      <td>0.2660</td>\n      <td>0.237000</td>\n      <td>0.000000</td>\n      <td>0.4340</td>\n      <td>0.5550</td>\n      <td>77.011</td>\n      <td>audio_features</td>\n      <td>1HhNoOuqm1a5MXYEgAFl8o</td>\n      <td>spotify:track:1HhNoOuqm1a5MXYEgAFl8o</td>\n      <td>https://api.spotify.com/v1/tracks/1HhNoOuqm1a5...</td>\n      <td>https://api.spotify.com/v1/audio-analysis/1HhN...</td>\n      <td>173381</td>\n      <td>4</td>\n    </tr>\n    <tr>\n      <th>18</th>\n      <td>0.520</td>\n      <td>0.852</td>\n      <td>0</td>\n      <td>-5.866</td>\n      <td>1</td>\n      <td>0.0543</td>\n      <td>0.002370</td>\n      <td>0.000058</td>\n      <td>0.0733</td>\n      <td>0.2340</td>\n      <td>140.267</td>\n      <td>audio_features</td>\n      <td>58ge6dfP91o9oXMzq3XkIS</td>\n      <td>spotify:track:58ge6dfP91o9oXMzq3XkIS</td>\n      <td>https://api.spotify.com/v1/tracks/58ge6dfP91o9...</td>\n      <td>https://api.spotify.com/v1/audio-analysis/58ge...</td>\n      <td>253587</td>\n      <td>4</td>\n    </tr>\n    <tr>\n      <th>19</th>\n      <td>0.376</td>\n      <td>0.657</td>\n      <td>7</td>\n      <td>-4.658</td>\n      <td>1</td>\n      <td>0.0768</td>\n      <td>0.085800</td>\n      <td>0.000000</td>\n      <td>0.0884</td>\n      <td>0.2030</td>\n      <td>80.565</td>\n      <td>audio_features</td>\n      <td>1r8ZCjfrQxoy2wVaBUbpwg</td>\n      <td>spotify:track:1r8ZCjfrQxoy2wVaBUbpwg</td>\n      <td>https://api.spotify.com/v1/tracks/1r8ZCjfrQxoy...</td>\n      <td>https://api.spotify.com/v1/audio-analysis/1r8Z...</td>\n      <td>164782</td>\n      <td>4</td>\n    </tr>\n    <tr>\n      <th>20</th>\n      <td>0.709</td>\n      <td>0.357</td>\n      <td>5</td>\n      <td>-9.289</td>\n      <td>1</td>\n      <td>0.2140</td>\n      <td>0.478000</td>\n      <td>0.000294</td>\n      <td>0.1120</td>\n      <td>0.5440</td>\n      <td>75.494</td>\n      <td>audio_features</td>\n      <td>4XJRpBOG0bU3Nxnvam3FnC</td>\n      <td>spotify:track:4XJRpBOG0bU3Nxnvam3FnC</td>\n      <td>https://api.spotify.com/v1/tracks/4XJRpBOG0bU3...</td>\n      <td>https://api.spotify.com/v1/audio-analysis/4XJR...</td>\n      <td>129480</td>\n      <td>4</td>\n    </tr>\n    <tr>\n      <th>21</th>\n      <td>0.810</td>\n      <td>0.655</td>\n      <td>8</td>\n      <td>-6.779</td>\n      <td>0</td>\n      <td>0.0698</td>\n      <td>0.127000</td>\n      <td>0.000082</td>\n      <td>0.1050</td>\n      <td>0.8090</td>\n      <td>150.002</td>\n      <td>audio_features</td>\n      <td>2KdKh9vHbKW0tZLqtpxxI0</td>\n      <td>spotify:track:2KdKh9vHbKW0tZLqtpxxI0</td>\n      <td>https://api.spotify.com/v1/tracks/2KdKh9vHbKW0...</td>\n      <td>https://api.spotify.com/v1/audio-analysis/2KdK...</td>\n      <td>193322</td>\n      <td>4</td>\n    </tr>\n    <tr>\n      <th>22</th>\n      <td>0.916</td>\n      <td>0.453</td>\n      <td>1</td>\n      <td>-4.148</td>\n      <td>1</td>\n      <td>0.1580</td>\n      <td>0.000189</td>\n      <td>0.000000</td>\n      <td>0.1370</td>\n      <td>0.1520</td>\n      <td>145.007</td>\n      <td>audio_features</td>\n      <td>2tzgSUZOUKopYbRqQOVT8X</td>\n      <td>spotify:track:2tzgSUZOUKopYbRqQOVT8X</td>\n      <td>https://api.spotify.com/v1/tracks/2tzgSUZOUKop...</td>\n      <td>https://api.spotify.com/v1/audio-analysis/2tzg...</td>\n      <td>106133</td>\n      <td>4</td>\n    </tr>\n    <tr>\n      <th>23</th>\n      <td>0.870</td>\n      <td>0.516</td>\n      <td>1</td>\n      <td>-8.006</td>\n      <td>1</td>\n      <td>0.0541</td>\n      <td>0.656000</td>\n      <td>0.008230</td>\n      <td>0.1100</td>\n      <td>0.5300</td>\n      <td>111.005</td>\n      <td>audio_features</td>\n      <td>7dSZ6zGTQx66c2GF91xCrb</td>\n      <td>spotify:track:7dSZ6zGTQx66c2GF91xCrb</td>\n      <td>https://api.spotify.com/v1/tracks/7dSZ6zGTQx66...</td>\n      <td>https://api.spotify.com/v1/audio-analysis/7dSZ...</td>\n      <td>210200</td>\n      <td>4</td>\n    </tr>\n    <tr>\n      <th>24</th>\n      <td>0.603</td>\n      <td>0.783</td>\n      <td>6</td>\n      <td>-4.023</td>\n      <td>1</td>\n      <td>0.0620</td>\n      <td>0.449000</td>\n      <td>0.000008</td>\n      <td>0.1190</td>\n      <td>0.7750</td>\n      <td>172.041</td>\n      <td>audio_features</td>\n      <td>37y7iDayfwm3WXn5BiAoRk</td>\n      <td>spotify:track:37y7iDayfwm3WXn5BiAoRk</td>\n      <td>https://api.spotify.com/v1/tracks/37y7iDayfwm3...</td>\n      <td>https://api.spotify.com/v1/audio-analysis/37y7...</td>\n      <td>173104</td>\n      <td>4</td>\n    </tr>\n    <tr>\n      <th>25</th>\n      <td>0.664</td>\n      <td>0.609</td>\n      <td>1</td>\n      <td>-6.509</td>\n      <td>1</td>\n      <td>0.0707</td>\n      <td>0.304000</td>\n      <td>0.000000</td>\n      <td>0.0926</td>\n      <td>0.1940</td>\n      <td>130.041</td>\n      <td>audio_features</td>\n      <td>3Vi5XqYrmQgOYBajMWSvCi</td>\n      <td>spotify:track:3Vi5XqYrmQgOYBajMWSvCi</td>\n      <td>https://api.spotify.com/v1/tracks/3Vi5XqYrmQgO...</td>\n      <td>https://api.spotify.com/v1/audio-analysis/3Vi5...</td>\n      <td>210560</td>\n      <td>4</td>\n    </tr>\n    <tr>\n      <th>26</th>\n      <td>0.825</td>\n      <td>0.414</td>\n      <td>2</td>\n      <td>-6.634</td>\n      <td>1</td>\n      <td>0.1440</td>\n      <td>0.002650</td>\n      <td>0.000000</td>\n      <td>0.3570</td>\n      <td>0.1060</td>\n      <td>72.993</td>\n      <td>audio_features</td>\n      <td>1Y5Jvi3eLi4Chwqch9GMem</td>\n      <td>spotify:track:1Y5Jvi3eLi4Chwqch9GMem</td>\n      <td>https://api.spotify.com/v1/tracks/1Y5Jvi3eLi4C...</td>\n      <td>https://api.spotify.com/v1/audio-analysis/1Y5J...</td>\n      <td>200548</td>\n      <td>4</td>\n    </tr>\n    <tr>\n      <th>27</th>\n      <td>0.849</td>\n      <td>0.424</td>\n      <td>5</td>\n      <td>-9.579</td>\n      <td>0</td>\n      <td>0.3240</td>\n      <td>0.063500</td>\n      <td>0.000000</td>\n      <td>0.0834</td>\n      <td>0.1530</td>\n      <td>145.887</td>\n      <td>audio_features</td>\n      <td>2BcMwX1MPV6ZHP4tUT9uq6</td>\n      <td>spotify:track:2BcMwX1MPV6ZHP4tUT9uq6</td>\n      <td>https://api.spotify.com/v1/tracks/2BcMwX1MPV6Z...</td>\n      <td>https://api.spotify.com/v1/audio-analysis/2BcM...</td>\n      <td>242966</td>\n      <td>4</td>\n    </tr>\n    <tr>\n      <th>28</th>\n      <td>0.575</td>\n      <td>0.648</td>\n      <td>10</td>\n      <td>-4.891</td>\n      <td>1</td>\n      <td>0.0358</td>\n      <td>0.583000</td>\n      <td>0.000000</td>\n      <td>0.1150</td>\n      <td>0.4660</td>\n      <td>75.977</td>\n      <td>audio_features</td>\n      <td>4SqWKzw0CbA05TGszDgMlc</td>\n      <td>spotify:track:4SqWKzw0CbA05TGszDgMlc</td>\n      <td>https://api.spotify.com/v1/tracks/4SqWKzw0CbA0...</td>\n      <td>https://api.spotify.com/v1/audio-analysis/4SqW...</td>\n      <td>160240</td>\n      <td>4</td>\n    </tr>\n    <tr>\n      <th>29</th>\n      <td>0.578</td>\n      <td>0.431</td>\n      <td>2</td>\n      <td>-7.034</td>\n      <td>1</td>\n      <td>0.0269</td>\n      <td>0.469000</td>\n      <td>0.000000</td>\n      <td>0.1370</td>\n      <td>0.2100</td>\n      <td>116.979</td>\n      <td>audio_features</td>\n      <td>1TUuhV75FeOF6UObRsABo2</td>\n      <td>spotify:track:1TUuhV75FeOF6UObRsABo2</td>\n      <td>https://api.spotify.com/v1/tracks/1TUuhV75FeOF...</td>\n      <td>https://api.spotify.com/v1/audio-analysis/1TUu...</td>\n      <td>226975</td>\n      <td>3</td>\n    </tr>\n    <tr>\n      <th>30</th>\n      <td>0.612</td>\n      <td>0.807</td>\n      <td>10</td>\n      <td>-2.810</td>\n      <td>1</td>\n      <td>0.0336</td>\n      <td>0.049500</td>\n      <td>0.017700</td>\n      <td>0.1010</td>\n      <td>0.3980</td>\n      <td>124.053</td>\n      <td>audio_features</td>\n      <td>2QjOHCTQ1Jl3zawyYOpxh6</td>\n      <td>spotify:track:2QjOHCTQ1Jl3zawyYOpxh6</td>\n      <td>https://api.spotify.com/v1/tracks/2QjOHCTQ1Jl3...</td>\n      <td>https://api.spotify.com/v1/audio-analysis/2QjO...</td>\n      <td>240400</td>\n      <td>4</td>\n    </tr>\n    <tr>\n      <th>31</th>\n      <td>0.843</td>\n      <td>0.700</td>\n      <td>4</td>\n      <td>-3.563</td>\n      <td>0</td>\n      <td>0.0803</td>\n      <td>0.093400</td>\n      <td>0.000000</td>\n      <td>0.1400</td>\n      <td>0.8990</td>\n      <td>93.991</td>\n      <td>audio_features</td>\n      <td>1ri9ZUkBJVFUdgwzCnfcYs</td>\n      <td>spotify:track:1ri9ZUkBJVFUdgwzCnfcYs</td>\n      <td>https://api.spotify.com/v1/tracks/1ri9ZUkBJVFU...</td>\n      <td>https://api.spotify.com/v1/audio-analysis/1ri9...</td>\n      <td>226088</td>\n      <td>4</td>\n    </tr>\n    <tr>\n      <th>32</th>\n      <td>0.824</td>\n      <td>0.667</td>\n      <td>10</td>\n      <td>-6.603</td>\n      <td>0</td>\n      <td>0.0814</td>\n      <td>0.003210</td>\n      <td>0.000003</td>\n      <td>0.0956</td>\n      <td>0.3050</td>\n      <td>82.037</td>\n      <td>audio_features</td>\n      <td>7HCX1Ch3mklJyEdpwPZBFW</td>\n      <td>spotify:track:7HCX1Ch3mklJyEdpwPZBFW</td>\n      <td>https://api.spotify.com/v1/tracks/7HCX1Ch3mklJ...</td>\n      <td>https://api.spotify.com/v1/audio-analysis/7HCX...</td>\n      <td>207933</td>\n      <td>4</td>\n    </tr>\n    <tr>\n      <th>33</th>\n      <td>0.756</td>\n      <td>0.697</td>\n      <td>8</td>\n      <td>-6.377</td>\n      <td>1</td>\n      <td>0.0401</td>\n      <td>0.182000</td>\n      <td>0.000000</td>\n      <td>0.3330</td>\n      <td>0.9560</td>\n      <td>94.996</td>\n      <td>audio_features</td>\n      <td>2DB4DdfCFMw1iaR6JaR03a</td>\n      <td>spotify:track:2DB4DdfCFMw1iaR6JaR03a</td>\n      <td>https://api.spotify.com/v1/tracks/2DB4DdfCFMw1...</td>\n      <td>https://api.spotify.com/v1/audio-analysis/2DB4...</td>\n      <td>206071</td>\n      <td>4</td>\n    </tr>\n    <tr>\n      <th>34</th>\n      <td>0.763</td>\n      <td>0.526</td>\n      <td>5</td>\n      <td>-6.753</td>\n      <td>0</td>\n      <td>0.3550</td>\n      <td>0.009370</td>\n      <td>0.000002</td>\n      <td>0.1110</td>\n      <td>0.3620</td>\n      <td>181.856</td>\n      <td>audio_features</td>\n      <td>1Ijpng3ZLhTRcEd8iqh4p4</td>\n      <td>spotify:track:1Ijpng3ZLhTRcEd8iqh4p4</td>\n      <td>https://api.spotify.com/v1/tracks/1Ijpng3ZLhTR...</td>\n      <td>https://api.spotify.com/v1/audio-analysis/1Ijp...</td>\n      <td>162333</td>\n      <td>4</td>\n    </tr>\n    <tr>\n      <th>35</th>\n      <td>0.737</td>\n      <td>0.846</td>\n      <td>1</td>\n      <td>-4.510</td>\n      <td>0</td>\n      <td>0.2200</td>\n      <td>0.006140</td>\n      <td>0.000000</td>\n      <td>0.0486</td>\n      <td>0.5460</td>\n      <td>87.981</td>\n      <td>audio_features</td>\n      <td>0e8nrvls4Qqv5Rfa2UhqmO</td>\n      <td>spotify:track:0e8nrvls4Qqv5Rfa2UhqmO</td>\n      <td>https://api.spotify.com/v1/tracks/0e8nrvls4Qqv...</td>\n      <td>https://api.spotify.com/v1/audio-analysis/0e8n...</td>\n      <td>143901</td>\n      <td>4</td>\n    </tr>\n    <tr>\n      <th>36</th>\n      <td>0.369</td>\n      <td>0.192</td>\n      <td>4</td>\n      <td>-12.151</td>\n      <td>0</td>\n      <td>0.0400</td>\n      <td>0.555000</td>\n      <td>0.000008</td>\n      <td>0.0954</td>\n      <td>0.1480</td>\n      <td>175.212</td>\n      <td>audio_features</td>\n      <td>3WMj8moIAXJhHsyLaqIIHI</td>\n      <td>spotify:track:3WMj8moIAXJhHsyLaqIIHI</td>\n      <td>https://api.spotify.com/v1/tracks/3WMj8moIAXJh...</td>\n      <td>https://api.spotify.com/v1/audio-analysis/3WMj...</td>\n      <td>228013</td>\n      <td>3</td>\n    </tr>\n    <tr>\n      <th>37</th>\n      <td>0.558</td>\n      <td>0.559</td>\n      <td>6</td>\n      <td>-9.222</td>\n      <td>1</td>\n      <td>0.0959</td>\n      <td>0.371000</td>\n      <td>0.000007</td>\n      <td>0.1090</td>\n      <td>0.6200</td>\n      <td>78.558</td>\n      <td>audio_features</td>\n      <td>7KA4W4McWYRpgf0fWsJZWB</td>\n      <td>spotify:track:7KA4W4McWYRpgf0fWsJZWB</td>\n      <td>https://api.spotify.com/v1/tracks/7KA4W4McWYRp...</td>\n      <td>https://api.spotify.com/v1/audio-analysis/7KA4...</td>\n      <td>180387</td>\n      <td>4</td>\n    </tr>\n    <tr>\n      <th>38</th>\n      <td>0.505</td>\n      <td>0.657</td>\n      <td>11</td>\n      <td>-5.240</td>\n      <td>0</td>\n      <td>0.0318</td>\n      <td>0.373000</td>\n      <td>0.001070</td>\n      <td>0.1260</td>\n      <td>0.2520</td>\n      <td>196.000</td>\n      <td>audio_features</td>\n      <td>3cBsEDNhFI9E82vPj3kvi3</td>\n      <td>spotify:track:3cBsEDNhFI9E82vPj3kvi3</td>\n      <td>https://api.spotify.com/v1/tracks/3cBsEDNhFI9E...</td>\n      <td>https://api.spotify.com/v1/audio-analysis/3cBs...</td>\n      <td>178520</td>\n      <td>3</td>\n    </tr>\n    <tr>\n      <th>39</th>\n      <td>0.647</td>\n      <td>0.581</td>\n      <td>4</td>\n      <td>-7.678</td>\n      <td>0</td>\n      <td>0.0884</td>\n      <td>0.002900</td>\n      <td>0.000008</td>\n      <td>0.1190</td>\n      <td>0.1130</td>\n      <td>150.149</td>\n      <td>audio_features</td>\n      <td>62Yo3FDddWY8ydu6PW2wyz</td>\n      <td>spotify:track:62Yo3FDddWY8ydu6PW2wyz</td>\n      <td>https://api.spotify.com/v1/tracks/62Yo3FDddWY8...</td>\n      <td>https://api.spotify.com/v1/audio-analysis/62Yo...</td>\n      <td>206385</td>\n      <td>4</td>\n    </tr>\n    <tr>\n      <th>40</th>\n      <td>0.795</td>\n      <td>0.800</td>\n      <td>1</td>\n      <td>-6.320</td>\n      <td>1</td>\n      <td>0.0309</td>\n      <td>0.035400</td>\n      <td>0.000073</td>\n      <td>0.0915</td>\n      <td>0.9340</td>\n      <td>116.032</td>\n      <td>audio_features</td>\n      <td>6JIC3hbC28JZKZ8AlAqX8h</td>\n      <td>spotify:track:6JIC3hbC28JZKZ8AlAqX8h</td>\n      <td>https://api.spotify.com/v1/tracks/6JIC3hbC28JZ...</td>\n      <td>https://api.spotify.com/v1/audio-analysis/6JIC...</td>\n      <td>202735</td>\n      <td>4</td>\n    </tr>\n    <tr>\n      <th>41</th>\n      <td>0.345</td>\n      <td>0.612</td>\n      <td>7</td>\n      <td>-6.543</td>\n      <td>0</td>\n      <td>0.0608</td>\n      <td>0.232000</td>\n      <td>0.000000</td>\n      <td>0.1940</td>\n      <td>0.2320</td>\n      <td>179.773</td>\n      <td>audio_features</td>\n      <td>59CfNbkERJ3NoTXDvoURjj</td>\n      <td>spotify:track:59CfNbkERJ3NoTXDvoURjj</td>\n      <td>https://api.spotify.com/v1/tracks/59CfNbkERJ3N...</td>\n      <td>https://api.spotify.com/v1/audio-analysis/59Cf...</td>\n      <td>153000</td>\n      <td>3</td>\n    </tr>\n    <tr>\n      <th>42</th>\n      <td>0.380</td>\n      <td>0.339</td>\n      <td>3</td>\n      <td>-7.885</td>\n      <td>1</td>\n      <td>0.0338</td>\n      <td>0.691000</td>\n      <td>0.000000</td>\n      <td>0.1200</td>\n      <td>0.0849</td>\n      <td>100.607</td>\n      <td>audio_features</td>\n      <td>5CZ40GBx1sQ9agT82CLQCT</td>\n      <td>spotify:track:5CZ40GBx1sQ9agT82CLQCT</td>\n      <td>https://api.spotify.com/v1/tracks/5CZ40GBx1sQ9...</td>\n      <td>https://api.spotify.com/v1/audio-analysis/5CZ4...</td>\n      <td>229227</td>\n      <td>4</td>\n    </tr>\n    <tr>\n      <th>43</th>\n      <td>0.577</td>\n      <td>0.450</td>\n      <td>0</td>\n      <td>-8.516</td>\n      <td>0</td>\n      <td>0.0834</td>\n      <td>0.357000</td>\n      <td>0.000000</td>\n      <td>0.1110</td>\n      <td>0.8300</td>\n      <td>205.863</td>\n      <td>audio_features</td>\n      <td>52xJxFP6TqMuO4Yt0eOkMz</td>\n      <td>spotify:track:52xJxFP6TqMuO4Yt0eOkMz</td>\n      <td>https://api.spotify.com/v1/tracks/52xJxFP6TqMu...</td>\n      <td>https://api.spotify.com/v1/audio-analysis/52xJ...</td>\n      <td>216120</td>\n      <td>4</td>\n    </tr>\n    <tr>\n      <th>44</th>\n      <td>0.788</td>\n      <td>0.859</td>\n      <td>2</td>\n      <td>-2.724</td>\n      <td>1</td>\n      <td>0.0856</td>\n      <td>0.281000</td>\n      <td>0.000000</td>\n      <td>0.0424</td>\n      <td>0.8220</td>\n      <td>141.020</td>\n      <td>audio_features</td>\n      <td>50nfwKoDiSYg8zOCREWAm5</td>\n      <td>spotify:track:50nfwKoDiSYg8zOCREWAm5</td>\n      <td>https://api.spotify.com/v1/tracks/50nfwKoDiSYg...</td>\n      <td>https://api.spotify.com/v1/audio-analysis/50nf...</td>\n      <td>207853</td>\n      <td>4</td>\n    </tr>\n    <tr>\n      <th>45</th>\n      <td>0.711</td>\n      <td>0.611</td>\n      <td>1</td>\n      <td>-5.453</td>\n      <td>1</td>\n      <td>0.3300</td>\n      <td>0.005880</td>\n      <td>0.000000</td>\n      <td>0.2300</td>\n      <td>0.1440</td>\n      <td>134.093</td>\n      <td>audio_features</td>\n      <td>3QFInJAm9eyaho5vBzxInN</td>\n      <td>spotify:track:3QFInJAm9eyaho5vBzxInN</td>\n      <td>https://api.spotify.com/v1/tracks/3QFInJAm9eya...</td>\n      <td>https://api.spotify.com/v1/audio-analysis/3QFI...</td>\n      <td>252262</td>\n      <td>4</td>\n    </tr>\n    <tr>\n      <th>46</th>\n      <td>0.410</td>\n      <td>0.611</td>\n      <td>4</td>\n      <td>-8.271</td>\n      <td>0</td>\n      <td>0.0467</td>\n      <td>0.022800</td>\n      <td>0.000000</td>\n      <td>0.1160</td>\n      <td>0.0899</td>\n      <td>185.727</td>\n      <td>audio_features</td>\n      <td>58HvfVOeJY7lUuCqF0m3ly</td>\n      <td>spotify:track:58HvfVOeJY7lUuCqF0m3ly</td>\n      <td>https://api.spotify.com/v1/tracks/58HvfVOeJY7l...</td>\n      <td>https://api.spotify.com/v1/audio-analysis/58Hv...</td>\n      <td>184448</td>\n      <td>3</td>\n    </tr>\n    <tr>\n      <th>47</th>\n      <td>0.578</td>\n      <td>0.449</td>\n      <td>1</td>\n      <td>-6.349</td>\n      <td>1</td>\n      <td>0.2860</td>\n      <td>0.061800</td>\n      <td>0.000002</td>\n      <td>0.1190</td>\n      <td>0.1000</td>\n      <td>136.006</td>\n      <td>audio_features</td>\n      <td>65OVbaJR5O1RmwOQx0875b</td>\n      <td>spotify:track:65OVbaJR5O1RmwOQx0875b</td>\n      <td>https://api.spotify.com/v1/tracks/65OVbaJR5O1R...</td>\n      <td>https://api.spotify.com/v1/audio-analysis/65OV...</td>\n      <td>192956</td>\n      <td>4</td>\n    </tr>\n    <tr>\n      <th>48</th>\n      <td>0.862</td>\n      <td>0.619</td>\n      <td>11</td>\n      <td>-6.197</td>\n      <td>0</td>\n      <td>0.2210</td>\n      <td>0.040300</td>\n      <td>0.000000</td>\n      <td>0.2530</td>\n      <td>0.6240</td>\n      <td>148.059</td>\n      <td>audio_features</td>\n      <td>53wBhj706wDMNuBj4FJ0RI</td>\n      <td>spotify:track:53wBhj706wDMNuBj4FJ0RI</td>\n      <td>https://api.spotify.com/v1/tracks/53wBhj706wDM...</td>\n      <td>https://api.spotify.com/v1/audio-analysis/53wB...</td>\n      <td>195267</td>\n      <td>4</td>\n    </tr>\n    <tr>\n      <th>49</th>\n      <td>0.693</td>\n      <td>0.575</td>\n      <td>2</td>\n      <td>-7.633</td>\n      <td>1</td>\n      <td>0.0906</td>\n      <td>0.121000</td>\n      <td>0.000000</td>\n      <td>0.1040</td>\n      <td>0.3530</td>\n      <td>138.016</td>\n      <td>audio_features</td>\n      <td>7BbaIYAdi3pg4MGl6PHwPv</td>\n      <td>spotify:track:7BbaIYAdi3pg4MGl6PHwPv</td>\n      <td>https://api.spotify.com/v1/tracks/7BbaIYAdi3pg...</td>\n      <td>https://api.spotify.com/v1/audio-analysis/7Bba...</td>\n      <td>160052</td>\n      <td>4</td>\n    </tr>\n  </tbody>\n</table>\n</div>"
     },
     "metadata": {}
    }
   ]
  },
  {
   "cell_type": "code",
   "metadata": {
    "cell_id": "b7e02c4d28104cb7a1f7d28c300d1276",
    "tags": [],
    "deepnote_to_be_reexecuted": false,
    "source_hash": "a1237328",
    "execution_start": 1651615708409,
    "execution_millis": 3348,
    "deepnote_cell_type": "code",
    "deepnote_cell_height": 513
   },
   "source": "#add URI, track_name, main artist, name, popularity, genre, and album to final_df\n\nURIs = []\ntrack_names = []\nmain_artist = []\nname = []\npopularity = []\ngenre = []\nalbum = []\n\nfor k in sp.playlist_tracks(playlist_URI)[\"items\"]:\n    URIs.append(k[\"track\"][\"uri\"])\n    track_names.append(k[\"track\"][\"name\"])\n    main_artist.append(k[\"track\"][\"artists\"][0][\"uri\"])\n    name.append(k[\"track\"][\"artists\"][0][\"name\"]) #arist URL\n    album.append(k[\"track\"][\"album\"][\"name\"])\n    popularity.append(k[\"track\"][\"popularity\"])\n\n#artist_info & genre\nartist_info = []\nfor r in range(len(main_artist)):\n    artist_info.append(sp.artist(main_artist[r]))\n\nfor y in artist_info:\n    genre.append(y[\"genres\"])",
   "execution_count": null,
   "outputs": []
  },
  {
   "cell_type": "code",
   "metadata": {
    "cell_id": "cc69043dd4de41f0927dc8b324519af5",
    "tags": [],
    "deepnote_to_be_reexecuted": false,
    "source_hash": "3af28c76",
    "execution_start": 1651615711766,
    "execution_millis": 154,
    "deepnote_cell_type": "code",
    "deepnote_cell_height": 744
   },
   "source": "#add genre, album, popularity, name, main_artist, track_names, and URIs to final_df for more context\n\nfinal_df['genre'] = genre\nfinal_df['album'] = album\nfinal_df['popularity'] = popularity\nfinal_df['name'] = name\nfinal_df['track_name'] = track_names\nfinal_df.to_csv('final_df.csv')\nfinal_df",
   "execution_count": null,
   "outputs": [
    {
     "output_type": "execute_result",
     "execution_count": 9,
     "data": {
      "application/vnd.deepnote.dataframe.v3+json": {
       "column_count": 23,
       "row_count": 50,
       "columns": [
        {
         "name": "danceability",
         "dtype": "float64",
         "stats": {
          "unique_count": 46,
          "nan_count": 0,
          "min": "0.345",
          "max": "0.916",
          "histogram": [
           {
            "bin_start": 0.345,
            "bin_end": 0.40209999999999996,
            "count": 4
           },
           {
            "bin_start": 0.40209999999999996,
            "bin_end": 0.4592,
            "count": 1
           },
           {
            "bin_start": 0.4592,
            "bin_end": 0.5163,
            "count": 2
           },
           {
            "bin_start": 0.5163,
            "bin_end": 0.5734,
            "count": 4
           },
           {
            "bin_start": 0.5734,
            "bin_end": 0.6305000000000001,
            "count": 8
           },
           {
            "bin_start": 0.6305000000000001,
            "bin_end": 0.6876,
            "count": 3
           },
           {
            "bin_start": 0.6876,
            "bin_end": 0.7447,
            "count": 8
           },
           {
            "bin_start": 0.7447,
            "bin_end": 0.8018000000000001,
            "count": 7
           },
           {
            "bin_start": 0.8018000000000001,
            "bin_end": 0.8589,
            "count": 7
           },
           {
            "bin_start": 0.8589,
            "bin_end": 0.916,
            "count": 6
           }
          ]
         }
        },
        {
         "name": "energy",
         "dtype": "float64",
         "stats": {
          "unique_count": 45,
          "nan_count": 0,
          "min": "0.192",
          "max": "0.859",
          "histogram": [
           {
            "bin_start": 0.192,
            "bin_end": 0.25870000000000004,
            "count": 1
           },
           {
            "bin_start": 0.25870000000000004,
            "bin_end": 0.3254,
            "count": 0
           },
           {
            "bin_start": 0.3254,
            "bin_end": 0.3921,
            "count": 2
           },
           {
            "bin_start": 0.3921,
            "bin_end": 0.45880000000000004,
            "count": 6
           },
           {
            "bin_start": 0.45880000000000004,
            "bin_end": 0.5255000000000001,
            "count": 3
           },
           {
            "bin_start": 0.5255000000000001,
            "bin_end": 0.5922000000000001,
            "count": 7
           },
           {
            "bin_start": 0.5922000000000001,
            "bin_end": 0.6589,
            "count": 11
           },
           {
            "bin_start": 0.6589,
            "bin_end": 0.7256,
            "count": 8
           },
           {
            "bin_start": 0.7256,
            "bin_end": 0.7923,
            "count": 7
           },
           {
            "bin_start": 0.7923,
            "bin_end": 0.859,
            "count": 5
           }
          ]
         }
        },
        {
         "name": "key",
         "dtype": "int64",
         "stats": {
          "unique_count": 12,
          "nan_count": 0,
          "min": "0",
          "max": "11",
          "histogram": [
           {
            "bin_start": 0,
            "bin_end": 1.1,
            "count": 12
           },
           {
            "bin_start": 1.1,
            "bin_end": 2.2,
            "count": 6
           },
           {
            "bin_start": 2.2,
            "bin_end": 3.3000000000000003,
            "count": 2
           },
           {
            "bin_start": 3.3000000000000003,
            "bin_end": 4.4,
            "count": 4
           },
           {
            "bin_start": 4.4,
            "bin_end": 5.5,
            "count": 5
           },
           {
            "bin_start": 5.5,
            "bin_end": 6.6000000000000005,
            "count": 3
           },
           {
            "bin_start": 6.6000000000000005,
            "bin_end": 7.700000000000001,
            "count": 2
           },
           {
            "bin_start": 7.700000000000001,
            "bin_end": 8.8,
            "count": 4
           },
           {
            "bin_start": 8.8,
            "bin_end": 9.9,
            "count": 1
           },
           {
            "bin_start": 9.9,
            "bin_end": 11,
            "count": 11
           }
          ]
         }
        },
        {
         "name": "loudness",
         "dtype": "float64",
         "stats": {
          "unique_count": 50,
          "nan_count": 0,
          "min": "-12.151",
          "max": "-2.724",
          "histogram": [
           {
            "bin_start": -12.151,
            "bin_end": -11.2083,
            "count": 1
           },
           {
            "bin_start": -11.2083,
            "bin_end": -10.2656,
            "count": 0
           },
           {
            "bin_start": -10.2656,
            "bin_end": -9.3229,
            "count": 1
           },
           {
            "bin_start": -9.3229,
            "bin_end": -8.3802,
            "count": 4
           },
           {
            "bin_start": -8.3802,
            "bin_end": -7.4375,
            "count": 5
           },
           {
            "bin_start": -7.4375,
            "bin_end": -6.4948,
            "count": 9
           },
           {
            "bin_start": -6.4948,
            "bin_end": -5.5521,
            "count": 13
           },
           {
            "bin_start": -5.5521,
            "bin_end": -4.6094,
            "count": 8
           },
           {
            "bin_start": -4.6094,
            "bin_end": -3.6667000000000005,
            "count": 6
           },
           {
            "bin_start": -3.6667000000000005,
            "bin_end": -2.724,
            "count": 3
           }
          ]
         }
        },
        {
         "name": "mode",
         "dtype": "int64",
         "stats": {
          "unique_count": 2,
          "nan_count": 0,
          "min": "0",
          "max": "1",
          "histogram": [
           {
            "bin_start": 0,
            "bin_end": 0.1,
            "count": 21
           },
           {
            "bin_start": 0.1,
            "bin_end": 0.2,
            "count": 0
           },
           {
            "bin_start": 0.2,
            "bin_end": 0.30000000000000004,
            "count": 0
           },
           {
            "bin_start": 0.30000000000000004,
            "bin_end": 0.4,
            "count": 0
           },
           {
            "bin_start": 0.4,
            "bin_end": 0.5,
            "count": 0
           },
           {
            "bin_start": 0.5,
            "bin_end": 0.6000000000000001,
            "count": 0
           },
           {
            "bin_start": 0.6000000000000001,
            "bin_end": 0.7000000000000001,
            "count": 0
           },
           {
            "bin_start": 0.7000000000000001,
            "bin_end": 0.8,
            "count": 0
           },
           {
            "bin_start": 0.8,
            "bin_end": 0.9,
            "count": 0
           },
           {
            "bin_start": 0.9,
            "bin_end": 1,
            "count": 29
           }
          ]
         }
        },
        {
         "name": "speechiness",
         "dtype": "float64",
         "stats": {
          "unique_count": 50,
          "nan_count": 0,
          "min": "0.0269",
          "max": "0.355",
          "histogram": [
           {
            "bin_start": 0.0269,
            "bin_end": 0.05971,
            "count": 16
           },
           {
            "bin_start": 0.05971,
            "bin_end": 0.09251999999999999,
            "count": 14
           },
           {
            "bin_start": 0.09251999999999999,
            "bin_end": 0.12533,
            "count": 3
           },
           {
            "bin_start": 0.12533,
            "bin_end": 0.15814,
            "count": 3
           },
           {
            "bin_start": 0.15814,
            "bin_end": 0.19095,
            "count": 2
           },
           {
            "bin_start": 0.19095,
            "bin_end": 0.22376,
            "count": 3
           },
           {
            "bin_start": 0.22376,
            "bin_end": 0.25656999999999996,
            "count": 0
           },
           {
            "bin_start": 0.25656999999999996,
            "bin_end": 0.28937999999999997,
            "count": 3
           },
           {
            "bin_start": 0.28937999999999997,
            "bin_end": 0.32219,
            "count": 1
           },
           {
            "bin_start": 0.32219,
            "bin_end": 0.355,
            "count": 5
           }
          ]
         }
        },
        {
         "name": "acousticness",
         "dtype": "float64",
         "stats": {
          "unique_count": 50,
          "nan_count": 0,
          "min": "0.000189",
          "max": "0.691",
          "histogram": [
           {
            "bin_start": 0.000189,
            "bin_end": 0.06927009999999999,
            "count": 23
           },
           {
            "bin_start": 0.06927009999999999,
            "bin_end": 0.13835119999999998,
            "count": 6
           },
           {
            "bin_start": 0.13835119999999998,
            "bin_end": 0.20743229999999996,
            "count": 2
           },
           {
            "bin_start": 0.20743229999999996,
            "bin_end": 0.27651339999999996,
            "count": 2
           },
           {
            "bin_start": 0.27651339999999996,
            "bin_end": 0.34559449999999997,
            "count": 6
           },
           {
            "bin_start": 0.34559449999999997,
            "bin_end": 0.4146755999999999,
            "count": 3
           },
           {
            "bin_start": 0.4146755999999999,
            "bin_end": 0.48375669999999993,
            "count": 4
           },
           {
            "bin_start": 0.48375669999999993,
            "bin_end": 0.5528377999999999,
            "count": 0
           },
           {
            "bin_start": 0.5528377999999999,
            "bin_end": 0.6219188999999999,
            "count": 2
           },
           {
            "bin_start": 0.6219188999999999,
            "bin_end": 0.691,
            "count": 2
           }
          ]
         }
        },
        {
         "name": "instrumentalness",
         "dtype": "float64",
         "stats": {
          "unique_count": 23,
          "nan_count": 0,
          "min": "0.0",
          "max": "0.0177",
          "histogram": [
           {
            "bin_start": 0,
            "bin_end": 0.00177,
            "count": 47
           },
           {
            "bin_start": 0.00177,
            "bin_end": 0.00354,
            "count": 1
           },
           {
            "bin_start": 0.00354,
            "bin_end": 0.0053100000000000005,
            "count": 0
           },
           {
            "bin_start": 0.0053100000000000005,
            "bin_end": 0.00708,
            "count": 0
           },
           {
            "bin_start": 0.00708,
            "bin_end": 0.00885,
            "count": 1
           },
           {
            "bin_start": 0.00885,
            "bin_end": 0.010620000000000001,
            "count": 0
           },
           {
            "bin_start": 0.010620000000000001,
            "bin_end": 0.01239,
            "count": 0
           },
           {
            "bin_start": 0.01239,
            "bin_end": 0.01416,
            "count": 0
           },
           {
            "bin_start": 0.01416,
            "bin_end": 0.01593,
            "count": 0
           },
           {
            "bin_start": 0.01593,
            "bin_end": 0.0177,
            "count": 1
           }
          ]
         }
        },
        {
         "name": "liveness",
         "dtype": "float64",
         "stats": {
          "unique_count": 46,
          "nan_count": 0,
          "min": "0.0424",
          "max": "0.434",
          "histogram": [
           {
            "bin_start": 0.0424,
            "bin_end": 0.08156,
            "count": 6
           },
           {
            "bin_start": 0.08156,
            "bin_end": 0.12072,
            "count": 26
           },
           {
            "bin_start": 0.12072,
            "bin_end": 0.15988,
            "count": 7
           },
           {
            "bin_start": 0.15988,
            "bin_end": 0.19904,
            "count": 1
           },
           {
            "bin_start": 0.19904,
            "bin_end": 0.2382,
            "count": 1
           },
           {
            "bin_start": 0.2382,
            "bin_end": 0.27736,
            "count": 1
           },
           {
            "bin_start": 0.27736,
            "bin_end": 0.31652,
            "count": 3
           },
           {
            "bin_start": 0.31652,
            "bin_end": 0.35568,
            "count": 2
           },
           {
            "bin_start": 0.35568,
            "bin_end": 0.39483999999999997,
            "count": 1
           },
           {
            "bin_start": 0.39483999999999997,
            "bin_end": 0.434,
            "count": 2
           }
          ]
         }
        },
        {
         "name": "valence",
         "dtype": "float64",
         "stats": {
          "unique_count": 49,
          "nan_count": 0,
          "min": "0.0849",
          "max": "0.956",
          "histogram": [
           {
            "bin_start": 0.0849,
            "bin_end": 0.17201,
            "count": 11
           },
           {
            "bin_start": 0.17201,
            "bin_end": 0.25912,
            "count": 7
           },
           {
            "bin_start": 0.25912,
            "bin_end": 0.3462299999999999,
            "count": 4
           },
           {
            "bin_start": 0.3462299999999999,
            "bin_end": 0.43333999999999995,
            "count": 3
           },
           {
            "bin_start": 0.43333999999999995,
            "bin_end": 0.52045,
            "count": 4
           },
           {
            "bin_start": 0.52045,
            "bin_end": 0.6075599999999999,
            "count": 6
           },
           {
            "bin_start": 0.6075599999999999,
            "bin_end": 0.6946699999999999,
            "count": 5
           },
           {
            "bin_start": 0.6946699999999999,
            "bin_end": 0.7817799999999999,
            "count": 2
           },
           {
            "bin_start": 0.7817799999999999,
            "bin_end": 0.8688899999999999,
            "count": 3
           },
           {
            "bin_start": 0.8688899999999999,
            "bin_end": 0.956,
            "count": 5
           }
          ]
         }
        },
        {
         "name": "tempo",
         "dtype": "float64",
         "stats": {
          "unique_count": 50,
          "nan_count": 0,
          "min": "72.993",
          "max": "205.863",
          "histogram": [
           {
            "bin_start": 72.993,
            "bin_end": 86.28,
            "count": 10
           },
           {
            "bin_start": 86.28,
            "bin_end": 99.567,
            "count": 4
           },
           {
            "bin_start": 99.567,
            "bin_end": 112.854,
            "count": 7
           },
           {
            "bin_start": 112.854,
            "bin_end": 126.14099999999999,
            "count": 4
           },
           {
            "bin_start": 126.14099999999999,
            "bin_end": 139.428,
            "count": 4
           },
           {
            "bin_start": 139.428,
            "bin_end": 152.715,
            "count": 10
           },
           {
            "bin_start": 152.715,
            "bin_end": 166.002,
            "count": 1
           },
           {
            "bin_start": 166.002,
            "bin_end": 179.289,
            "count": 5
           },
           {
            "bin_start": 179.289,
            "bin_end": 192.57600000000002,
            "count": 3
           },
           {
            "bin_start": 192.57600000000002,
            "bin_end": 205.863,
            "count": 2
           }
          ]
         }
        },
        {
         "name": "type",
         "dtype": "object",
         "stats": {
          "unique_count": 1,
          "nan_count": 0,
          "categories": [
           {
            "name": "audio_features",
            "count": 50
           }
          ]
         }
        },
        {
         "name": "id",
         "dtype": "object",
         "stats": {
          "unique_count": 50,
          "nan_count": 0,
          "categories": [
           {
            "name": "4LRPiXqCikLlN15c3yImP7",
            "count": 1
           },
           {
            "name": "1rDQ4oMwGJI7B4tovsBOxc",
            "count": 1
           },
           {
            "name": "48 others",
            "count": 48
           }
          ]
         }
        },
        {
         "name": "uri",
         "dtype": "object",
         "stats": {
          "unique_count": 50,
          "nan_count": 0,
          "categories": [
           {
            "name": "spotify:track:4LRPiXqCikLlN15c3yImP7",
            "count": 1
           },
           {
            "name": "spotify:track:1rDQ4oMwGJI7B4tovsBOxc",
            "count": 1
           },
           {
            "name": "48 others",
            "count": 48
           }
          ]
         }
        },
        {
         "name": "track_href",
         "dtype": "object",
         "stats": {
          "unique_count": 50,
          "nan_count": 0,
          "categories": [
           {
            "name": "https://api.spotify.com/v1/tracks/4LRPiXqCikLlN15c3yImP7",
            "count": 1
           },
           {
            "name": "https://api.spotify.com/v1/tracks/1rDQ4oMwGJI7B4tovsBOxc",
            "count": 1
           },
           {
            "name": "48 others",
            "count": 48
           }
          ]
         }
        },
        {
         "name": "analysis_url",
         "dtype": "object",
         "stats": {
          "unique_count": 50,
          "nan_count": 0,
          "categories": [
           {
            "name": "https://api.spotify.com/v1/audio-analysis/4LRPiXqCikLlN15c3yImP7",
            "count": 1
           },
           {
            "name": "https://api.spotify.com/v1/audio-analysis/1rDQ4oMwGJI7B4tovsBOxc",
            "count": 1
           },
           {
            "name": "48 others",
            "count": 48
           }
          ]
         }
        },
        {
         "name": "duration_ms",
         "dtype": "int64",
         "stats": {
          "unique_count": 50,
          "nan_count": 0,
          "min": "106133",
          "max": "292799",
          "histogram": [
           {
            "bin_start": 106133,
            "bin_end": 124799.6,
            "count": 1
           },
           {
            "bin_start": 124799.6,
            "bin_end": 143466.2,
            "count": 2
           },
           {
            "bin_start": 143466.2,
            "bin_end": 162132.8,
            "count": 5
           },
           {
            "bin_start": 162132.8,
            "bin_end": 180799.4,
            "count": 12
           },
           {
            "bin_start": 180799.4,
            "bin_end": 199466,
            "count": 7
           },
           {
            "bin_start": 199466,
            "bin_end": 218132.59999999998,
            "count": 11
           },
           {
            "bin_start": 218132.59999999998,
            "bin_end": 236799.19999999998,
            "count": 5
           },
           {
            "bin_start": 236799.19999999998,
            "bin_end": 255465.8,
            "count": 5
           },
           {
            "bin_start": 255465.8,
            "bin_end": 274132.4,
            "count": 1
           },
           {
            "bin_start": 274132.4,
            "bin_end": 292799,
            "count": 1
           }
          ]
         }
        },
        {
         "name": "time_signature",
         "dtype": "int64",
         "stats": {
          "unique_count": 2,
          "nan_count": 0,
          "min": "3",
          "max": "4",
          "histogram": [
           {
            "bin_start": 3,
            "bin_end": 3.1,
            "count": 5
           },
           {
            "bin_start": 3.1,
            "bin_end": 3.2,
            "count": 0
           },
           {
            "bin_start": 3.2,
            "bin_end": 3.3,
            "count": 0
           },
           {
            "bin_start": 3.3,
            "bin_end": 3.4,
            "count": 0
           },
           {
            "bin_start": 3.4,
            "bin_end": 3.5,
            "count": 0
           },
           {
            "bin_start": 3.5,
            "bin_end": 3.6,
            "count": 0
           },
           {
            "bin_start": 3.6,
            "bin_end": 3.7,
            "count": 0
           },
           {
            "bin_start": 3.7,
            "bin_end": 3.8,
            "count": 0
           },
           {
            "bin_start": 3.8,
            "bin_end": 3.9,
            "count": 0
           },
           {
            "bin_start": 3.9,
            "bin_end": 4,
            "count": 45
           }
          ]
         }
        },
        {
         "name": "genre",
         "dtype": "object",
         "stats": {
          "unique_count": 50,
          "nan_count": 0,
          "categories": [
           {
            "name": "['atl hip hop', 'pop rap', 'rap', 'southern hip hop', 'trap']",
            "count": 11
           },
           {
            "name": "['pop']",
            "count": 3
           },
           {
            "name": "28 others",
            "count": 36
           }
          ]
         }
        },
        {
         "name": "album",
         "dtype": "object",
         "stats": {
          "unique_count": 37,
          "nan_count": 0,
          "categories": [
           {
            "name": "I NEVER LIKED YOU",
            "count": 11
           },
           {
            "name": "MONTERO",
            "count": 2
           },
           {
            "name": "35 others",
            "count": 37
           }
          ]
         }
        },
        {
         "name": "popularity",
         "dtype": "int64",
         "stats": {
          "unique_count": 22,
          "nan_count": 0,
          "min": "71",
          "max": "100",
          "histogram": [
           {
            "bin_start": 71,
            "bin_end": 73.9,
            "count": 7
           },
           {
            "bin_start": 73.9,
            "bin_end": 76.8,
            "count": 6
           },
           {
            "bin_start": 76.8,
            "bin_end": 79.7,
            "count": 5
           },
           {
            "bin_start": 79.7,
            "bin_end": 82.6,
            "count": 3
           },
           {
            "bin_start": 82.6,
            "bin_end": 85.5,
            "count": 11
           },
           {
            "bin_start": 85.5,
            "bin_end": 88.4,
            "count": 7
           },
           {
            "bin_start": 88.4,
            "bin_end": 91.3,
            "count": 8
           },
           {
            "bin_start": 91.3,
            "bin_end": 94.2,
            "count": 1
           },
           {
            "bin_start": 94.2,
            "bin_end": 97.1,
            "count": 1
           },
           {
            "bin_start": 97.1,
            "bin_end": 100,
            "count": 1
           }
          ]
         }
        },
        {
         "name": "name",
         "dtype": "object",
         "stats": {
          "unique_count": 32,
          "nan_count": 0,
          "categories": [
           {
            "name": "Future",
            "count": 11
           },
           {
            "name": "Jack Harlow",
            "count": 2
           },
           {
            "name": "30 others",
            "count": 37
           }
          ]
         }
        },
        {
         "name": "track_name",
         "dtype": "object",
         "stats": {
          "unique_count": 50,
          "nan_count": 0,
          "categories": [
           {
            "name": "As It Was",
            "count": 1
           },
           {
            "name": "First Class",
            "count": 1
           },
           {
            "name": "48 others",
            "count": 48
           }
          ]
         }
        },
        {
         "name": "_deepnote_index_column",
         "dtype": "int64"
        }
       ],
       "rows": [
        {
         "danceability": 0.52,
         "energy": 0.731,
         "key": 6,
         "loudness": -5.338,
         "mode": 0,
         "speechiness": 0.0557,
         "acousticness": 0.342,
         "instrumentalness": 0.00101,
         "liveness": 0.311,
         "valence": 0.662,
         "tempo": 173.93,
         "type": "audio_features",
         "id": "4LRPiXqCikLlN15c3yImP7",
         "uri": "spotify:track:4LRPiXqCikLlN15c3yImP7",
         "track_href": "https://api.spotify.com/v1/tracks/4LRPiXqCikLlN15c3yImP7",
         "analysis_url": "https://api.spotify.com/v1/audio-analysis/4LRPiXqCikLlN15c3yImP7",
         "duration_ms": 167303,
         "time_signature": 4,
         "genre": "['pop']",
         "album": "As It Was",
         "popularity": 100,
         "name": "Harry Styles",
         "track_name": "As It Was",
         "_deepnote_index_column": 0
        },
        {
         "danceability": 0.905,
         "energy": 0.563,
         "key": 8,
         "loudness": -6.135,
         "mode": 1,
         "speechiness": 0.102,
         "acousticness": 0.0254,
         "instrumentalness": 0.00000971,
         "liveness": 0.113,
         "valence": 0.324,
         "tempo": 106.998,
         "type": "audio_features",
         "id": "1rDQ4oMwGJI7B4tovsBOxc",
         "uri": "spotify:track:1rDQ4oMwGJI7B4tovsBOxc",
         "track_href": "https://api.spotify.com/v1/tracks/1rDQ4oMwGJI7B4tovsBOxc",
         "analysis_url": "https://api.spotify.com/v1/audio-analysis/1rDQ4oMwGJI7B4tovsBOxc",
         "duration_ms": 173948,
         "time_signature": 4,
         "genre": "['deep underground hip hop', 'kentucky hip hop', 'rap']",
         "album": "First Class",
         "popularity": 95,
         "name": "Jack Harlow",
         "track_name": "First Class",
         "_deepnote_index_column": 1
        },
        {
         "danceability": 0.463,
         "energy": 0.642,
         "key": 1,
         "loudness": -4.474,
         "mode": 1,
         "speechiness": 0.34,
         "acousticness": 0.314,
         "instrumentalness": 0,
         "liveness": 0.0686,
         "valence": 0.339,
         "tempo": 83.389,
         "type": "audio_features",
         "id": "59nOXPmaKlBfGMDeOVGrIK",
         "uri": "spotify:track:59nOXPmaKlBfGMDeOVGrIK",
         "track_href": "https://api.spotify.com/v1/tracks/59nOXPmaKlBfGMDeOVGrIK",
         "analysis_url": "https://api.spotify.com/v1/audio-analysis/59nOXPmaKlBfGMDeOVGrIK",
         "duration_ms": 189893,
         "time_signature": 4,
         "genre": "['atl hip hop', 'pop rap', 'rap', 'southern hip hop', 'trap']",
         "album": "I NEVER LIKED YOU",
         "popularity": 78,
         "name": "Future",
         "track_name": "WAIT FOR U (feat. Drake & Tems)",
         "_deepnote_index_column": 2
        },
        {
         "danceability": 0.883,
         "energy": 0.657,
         "key": 8,
         "loudness": -5.748,
         "mode": 1,
         "speechiness": 0.305,
         "acousticness": 0.0603,
         "instrumentalness": 0,
         "liveness": 0.128,
         "valence": 0.284,
         "tempo": 124.992,
         "type": "audio_features",
         "id": "1qMMYpVatbRITKCfq1gasi",
         "uri": "spotify:track:1qMMYpVatbRITKCfq1gasi",
         "track_href": "https://api.spotify.com/v1/tracks/1qMMYpVatbRITKCfq1gasi",
         "analysis_url": "https://api.spotify.com/v1/audio-analysis/1qMMYpVatbRITKCfq1gasi",
         "duration_ms": 172933,
         "time_signature": 4,
         "genre": "['atl hip hop', 'pop rap', 'rap', 'southern hip hop', 'trap']",
         "album": "I NEVER LIKED YOU",
         "popularity": 75,
         "name": "Future",
         "track_name": "PUFFIN ON ZOOTIEZ",
         "_deepnote_index_column": 3
        },
        {
         "danceability": 0.761,
         "energy": 0.525,
         "key": 11,
         "loudness": -6.9,
         "mode": 1,
         "speechiness": 0.0944,
         "acousticness": 0.44,
         "instrumentalness": 0.0000067,
         "liveness": 0.0921,
         "valence": 0.531,
         "tempo": 80.87,
         "type": "audio_features",
         "id": "02MWAaffLxlfxAUY7c5dvx",
         "uri": "spotify:track:02MWAaffLxlfxAUY7c5dvx",
         "track_href": "https://api.spotify.com/v1/tracks/02MWAaffLxlfxAUY7c5dvx",
         "analysis_url": "https://api.spotify.com/v1/audio-analysis/02MWAaffLxlfxAUY7c5dvx",
         "duration_ms": 238805,
         "time_signature": 4,
         "genre": "['gauze pop', 'indietronica', 'shiver pop']",
         "album": "Dreamland (+ Bonus Levels)",
         "popularity": 90,
         "name": "Glass Animals",
         "track_name": "Heat Waves",
         "_deepnote_index_column": 4
        },
        {
         "danceability": 0.773,
         "energy": 0.707,
         "key": 11,
         "loudness": -5.71,
         "mode": 1,
         "speechiness": 0.0568,
         "acousticness": 0.0103,
         "instrumentalness": 0.0000104,
         "liveness": 0.296,
         "valence": 0.113,
         "tempo": 76.977,
         "type": "audio_features",
         "id": "6wyhUr4Xw8z5uSy0AhoZfU",
         "uri": "spotify:track:6wyhUr4Xw8z5uSy0AhoZfU",
         "track_href": "https://api.spotify.com/v1/tracks/6wyhUr4Xw8z5uSy0AhoZfU",
         "analysis_url": "https://api.spotify.com/v1/audio-analysis/6wyhUr4Xw8z5uSy0AhoZfU",
         "duration_ms": 236187,
         "time_signature": 4,
         "genre": "['atl hip hop', 'pop rap', 'rap', 'southern hip hop', 'trap']",
         "album": "I NEVER LIKED YOU",
         "popularity": 75,
         "name": "Future",
         "track_name": "I'M ON ONE (feat. Drake)",
         "_deepnote_index_column": 5
        },
        {
         "danceability": 0.836,
         "energy": 0.743,
         "key": 10,
         "loudness": -6.305,
         "mode": 0,
         "speechiness": 0.0656,
         "acousticness": 0.0995,
         "instrumentalness": 0,
         "liveness": 0.335,
         "valence": 0.722,
         "tempo": 108.966,
         "type": "audio_features",
         "id": "1PckUlxKqWQs3RlWXVBLw3",
         "uri": "spotify:track:1PckUlxKqWQs3RlWXVBLw3",
         "track_href": "https://api.spotify.com/v1/tracks/1PckUlxKqWQs3RlWXVBLw3",
         "analysis_url": "https://api.spotify.com/v1/audio-analysis/1PckUlxKqWQs3RlWXVBLw3",
         "duration_ms": 191822,
         "time_signature": 4,
         "genre": "['dance pop', 'escape room', 'minnesota hip hop', 'pop', 'trap queen']",
         "album": "About Damn Time",
         "popularity": 79,
         "name": "Lizzo",
         "track_name": "About Damn Time",
         "_deepnote_index_column": 6
        },
        {
         "danceability": 0.711,
         "energy": 0.686,
         "key": 5,
         "loudness": -6.409,
         "mode": 0,
         "speechiness": 0.271,
         "acousticness": 0.0355,
         "instrumentalness": 0,
         "liveness": 0.124,
         "valence": 0.536,
         "tempo": 146.971,
         "type": "audio_features",
         "id": "3FSwpQ9dBZBeBV6UdYHI2R",
         "uri": "spotify:track:3FSwpQ9dBZBeBV6UdYHI2R",
         "track_href": "https://api.spotify.com/v1/tracks/3FSwpQ9dBZBeBV6UdYHI2R",
         "analysis_url": "https://api.spotify.com/v1/audio-analysis/3FSwpQ9dBZBeBV6UdYHI2R",
         "duration_ms": 173187,
         "time_signature": 4,
         "genre": "['atl hip hop', 'pop rap', 'rap', 'southern hip hop', 'trap']",
         "album": "I NEVER LIKED YOU",
         "popularity": 75,
         "name": "Future",
         "track_name": "712PM",
         "_deepnote_index_column": 7
        },
        {
         "danceability": 0.911,
         "energy": 0.573,
         "key": 2,
         "loudness": -5.573,
         "mode": 1,
         "speechiness": 0.163,
         "acousticness": 0.0112,
         "instrumentalness": 0.0000583,
         "liveness": 0.131,
         "valence": 0.145,
         "tempo": 144.026,
         "type": "audio_features",
         "id": "0AAVJIN4plafvmNKqRCltG",
         "uri": "spotify:track:0AAVJIN4plafvmNKqRCltG",
         "track_href": "https://api.spotify.com/v1/tracks/0AAVJIN4plafvmNKqRCltG",
         "analysis_url": "https://api.spotify.com/v1/audio-analysis/0AAVJIN4plafvmNKqRCltG",
         "duration_ms": 271840,
         "time_signature": 4,
         "genre": "['atl hip hop', 'pop rap', 'rap', 'southern hip hop', 'trap']",
         "album": "I NEVER LIKED YOU",
         "popularity": 74,
         "name": "Future",
         "track_name": "I'M DAT N****",
         "_deepnote_index_column": 8
        },
        {
         "danceability": 0.741,
         "energy": 0.691,
         "key": 10,
         "loudness": -7.395,
         "mode": 0,
         "speechiness": 0.0672,
         "acousticness": 0.0221,
         "instrumentalness": 0,
         "liveness": 0.0476,
         "valence": 0.892,
         "tempo": 150.087,
         "type": "audio_features",
         "id": "5Z9KJZvQzH6PFmb8SNkxuk",
         "uri": "spotify:track:5Z9KJZvQzH6PFmb8SNkxuk",
         "track_href": "https://api.spotify.com/v1/tracks/5Z9KJZvQzH6PFmb8SNkxuk",
         "analysis_url": "https://api.spotify.com/v1/audio-analysis/5Z9KJZvQzH6PFmb8SNkxuk",
         "duration_ms": 212353,
         "time_signature": 4,
         "genre": "['lgbtq+ hip hop', 'pop']",
         "album": "MONTERO",
         "popularity": 85,
         "name": "Lil Nas X",
         "track_name": "INDUSTRY BABY (feat. Jack Harlow)",
         "_deepnote_index_column": 9
        }
       ]
      },
      "text/plain": "    danceability  energy  key  loudness  mode  speechiness  acousticness  \\\n0          0.520   0.731    6    -5.338     0       0.0557      0.342000   \n1          0.905   0.563    8    -6.135     1       0.1020      0.025400   \n2          0.463   0.642    1    -4.474     1       0.3400      0.314000   \n3          0.883   0.657    8    -5.748     1       0.3050      0.060300   \n4          0.761   0.525   11    -6.900     1       0.0944      0.440000   \n5          0.773   0.707   11    -5.710     1       0.0568      0.010300   \n6          0.836   0.743   10    -6.305     0       0.0656      0.099500   \n7          0.711   0.686    5    -6.409     0       0.2710      0.035500   \n8          0.911   0.573    2    -5.573     1       0.1630      0.011200   \n9          0.741   0.691   10    -7.395     0       0.0672      0.022100   \n10         0.690   0.521   10    -8.492     0       0.3390      0.324000   \n11         0.591   0.764    1    -5.484     1       0.0483      0.038300   \n12         0.652   0.578    0    -6.187     1       0.1610      0.008610   \n13         0.563   0.664    9    -5.044     1       0.1540      0.335000   \n14         0.824   0.764    5    -4.175     0       0.0854      0.088800   \n15         0.764   0.705    3    -5.279     0       0.0278      0.037100   \n16         0.601   0.741    2    -5.569     1       0.0478      0.185000   \n17         0.728   0.783   11    -4.424     0       0.2660      0.237000   \n18         0.520   0.852    0    -5.866     1       0.0543      0.002370   \n19         0.376   0.657    7    -4.658     1       0.0768      0.085800   \n20         0.709   0.357    5    -9.289     1       0.2140      0.478000   \n21         0.810   0.655    8    -6.779     0       0.0698      0.127000   \n22         0.916   0.453    1    -4.148     1       0.1580      0.000189   \n23         0.870   0.516    1    -8.006     1       0.0541      0.656000   \n24         0.603   0.783    6    -4.023     1       0.0620      0.449000   \n25         0.664   0.609    1    -6.509     1       0.0707      0.304000   \n26         0.825   0.414    2    -6.634     1       0.1440      0.002650   \n27         0.849   0.424    5    -9.579     0       0.3240      0.063500   \n28         0.575   0.648   10    -4.891     1       0.0358      0.583000   \n29         0.578   0.431    2    -7.034     1       0.0269      0.469000   \n30         0.612   0.807   10    -2.810     1       0.0336      0.049500   \n31         0.843   0.700    4    -3.563     0       0.0803      0.093400   \n32         0.824   0.667   10    -6.603     0       0.0814      0.003210   \n33         0.756   0.697    8    -6.377     1       0.0401      0.182000   \n34         0.763   0.526    5    -6.753     0       0.3550      0.009370   \n35         0.737   0.846    1    -4.510     0       0.2200      0.006140   \n36         0.369   0.192    4   -12.151     0       0.0400      0.555000   \n37         0.558   0.559    6    -9.222     1       0.0959      0.371000   \n38         0.505   0.657   11    -5.240     0       0.0318      0.373000   \n39         0.647   0.581    4    -7.678     0       0.0884      0.002900   \n40         0.795   0.800    1    -6.320     1       0.0309      0.035400   \n41         0.345   0.612    7    -6.543     0       0.0608      0.232000   \n42         0.380   0.339    3    -7.885     1       0.0338      0.691000   \n43         0.577   0.450    0    -8.516     0       0.0834      0.357000   \n44         0.788   0.859    2    -2.724     1       0.0856      0.281000   \n45         0.711   0.611    1    -5.453     1       0.3300      0.005880   \n46         0.410   0.611    4    -8.271     0       0.0467      0.022800   \n47         0.578   0.449    1    -6.349     1       0.2860      0.061800   \n48         0.862   0.619   11    -6.197     0       0.2210      0.040300   \n49         0.693   0.575    2    -7.633     1       0.0906      0.121000   \n\n    instrumentalness  liveness  valence  ...  \\\n0           0.001010    0.3110   0.6620  ...   \n1           0.000010    0.1130   0.3240  ...   \n2           0.000000    0.0686   0.3390  ...   \n3           0.000000    0.1280   0.2840  ...   \n4           0.000007    0.0921   0.5310  ...   \n5           0.000010    0.2960   0.1130  ...   \n6           0.000000    0.3350   0.7220  ...   \n7           0.000000    0.1240   0.5360  ...   \n8           0.000058    0.1310   0.1450  ...   \n9           0.000000    0.0476   0.8920  ...   \n10          0.000000    0.0534   0.4940  ...   \n11          0.000000    0.1030   0.4780  ...   \n12          0.000000    0.2850   0.1950  ...   \n13          0.000000    0.0849   0.6880  ...   \n14          0.002940    0.1170   0.8810  ...   \n15          0.000019    0.0943   0.6720  ...   \n16          0.000029    0.4150   0.4410  ...   \n17          0.000000    0.4340   0.5550  ...   \n18          0.000058    0.0733   0.2340  ...   \n19          0.000000    0.0884   0.2030  ...   \n20          0.000294    0.1120   0.5440  ...   \n21          0.000082    0.1050   0.8090  ...   \n22          0.000000    0.1370   0.1520  ...   \n23          0.008230    0.1100   0.5300  ...   \n24          0.000008    0.1190   0.7750  ...   \n25          0.000000    0.0926   0.1940  ...   \n26          0.000000    0.3570   0.1060  ...   \n27          0.000000    0.0834   0.1530  ...   \n28          0.000000    0.1150   0.4660  ...   \n29          0.000000    0.1370   0.2100  ...   \n30          0.017700    0.1010   0.3980  ...   \n31          0.000000    0.1400   0.8990  ...   \n32          0.000003    0.0956   0.3050  ...   \n33          0.000000    0.3330   0.9560  ...   \n34          0.000002    0.1110   0.3620  ...   \n35          0.000000    0.0486   0.5460  ...   \n36          0.000008    0.0954   0.1480  ...   \n37          0.000007    0.1090   0.6200  ...   \n38          0.001070    0.1260   0.2520  ...   \n39          0.000008    0.1190   0.1130  ...   \n40          0.000073    0.0915   0.9340  ...   \n41          0.000000    0.1940   0.2320  ...   \n42          0.000000    0.1200   0.0849  ...   \n43          0.000000    0.1110   0.8300  ...   \n44          0.000000    0.0424   0.8220  ...   \n45          0.000000    0.2300   0.1440  ...   \n46          0.000000    0.1160   0.0899  ...   \n47          0.000002    0.1190   0.1000  ...   \n48          0.000000    0.2530   0.6240  ...   \n49          0.000000    0.1040   0.3530  ...   \n\n                                     uri  \\\n0   spotify:track:4LRPiXqCikLlN15c3yImP7   \n1   spotify:track:1rDQ4oMwGJI7B4tovsBOxc   \n2   spotify:track:59nOXPmaKlBfGMDeOVGrIK   \n3   spotify:track:1qMMYpVatbRITKCfq1gasi   \n4   spotify:track:02MWAaffLxlfxAUY7c5dvx   \n5   spotify:track:6wyhUr4Xw8z5uSy0AhoZfU   \n6   spotify:track:1PckUlxKqWQs3RlWXVBLw3   \n7   spotify:track:3FSwpQ9dBZBeBV6UdYHI2R   \n8   spotify:track:0AAVJIN4plafvmNKqRCltG   \n9   spotify:track:5Z9KJZvQzH6PFmb8SNkxuk   \n10  spotify:track:68Dni7IE4VyPkTOH9mRWHr   \n11  spotify:track:5PjdY0CKGZdEuoNab3yDmX   \n12  spotify:track:7rWCWzPRftzZTZtIyQtaDU   \n13  spotify:track:4ZtFanR9U6ndgddUvNcjcG   \n14  spotify:track:6Uj1ctrBOjOas8xZXGqKk4   \n15  spotify:track:0y60itmpH0aPKsFiGxmtnh   \n16  spotify:track:6I3mqTwhRpn34SLVafSH7G   \n17  spotify:track:1HhNoOuqm1a5MXYEgAFl8o   \n18  spotify:track:58ge6dfP91o9oXMzq3XkIS   \n19  spotify:track:1r8ZCjfrQxoy2wVaBUbpwg   \n20  spotify:track:4XJRpBOG0bU3Nxnvam3FnC   \n21  spotify:track:2KdKh9vHbKW0tZLqtpxxI0   \n22  spotify:track:2tzgSUZOUKopYbRqQOVT8X   \n23  spotify:track:7dSZ6zGTQx66c2GF91xCrb   \n24  spotify:track:37y7iDayfwm3WXn5BiAoRk   \n25  spotify:track:3Vi5XqYrmQgOYBajMWSvCi   \n26  spotify:track:1Y5Jvi3eLi4Chwqch9GMem   \n27  spotify:track:2BcMwX1MPV6ZHP4tUT9uq6   \n28  spotify:track:4SqWKzw0CbA05TGszDgMlc   \n29  spotify:track:1TUuhV75FeOF6UObRsABo2   \n30  spotify:track:2QjOHCTQ1Jl3zawyYOpxh6   \n31  spotify:track:1ri9ZUkBJVFUdgwzCnfcYs   \n32  spotify:track:7HCX1Ch3mklJyEdpwPZBFW   \n33  spotify:track:2DB4DdfCFMw1iaR6JaR03a   \n34  spotify:track:1Ijpng3ZLhTRcEd8iqh4p4   \n35  spotify:track:0e8nrvls4Qqv5Rfa2UhqmO   \n36  spotify:track:3WMj8moIAXJhHsyLaqIIHI   \n37  spotify:track:7KA4W4McWYRpgf0fWsJZWB   \n38  spotify:track:3cBsEDNhFI9E82vPj3kvi3   \n39  spotify:track:62Yo3FDddWY8ydu6PW2wyz   \n40  spotify:track:6JIC3hbC28JZKZ8AlAqX8h   \n41  spotify:track:59CfNbkERJ3NoTXDvoURjj   \n42  spotify:track:5CZ40GBx1sQ9agT82CLQCT   \n43  spotify:track:52xJxFP6TqMuO4Yt0eOkMz   \n44  spotify:track:50nfwKoDiSYg8zOCREWAm5   \n45  spotify:track:3QFInJAm9eyaho5vBzxInN   \n46  spotify:track:58HvfVOeJY7lUuCqF0m3ly   \n47  spotify:track:65OVbaJR5O1RmwOQx0875b   \n48  spotify:track:53wBhj706wDMNuBj4FJ0RI   \n49  spotify:track:7BbaIYAdi3pg4MGl6PHwPv   \n\n                                           track_href  \\\n0   https://api.spotify.com/v1/tracks/4LRPiXqCikLl...   \n1   https://api.spotify.com/v1/tracks/1rDQ4oMwGJI7...   \n2   https://api.spotify.com/v1/tracks/59nOXPmaKlBf...   \n3   https://api.spotify.com/v1/tracks/1qMMYpVatbRI...   \n4   https://api.spotify.com/v1/tracks/02MWAaffLxlf...   \n5   https://api.spotify.com/v1/tracks/6wyhUr4Xw8z5...   \n6   https://api.spotify.com/v1/tracks/1PckUlxKqWQs...   \n7   https://api.spotify.com/v1/tracks/3FSwpQ9dBZBe...   \n8   https://api.spotify.com/v1/tracks/0AAVJIN4plaf...   \n9   https://api.spotify.com/v1/tracks/5Z9KJZvQzH6P...   \n10  https://api.spotify.com/v1/tracks/68Dni7IE4VyP...   \n11  https://api.spotify.com/v1/tracks/5PjdY0CKGZdE...   \n12  https://api.spotify.com/v1/tracks/7rWCWzPRftzZ...   \n13  https://api.spotify.com/v1/tracks/4ZtFanR9U6nd...   \n14  https://api.spotify.com/v1/tracks/6Uj1ctrBOjOa...   \n15  https://api.spotify.com/v1/tracks/0y60itmpH0aP...   \n16  https://api.spotify.com/v1/tracks/6I3mqTwhRpn3...   \n17  https://api.spotify.com/v1/tracks/1HhNoOuqm1a5...   \n18  https://api.spotify.com/v1/tracks/58ge6dfP91o9...   \n19  https://api.spotify.com/v1/tracks/1r8ZCjfrQxoy...   \n20  https://api.spotify.com/v1/tracks/4XJRpBOG0bU3...   \n21  https://api.spotify.com/v1/tracks/2KdKh9vHbKW0...   \n22  https://api.spotify.com/v1/tracks/2tzgSUZOUKop...   \n23  https://api.spotify.com/v1/tracks/7dSZ6zGTQx66...   \n24  https://api.spotify.com/v1/tracks/37y7iDayfwm3...   \n25  https://api.spotify.com/v1/tracks/3Vi5XqYrmQgO...   \n26  https://api.spotify.com/v1/tracks/1Y5Jvi3eLi4C...   \n27  https://api.spotify.com/v1/tracks/2BcMwX1MPV6Z...   \n28  https://api.spotify.com/v1/tracks/4SqWKzw0CbA0...   \n29  https://api.spotify.com/v1/tracks/1TUuhV75FeOF...   \n30  https://api.spotify.com/v1/tracks/2QjOHCTQ1Jl3...   \n31  https://api.spotify.com/v1/tracks/1ri9ZUkBJVFU...   \n32  https://api.spotify.com/v1/tracks/7HCX1Ch3mklJ...   \n33  https://api.spotify.com/v1/tracks/2DB4DdfCFMw1...   \n34  https://api.spotify.com/v1/tracks/1Ijpng3ZLhTR...   \n35  https://api.spotify.com/v1/tracks/0e8nrvls4Qqv...   \n36  https://api.spotify.com/v1/tracks/3WMj8moIAXJh...   \n37  https://api.spotify.com/v1/tracks/7KA4W4McWYRp...   \n38  https://api.spotify.com/v1/tracks/3cBsEDNhFI9E...   \n39  https://api.spotify.com/v1/tracks/62Yo3FDddWY8...   \n40  https://api.spotify.com/v1/tracks/6JIC3hbC28JZ...   \n41  https://api.spotify.com/v1/tracks/59CfNbkERJ3N...   \n42  https://api.spotify.com/v1/tracks/5CZ40GBx1sQ9...   \n43  https://api.spotify.com/v1/tracks/52xJxFP6TqMu...   \n44  https://api.spotify.com/v1/tracks/50nfwKoDiSYg...   \n45  https://api.spotify.com/v1/tracks/3QFInJAm9eya...   \n46  https://api.spotify.com/v1/tracks/58HvfVOeJY7l...   \n47  https://api.spotify.com/v1/tracks/65OVbaJR5O1R...   \n48  https://api.spotify.com/v1/tracks/53wBhj706wDM...   \n49  https://api.spotify.com/v1/tracks/7BbaIYAdi3pg...   \n\n                                         analysis_url duration_ms  \\\n0   https://api.spotify.com/v1/audio-analysis/4LRP...      167303   \n1   https://api.spotify.com/v1/audio-analysis/1rDQ...      173948   \n2   https://api.spotify.com/v1/audio-analysis/59nO...      189893   \n3   https://api.spotify.com/v1/audio-analysis/1qMM...      172933   \n4   https://api.spotify.com/v1/audio-analysis/02MW...      238805   \n5   https://api.spotify.com/v1/audio-analysis/6wyh...      236187   \n6   https://api.spotify.com/v1/audio-analysis/1Pck...      191822   \n7   https://api.spotify.com/v1/audio-analysis/3FSw...      173187   \n8   https://api.spotify.com/v1/audio-analysis/0AAV...      271840   \n9   https://api.spotify.com/v1/audio-analysis/5Z9K...      212353   \n10  https://api.spotify.com/v1/audio-analysis/68Dn...      292799   \n11  https://api.spotify.com/v1/audio-analysis/5Pjd...      141806   \n12  https://api.spotify.com/v1/audio-analysis/7rWC...      207213   \n13  https://api.spotify.com/v1/audio-analysis/4ZtF...      178147   \n14  https://api.spotify.com/v1/audio-analysis/6Uj1...      172627   \n15  https://api.spotify.com/v1/audio-analysis/0y60...      196520   \n16  https://api.spotify.com/v1/audio-analysis/6I3m...      153190   \n17  https://api.spotify.com/v1/audio-analysis/1HhN...      173381   \n18  https://api.spotify.com/v1/audio-analysis/58ge...      253587   \n19  https://api.spotify.com/v1/audio-analysis/1r8Z...      164782   \n20  https://api.spotify.com/v1/audio-analysis/4XJR...      129480   \n21  https://api.spotify.com/v1/audio-analysis/2KdK...      193322   \n22  https://api.spotify.com/v1/audio-analysis/2tzg...      106133   \n23  https://api.spotify.com/v1/audio-analysis/7dSZ...      210200   \n24  https://api.spotify.com/v1/audio-analysis/37y7...      173104   \n25  https://api.spotify.com/v1/audio-analysis/3Vi5...      210560   \n26  https://api.spotify.com/v1/audio-analysis/1Y5J...      200548   \n27  https://api.spotify.com/v1/audio-analysis/2BcM...      242966   \n28  https://api.spotify.com/v1/audio-analysis/4SqW...      160240   \n29  https://api.spotify.com/v1/audio-analysis/1TUu...      226975   \n30  https://api.spotify.com/v1/audio-analysis/2QjO...      240400   \n31  https://api.spotify.com/v1/audio-analysis/1ri9...      226088   \n32  https://api.spotify.com/v1/audio-analysis/7HCX...      207933   \n33  https://api.spotify.com/v1/audio-analysis/2DB4...      206071   \n34  https://api.spotify.com/v1/audio-analysis/1Ijp...      162333   \n35  https://api.spotify.com/v1/audio-analysis/0e8n...      143901   \n36  https://api.spotify.com/v1/audio-analysis/3WMj...      228013   \n37  https://api.spotify.com/v1/audio-analysis/7KA4...      180387   \n38  https://api.spotify.com/v1/audio-analysis/3cBs...      178520   \n39  https://api.spotify.com/v1/audio-analysis/62Yo...      206385   \n40  https://api.spotify.com/v1/audio-analysis/6JIC...      202735   \n41  https://api.spotify.com/v1/audio-analysis/59Cf...      153000   \n42  https://api.spotify.com/v1/audio-analysis/5CZ4...      229227   \n43  https://api.spotify.com/v1/audio-analysis/52xJ...      216120   \n44  https://api.spotify.com/v1/audio-analysis/50nf...      207853   \n45  https://api.spotify.com/v1/audio-analysis/3QFI...      252262   \n46  https://api.spotify.com/v1/audio-analysis/58Hv...      184448   \n47  https://api.spotify.com/v1/audio-analysis/65OV...      192956   \n48  https://api.spotify.com/v1/audio-analysis/53wB...      195267   \n49  https://api.spotify.com/v1/audio-analysis/7Bba...      160052   \n\n   time_signature                                              genre  \\\n0               4                                              [pop]   \n1               4  [deep underground hip hop, kentucky hip hop, rap]   \n2               4  [atl hip hop, pop rap, rap, southern hip hop, ...   \n3               4  [atl hip hop, pop rap, rap, southern hip hop, ...   \n4               4              [gauze pop, indietronica, shiver pop]   \n5               4  [atl hip hop, pop rap, rap, southern hip hop, ...   \n6               4  [dance pop, escape room, minnesota hip hop, po...   \n7               4  [atl hip hop, pop rap, rap, southern hip hop, ...   \n8               4  [atl hip hop, pop rap, rap, southern hip hop, ...   \n9               4                              [lgbtq+ hip hop, pop]   \n10              4  [conscious hip hop, hip hop, north carolina hi...   \n11              4                               [australian hip hop]   \n12              4  [atl hip hop, pop rap, rap, southern hip hop, ...   \n13              4                                              [pop]   \n14              4                                   [dance pop, pop]   \n15              4  [afrofuturism, dance pop, electropop, pop, pos...   \n16              4                                [canadian pop, pop]   \n17              4                                [modern rock, rock]   \n18              4  [garage rock, permanent wave, rock, sheffield ...   \n19              4                               [australian hip hop]   \n20              4  [atl hip hop, pop rap, rap, southern hip hop, ...   \n21              4                                [canadian pop, pop]   \n22              4  [atl hip hop, pop rap, rap, southern hip hop, ...   \n23              4  [latin, reggaeton, reggaeton colombiano, trap ...   \n24              4                                [afrofuturism, pop]   \n25              4                                   [dance pop, pop]   \n26              4  [florida rap, hip hop, melodic rap, miami hip ...   \n27              4  [canadian hip hop, canadian pop, hip hop, rap,...   \n28              4                                    [chicago indie]   \n29              3                             [contemporary country]   \n30              4        [modern alternative rock, modern rock, pop]   \n31              4  [dance pop, latin, latin viral pop, pop, rap l...   \n32              4  [atl hip hop, pop rap, rap, southern hip hop, ...   \n33              4                    [dance pop, pop, post-teen pop]   \n34              4  [atl hip hop, pop rap, rap, southern hip hop, ...   \n35              4                              [lgbtq+ hip hop, pop]   \n36              3                                 [oklahoma country]   \n37              4                                     [hip hop, rap]   \n38              3                             [contemporary country]   \n39              4  [deep underground hip hop, kentucky hip hop, rap]   \n40              4               [glam rock, mellow gold, piano rock]   \n41              3                               [pop, post-teen pop]   \n42              4                                              [pop]   \n43              4                                                 []   \n44              4                                      [pop, uk pop]   \n45              4                                     [hip hop, rap]   \n46              3                                       [alt z, pop]   \n47              4  [canadian hip hop, canadian pop, hip hop, rap,...   \n48              4  [atl hip hop, pop rap, rap, southern hip hop, ...   \n49              4                                          [pluggnb]   \n\n                                           album  popularity  \\\n0                                      As It Was         100   \n1                                    First Class          95   \n2                              I NEVER LIKED YOU          78   \n3                              I NEVER LIKED YOU          75   \n4                     Dreamland (+ Bonus Levels)          90   \n5                              I NEVER LIKED YOU          75   \n6                                About Damn Time          79   \n7                              I NEVER LIKED YOU          75   \n8                              I NEVER LIKED YOU          74   \n9                                        MONTERO          85   \n10                       2014 Forest Hills Drive          85   \n11                         F*CK LOVE 3: OVER YOU          88   \n12                             I NEVER LIKED YOU          74   \n13                                          SOUR          90   \n14                                    Planet Her          91   \n15                                  ARDIPITHECUS          87   \n16                                       Justice          89   \n17                               Mercury - Act 1          84   \n18  Favourite Worst Nightmare (Standard Version)          80   \n19                                Thousand Miles          84   \n20                             I NEVER LIKED YOU          72   \n21                                        Honest          75   \n22                             I NEVER LIKED YOU          72   \n23                                      PROVENZA          83   \n24                                      Dark Red          85   \n25                                    Planet Her          87   \n26                           Back For Everything          73   \n27                           Certified Lover Boy          84   \n28                                 I Love You So          88   \n29                             Don't Think Jesus          78   \n30                                   I Love You.          88   \n31                                        MAMIII          92   \n32                             I NEVER LIKED YOU          73   \n33                                       Familia          80   \n34                             I NEVER LIKED YOU          72   \n35                                       MONTERO          90   \n36                       Something in the Orange          71   \n37                                    Flower Boy          83   \n38                   Dangerous: The Double Album          79   \n39                                     Nail Tech          85   \n40                         The Lockdown Sessions          84   \n41                                     Boyfriend          89   \n42                                          SOUR          88   \n43  Encanto (Original Motion Picture Soundtrack)          86   \n44                                             =          90   \n45                              The Melodic Blue          77   \n46                           MIDDLE OF THE NIGHT          91   \n47                                 Scary Hours 2          81   \n48                             I NEVER LIKED YOU          71   \n49                                       Up 2 Më          83   \n\n                          name  \\\n0                 Harry Styles   \n1                  Jack Harlow   \n2                       Future   \n3                       Future   \n4                Glass Animals   \n5                       Future   \n6                        Lizzo   \n7                       Future   \n8                       Future   \n9                    Lil Nas X   \n10                     J. Cole   \n11               The Kid LAROI   \n12                      Future   \n13              Olivia Rodrigo   \n14                    Doja Cat   \n15                      WILLOW   \n16               Justin Bieber   \n17             Imagine Dragons   \n18              Arctic Monkeys   \n19               The Kid LAROI   \n20                      Future   \n21               Justin Bieber   \n22                      Future   \n23                     KAROL G   \n24                  Steve Lacy   \n25                    Doja Cat   \n26                 Kodak Black   \n27                       Drake   \n28                 The Walters   \n29               Morgan Wallen   \n30           The Neighbourhood   \n31                     Becky G   \n32                      Future   \n33              Camila Cabello   \n34                      Future   \n35                   Lil Nas X   \n36                  Zach Bryan   \n37          Tyler, The Creator   \n38               Morgan Wallen   \n39                 Jack Harlow   \n40                  Elton John   \n41                Dove Cameron   \n42              Olivia Rodrigo   \n43  Carolina Gaitán - La Gaita   \n44                  Ed Sheeran   \n45                   Baby Keem   \n46                  Elley Duhé   \n47                       Drake   \n48                      Future   \n49                        Yeat   \n\n                                           track_name  \n0                                           As It Was  \n1                                         First Class  \n2                     WAIT FOR U (feat. Drake & Tems)  \n3                                   PUFFIN ON ZOOTIEZ  \n4                                          Heat Waves  \n5                            I'M ON ONE (feat. Drake)  \n6                                     About Damn Time  \n7                                               712PM  \n8                                       I'M DAT N****  \n9                   INDUSTRY BABY (feat. Jack Harlow)  \n10                                     No Role Modelz  \n11                          STAY (with Justin Bieber)  \n12                  KEEP IT BURNIN (feat. Kanye West)  \n13                                           good 4 u  \n14                                              Woman  \n15                                     Wait a Minute!  \n16                                              Ghost  \n17  Enemy (with JID) - from the series Arcane Leag...  \n18                                                505  \n19                                     Thousand Miles  \n20                                    LOVE YOU BETTER  \n21                         Honest (feat. Don Toliver)  \n22                                       MASSAGING ME  \n23                                           PROVENZA  \n24                                           Dark Red  \n25                                       Need to Know  \n26                                      Super Gremlin  \n27        Knife Talk (with 21 Savage ft. Project Pat)  \n28                                      I Love You So  \n29                                  Don't Think Jesus  \n30                                    Sweater Weather  \n31                                             MAMIII  \n32               FOR A NUT (feat. Gunna & Young Thug)  \n33                         Bam Bam (feat. Ed Sheeran)  \n34                                        GOLD STACKS  \n35                                  THATS WHAT I WANT  \n36                            Something in the Orange  \n37                   See You Again (feat. Kali Uchis)  \n38                                      Wasted On You  \n39                                          Nail Tech  \n40                            Cold Heart - PNAU Remix  \n41                                          Boyfriend  \n42                                            traitor  \n43                          We Don't Talk About Bruno  \n44                                            Shivers  \n45                  family ties (with Kendrick Lamar)  \n46                                MIDDLE OF THE NIGHT  \n47                   Wants and Needs (feat. Lil Baby)  \n48                           CHICKENS (feat. EST Gee)  \n49                                       Monëy so big  \n\n[50 rows x 23 columns]",
      "text/html": "<div>\n<style scoped>\n    .dataframe tbody tr th:only-of-type {\n        vertical-align: middle;\n    }\n\n    .dataframe tbody tr th {\n        vertical-align: top;\n    }\n\n    .dataframe thead th {\n        text-align: right;\n    }\n</style>\n<table border=\"1\" class=\"dataframe\">\n  <thead>\n    <tr style=\"text-align: right;\">\n      <th></th>\n      <th>danceability</th>\n      <th>energy</th>\n      <th>key</th>\n      <th>loudness</th>\n      <th>mode</th>\n      <th>speechiness</th>\n      <th>acousticness</th>\n      <th>instrumentalness</th>\n      <th>liveness</th>\n      <th>valence</th>\n      <th>...</th>\n      <th>uri</th>\n      <th>track_href</th>\n      <th>analysis_url</th>\n      <th>duration_ms</th>\n      <th>time_signature</th>\n      <th>genre</th>\n      <th>album</th>\n      <th>popularity</th>\n      <th>name</th>\n      <th>track_name</th>\n    </tr>\n  </thead>\n  <tbody>\n    <tr>\n      <th>0</th>\n      <td>0.520</td>\n      <td>0.731</td>\n      <td>6</td>\n      <td>-5.338</td>\n      <td>0</td>\n      <td>0.0557</td>\n      <td>0.342000</td>\n      <td>0.001010</td>\n      <td>0.3110</td>\n      <td>0.6620</td>\n      <td>...</td>\n      <td>spotify:track:4LRPiXqCikLlN15c3yImP7</td>\n      <td>https://api.spotify.com/v1/tracks/4LRPiXqCikLl...</td>\n      <td>https://api.spotify.com/v1/audio-analysis/4LRP...</td>\n      <td>167303</td>\n      <td>4</td>\n      <td>[pop]</td>\n      <td>As It Was</td>\n      <td>100</td>\n      <td>Harry Styles</td>\n      <td>As It Was</td>\n    </tr>\n    <tr>\n      <th>1</th>\n      <td>0.905</td>\n      <td>0.563</td>\n      <td>8</td>\n      <td>-6.135</td>\n      <td>1</td>\n      <td>0.1020</td>\n      <td>0.025400</td>\n      <td>0.000010</td>\n      <td>0.1130</td>\n      <td>0.3240</td>\n      <td>...</td>\n      <td>spotify:track:1rDQ4oMwGJI7B4tovsBOxc</td>\n      <td>https://api.spotify.com/v1/tracks/1rDQ4oMwGJI7...</td>\n      <td>https://api.spotify.com/v1/audio-analysis/1rDQ...</td>\n      <td>173948</td>\n      <td>4</td>\n      <td>[deep underground hip hop, kentucky hip hop, rap]</td>\n      <td>First Class</td>\n      <td>95</td>\n      <td>Jack Harlow</td>\n      <td>First Class</td>\n    </tr>\n    <tr>\n      <th>2</th>\n      <td>0.463</td>\n      <td>0.642</td>\n      <td>1</td>\n      <td>-4.474</td>\n      <td>1</td>\n      <td>0.3400</td>\n      <td>0.314000</td>\n      <td>0.000000</td>\n      <td>0.0686</td>\n      <td>0.3390</td>\n      <td>...</td>\n      <td>spotify:track:59nOXPmaKlBfGMDeOVGrIK</td>\n      <td>https://api.spotify.com/v1/tracks/59nOXPmaKlBf...</td>\n      <td>https://api.spotify.com/v1/audio-analysis/59nO...</td>\n      <td>189893</td>\n      <td>4</td>\n      <td>[atl hip hop, pop rap, rap, southern hip hop, ...</td>\n      <td>I NEVER LIKED YOU</td>\n      <td>78</td>\n      <td>Future</td>\n      <td>WAIT FOR U (feat. Drake &amp; Tems)</td>\n    </tr>\n    <tr>\n      <th>3</th>\n      <td>0.883</td>\n      <td>0.657</td>\n      <td>8</td>\n      <td>-5.748</td>\n      <td>1</td>\n      <td>0.3050</td>\n      <td>0.060300</td>\n      <td>0.000000</td>\n      <td>0.1280</td>\n      <td>0.2840</td>\n      <td>...</td>\n      <td>spotify:track:1qMMYpVatbRITKCfq1gasi</td>\n      <td>https://api.spotify.com/v1/tracks/1qMMYpVatbRI...</td>\n      <td>https://api.spotify.com/v1/audio-analysis/1qMM...</td>\n      <td>172933</td>\n      <td>4</td>\n      <td>[atl hip hop, pop rap, rap, southern hip hop, ...</td>\n      <td>I NEVER LIKED YOU</td>\n      <td>75</td>\n      <td>Future</td>\n      <td>PUFFIN ON ZOOTIEZ</td>\n    </tr>\n    <tr>\n      <th>4</th>\n      <td>0.761</td>\n      <td>0.525</td>\n      <td>11</td>\n      <td>-6.900</td>\n      <td>1</td>\n      <td>0.0944</td>\n      <td>0.440000</td>\n      <td>0.000007</td>\n      <td>0.0921</td>\n      <td>0.5310</td>\n      <td>...</td>\n      <td>spotify:track:02MWAaffLxlfxAUY7c5dvx</td>\n      <td>https://api.spotify.com/v1/tracks/02MWAaffLxlf...</td>\n      <td>https://api.spotify.com/v1/audio-analysis/02MW...</td>\n      <td>238805</td>\n      <td>4</td>\n      <td>[gauze pop, indietronica, shiver pop]</td>\n      <td>Dreamland (+ Bonus Levels)</td>\n      <td>90</td>\n      <td>Glass Animals</td>\n      <td>Heat Waves</td>\n    </tr>\n    <tr>\n      <th>5</th>\n      <td>0.773</td>\n      <td>0.707</td>\n      <td>11</td>\n      <td>-5.710</td>\n      <td>1</td>\n      <td>0.0568</td>\n      <td>0.010300</td>\n      <td>0.000010</td>\n      <td>0.2960</td>\n      <td>0.1130</td>\n      <td>...</td>\n      <td>spotify:track:6wyhUr4Xw8z5uSy0AhoZfU</td>\n      <td>https://api.spotify.com/v1/tracks/6wyhUr4Xw8z5...</td>\n      <td>https://api.spotify.com/v1/audio-analysis/6wyh...</td>\n      <td>236187</td>\n      <td>4</td>\n      <td>[atl hip hop, pop rap, rap, southern hip hop, ...</td>\n      <td>I NEVER LIKED YOU</td>\n      <td>75</td>\n      <td>Future</td>\n      <td>I'M ON ONE (feat. Drake)</td>\n    </tr>\n    <tr>\n      <th>6</th>\n      <td>0.836</td>\n      <td>0.743</td>\n      <td>10</td>\n      <td>-6.305</td>\n      <td>0</td>\n      <td>0.0656</td>\n      <td>0.099500</td>\n      <td>0.000000</td>\n      <td>0.3350</td>\n      <td>0.7220</td>\n      <td>...</td>\n      <td>spotify:track:1PckUlxKqWQs3RlWXVBLw3</td>\n      <td>https://api.spotify.com/v1/tracks/1PckUlxKqWQs...</td>\n      <td>https://api.spotify.com/v1/audio-analysis/1Pck...</td>\n      <td>191822</td>\n      <td>4</td>\n      <td>[dance pop, escape room, minnesota hip hop, po...</td>\n      <td>About Damn Time</td>\n      <td>79</td>\n      <td>Lizzo</td>\n      <td>About Damn Time</td>\n    </tr>\n    <tr>\n      <th>7</th>\n      <td>0.711</td>\n      <td>0.686</td>\n      <td>5</td>\n      <td>-6.409</td>\n      <td>0</td>\n      <td>0.2710</td>\n      <td>0.035500</td>\n      <td>0.000000</td>\n      <td>0.1240</td>\n      <td>0.5360</td>\n      <td>...</td>\n      <td>spotify:track:3FSwpQ9dBZBeBV6UdYHI2R</td>\n      <td>https://api.spotify.com/v1/tracks/3FSwpQ9dBZBe...</td>\n      <td>https://api.spotify.com/v1/audio-analysis/3FSw...</td>\n      <td>173187</td>\n      <td>4</td>\n      <td>[atl hip hop, pop rap, rap, southern hip hop, ...</td>\n      <td>I NEVER LIKED YOU</td>\n      <td>75</td>\n      <td>Future</td>\n      <td>712PM</td>\n    </tr>\n    <tr>\n      <th>8</th>\n      <td>0.911</td>\n      <td>0.573</td>\n      <td>2</td>\n      <td>-5.573</td>\n      <td>1</td>\n      <td>0.1630</td>\n      <td>0.011200</td>\n      <td>0.000058</td>\n      <td>0.1310</td>\n      <td>0.1450</td>\n      <td>...</td>\n      <td>spotify:track:0AAVJIN4plafvmNKqRCltG</td>\n      <td>https://api.spotify.com/v1/tracks/0AAVJIN4plaf...</td>\n      <td>https://api.spotify.com/v1/audio-analysis/0AAV...</td>\n      <td>271840</td>\n      <td>4</td>\n      <td>[atl hip hop, pop rap, rap, southern hip hop, ...</td>\n      <td>I NEVER LIKED YOU</td>\n      <td>74</td>\n      <td>Future</td>\n      <td>I'M DAT N****</td>\n    </tr>\n    <tr>\n      <th>9</th>\n      <td>0.741</td>\n      <td>0.691</td>\n      <td>10</td>\n      <td>-7.395</td>\n      <td>0</td>\n      <td>0.0672</td>\n      <td>0.022100</td>\n      <td>0.000000</td>\n      <td>0.0476</td>\n      <td>0.8920</td>\n      <td>...</td>\n      <td>spotify:track:5Z9KJZvQzH6PFmb8SNkxuk</td>\n      <td>https://api.spotify.com/v1/tracks/5Z9KJZvQzH6P...</td>\n      <td>https://api.spotify.com/v1/audio-analysis/5Z9K...</td>\n      <td>212353</td>\n      <td>4</td>\n      <td>[lgbtq+ hip hop, pop]</td>\n      <td>MONTERO</td>\n      <td>85</td>\n      <td>Lil Nas X</td>\n      <td>INDUSTRY BABY (feat. Jack Harlow)</td>\n    </tr>\n    <tr>\n      <th>10</th>\n      <td>0.690</td>\n      <td>0.521</td>\n      <td>10</td>\n      <td>-8.492</td>\n      <td>0</td>\n      <td>0.3390</td>\n      <td>0.324000</td>\n      <td>0.000000</td>\n      <td>0.0534</td>\n      <td>0.4940</td>\n      <td>...</td>\n      <td>spotify:track:68Dni7IE4VyPkTOH9mRWHr</td>\n      <td>https://api.spotify.com/v1/tracks/68Dni7IE4VyP...</td>\n      <td>https://api.spotify.com/v1/audio-analysis/68Dn...</td>\n      <td>292799</td>\n      <td>4</td>\n      <td>[conscious hip hop, hip hop, north carolina hi...</td>\n      <td>2014 Forest Hills Drive</td>\n      <td>85</td>\n      <td>J. Cole</td>\n      <td>No Role Modelz</td>\n    </tr>\n    <tr>\n      <th>11</th>\n      <td>0.591</td>\n      <td>0.764</td>\n      <td>1</td>\n      <td>-5.484</td>\n      <td>1</td>\n      <td>0.0483</td>\n      <td>0.038300</td>\n      <td>0.000000</td>\n      <td>0.1030</td>\n      <td>0.4780</td>\n      <td>...</td>\n      <td>spotify:track:5PjdY0CKGZdEuoNab3yDmX</td>\n      <td>https://api.spotify.com/v1/tracks/5PjdY0CKGZdE...</td>\n      <td>https://api.spotify.com/v1/audio-analysis/5Pjd...</td>\n      <td>141806</td>\n      <td>4</td>\n      <td>[australian hip hop]</td>\n      <td>F*CK LOVE 3: OVER YOU</td>\n      <td>88</td>\n      <td>The Kid LAROI</td>\n      <td>STAY (with Justin Bieber)</td>\n    </tr>\n    <tr>\n      <th>12</th>\n      <td>0.652</td>\n      <td>0.578</td>\n      <td>0</td>\n      <td>-6.187</td>\n      <td>1</td>\n      <td>0.1610</td>\n      <td>0.008610</td>\n      <td>0.000000</td>\n      <td>0.2850</td>\n      <td>0.1950</td>\n      <td>...</td>\n      <td>spotify:track:7rWCWzPRftzZTZtIyQtaDU</td>\n      <td>https://api.spotify.com/v1/tracks/7rWCWzPRftzZ...</td>\n      <td>https://api.spotify.com/v1/audio-analysis/7rWC...</td>\n      <td>207213</td>\n      <td>4</td>\n      <td>[atl hip hop, pop rap, rap, southern hip hop, ...</td>\n      <td>I NEVER LIKED YOU</td>\n      <td>74</td>\n      <td>Future</td>\n      <td>KEEP IT BURNIN (feat. Kanye West)</td>\n    </tr>\n    <tr>\n      <th>13</th>\n      <td>0.563</td>\n      <td>0.664</td>\n      <td>9</td>\n      <td>-5.044</td>\n      <td>1</td>\n      <td>0.1540</td>\n      <td>0.335000</td>\n      <td>0.000000</td>\n      <td>0.0849</td>\n      <td>0.6880</td>\n      <td>...</td>\n      <td>spotify:track:4ZtFanR9U6ndgddUvNcjcG</td>\n      <td>https://api.spotify.com/v1/tracks/4ZtFanR9U6nd...</td>\n      <td>https://api.spotify.com/v1/audio-analysis/4ZtF...</td>\n      <td>178147</td>\n      <td>4</td>\n      <td>[pop]</td>\n      <td>SOUR</td>\n      <td>90</td>\n      <td>Olivia Rodrigo</td>\n      <td>good 4 u</td>\n    </tr>\n    <tr>\n      <th>14</th>\n      <td>0.824</td>\n      <td>0.764</td>\n      <td>5</td>\n      <td>-4.175</td>\n      <td>0</td>\n      <td>0.0854</td>\n      <td>0.088800</td>\n      <td>0.002940</td>\n      <td>0.1170</td>\n      <td>0.8810</td>\n      <td>...</td>\n      <td>spotify:track:6Uj1ctrBOjOas8xZXGqKk4</td>\n      <td>https://api.spotify.com/v1/tracks/6Uj1ctrBOjOa...</td>\n      <td>https://api.spotify.com/v1/audio-analysis/6Uj1...</td>\n      <td>172627</td>\n      <td>4</td>\n      <td>[dance pop, pop]</td>\n      <td>Planet Her</td>\n      <td>91</td>\n      <td>Doja Cat</td>\n      <td>Woman</td>\n    </tr>\n    <tr>\n      <th>15</th>\n      <td>0.764</td>\n      <td>0.705</td>\n      <td>3</td>\n      <td>-5.279</td>\n      <td>0</td>\n      <td>0.0278</td>\n      <td>0.037100</td>\n      <td>0.000019</td>\n      <td>0.0943</td>\n      <td>0.6720</td>\n      <td>...</td>\n      <td>spotify:track:0y60itmpH0aPKsFiGxmtnh</td>\n      <td>https://api.spotify.com/v1/tracks/0y60itmpH0aP...</td>\n      <td>https://api.spotify.com/v1/audio-analysis/0y60...</td>\n      <td>196520</td>\n      <td>4</td>\n      <td>[afrofuturism, dance pop, electropop, pop, pos...</td>\n      <td>ARDIPITHECUS</td>\n      <td>87</td>\n      <td>WILLOW</td>\n      <td>Wait a Minute!</td>\n    </tr>\n    <tr>\n      <th>16</th>\n      <td>0.601</td>\n      <td>0.741</td>\n      <td>2</td>\n      <td>-5.569</td>\n      <td>1</td>\n      <td>0.0478</td>\n      <td>0.185000</td>\n      <td>0.000029</td>\n      <td>0.4150</td>\n      <td>0.4410</td>\n      <td>...</td>\n      <td>spotify:track:6I3mqTwhRpn34SLVafSH7G</td>\n      <td>https://api.spotify.com/v1/tracks/6I3mqTwhRpn3...</td>\n      <td>https://api.spotify.com/v1/audio-analysis/6I3m...</td>\n      <td>153190</td>\n      <td>4</td>\n      <td>[canadian pop, pop]</td>\n      <td>Justice</td>\n      <td>89</td>\n      <td>Justin Bieber</td>\n      <td>Ghost</td>\n    </tr>\n    <tr>\n      <th>17</th>\n      <td>0.728</td>\n      <td>0.783</td>\n      <td>11</td>\n      <td>-4.424</td>\n      <td>0</td>\n      <td>0.2660</td>\n      <td>0.237000</td>\n      <td>0.000000</td>\n      <td>0.4340</td>\n      <td>0.5550</td>\n      <td>...</td>\n      <td>spotify:track:1HhNoOuqm1a5MXYEgAFl8o</td>\n      <td>https://api.spotify.com/v1/tracks/1HhNoOuqm1a5...</td>\n      <td>https://api.spotify.com/v1/audio-analysis/1HhN...</td>\n      <td>173381</td>\n      <td>4</td>\n      <td>[modern rock, rock]</td>\n      <td>Mercury - Act 1</td>\n      <td>84</td>\n      <td>Imagine Dragons</td>\n      <td>Enemy (with JID) - from the series Arcane Leag...</td>\n    </tr>\n    <tr>\n      <th>18</th>\n      <td>0.520</td>\n      <td>0.852</td>\n      <td>0</td>\n      <td>-5.866</td>\n      <td>1</td>\n      <td>0.0543</td>\n      <td>0.002370</td>\n      <td>0.000058</td>\n      <td>0.0733</td>\n      <td>0.2340</td>\n      <td>...</td>\n      <td>spotify:track:58ge6dfP91o9oXMzq3XkIS</td>\n      <td>https://api.spotify.com/v1/tracks/58ge6dfP91o9...</td>\n      <td>https://api.spotify.com/v1/audio-analysis/58ge...</td>\n      <td>253587</td>\n      <td>4</td>\n      <td>[garage rock, permanent wave, rock, sheffield ...</td>\n      <td>Favourite Worst Nightmare (Standard Version)</td>\n      <td>80</td>\n      <td>Arctic Monkeys</td>\n      <td>505</td>\n    </tr>\n    <tr>\n      <th>19</th>\n      <td>0.376</td>\n      <td>0.657</td>\n      <td>7</td>\n      <td>-4.658</td>\n      <td>1</td>\n      <td>0.0768</td>\n      <td>0.085800</td>\n      <td>0.000000</td>\n      <td>0.0884</td>\n      <td>0.2030</td>\n      <td>...</td>\n      <td>spotify:track:1r8ZCjfrQxoy2wVaBUbpwg</td>\n      <td>https://api.spotify.com/v1/tracks/1r8ZCjfrQxoy...</td>\n      <td>https://api.spotify.com/v1/audio-analysis/1r8Z...</td>\n      <td>164782</td>\n      <td>4</td>\n      <td>[australian hip hop]</td>\n      <td>Thousand Miles</td>\n      <td>84</td>\n      <td>The Kid LAROI</td>\n      <td>Thousand Miles</td>\n    </tr>\n    <tr>\n      <th>20</th>\n      <td>0.709</td>\n      <td>0.357</td>\n      <td>5</td>\n      <td>-9.289</td>\n      <td>1</td>\n      <td>0.2140</td>\n      <td>0.478000</td>\n      <td>0.000294</td>\n      <td>0.1120</td>\n      <td>0.5440</td>\n      <td>...</td>\n      <td>spotify:track:4XJRpBOG0bU3Nxnvam3FnC</td>\n      <td>https://api.spotify.com/v1/tracks/4XJRpBOG0bU3...</td>\n      <td>https://api.spotify.com/v1/audio-analysis/4XJR...</td>\n      <td>129480</td>\n      <td>4</td>\n      <td>[atl hip hop, pop rap, rap, southern hip hop, ...</td>\n      <td>I NEVER LIKED YOU</td>\n      <td>72</td>\n      <td>Future</td>\n      <td>LOVE YOU BETTER</td>\n    </tr>\n    <tr>\n      <th>21</th>\n      <td>0.810</td>\n      <td>0.655</td>\n      <td>8</td>\n      <td>-6.779</td>\n      <td>0</td>\n      <td>0.0698</td>\n      <td>0.127000</td>\n      <td>0.000082</td>\n      <td>0.1050</td>\n      <td>0.8090</td>\n      <td>...</td>\n      <td>spotify:track:2KdKh9vHbKW0tZLqtpxxI0</td>\n      <td>https://api.spotify.com/v1/tracks/2KdKh9vHbKW0...</td>\n      <td>https://api.spotify.com/v1/audio-analysis/2KdK...</td>\n      <td>193322</td>\n      <td>4</td>\n      <td>[canadian pop, pop]</td>\n      <td>Honest</td>\n      <td>75</td>\n      <td>Justin Bieber</td>\n      <td>Honest (feat. Don Toliver)</td>\n    </tr>\n    <tr>\n      <th>22</th>\n      <td>0.916</td>\n      <td>0.453</td>\n      <td>1</td>\n      <td>-4.148</td>\n      <td>1</td>\n      <td>0.1580</td>\n      <td>0.000189</td>\n      <td>0.000000</td>\n      <td>0.1370</td>\n      <td>0.1520</td>\n      <td>...</td>\n      <td>spotify:track:2tzgSUZOUKopYbRqQOVT8X</td>\n      <td>https://api.spotify.com/v1/tracks/2tzgSUZOUKop...</td>\n      <td>https://api.spotify.com/v1/audio-analysis/2tzg...</td>\n      <td>106133</td>\n      <td>4</td>\n      <td>[atl hip hop, pop rap, rap, southern hip hop, ...</td>\n      <td>I NEVER LIKED YOU</td>\n      <td>72</td>\n      <td>Future</td>\n      <td>MASSAGING ME</td>\n    </tr>\n    <tr>\n      <th>23</th>\n      <td>0.870</td>\n      <td>0.516</td>\n      <td>1</td>\n      <td>-8.006</td>\n      <td>1</td>\n      <td>0.0541</td>\n      <td>0.656000</td>\n      <td>0.008230</td>\n      <td>0.1100</td>\n      <td>0.5300</td>\n      <td>...</td>\n      <td>spotify:track:7dSZ6zGTQx66c2GF91xCrb</td>\n      <td>https://api.spotify.com/v1/tracks/7dSZ6zGTQx66...</td>\n      <td>https://api.spotify.com/v1/audio-analysis/7dSZ...</td>\n      <td>210200</td>\n      <td>4</td>\n      <td>[latin, reggaeton, reggaeton colombiano, trap ...</td>\n      <td>PROVENZA</td>\n      <td>83</td>\n      <td>KAROL G</td>\n      <td>PROVENZA</td>\n    </tr>\n    <tr>\n      <th>24</th>\n      <td>0.603</td>\n      <td>0.783</td>\n      <td>6</td>\n      <td>-4.023</td>\n      <td>1</td>\n      <td>0.0620</td>\n      <td>0.449000</td>\n      <td>0.000008</td>\n      <td>0.1190</td>\n      <td>0.7750</td>\n      <td>...</td>\n      <td>spotify:track:37y7iDayfwm3WXn5BiAoRk</td>\n      <td>https://api.spotify.com/v1/tracks/37y7iDayfwm3...</td>\n      <td>https://api.spotify.com/v1/audio-analysis/37y7...</td>\n      <td>173104</td>\n      <td>4</td>\n      <td>[afrofuturism, pop]</td>\n      <td>Dark Red</td>\n      <td>85</td>\n      <td>Steve Lacy</td>\n      <td>Dark Red</td>\n    </tr>\n    <tr>\n      <th>25</th>\n      <td>0.664</td>\n      <td>0.609</td>\n      <td>1</td>\n      <td>-6.509</td>\n      <td>1</td>\n      <td>0.0707</td>\n      <td>0.304000</td>\n      <td>0.000000</td>\n      <td>0.0926</td>\n      <td>0.1940</td>\n      <td>...</td>\n      <td>spotify:track:3Vi5XqYrmQgOYBajMWSvCi</td>\n      <td>https://api.spotify.com/v1/tracks/3Vi5XqYrmQgO...</td>\n      <td>https://api.spotify.com/v1/audio-analysis/3Vi5...</td>\n      <td>210560</td>\n      <td>4</td>\n      <td>[dance pop, pop]</td>\n      <td>Planet Her</td>\n      <td>87</td>\n      <td>Doja Cat</td>\n      <td>Need to Know</td>\n    </tr>\n    <tr>\n      <th>26</th>\n      <td>0.825</td>\n      <td>0.414</td>\n      <td>2</td>\n      <td>-6.634</td>\n      <td>1</td>\n      <td>0.1440</td>\n      <td>0.002650</td>\n      <td>0.000000</td>\n      <td>0.3570</td>\n      <td>0.1060</td>\n      <td>...</td>\n      <td>spotify:track:1Y5Jvi3eLi4Chwqch9GMem</td>\n      <td>https://api.spotify.com/v1/tracks/1Y5Jvi3eLi4C...</td>\n      <td>https://api.spotify.com/v1/audio-analysis/1Y5J...</td>\n      <td>200548</td>\n      <td>4</td>\n      <td>[florida rap, hip hop, melodic rap, miami hip ...</td>\n      <td>Back For Everything</td>\n      <td>73</td>\n      <td>Kodak Black</td>\n      <td>Super Gremlin</td>\n    </tr>\n    <tr>\n      <th>27</th>\n      <td>0.849</td>\n      <td>0.424</td>\n      <td>5</td>\n      <td>-9.579</td>\n      <td>0</td>\n      <td>0.3240</td>\n      <td>0.063500</td>\n      <td>0.000000</td>\n      <td>0.0834</td>\n      <td>0.1530</td>\n      <td>...</td>\n      <td>spotify:track:2BcMwX1MPV6ZHP4tUT9uq6</td>\n      <td>https://api.spotify.com/v1/tracks/2BcMwX1MPV6Z...</td>\n      <td>https://api.spotify.com/v1/audio-analysis/2BcM...</td>\n      <td>242966</td>\n      <td>4</td>\n      <td>[canadian hip hop, canadian pop, hip hop, rap,...</td>\n      <td>Certified Lover Boy</td>\n      <td>84</td>\n      <td>Drake</td>\n      <td>Knife Talk (with 21 Savage ft. Project Pat)</td>\n    </tr>\n    <tr>\n      <th>28</th>\n      <td>0.575</td>\n      <td>0.648</td>\n      <td>10</td>\n      <td>-4.891</td>\n      <td>1</td>\n      <td>0.0358</td>\n      <td>0.583000</td>\n      <td>0.000000</td>\n      <td>0.1150</td>\n      <td>0.4660</td>\n      <td>...</td>\n      <td>spotify:track:4SqWKzw0CbA05TGszDgMlc</td>\n      <td>https://api.spotify.com/v1/tracks/4SqWKzw0CbA0...</td>\n      <td>https://api.spotify.com/v1/audio-analysis/4SqW...</td>\n      <td>160240</td>\n      <td>4</td>\n      <td>[chicago indie]</td>\n      <td>I Love You So</td>\n      <td>88</td>\n      <td>The Walters</td>\n      <td>I Love You So</td>\n    </tr>\n    <tr>\n      <th>29</th>\n      <td>0.578</td>\n      <td>0.431</td>\n      <td>2</td>\n      <td>-7.034</td>\n      <td>1</td>\n      <td>0.0269</td>\n      <td>0.469000</td>\n      <td>0.000000</td>\n      <td>0.1370</td>\n      <td>0.2100</td>\n      <td>...</td>\n      <td>spotify:track:1TUuhV75FeOF6UObRsABo2</td>\n      <td>https://api.spotify.com/v1/tracks/1TUuhV75FeOF...</td>\n      <td>https://api.spotify.com/v1/audio-analysis/1TUu...</td>\n      <td>226975</td>\n      <td>3</td>\n      <td>[contemporary country]</td>\n      <td>Don't Think Jesus</td>\n      <td>78</td>\n      <td>Morgan Wallen</td>\n      <td>Don't Think Jesus</td>\n    </tr>\n    <tr>\n      <th>30</th>\n      <td>0.612</td>\n      <td>0.807</td>\n      <td>10</td>\n      <td>-2.810</td>\n      <td>1</td>\n      <td>0.0336</td>\n      <td>0.049500</td>\n      <td>0.017700</td>\n      <td>0.1010</td>\n      <td>0.3980</td>\n      <td>...</td>\n      <td>spotify:track:2QjOHCTQ1Jl3zawyYOpxh6</td>\n      <td>https://api.spotify.com/v1/tracks/2QjOHCTQ1Jl3...</td>\n      <td>https://api.spotify.com/v1/audio-analysis/2QjO...</td>\n      <td>240400</td>\n      <td>4</td>\n      <td>[modern alternative rock, modern rock, pop]</td>\n      <td>I Love You.</td>\n      <td>88</td>\n      <td>The Neighbourhood</td>\n      <td>Sweater Weather</td>\n    </tr>\n    <tr>\n      <th>31</th>\n      <td>0.843</td>\n      <td>0.700</td>\n      <td>4</td>\n      <td>-3.563</td>\n      <td>0</td>\n      <td>0.0803</td>\n      <td>0.093400</td>\n      <td>0.000000</td>\n      <td>0.1400</td>\n      <td>0.8990</td>\n      <td>...</td>\n      <td>spotify:track:1ri9ZUkBJVFUdgwzCnfcYs</td>\n      <td>https://api.spotify.com/v1/tracks/1ri9ZUkBJVFU...</td>\n      <td>https://api.spotify.com/v1/audio-analysis/1ri9...</td>\n      <td>226088</td>\n      <td>4</td>\n      <td>[dance pop, latin, latin viral pop, pop, rap l...</td>\n      <td>MAMIII</td>\n      <td>92</td>\n      <td>Becky G</td>\n      <td>MAMIII</td>\n    </tr>\n    <tr>\n      <th>32</th>\n      <td>0.824</td>\n      <td>0.667</td>\n      <td>10</td>\n      <td>-6.603</td>\n      <td>0</td>\n      <td>0.0814</td>\n      <td>0.003210</td>\n      <td>0.000003</td>\n      <td>0.0956</td>\n      <td>0.3050</td>\n      <td>...</td>\n      <td>spotify:track:7HCX1Ch3mklJyEdpwPZBFW</td>\n      <td>https://api.spotify.com/v1/tracks/7HCX1Ch3mklJ...</td>\n      <td>https://api.spotify.com/v1/audio-analysis/7HCX...</td>\n      <td>207933</td>\n      <td>4</td>\n      <td>[atl hip hop, pop rap, rap, southern hip hop, ...</td>\n      <td>I NEVER LIKED YOU</td>\n      <td>73</td>\n      <td>Future</td>\n      <td>FOR A NUT (feat. Gunna &amp; Young Thug)</td>\n    </tr>\n    <tr>\n      <th>33</th>\n      <td>0.756</td>\n      <td>0.697</td>\n      <td>8</td>\n      <td>-6.377</td>\n      <td>1</td>\n      <td>0.0401</td>\n      <td>0.182000</td>\n      <td>0.000000</td>\n      <td>0.3330</td>\n      <td>0.9560</td>\n      <td>...</td>\n      <td>spotify:track:2DB4DdfCFMw1iaR6JaR03a</td>\n      <td>https://api.spotify.com/v1/tracks/2DB4DdfCFMw1...</td>\n      <td>https://api.spotify.com/v1/audio-analysis/2DB4...</td>\n      <td>206071</td>\n      <td>4</td>\n      <td>[dance pop, pop, post-teen pop]</td>\n      <td>Familia</td>\n      <td>80</td>\n      <td>Camila Cabello</td>\n      <td>Bam Bam (feat. Ed Sheeran)</td>\n    </tr>\n    <tr>\n      <th>34</th>\n      <td>0.763</td>\n      <td>0.526</td>\n      <td>5</td>\n      <td>-6.753</td>\n      <td>0</td>\n      <td>0.3550</td>\n      <td>0.009370</td>\n      <td>0.000002</td>\n      <td>0.1110</td>\n      <td>0.3620</td>\n      <td>...</td>\n      <td>spotify:track:1Ijpng3ZLhTRcEd8iqh4p4</td>\n      <td>https://api.spotify.com/v1/tracks/1Ijpng3ZLhTR...</td>\n      <td>https://api.spotify.com/v1/audio-analysis/1Ijp...</td>\n      <td>162333</td>\n      <td>4</td>\n      <td>[atl hip hop, pop rap, rap, southern hip hop, ...</td>\n      <td>I NEVER LIKED YOU</td>\n      <td>72</td>\n      <td>Future</td>\n      <td>GOLD STACKS</td>\n    </tr>\n    <tr>\n      <th>35</th>\n      <td>0.737</td>\n      <td>0.846</td>\n      <td>1</td>\n      <td>-4.510</td>\n      <td>0</td>\n      <td>0.2200</td>\n      <td>0.006140</td>\n      <td>0.000000</td>\n      <td>0.0486</td>\n      <td>0.5460</td>\n      <td>...</td>\n      <td>spotify:track:0e8nrvls4Qqv5Rfa2UhqmO</td>\n      <td>https://api.spotify.com/v1/tracks/0e8nrvls4Qqv...</td>\n      <td>https://api.spotify.com/v1/audio-analysis/0e8n...</td>\n      <td>143901</td>\n      <td>4</td>\n      <td>[lgbtq+ hip hop, pop]</td>\n      <td>MONTERO</td>\n      <td>90</td>\n      <td>Lil Nas X</td>\n      <td>THATS WHAT I WANT</td>\n    </tr>\n    <tr>\n      <th>36</th>\n      <td>0.369</td>\n      <td>0.192</td>\n      <td>4</td>\n      <td>-12.151</td>\n      <td>0</td>\n      <td>0.0400</td>\n      <td>0.555000</td>\n      <td>0.000008</td>\n      <td>0.0954</td>\n      <td>0.1480</td>\n      <td>...</td>\n      <td>spotify:track:3WMj8moIAXJhHsyLaqIIHI</td>\n      <td>https://api.spotify.com/v1/tracks/3WMj8moIAXJh...</td>\n      <td>https://api.spotify.com/v1/audio-analysis/3WMj...</td>\n      <td>228013</td>\n      <td>3</td>\n      <td>[oklahoma country]</td>\n      <td>Something in the Orange</td>\n      <td>71</td>\n      <td>Zach Bryan</td>\n      <td>Something in the Orange</td>\n    </tr>\n    <tr>\n      <th>37</th>\n      <td>0.558</td>\n      <td>0.559</td>\n      <td>6</td>\n      <td>-9.222</td>\n      <td>1</td>\n      <td>0.0959</td>\n      <td>0.371000</td>\n      <td>0.000007</td>\n      <td>0.1090</td>\n      <td>0.6200</td>\n      <td>...</td>\n      <td>spotify:track:7KA4W4McWYRpgf0fWsJZWB</td>\n      <td>https://api.spotify.com/v1/tracks/7KA4W4McWYRp...</td>\n      <td>https://api.spotify.com/v1/audio-analysis/7KA4...</td>\n      <td>180387</td>\n      <td>4</td>\n      <td>[hip hop, rap]</td>\n      <td>Flower Boy</td>\n      <td>83</td>\n      <td>Tyler, The Creator</td>\n      <td>See You Again (feat. Kali Uchis)</td>\n    </tr>\n    <tr>\n      <th>38</th>\n      <td>0.505</td>\n      <td>0.657</td>\n      <td>11</td>\n      <td>-5.240</td>\n      <td>0</td>\n      <td>0.0318</td>\n      <td>0.373000</td>\n      <td>0.001070</td>\n      <td>0.1260</td>\n      <td>0.2520</td>\n      <td>...</td>\n      <td>spotify:track:3cBsEDNhFI9E82vPj3kvi3</td>\n      <td>https://api.spotify.com/v1/tracks/3cBsEDNhFI9E...</td>\n      <td>https://api.spotify.com/v1/audio-analysis/3cBs...</td>\n      <td>178520</td>\n      <td>3</td>\n      <td>[contemporary country]</td>\n      <td>Dangerous: The Double Album</td>\n      <td>79</td>\n      <td>Morgan Wallen</td>\n      <td>Wasted On You</td>\n    </tr>\n    <tr>\n      <th>39</th>\n      <td>0.647</td>\n      <td>0.581</td>\n      <td>4</td>\n      <td>-7.678</td>\n      <td>0</td>\n      <td>0.0884</td>\n      <td>0.002900</td>\n      <td>0.000008</td>\n      <td>0.1190</td>\n      <td>0.1130</td>\n      <td>...</td>\n      <td>spotify:track:62Yo3FDddWY8ydu6PW2wyz</td>\n      <td>https://api.spotify.com/v1/tracks/62Yo3FDddWY8...</td>\n      <td>https://api.spotify.com/v1/audio-analysis/62Yo...</td>\n      <td>206385</td>\n      <td>4</td>\n      <td>[deep underground hip hop, kentucky hip hop, rap]</td>\n      <td>Nail Tech</td>\n      <td>85</td>\n      <td>Jack Harlow</td>\n      <td>Nail Tech</td>\n    </tr>\n    <tr>\n      <th>40</th>\n      <td>0.795</td>\n      <td>0.800</td>\n      <td>1</td>\n      <td>-6.320</td>\n      <td>1</td>\n      <td>0.0309</td>\n      <td>0.035400</td>\n      <td>0.000073</td>\n      <td>0.0915</td>\n      <td>0.9340</td>\n      <td>...</td>\n      <td>spotify:track:6JIC3hbC28JZKZ8AlAqX8h</td>\n      <td>https://api.spotify.com/v1/tracks/6JIC3hbC28JZ...</td>\n      <td>https://api.spotify.com/v1/audio-analysis/6JIC...</td>\n      <td>202735</td>\n      <td>4</td>\n      <td>[glam rock, mellow gold, piano rock]</td>\n      <td>The Lockdown Sessions</td>\n      <td>84</td>\n      <td>Elton John</td>\n      <td>Cold Heart - PNAU Remix</td>\n    </tr>\n    <tr>\n      <th>41</th>\n      <td>0.345</td>\n      <td>0.612</td>\n      <td>7</td>\n      <td>-6.543</td>\n      <td>0</td>\n      <td>0.0608</td>\n      <td>0.232000</td>\n      <td>0.000000</td>\n      <td>0.1940</td>\n      <td>0.2320</td>\n      <td>...</td>\n      <td>spotify:track:59CfNbkERJ3NoTXDvoURjj</td>\n      <td>https://api.spotify.com/v1/tracks/59CfNbkERJ3N...</td>\n      <td>https://api.spotify.com/v1/audio-analysis/59Cf...</td>\n      <td>153000</td>\n      <td>3</td>\n      <td>[pop, post-teen pop]</td>\n      <td>Boyfriend</td>\n      <td>89</td>\n      <td>Dove Cameron</td>\n      <td>Boyfriend</td>\n    </tr>\n    <tr>\n      <th>42</th>\n      <td>0.380</td>\n      <td>0.339</td>\n      <td>3</td>\n      <td>-7.885</td>\n      <td>1</td>\n      <td>0.0338</td>\n      <td>0.691000</td>\n      <td>0.000000</td>\n      <td>0.1200</td>\n      <td>0.0849</td>\n      <td>...</td>\n      <td>spotify:track:5CZ40GBx1sQ9agT82CLQCT</td>\n      <td>https://api.spotify.com/v1/tracks/5CZ40GBx1sQ9...</td>\n      <td>https://api.spotify.com/v1/audio-analysis/5CZ4...</td>\n      <td>229227</td>\n      <td>4</td>\n      <td>[pop]</td>\n      <td>SOUR</td>\n      <td>88</td>\n      <td>Olivia Rodrigo</td>\n      <td>traitor</td>\n    </tr>\n    <tr>\n      <th>43</th>\n      <td>0.577</td>\n      <td>0.450</td>\n      <td>0</td>\n      <td>-8.516</td>\n      <td>0</td>\n      <td>0.0834</td>\n      <td>0.357000</td>\n      <td>0.000000</td>\n      <td>0.1110</td>\n      <td>0.8300</td>\n      <td>...</td>\n      <td>spotify:track:52xJxFP6TqMuO4Yt0eOkMz</td>\n      <td>https://api.spotify.com/v1/tracks/52xJxFP6TqMu...</td>\n      <td>https://api.spotify.com/v1/audio-analysis/52xJ...</td>\n      <td>216120</td>\n      <td>4</td>\n      <td>[]</td>\n      <td>Encanto (Original Motion Picture Soundtrack)</td>\n      <td>86</td>\n      <td>Carolina Gaitán - La Gaita</td>\n      <td>We Don't Talk About Bruno</td>\n    </tr>\n    <tr>\n      <th>44</th>\n      <td>0.788</td>\n      <td>0.859</td>\n      <td>2</td>\n      <td>-2.724</td>\n      <td>1</td>\n      <td>0.0856</td>\n      <td>0.281000</td>\n      <td>0.000000</td>\n      <td>0.0424</td>\n      <td>0.8220</td>\n      <td>...</td>\n      <td>spotify:track:50nfwKoDiSYg8zOCREWAm5</td>\n      <td>https://api.spotify.com/v1/tracks/50nfwKoDiSYg...</td>\n      <td>https://api.spotify.com/v1/audio-analysis/50nf...</td>\n      <td>207853</td>\n      <td>4</td>\n      <td>[pop, uk pop]</td>\n      <td>=</td>\n      <td>90</td>\n      <td>Ed Sheeran</td>\n      <td>Shivers</td>\n    </tr>\n    <tr>\n      <th>45</th>\n      <td>0.711</td>\n      <td>0.611</td>\n      <td>1</td>\n      <td>-5.453</td>\n      <td>1</td>\n      <td>0.3300</td>\n      <td>0.005880</td>\n      <td>0.000000</td>\n      <td>0.2300</td>\n      <td>0.1440</td>\n      <td>...</td>\n      <td>spotify:track:3QFInJAm9eyaho5vBzxInN</td>\n      <td>https://api.spotify.com/v1/tracks/3QFInJAm9eya...</td>\n      <td>https://api.spotify.com/v1/audio-analysis/3QFI...</td>\n      <td>252262</td>\n      <td>4</td>\n      <td>[hip hop, rap]</td>\n      <td>The Melodic Blue</td>\n      <td>77</td>\n      <td>Baby Keem</td>\n      <td>family ties (with Kendrick Lamar)</td>\n    </tr>\n    <tr>\n      <th>46</th>\n      <td>0.410</td>\n      <td>0.611</td>\n      <td>4</td>\n      <td>-8.271</td>\n      <td>0</td>\n      <td>0.0467</td>\n      <td>0.022800</td>\n      <td>0.000000</td>\n      <td>0.1160</td>\n      <td>0.0899</td>\n      <td>...</td>\n      <td>spotify:track:58HvfVOeJY7lUuCqF0m3ly</td>\n      <td>https://api.spotify.com/v1/tracks/58HvfVOeJY7l...</td>\n      <td>https://api.spotify.com/v1/audio-analysis/58Hv...</td>\n      <td>184448</td>\n      <td>3</td>\n      <td>[alt z, pop]</td>\n      <td>MIDDLE OF THE NIGHT</td>\n      <td>91</td>\n      <td>Elley Duhé</td>\n      <td>MIDDLE OF THE NIGHT</td>\n    </tr>\n    <tr>\n      <th>47</th>\n      <td>0.578</td>\n      <td>0.449</td>\n      <td>1</td>\n      <td>-6.349</td>\n      <td>1</td>\n      <td>0.2860</td>\n      <td>0.061800</td>\n      <td>0.000002</td>\n      <td>0.1190</td>\n      <td>0.1000</td>\n      <td>...</td>\n      <td>spotify:track:65OVbaJR5O1RmwOQx0875b</td>\n      <td>https://api.spotify.com/v1/tracks/65OVbaJR5O1R...</td>\n      <td>https://api.spotify.com/v1/audio-analysis/65OV...</td>\n      <td>192956</td>\n      <td>4</td>\n      <td>[canadian hip hop, canadian pop, hip hop, rap,...</td>\n      <td>Scary Hours 2</td>\n      <td>81</td>\n      <td>Drake</td>\n      <td>Wants and Needs (feat. Lil Baby)</td>\n    </tr>\n    <tr>\n      <th>48</th>\n      <td>0.862</td>\n      <td>0.619</td>\n      <td>11</td>\n      <td>-6.197</td>\n      <td>0</td>\n      <td>0.2210</td>\n      <td>0.040300</td>\n      <td>0.000000</td>\n      <td>0.2530</td>\n      <td>0.6240</td>\n      <td>...</td>\n      <td>spotify:track:53wBhj706wDMNuBj4FJ0RI</td>\n      <td>https://api.spotify.com/v1/tracks/53wBhj706wDM...</td>\n      <td>https://api.spotify.com/v1/audio-analysis/53wB...</td>\n      <td>195267</td>\n      <td>4</td>\n      <td>[atl hip hop, pop rap, rap, southern hip hop, ...</td>\n      <td>I NEVER LIKED YOU</td>\n      <td>71</td>\n      <td>Future</td>\n      <td>CHICKENS (feat. EST Gee)</td>\n    </tr>\n    <tr>\n      <th>49</th>\n      <td>0.693</td>\n      <td>0.575</td>\n      <td>2</td>\n      <td>-7.633</td>\n      <td>1</td>\n      <td>0.0906</td>\n      <td>0.121000</td>\n      <td>0.000000</td>\n      <td>0.1040</td>\n      <td>0.3530</td>\n      <td>...</td>\n      <td>spotify:track:7BbaIYAdi3pg4MGl6PHwPv</td>\n      <td>https://api.spotify.com/v1/tracks/7BbaIYAdi3pg...</td>\n      <td>https://api.spotify.com/v1/audio-analysis/7Bba...</td>\n      <td>160052</td>\n      <td>4</td>\n      <td>[pluggnb]</td>\n      <td>Up 2 Më</td>\n      <td>83</td>\n      <td>Yeat</td>\n      <td>Monëy so big</td>\n    </tr>\n  </tbody>\n</table>\n<p>50 rows × 23 columns</p>\n</div>"
     },
     "metadata": {}
    }
   ]
  },
  {
   "cell_type": "markdown",
   "source": "4. Exploratory Data Analysis",
   "metadata": {
    "cell_id": "5e92d351907c45139418a049baed8c52",
    "tags": [],
    "deepnote_cell_type": "markdown",
    "deepnote_cell_height": 69.390625
   }
  },
  {
   "cell_type": "code",
   "metadata": {
    "cell_id": "7016b15543664dc180ba087fa28157ea",
    "tags": [],
    "deepnote_to_be_reexecuted": false,
    "source_hash": "2399b18d",
    "execution_start": 1651615711924,
    "execution_millis": 103,
    "deepnote_cell_type": "code",
    "deepnote_cell_height": 554
   },
   "source": "stats = final_df.describe()\nstats.to_csv('descriptive_stats.csv')\nstats",
   "execution_count": null,
   "outputs": [
    {
     "output_type": "execute_result",
     "execution_count": 10,
     "data": {
      "application/vnd.deepnote.dataframe.v3+json": {
       "column_count": 14,
       "row_count": 8,
       "columns": [
        {
         "name": "danceability",
         "dtype": "float64",
         "stats": {
          "unique_count": 8,
          "nan_count": 0,
          "min": "0.1559771372571595",
          "max": "50.0",
          "histogram": [
           {
            "bin_start": 0.1559771372571595,
            "bin_end": 5.140379423531443,
            "count": 7
           },
           {
            "bin_start": 5.140379423531443,
            "bin_end": 10.124781709805728,
            "count": 0
           },
           {
            "bin_start": 10.124781709805728,
            "bin_end": 15.109183996080011,
            "count": 0
           },
           {
            "bin_start": 15.109183996080011,
            "bin_end": 20.093586282354295,
            "count": 0
           },
           {
            "bin_start": 20.093586282354295,
            "bin_end": 25.077988568628577,
            "count": 0
           },
           {
            "bin_start": 25.077988568628577,
            "bin_end": 30.062390854902862,
            "count": 0
           },
           {
            "bin_start": 30.062390854902862,
            "bin_end": 35.04679314117715,
            "count": 0
           },
           {
            "bin_start": 35.04679314117715,
            "bin_end": 40.03119542745143,
            "count": 0
           },
           {
            "bin_start": 40.03119542745143,
            "bin_end": 45.01559771372571,
            "count": 0
           },
           {
            "bin_start": 45.01559771372571,
            "bin_end": 50,
            "count": 1
           }
          ]
         }
        },
        {
         "name": "energy",
         "dtype": "float64",
         "stats": {
          "unique_count": 8,
          "nan_count": 0,
          "min": "0.14289908527149",
          "max": "50.0",
          "histogram": [
           {
            "bin_start": 0.14289908527149,
            "bin_end": 5.128609176744342,
            "count": 7
           },
           {
            "bin_start": 5.128609176744342,
            "bin_end": 10.114319268217193,
            "count": 0
           },
           {
            "bin_start": 10.114319268217193,
            "bin_end": 15.100029359690044,
            "count": 0
           },
           {
            "bin_start": 15.100029359690044,
            "bin_end": 20.085739451162897,
            "count": 0
           },
           {
            "bin_start": 20.085739451162897,
            "bin_end": 25.07144954263575,
            "count": 0
           },
           {
            "bin_start": 25.07144954263575,
            "bin_end": 30.0571596341086,
            "count": 0
           },
           {
            "bin_start": 30.0571596341086,
            "bin_end": 35.04286972558145,
            "count": 0
           },
           {
            "bin_start": 35.04286972558145,
            "bin_end": 40.0285798170543,
            "count": 0
           },
           {
            "bin_start": 40.0285798170543,
            "bin_end": 45.014289908527154,
            "count": 0
           },
           {
            "bin_start": 45.014289908527154,
            "bin_end": 50,
            "count": 1
           }
          ]
         }
        },
        {
         "name": "key",
         "dtype": "float64",
         "stats": {
          "unique_count": 8,
          "nan_count": 0,
          "min": "0.0",
          "max": "50.0",
          "histogram": [
           {
            "bin_start": 0,
            "bin_end": 5,
            "count": 3
           },
           {
            "bin_start": 5,
            "bin_end": 10,
            "count": 3
           },
           {
            "bin_start": 10,
            "bin_end": 15,
            "count": 1
           },
           {
            "bin_start": 15,
            "bin_end": 20,
            "count": 0
           },
           {
            "bin_start": 20,
            "bin_end": 25,
            "count": 0
           },
           {
            "bin_start": 25,
            "bin_end": 30,
            "count": 0
           },
           {
            "bin_start": 30,
            "bin_end": 35,
            "count": 0
           },
           {
            "bin_start": 35,
            "bin_end": 40,
            "count": 0
           },
           {
            "bin_start": 40,
            "bin_end": 45,
            "count": 0
           },
           {
            "bin_start": 45,
            "bin_end": 50,
            "count": 1
           }
          ]
         }
        },
        {
         "name": "loudness",
         "dtype": "float64",
         "stats": {
          "unique_count": 8,
          "nan_count": 0,
          "min": "-12.151",
          "max": "50.0",
          "histogram": [
           {
            "bin_start": -12.151,
            "bin_end": -5.9359,
            "count": 4
           },
           {
            "bin_start": -5.9359,
            "bin_end": 0.27919999999999945,
            "count": 2
           },
           {
            "bin_start": 0.27919999999999945,
            "bin_end": 6.494299999999999,
            "count": 1
           },
           {
            "bin_start": 6.494299999999999,
            "bin_end": 12.709399999999999,
            "count": 0
           },
           {
            "bin_start": 12.709399999999999,
            "bin_end": 18.9245,
            "count": 0
           },
           {
            "bin_start": 18.9245,
            "bin_end": 25.139599999999998,
            "count": 0
           },
           {
            "bin_start": 25.139599999999998,
            "bin_end": 31.354699999999998,
            "count": 0
           },
           {
            "bin_start": 31.354699999999998,
            "bin_end": 37.5698,
            "count": 0
           },
           {
            "bin_start": 37.5698,
            "bin_end": 43.78489999999999,
            "count": 0
           },
           {
            "bin_start": 43.78489999999999,
            "bin_end": 50,
            "count": 1
           }
          ]
         }
        },
        {
         "name": "mode",
         "dtype": "float64",
         "stats": {
          "unique_count": 5,
          "nan_count": 0,
          "min": "0.0",
          "max": "50.0",
          "histogram": [
           {
            "bin_start": 0,
            "bin_end": 5,
            "count": 7
           },
           {
            "bin_start": 5,
            "bin_end": 10,
            "count": 0
           },
           {
            "bin_start": 10,
            "bin_end": 15,
            "count": 0
           },
           {
            "bin_start": 15,
            "bin_end": 20,
            "count": 0
           },
           {
            "bin_start": 20,
            "bin_end": 25,
            "count": 0
           },
           {
            "bin_start": 25,
            "bin_end": 30,
            "count": 0
           },
           {
            "bin_start": 30,
            "bin_end": 35,
            "count": 0
           },
           {
            "bin_start": 35,
            "bin_end": 40,
            "count": 0
           },
           {
            "bin_start": 40,
            "bin_end": 45,
            "count": 0
           },
           {
            "bin_start": 45,
            "bin_end": 50,
            "count": 1
           }
          ]
         }
        },
        {
         "name": "speechiness",
         "dtype": "float64",
         "stats": {
          "unique_count": 8,
          "nan_count": 0,
          "min": "0.0269",
          "max": "50.0",
          "histogram": [
           {
            "bin_start": 0.0269,
            "bin_end": 5.024210000000001,
            "count": 7
           },
           {
            "bin_start": 5.024210000000001,
            "bin_end": 10.02152,
            "count": 0
           },
           {
            "bin_start": 10.02152,
            "bin_end": 15.018830000000001,
            "count": 0
           },
           {
            "bin_start": 15.018830000000001,
            "bin_end": 20.016140000000004,
            "count": 0
           },
           {
            "bin_start": 20.016140000000004,
            "bin_end": 25.013450000000002,
            "count": 0
           },
           {
            "bin_start": 25.013450000000002,
            "bin_end": 30.010760000000005,
            "count": 0
           },
           {
            "bin_start": 30.010760000000005,
            "bin_end": 35.008070000000004,
            "count": 0
           },
           {
            "bin_start": 35.008070000000004,
            "bin_end": 40.00538,
            "count": 0
           },
           {
            "bin_start": 40.00538,
            "bin_end": 45.00269,
            "count": 0
           },
           {
            "bin_start": 45.00269,
            "bin_end": 50,
            "count": 1
           }
          ]
         }
        },
        {
         "name": "acousticness",
         "dtype": "float64",
         "stats": {
          "unique_count": 8,
          "nan_count": 0,
          "min": "0.000189",
          "max": "50.0",
          "histogram": [
           {
            "bin_start": 0.000189,
            "bin_end": 5.0001701,
            "count": 7
           },
           {
            "bin_start": 5.0001701,
            "bin_end": 10.000151200000001,
            "count": 0
           },
           {
            "bin_start": 10.000151200000001,
            "bin_end": 15.000132300000002,
            "count": 0
           },
           {
            "bin_start": 15.000132300000002,
            "bin_end": 20.0001134,
            "count": 0
           },
           {
            "bin_start": 20.0001134,
            "bin_end": 25.0000945,
            "count": 0
           },
           {
            "bin_start": 25.0000945,
            "bin_end": 30.000075600000002,
            "count": 0
           },
           {
            "bin_start": 30.000075600000002,
            "bin_end": 35.0000567,
            "count": 0
           },
           {
            "bin_start": 35.0000567,
            "bin_end": 40.0000378,
            "count": 0
           },
           {
            "bin_start": 40.0000378,
            "bin_end": 45.0000189,
            "count": 0
           },
           {
            "bin_start": 45.0000189,
            "bin_end": 50,
            "count": 1
           }
          ]
         }
        },
        {
         "name": "instrumentalness",
         "dtype": "float64",
         "stats": {
          "unique_count": 6,
          "nan_count": 0,
          "min": "0.0",
          "max": "50.0",
          "histogram": [
           {
            "bin_start": 0,
            "bin_end": 5,
            "count": 7
           },
           {
            "bin_start": 5,
            "bin_end": 10,
            "count": 0
           },
           {
            "bin_start": 10,
            "bin_end": 15,
            "count": 0
           },
           {
            "bin_start": 15,
            "bin_end": 20,
            "count": 0
           },
           {
            "bin_start": 20,
            "bin_end": 25,
            "count": 0
           },
           {
            "bin_start": 25,
            "bin_end": 30,
            "count": 0
           },
           {
            "bin_start": 30,
            "bin_end": 35,
            "count": 0
           },
           {
            "bin_start": 35,
            "bin_end": 40,
            "count": 0
           },
           {
            "bin_start": 40,
            "bin_end": 45,
            "count": 0
           },
           {
            "bin_start": 45,
            "bin_end": 50,
            "count": 1
           }
          ]
         }
        },
        {
         "name": "liveness",
         "dtype": "float64",
         "stats": {
          "unique_count": 8,
          "nan_count": 0,
          "min": "0.0424",
          "max": "50.0",
          "histogram": [
           {
            "bin_start": 0.0424,
            "bin_end": 5.0381599999999995,
            "count": 7
           },
           {
            "bin_start": 5.0381599999999995,
            "bin_end": 10.03392,
            "count": 0
           },
           {
            "bin_start": 10.03392,
            "bin_end": 15.029679999999999,
            "count": 0
           },
           {
            "bin_start": 15.029679999999999,
            "bin_end": 20.02544,
            "count": 0
           },
           {
            "bin_start": 20.02544,
            "bin_end": 25.0212,
            "count": 0
           },
           {
            "bin_start": 25.0212,
            "bin_end": 30.016959999999997,
            "count": 0
           },
           {
            "bin_start": 30.016959999999997,
            "bin_end": 35.01272,
            "count": 0
           },
           {
            "bin_start": 35.01272,
            "bin_end": 40.00848,
            "count": 0
           },
           {
            "bin_start": 40.00848,
            "bin_end": 45.004239999999996,
            "count": 0
           },
           {
            "bin_start": 45.004239999999996,
            "bin_end": 50,
            "count": 1
           }
          ]
         }
        },
        {
         "name": "valence",
         "dtype": "float64",
         "stats": {
          "unique_count": 8,
          "nan_count": 0,
          "min": "0.0849",
          "max": "50.0",
          "histogram": [
           {
            "bin_start": 0.0849,
            "bin_end": 5.07641,
            "count": 7
           },
           {
            "bin_start": 5.07641,
            "bin_end": 10.067919999999999,
            "count": 0
           },
           {
            "bin_start": 10.067919999999999,
            "bin_end": 15.059429999999999,
            "count": 0
           },
           {
            "bin_start": 15.059429999999999,
            "bin_end": 20.05094,
            "count": 0
           },
           {
            "bin_start": 20.05094,
            "bin_end": 25.04245,
            "count": 0
           },
           {
            "bin_start": 25.04245,
            "bin_end": 30.03396,
            "count": 0
           },
           {
            "bin_start": 30.03396,
            "bin_end": 35.02547,
            "count": 0
           },
           {
            "bin_start": 35.02547,
            "bin_end": 40.01698,
            "count": 0
           },
           {
            "bin_start": 40.01698,
            "bin_end": 45.008489999999995,
            "count": 0
           },
           {
            "bin_start": 45.008489999999995,
            "bin_end": 50,
            "count": 1
           }
          ]
         }
        },
        {
         "name": "tempo",
         "dtype": "float64",
         "stats": {
          "unique_count": 8,
          "nan_count": 0,
          "min": "37.13947815984099",
          "max": "205.863",
          "histogram": [
           {
            "bin_start": 37.13947815984099,
            "bin_end": 54.01183034385689,
            "count": 2
           },
           {
            "bin_start": 54.01183034385689,
            "bin_end": 70.8841825278728,
            "count": 0
           },
           {
            "bin_start": 70.8841825278728,
            "bin_end": 87.75653471188869,
            "count": 1
           },
           {
            "bin_start": 87.75653471188869,
            "bin_end": 104.6288868959046,
            "count": 1
           },
           {
            "bin_start": 104.6288868959046,
            "bin_end": 121.50123907992051,
            "count": 0
           },
           {
            "bin_start": 121.50123907992051,
            "bin_end": 138.37359126393642,
            "count": 2
           },
           {
            "bin_start": 138.37359126393642,
            "bin_end": 155.2459434479523,
            "count": 1
           },
           {
            "bin_start": 155.2459434479523,
            "bin_end": 172.1182956319682,
            "count": 0
           },
           {
            "bin_start": 172.1182956319682,
            "bin_end": 188.99064781598412,
            "count": 0
           },
           {
            "bin_start": 188.99064781598412,
            "bin_end": 205.863,
            "count": 1
           }
          ]
         }
        },
        {
         "name": "duration_ms",
         "dtype": "float64",
         "stats": {
          "unique_count": 8,
          "nan_count": 0,
          "min": "50.0",
          "max": "292799.0",
          "histogram": [
           {
            "bin_start": 50,
            "bin_end": 29324.9,
            "count": 1
           },
           {
            "bin_start": 29324.9,
            "bin_end": 58599.8,
            "count": 1
           },
           {
            "bin_start": 58599.8,
            "bin_end": 87874.70000000001,
            "count": 0
           },
           {
            "bin_start": 87874.70000000001,
            "bin_end": 117149.6,
            "count": 1
           },
           {
            "bin_start": 117149.6,
            "bin_end": 146424.5,
            "count": 0
           },
           {
            "bin_start": 146424.5,
            "bin_end": 175699.40000000002,
            "count": 1
           },
           {
            "bin_start": 175699.40000000002,
            "bin_end": 204974.30000000002,
            "count": 2
           },
           {
            "bin_start": 204974.30000000002,
            "bin_end": 234249.2,
            "count": 1
           },
           {
            "bin_start": 234249.2,
            "bin_end": 263524.10000000003,
            "count": 0
           },
           {
            "bin_start": 263524.10000000003,
            "bin_end": 292799,
            "count": 1
           }
          ]
         }
        },
        {
         "name": "time_signature",
         "dtype": "float64",
         "stats": {
          "unique_count": 5,
          "nan_count": 0,
          "min": "0.3030457633656632",
          "max": "50.0",
          "histogram": [
           {
            "bin_start": 0.3030457633656632,
            "bin_end": 5.272741187029096,
            "count": 7
           },
           {
            "bin_start": 5.272741187029096,
            "bin_end": 10.242436610692529,
            "count": 0
           },
           {
            "bin_start": 10.242436610692529,
            "bin_end": 15.212132034355962,
            "count": 0
           },
           {
            "bin_start": 15.212132034355962,
            "bin_end": 20.181827458019395,
            "count": 0
           },
           {
            "bin_start": 20.181827458019395,
            "bin_end": 25.151522881682826,
            "count": 0
           },
           {
            "bin_start": 25.151522881682826,
            "bin_end": 30.12121830534626,
            "count": 0
           },
           {
            "bin_start": 30.12121830534626,
            "bin_end": 35.0909137290097,
            "count": 0
           },
           {
            "bin_start": 35.0909137290097,
            "bin_end": 40.06060915267313,
            "count": 0
           },
           {
            "bin_start": 40.06060915267313,
            "bin_end": 45.03030457633656,
            "count": 0
           },
           {
            "bin_start": 45.03030457633656,
            "bin_end": 50,
            "count": 1
           }
          ]
         }
        },
        {
         "name": "popularity",
         "dtype": "float64",
         "stats": {
          "unique_count": 8,
          "nan_count": 0,
          "min": "7.1003305470626525",
          "max": "100.0",
          "histogram": [
           {
            "bin_start": 7.1003305470626525,
            "bin_end": 16.39029749235639,
            "count": 1
           },
           {
            "bin_start": 16.39029749235639,
            "bin_end": 25.680264437650123,
            "count": 0
           },
           {
            "bin_start": 25.680264437650123,
            "bin_end": 34.97023138294386,
            "count": 0
           },
           {
            "bin_start": 34.97023138294386,
            "bin_end": 44.26019832823759,
            "count": 0
           },
           {
            "bin_start": 44.26019832823759,
            "bin_end": 53.55016527353133,
            "count": 1
           },
           {
            "bin_start": 53.55016527353133,
            "bin_end": 62.84013221882506,
            "count": 0
           },
           {
            "bin_start": 62.84013221882506,
            "bin_end": 72.13009916411879,
            "count": 1
           },
           {
            "bin_start": 72.13009916411879,
            "bin_end": 81.42006610941253,
            "count": 1
           },
           {
            "bin_start": 81.42006610941253,
            "bin_end": 90.71003305470627,
            "count": 3
           },
           {
            "bin_start": 90.71003305470627,
            "bin_end": 100,
            "count": 1
           }
          ]
         }
        },
        {
         "name": "_deepnote_index_column",
         "dtype": "object"
        }
       ],
       "rows": [
        {
         "danceability": 50,
         "energy": 50,
         "key": 50,
         "loudness": 50,
         "mode": 50,
         "speechiness": 50,
         "acousticness": 50,
         "instrumentalness": 50,
         "liveness": 50,
         "valence": 50,
         "tempo": 50,
         "duration_ms": 50,
         "time_signature": 50,
         "popularity": 50,
         "_deepnote_index_column": "count"
        },
        {
         "danceability": 0.6792999999999999,
         "energy": 0.61988,
         "key": 5.12,
         "loudness": -6.257099999999999,
         "mode": 0.58,
         "speechiness": 0.12551400000000001,
         "acousticness": 0.18656638,
         "instrumentalness": 0.0006325647999999999,
         "liveness": 0.148442,
         "valence": 0.44281600000000004,
         "tempo": 126.55488,
         "duration_ms": 195796.04,
         "time_signature": 3.9,
         "popularity": 82.56,
         "_deepnote_index_column": "mean"
        },
        {
         "danceability": 0.1559771372571595,
         "energy": 0.14289908527149,
         "key": 3.7178005347687133,
         "loudness": 1.7926199188532375,
         "mode": 0.4985693819032899,
         "speechiness": 0.10174345691242163,
         "acousticness": 0.19858866034717418,
         "instrumentalness": 0.002755074825828741,
         "liveness": 0.0968030908808269,
         "valence": 0.27064780665835736,
         "tempo": 37.13947815984099,
         "duration_ms": 36845.01341441704,
         "time_signature": 0.3030457633656632,
         "popularity": 7.1003305470626525,
         "_deepnote_index_column": "std"
        },
        {
         "danceability": 0.345,
         "energy": 0.192,
         "key": 0,
         "loudness": -12.151,
         "mode": 0,
         "speechiness": 0.0269,
         "acousticness": 0.000189,
         "instrumentalness": 0,
         "liveness": 0.0424,
         "valence": 0.0849,
         "tempo": 72.993,
         "duration_ms": 106133,
         "time_signature": 3,
         "popularity": 71,
         "_deepnote_index_column": "min"
        },
        {
         "danceability": 0.5772499999999999,
         "energy": 0.53425,
         "key": 2,
         "loudness": -7.0005,
         "mode": 0,
         "speechiness": 0.054150000000000004,
         "acousticness": 0.02345,
         "instrumentalness": 0,
         "liveness": 0.09457499999999999,
         "valence": 0.197,
         "tempo": 94.24225,
         "duration_ms": 172975.75,
         "time_signature": 4,
         "popularity": 75.5,
         "_deepnote_index_column": "25%"
        },
        {
         "danceability": 0.71,
         "energy": 0.645,
         "key": 5,
         "loudness": -6.2509999999999994,
         "mode": 1,
         "speechiness": 0.0824,
         "acousticness": 0.0911,
         "instrumentalness": 0,
         "liveness": 0.114,
         "valence": 0.4195,
         "tempo": 127.51650000000001,
         "duration_ms": 194294.5,
         "time_signature": 4,
         "popularity": 84,
         "_deepnote_index_column": "50%"
        },
        {
         "danceability": 0.80625,
         "energy": 0.7064999999999999,
         "key": 8,
         "loudness": -5.249750000000001,
         "mode": 1,
         "speechiness": 0.1625,
         "acousticness": 0.33225000000000005,
         "instrumentalness": 0.0000102275,
         "liveness": 0.137,
         "valence": 0.6525000000000001,
         "tempo": 150.06574999999998,
         "duration_ms": 215178.25,
         "time_signature": 4,
         "popularity": 88,
         "_deepnote_index_column": "75%"
        },
        {
         "danceability": 0.916,
         "energy": 0.859,
         "key": 11,
         "loudness": -2.724,
         "mode": 1,
         "speechiness": 0.355,
         "acousticness": 0.691,
         "instrumentalness": 0.0177,
         "liveness": 0.434,
         "valence": 0.956,
         "tempo": 205.863,
         "duration_ms": 292799,
         "time_signature": 4,
         "popularity": 100,
         "_deepnote_index_column": "max"
        }
       ]
      },
      "text/plain": "       danceability     energy        key  loudness       mode  speechiness  \\\ncount     50.000000  50.000000  50.000000  50.00000  50.000000    50.000000   \nmean       0.679300   0.619880   5.120000  -6.25710   0.580000     0.125514   \nstd        0.155977   0.142899   3.717801   1.79262   0.498569     0.101743   \nmin        0.345000   0.192000   0.000000 -12.15100   0.000000     0.026900   \n25%        0.577250   0.534250   2.000000  -7.00050   0.000000     0.054150   \n50%        0.710000   0.645000   5.000000  -6.25100   1.000000     0.082400   \n75%        0.806250   0.706500   8.000000  -5.24975   1.000000     0.162500   \nmax        0.916000   0.859000  11.000000  -2.72400   1.000000     0.355000   \n\n       acousticness  instrumentalness   liveness    valence       tempo  \\\ncount     50.000000         50.000000  50.000000  50.000000   50.000000   \nmean       0.186566          0.000633   0.148442   0.442816  126.554880   \nstd        0.198589          0.002755   0.096803   0.270648   37.139478   \nmin        0.000189          0.000000   0.042400   0.084900   72.993000   \n25%        0.023450          0.000000   0.094575   0.197000   94.242250   \n50%        0.091100          0.000000   0.114000   0.419500  127.516500   \n75%        0.332250          0.000010   0.137000   0.652500  150.065750   \nmax        0.691000          0.017700   0.434000   0.956000  205.863000   \n\n         duration_ms  time_signature  popularity  \ncount      50.000000       50.000000   50.000000  \nmean   195796.040000        3.900000   82.560000  \nstd     36845.013414        0.303046    7.100331  \nmin    106133.000000        3.000000   71.000000  \n25%    172975.750000        4.000000   75.500000  \n50%    194294.500000        4.000000   84.000000  \n75%    215178.250000        4.000000   88.000000  \nmax    292799.000000        4.000000  100.000000  ",
      "text/html": "<div>\n<style scoped>\n    .dataframe tbody tr th:only-of-type {\n        vertical-align: middle;\n    }\n\n    .dataframe tbody tr th {\n        vertical-align: top;\n    }\n\n    .dataframe thead th {\n        text-align: right;\n    }\n</style>\n<table border=\"1\" class=\"dataframe\">\n  <thead>\n    <tr style=\"text-align: right;\">\n      <th></th>\n      <th>danceability</th>\n      <th>energy</th>\n      <th>key</th>\n      <th>loudness</th>\n      <th>mode</th>\n      <th>speechiness</th>\n      <th>acousticness</th>\n      <th>instrumentalness</th>\n      <th>liveness</th>\n      <th>valence</th>\n      <th>tempo</th>\n      <th>duration_ms</th>\n      <th>time_signature</th>\n      <th>popularity</th>\n    </tr>\n  </thead>\n  <tbody>\n    <tr>\n      <th>count</th>\n      <td>50.000000</td>\n      <td>50.000000</td>\n      <td>50.000000</td>\n      <td>50.00000</td>\n      <td>50.000000</td>\n      <td>50.000000</td>\n      <td>50.000000</td>\n      <td>50.000000</td>\n      <td>50.000000</td>\n      <td>50.000000</td>\n      <td>50.000000</td>\n      <td>50.000000</td>\n      <td>50.000000</td>\n      <td>50.000000</td>\n    </tr>\n    <tr>\n      <th>mean</th>\n      <td>0.679300</td>\n      <td>0.619880</td>\n      <td>5.120000</td>\n      <td>-6.25710</td>\n      <td>0.580000</td>\n      <td>0.125514</td>\n      <td>0.186566</td>\n      <td>0.000633</td>\n      <td>0.148442</td>\n      <td>0.442816</td>\n      <td>126.554880</td>\n      <td>195796.040000</td>\n      <td>3.900000</td>\n      <td>82.560000</td>\n    </tr>\n    <tr>\n      <th>std</th>\n      <td>0.155977</td>\n      <td>0.142899</td>\n      <td>3.717801</td>\n      <td>1.79262</td>\n      <td>0.498569</td>\n      <td>0.101743</td>\n      <td>0.198589</td>\n      <td>0.002755</td>\n      <td>0.096803</td>\n      <td>0.270648</td>\n      <td>37.139478</td>\n      <td>36845.013414</td>\n      <td>0.303046</td>\n      <td>7.100331</td>\n    </tr>\n    <tr>\n      <th>min</th>\n      <td>0.345000</td>\n      <td>0.192000</td>\n      <td>0.000000</td>\n      <td>-12.15100</td>\n      <td>0.000000</td>\n      <td>0.026900</td>\n      <td>0.000189</td>\n      <td>0.000000</td>\n      <td>0.042400</td>\n      <td>0.084900</td>\n      <td>72.993000</td>\n      <td>106133.000000</td>\n      <td>3.000000</td>\n      <td>71.000000</td>\n    </tr>\n    <tr>\n      <th>25%</th>\n      <td>0.577250</td>\n      <td>0.534250</td>\n      <td>2.000000</td>\n      <td>-7.00050</td>\n      <td>0.000000</td>\n      <td>0.054150</td>\n      <td>0.023450</td>\n      <td>0.000000</td>\n      <td>0.094575</td>\n      <td>0.197000</td>\n      <td>94.242250</td>\n      <td>172975.750000</td>\n      <td>4.000000</td>\n      <td>75.500000</td>\n    </tr>\n    <tr>\n      <th>50%</th>\n      <td>0.710000</td>\n      <td>0.645000</td>\n      <td>5.000000</td>\n      <td>-6.25100</td>\n      <td>1.000000</td>\n      <td>0.082400</td>\n      <td>0.091100</td>\n      <td>0.000000</td>\n      <td>0.114000</td>\n      <td>0.419500</td>\n      <td>127.516500</td>\n      <td>194294.500000</td>\n      <td>4.000000</td>\n      <td>84.000000</td>\n    </tr>\n    <tr>\n      <th>75%</th>\n      <td>0.806250</td>\n      <td>0.706500</td>\n      <td>8.000000</td>\n      <td>-5.24975</td>\n      <td>1.000000</td>\n      <td>0.162500</td>\n      <td>0.332250</td>\n      <td>0.000010</td>\n      <td>0.137000</td>\n      <td>0.652500</td>\n      <td>150.065750</td>\n      <td>215178.250000</td>\n      <td>4.000000</td>\n      <td>88.000000</td>\n    </tr>\n    <tr>\n      <th>max</th>\n      <td>0.916000</td>\n      <td>0.859000</td>\n      <td>11.000000</td>\n      <td>-2.72400</td>\n      <td>1.000000</td>\n      <td>0.355000</td>\n      <td>0.691000</td>\n      <td>0.017700</td>\n      <td>0.434000</td>\n      <td>0.956000</td>\n      <td>205.863000</td>\n      <td>292799.000000</td>\n      <td>4.000000</td>\n      <td>100.000000</td>\n    </tr>\n  </tbody>\n</table>\n</div>"
     },
     "metadata": {}
    }
   ]
  },
  {
   "cell_type": "code",
   "metadata": {
    "cell_id": "fa51f6eabb66493986f257433d4169a7",
    "tags": [],
    "deepnote_to_be_reexecuted": false,
    "source_hash": "b1c41a69",
    "execution_start": 1651615712035,
    "execution_millis": 559,
    "deepnote_cell_type": "code",
    "deepnote_cell_height": 1051.1875,
    "deepnote_output_heights": [
     null,
     438,
     331
    ]
   },
   "source": "#feature correlation with popularity of song\ncorr = final_df.corr()\nsns.heatmap(corr, cmap=\"Blues\")\nprint(\"Correlation with popularity score:\")\ncorr['top_popularity_correlations'] = np.abs(corr['popularity'])\ncorr2 = corr.sort_values('top_popularity_correlations', ascending = False)\npd.DataFrame(corr2['top_popularity_correlations'])",
   "execution_count": null,
   "outputs": [
    {
     "name": "stdout",
     "text": "Correlation with popularity score:\n",
     "output_type": "stream"
    },
    {
     "output_type": "execute_result",
     "execution_count": 11,
     "data": {
      "text/plain": "                  top_popularity_correlations\npopularity                           1.000000\nenergy                               0.367991\nspeechiness                          0.353837\nvalence                              0.308908\nloudness                             0.264120\ndanceability                         0.235252\nacousticness                         0.174120\ninstrumentalness                     0.140341\nliveness                             0.122629\ntempo                                0.084010\nduration_ms                          0.067521\nmode                                 0.059034\ntime_signature                       0.045526\nkey                                  0.021369",
      "text/html": "<div>\n<style scoped>\n    .dataframe tbody tr th:only-of-type {\n        vertical-align: middle;\n    }\n\n    .dataframe tbody tr th {\n        vertical-align: top;\n    }\n\n    .dataframe thead th {\n        text-align: right;\n    }\n</style>\n<table border=\"1\" class=\"dataframe\">\n  <thead>\n    <tr style=\"text-align: right;\">\n      <th></th>\n      <th>top_popularity_correlations</th>\n    </tr>\n  </thead>\n  <tbody>\n    <tr>\n      <th>popularity</th>\n      <td>1.000000</td>\n    </tr>\n    <tr>\n      <th>energy</th>\n      <td>0.367991</td>\n    </tr>\n    <tr>\n      <th>speechiness</th>\n      <td>0.353837</td>\n    </tr>\n    <tr>\n      <th>valence</th>\n      <td>0.308908</td>\n    </tr>\n    <tr>\n      <th>loudness</th>\n      <td>0.264120</td>\n    </tr>\n    <tr>\n      <th>danceability</th>\n      <td>0.235252</td>\n    </tr>\n    <tr>\n      <th>acousticness</th>\n      <td>0.174120</td>\n    </tr>\n    <tr>\n      <th>instrumentalness</th>\n      <td>0.140341</td>\n    </tr>\n    <tr>\n      <th>liveness</th>\n      <td>0.122629</td>\n    </tr>\n    <tr>\n      <th>tempo</th>\n      <td>0.084010</td>\n    </tr>\n    <tr>\n      <th>duration_ms</th>\n      <td>0.067521</td>\n    </tr>\n    <tr>\n      <th>mode</th>\n      <td>0.059034</td>\n    </tr>\n    <tr>\n      <th>time_signature</th>\n      <td>0.045526</td>\n    </tr>\n    <tr>\n      <th>key</th>\n      <td>0.021369</td>\n    </tr>\n  </tbody>\n</table>\n</div>"
     },
     "metadata": {}
    },
    {
     "data": {
      "text/plain": "<Figure size 432x288 with 2 Axes>",
      "image/png": "[encoded data removed]"
     },
     "metadata": {
      "needs_background": "light",
      "image/png": {
       "width": 434,
       "height": 329
      }
     },
     "output_type": "display_data"
    }
   ]
  },
  {
   "cell_type": "markdown",
   "source": "Scatterplots of top 6 features correlated with popularity: instrumentalness, loudness, mode, duration_ms, liveness, valence",
   "metadata": {
    "cell_id": "f960776afcdb49729d4240c1a44b82a9",
    "tags": [],
    "deepnote_cell_type": "markdown",
    "deepnote_cell_height": 74.78125
   }
  },
  {
   "cell_type": "code",
   "metadata": {
    "cell_id": "4cd8eaf5ac854ba7a33c6ad2666532d9",
    "tags": [],
    "deepnote_to_be_reexecuted": false,
    "source_hash": "df4e81e2",
    "execution_start": 1651618165782,
    "execution_millis": 1151,
    "deepnote_cell_type": "code",
    "deepnote_cell_height": 632.1875,
    "deepnote_output_heights": [
     21.1875,
     321
    ]
   },
   "source": "#instrumentalness\n#sns.regplot(data=final_df, x=\"instrumentalness\", y=\"popularity\").set_title('Popularity vs. Instrumentalness')\n\nplt.figure(figsize=(8,5))\nsns.scatterplot(data=final_df,x=\"instrumentalness\",y=\"popularity\")\nfor i in range(final_df.shape[0]):\n plt.text(x=final_df.instrumentalness[i]+0.3,y=final_df.popularity[i]+0.3,s=final_df.track_name[i], fontdict=dict(color='red',size=10),bbox=dict(facecolor='yellow',alpha=0.5))\nplt.xlim(final_df.instrumentalness.min()-1,final_df.instrumentalness.max()+1)                #set x limit\nplt.ylim(final_df.popularity.min()-1,final_df.popularity.max()+1)              #set y limit \n",
   "execution_count": null,
   "outputs": [
    {
     "output_type": "execute_result",
     "execution_count": 77,
     "data": {
      "text/plain": "(70.0, 101.0)"
     },
     "metadata": {}
    },
    {
     "data": {
      "text/plain": "<Figure size 576x360 with 1 Axes>",
      "image/png": "[encoded data removed]"
     },
     "metadata": {
      "needs_background": "light",
      "image/png": {
       "width": 645,
       "height": 319
      }
     },
     "output_type": "display_data"
    }
   ]
  },
  {
   "cell_type": "code",
   "metadata": {
    "cell_id": "47a144881092414d9a8f0ded9d854e27",
    "tags": [],
    "deepnote_to_be_reexecuted": false,
    "source_hash": "50056c59",
    "execution_start": 1651615712984,
    "execution_millis": 677,
    "owner_user_id": "c886c3f0-aa5f-44f4-b83b-430d1ba751f7",
    "deepnote_cell_type": "code",
    "deepnote_cell_height": 447.1875,
    "deepnote_output_heights": [
     21.1875,
     280
    ]
   },
   "source": "#loudness\nsns.regplot(data=final_df, x=\"loudness\", y=\"popularity\").set_title('Popularity vs. Loudness')",
   "execution_count": null,
   "outputs": [
    {
     "output_type": "execute_result",
     "execution_count": 13,
     "data": {
      "text/plain": "Text(0.5, 1.0, 'Popularity vs. Loudness')"
     },
     "metadata": {}
    },
    {
     "data": {
      "text/plain": "<Figure size 432x288 with 1 Axes>",
      "image/png": "[encoded data removed]"
     },
     "metadata": {
      "needs_background": "light",
      "image/png": {
       "width": 389,
       "height": 278
      }
     },
     "output_type": "display_data"
    }
   ]
  },
  {
   "cell_type": "code",
   "metadata": {
    "cell_id": "a6c894a8ecd04e41ae4d87808fcd5c9d",
    "tags": [],
    "deepnote_to_be_reexecuted": false,
    "source_hash": "8ddf09a3",
    "execution_start": 1651615713335,
    "execution_millis": 356,
    "deepnote_cell_type": "code",
    "deepnote_cell_height": 447.1875,
    "deepnote_output_heights": [
     21.1875,
     280
    ]
   },
   "source": "#mode\nsns.regplot(data=final_df, x=\"mode\", y=\"popularity\").set_title('Popularity vs. Mode')",
   "execution_count": null,
   "outputs": [
    {
     "output_type": "execute_result",
     "execution_count": 14,
     "data": {
      "text/plain": "Text(0.5, 1.0, 'Popularity vs. Mode')"
     },
     "metadata": {}
    },
    {
     "data": {
      "text/plain": "<Figure size 432x288 with 1 Axes>",
      "image/png": "[encoded data removed]"
     },
     "metadata": {
      "needs_background": "light",
      "image/png": {
       "width": 389,
       "height": 278
      }
     },
     "output_type": "display_data"
    }
   ]
  },
  {
   "cell_type": "code",
   "metadata": {
    "cell_id": "52f04bdff61d41d7b3c69771fc02b092",
    "tags": [],
    "deepnote_to_be_reexecuted": false,
    "source_hash": "5bb35a56",
    "execution_start": 1651615713646,
    "execution_millis": 498,
    "deepnote_cell_type": "code",
    "deepnote_cell_height": 448.1875,
    "deepnote_output_heights": [
     21.1875,
     281
    ]
   },
   "source": "#duration_ms\nsns.regplot(data=final_df, x=\"duration_ms\", y=\"popularity\").set_title('Popularity vs. Duration_ms')",
   "execution_count": null,
   "outputs": [
    {
     "output_type": "execute_result",
     "execution_count": 15,
     "data": {
      "text/plain": "Text(0.5, 1.0, 'Popularity vs. Duration_ms')"
     },
     "metadata": {}
    },
    {
     "data": {
      "text/plain": "<Figure size 432x288 with 1 Axes>",
      "image/png": "[encoded data removed]"
     },
     "metadata": {
      "needs_background": "light",
      "image/png": {
       "width": 404,
       "height": 279
      }
     },
     "output_type": "display_data"
    }
   ]
  },
  {
   "cell_type": "code",
   "metadata": {
    "cell_id": "98f259ef44314c3fa0d72fee285128f8",
    "tags": [],
    "deepnote_to_be_reexecuted": false,
    "source_hash": "a237b21b",
    "execution_start": 1651615714151,
    "execution_millis": 326,
    "deepnote_cell_type": "code",
    "deepnote_cell_height": 447.1875,
    "deepnote_output_heights": [
     21.1875,
     280
    ]
   },
   "source": "#liveness\nsns.regplot(data=final_df, x=\"liveness\", y=\"popularity\").set_title('Popularity vs. Liveness')",
   "execution_count": null,
   "outputs": [
    {
     "output_type": "execute_result",
     "execution_count": 16,
     "data": {
      "text/plain": "Text(0.5, 1.0, 'Popularity vs. Liveness')"
     },
     "metadata": {}
    },
    {
     "data": {
      "text/plain": "<Figure size 432x288 with 1 Axes>",
      "image/png": "[encoded data removed]"
     },
     "metadata": {
      "needs_background": "light",
      "image/png": {
       "width": 397,
       "height": 278
      }
     },
     "output_type": "display_data"
    }
   ]
  },
  {
   "cell_type": "code",
   "metadata": {
    "cell_id": "fc6bb855d00d4723ba7a0e3133c128be",
    "tags": [],
    "deepnote_to_be_reexecuted": false,
    "source_hash": "25620ae5",
    "execution_start": 1651615714481,
    "execution_millis": 290,
    "deepnote_cell_type": "code",
    "deepnote_cell_height": 447.1875,
    "deepnote_output_heights": [
     21.1875,
     280
    ]
   },
   "source": "#valence\nsns.regplot(data=final_df, x=\"valence\", y=\"popularity\").set_title('Popularity vs. Valence')",
   "execution_count": null,
   "outputs": [
    {
     "output_type": "execute_result",
     "execution_count": 17,
     "data": {
      "text/plain": "Text(0.5, 1.0, 'Popularity vs. Valence')"
     },
     "metadata": {}
    },
    {
     "data": {
      "text/plain": "<Figure size 432x288 with 1 Axes>",
      "image/png": "[encoded data removed]"
     },
     "metadata": {
      "needs_background": "light",
      "image/png": {
       "width": 389,
       "height": 278
      }
     },
     "output_type": "display_data"
    }
   ]
  },
  {
   "cell_type": "markdown",
   "source": "5. Data Cleaning & Preprocessing",
   "metadata": {
    "cell_id": "9a60a7e15d7a4dd9a0dd9cb92732b29c",
    "tags": [],
    "deepnote_cell_type": "markdown",
    "deepnote_cell_height": 69.390625
   }
  },
  {
   "cell_type": "code",
   "metadata": {
    "cell_id": "9ace6629897a4bf68e5e94a1cac5fa4c",
    "tags": [],
    "deepnote_to_be_reexecuted": false,
    "source_hash": "c1a489da",
    "execution_start": 1651615714777,
    "execution_millis": 24,
    "deepnote_cell_type": "code",
    "deepnote_cell_height": 559.5,
    "deepnote_output_heights": [
     462.5
    ]
   },
   "source": "final_df.isna().sum() #no missing data",
   "execution_count": null,
   "outputs": [
    {
     "output_type": "execute_result",
     "execution_count": 18,
     "data": {
      "text/plain": "danceability        0\nenergy              0\nkey                 0\nloudness            0\nmode                0\nspeechiness         0\nacousticness        0\ninstrumentalness    0\nliveness            0\nvalence             0\ntempo               0\ntype                0\nid                  0\nuri                 0\ntrack_href          0\nanalysis_url        0\nduration_ms         0\ntime_signature      0\ngenre               0\nalbum               0\npopularity          0\nname                0\ntrack_name          0\ndtype: int64"
     },
     "metadata": {}
    }
   ]
  },
  {
   "cell_type": "code",
   "metadata": {
    "cell_id": "4c59316ac0c34ea79015cfdc180cf0f7",
    "tags": [],
    "deepnote_to_be_reexecuted": false,
    "source_hash": "be6d3734",
    "execution_start": 1651615714800,
    "execution_millis": 4,
    "deepnote_cell_type": "code",
    "deepnote_cell_height": 852,
    "deepnote_output_heights": [
     611
    ]
   },
   "source": "#scale features \n#include popularity in addition to just sound features\nfeatures = ['danceability', 'energy', 'key', 'loudness', 'mode', 'speechiness',\n       'acousticness', 'instrumentalness', 'liveness', 'valence', 'tempo', 'duration_ms',\n       'time_signature', 'popularity'] \n\nscaler = MinMaxScaler()\ndf_norm = scaler.fit_transform(final_df[features])\ndf_norm",
   "execution_count": null,
   "outputs": [
    {
     "output_type": "execute_result",
     "execution_count": 19,
     "data": {
      "text/plain": "array([[3.06479860e-01, 8.08095952e-01, 5.45454545e-01, 7.22711361e-01,\n        0.00000000e+00, 8.77781164e-02, 4.94796695e-01, 5.70621469e-02,\n        6.85903984e-01, 6.62495695e-01, 7.59667344e-01, 3.27697599e-01,\n        1.00000000e+00, 1.00000000e+00],\n       [9.80735552e-01, 5.56221889e-01, 7.27272727e-01, 6.38166967e-01,\n        1.00000000e+00, 2.28893630e-01, 3.64947866e-02, 5.48587571e-04,\n        1.80286006e-01, 2.74480542e-01, 2.55926846e-01, 3.63295940e-01,\n        1.00000000e+00, 8.27586207e-01],\n       [2.06654991e-01, 6.74662669e-01, 9.09090909e-02, 8.14363000e-01,\n        1.00000000e+00, 9.54282231e-01, 4.54264625e-01, 0.00000000e+00,\n        6.69050051e-02, 2.91700149e-01, 7.82418906e-02, 4.48715888e-01,\n        1.00000000e+00, 2.41379310e-01],\n       [9.42206655e-01, 6.97151424e-01, 7.27272727e-01, 6.79219264e-01,\n        1.00000000e+00, 8.47607437e-01, 8.70151170e-02, 0.00000000e+00,\n        2.18590398e-01, 2.28561589e-01, 3.91352450e-01, 3.57858421e-01,\n        1.00000000e+00, 1.37931034e-01],\n       [7.28546410e-01, 4.99250375e-01, 1.00000000e+00, 5.57017079e-01,\n        1.00000000e+00, 2.05729960e-01, 6.36658941e-01, 3.78531073e-04,\n        1.26915220e-01, 5.12111124e-01, 5.92835102e-02, 7.10745396e-01,\n        1.00000000e+00, 6.55172414e-01],\n       [7.49562172e-01, 7.72113943e-01, 1.00000000e+00, 6.83250239e-01,\n        1.00000000e+00, 9.11307528e-02, 1.46364201e-02, 5.87570621e-04,\n        6.47599591e-01, 3.22580645e-02, 2.99841951e-02, 6.96720345e-01,\n        1.00000000e+00, 1.37931034e-01],\n       [8.59894921e-01, 8.26086957e-01, 9.09090909e-01, 6.20133659e-01,\n        0.00000000e+00, 1.17951844e-01, 1.43760015e-01, 0.00000000e+00,\n        7.47191011e-01, 7.31374125e-01, 2.70738316e-01, 4.59049854e-01,\n        1.00000000e+00, 2.75862069e-01],\n       [6.40980736e-01, 7.40629685e-01, 4.54545455e-01, 6.09101517e-01,\n        0.00000000e+00, 7.43980494e-01, 5.11152833e-02, 0.00000000e+00,\n        2.08375894e-01, 5.17850993e-01, 5.56769775e-01, 3.59219140e-01,\n        1.00000000e+00, 1.37931034e-01],\n       [9.91243433e-01, 5.71214393e-01, 1.81818182e-01, 6.97782964e-01,\n        1.00000000e+00, 4.14812557e-01, 1.59392366e-02, 3.29378531e-03,\n        2.26251277e-01, 6.89932270e-02, 5.34605253e-01, 8.87719242e-01,\n        1.00000000e+00, 1.03448276e-01],\n       [6.93520140e-01, 7.48125937e-01, 9.09090909e-01, 5.04508327e-01,\n        0.00000000e+00, 1.22828406e-01, 3.17177926e-02, 0.00000000e+00,\n        1.32788560e-02, 9.26529675e-01, 5.80221269e-01, 5.69037747e-01,\n        1.00000000e+00, 4.82758621e-01],\n       [6.04203152e-01, 4.93253373e-01, 9.09090909e-01, 3.88140448e-01,\n        0.00000000e+00, 9.51234380e-01, 4.68740365e-01, 0.00000000e+00,\n        2.80898876e-02, 4.69636092e-01, 2.03469557e-01, 1.00000000e+00,\n        1.00000000e+00, 4.82758621e-01],\n       [4.30823117e-01, 8.57571214e-01, 9.09090909e-02, 7.07223931e-01,\n        1.00000000e+00, 6.52240171e-02, 5.51684904e-02, 0.00000000e+00,\n        1.54749745e-01, 4.51268511e-01, 7.29547678e-01, 1.91106040e-01,\n        1.00000000e+00, 5.86206897e-01],\n       [5.37653240e-01, 5.78710645e-01, 0.00000000e+00, 6.32650896e-01,\n        1.00000000e+00, 4.08716855e-01, 1.21900201e-02, 0.00000000e+00,\n        6.19509704e-01, 1.26391918e-01, 1.08391661e-01, 5.41501934e-01,\n        1.00000000e+00, 1.03448276e-01],\n       [3.81786340e-01, 7.07646177e-01, 8.18181818e-01, 7.53898377e-01,\n        1.00000000e+00, 3.87381896e-01, 4.84663678e-01, 0.00000000e+00,\n        1.08529111e-01, 6.92343015e-01, 7.06969218e-01, 3.85790664e-01,\n        1.00000000e+00, 6.55172414e-01],\n       [8.38879159e-01, 8.57571214e-01, 4.54545455e-01, 8.46080407e-01,\n        0.00000000e+00, 1.78299299e-01, 1.28270974e-01, 1.66101695e-01,\n        1.90500511e-01, 9.13901963e-01, 2.63452999e-01, 3.56219129e-01,\n        1.00000000e+00, 6.89655172e-01],\n       [7.33800350e-01, 7.69115442e-01, 2.72727273e-01, 7.28969980e-01,\n        0.00000000e+00, 2.74306614e-03, 5.34314016e-02, 1.09604520e-03,\n        1.32533197e-01, 6.73975433e-01, 2.10807556e-01, 4.84217801e-01,\n        1.00000000e+00, 5.51724138e-01],\n       [4.48336252e-01, 8.23088456e-01, 1.81818182e-01, 6.98207277e-01,\n        1.00000000e+00, 6.37000914e-02, 2.67527587e-01, 1.64406780e-03,\n        9.51481103e-01, 4.08793480e-01, 6.09370061e-01, 2.52091972e-01,\n        1.00000000e+00, 6.20689655e-01],\n       [6.70753065e-01, 8.86056972e-01, 1.00000000e+00, 8.19666914e-01,\n        0.00000000e+00, 7.28741237e-01, 3.42801432e-01, 0.00000000e+00,\n        1.00000000e+00, 5.39662496e-01, 3.02400843e-02, 3.60258429e-01,\n        1.00000000e+00, 4.48275862e-01],\n       [3.06479860e-01, 9.89505247e-01, 0.00000000e+00, 6.66702026e-01,\n        1.00000000e+00, 8.35111247e-02, 3.15715876e-03, 3.27118644e-03,\n        7.89070480e-02, 1.71162897e-01, 5.06314443e-01, 7.89934964e-01,\n        1.00000000e+00, 3.10344828e-01],\n       [5.42907180e-02, 6.97151424e-01, 6.36363636e-01, 7.94844595e-01,\n        1.00000000e+00, 1.52087778e-01, 1.23928252e-01, 0.00000000e+00,\n        1.17466803e-01, 1.35575709e-01, 5.69880334e-02, 3.14192194e-01,\n        1.00000000e+00, 4.48275862e-01],\n       [6.37478109e-01, 2.47376312e-01, 4.54545455e-01, 3.03596054e-01,\n        1.00000000e+00, 5.70252972e-01, 6.91666751e-01, 1.66101695e-02,\n        1.77732380e-01, 5.27034784e-01, 1.88229096e-02, 1.25073661e-01,\n        1.00000000e+00, 3.44827586e-02],\n       [8.14360771e-01, 6.94152924e-01, 7.27272727e-01, 5.69852551e-01,\n        0.00000000e+00, 1.30752819e-01, 1.83568299e-01, 4.61016949e-03,\n        1.59856997e-01, 8.31247848e-01, 5.79581546e-01, 4.67085597e-01,\n        1.00000000e+00, 1.37931034e-01],\n       [1.00000000e+00, 3.91304348e-01, 9.09090909e-02, 8.48944521e-01,\n        1.00000000e+00, 3.99573301e-01, 0.00000000e+00, 0.00000000e+00,\n        2.41573034e-01, 7.70290437e-02, 5.41988410e-01, 0.00000000e+00,\n        1.00000000e+00, 3.44827586e-02],\n       [9.19439580e-01, 4.85757121e-01, 9.09090909e-02, 4.39694495e-01,\n        1.00000000e+00, 8.29015544e-02, 9.49334912e-01, 4.64971751e-01,\n        1.72625128e-01, 5.10963150e-01, 2.86084142e-01, 5.57503777e-01,\n        1.00000000e+00, 4.13793103e-01],\n       [4.51838879e-01, 8.86056972e-01, 5.45454545e-01, 8.62204307e-01,\n        1.00000000e+00, 1.06979579e-01, 6.49687107e-01, 4.49717514e-04,\n        1.95607763e-01, 7.92216737e-01, 7.45450440e-01, 3.58774496e-01,\n        1.00000000e+00, 4.82758621e-01],\n       [5.58669002e-01, 6.25187406e-01, 9.09090909e-02, 5.98493688e-01,\n        1.00000000e+00, 1.33495885e-01, 4.39788886e-01, 0.00000000e+00,\n        1.28192033e-01, 1.25243944e-01, 4.29351998e-01, 5.59432355e-01,\n        1.00000000e+00, 5.51724138e-01],\n       [8.40630473e-01, 3.32833583e-01, 1.81818182e-01, 5.85233903e-01,\n        1.00000000e+00, 3.56903383e-01, 3.56247946e-03, 0.00000000e+00,\n        8.03370787e-01, 2.42222477e-02, 0.00000000e+00, 5.05796449e-01,\n        1.00000000e+00, 6.89655172e-02],\n       [8.82661996e-01, 3.47826087e-01, 4.54545455e-01, 2.72833351e-01,\n        0.00000000e+00, 9.05516611e-01, 9.16473536e-02, 0.00000000e+00,\n        1.04698672e-01, 7.81770176e-02, 5.48611425e-01, 7.33036547e-01,\n        1.00000000e+00, 4.48275862e-01],\n       [4.02802102e-01, 6.83658171e-01, 9.09090909e-01, 7.70128355e-01,\n        1.00000000e+00, 2.71258763e-02, 8.43662015e-01, 0.00000000e+00,\n        1.85393258e-01, 4.37492825e-01, 2.24580417e-02, 2.89859964e-01,\n        1.00000000e+00, 5.86206897e-01],\n       [4.08056042e-01, 3.58320840e-01, 1.81818182e-01, 5.42802588e-01,\n        1.00000000e+00, 0.00000000e+00, 6.78638586e-01, 0.00000000e+00,\n        2.41573034e-01, 1.43611526e-01, 3.31045383e-01, 6.47370169e-01,\n        0.00000000e+00, 2.41379310e-01],\n       [4.67600701e-01, 9.22038981e-01, 9.09090909e-01, 9.90877267e-01,\n        1.00000000e+00, 2.04206035e-02, 7.13813185e-02, 1.00000000e+00,\n        1.49642492e-01, 3.59430605e-01, 3.84285392e-01, 7.19290069e-01,\n        1.00000000e+00, 5.86206897e-01],\n       [8.72154116e-01, 7.61619190e-01, 3.63636364e-01, 9.11000318e-01,\n        0.00000000e+00, 1.62755258e-01, 1.34929814e-01, 0.00000000e+00,\n        2.49233912e-01, 9.34565492e-01, 1.58034169e-01, 6.42618366e-01,\n        1.00000000e+00, 7.24137931e-01],\n       [8.38879159e-01, 7.12143928e-01, 9.09090909e-01, 5.88522329e-01,\n        0.00000000e+00, 1.66107894e-01, 4.37312087e-03, 1.49717514e-04,\n        1.35852911e-01, 2.52669039e-01, 6.80665312e-02, 5.45359091e-01,\n        1.00000000e+00, 6.89655172e-02],\n       [7.19789842e-01, 7.57121439e-01, 7.27272727e-01, 6.12496022e-01,\n        1.00000000e+00, 4.02316367e-02, 2.63184865e-01, 0.00000000e+00,\n        7.42083759e-01, 1.00000000e+00, 1.65597953e-01, 5.35384055e-01,\n        1.00000000e+00, 3.10344828e-01],\n       [7.32049037e-01, 5.00749625e-01, 4.54545455e-01, 5.72610587e-01,\n        0.00000000e+00, 1.00000000e+00, 1.32901763e-02, 1.27118644e-04,\n        1.75178754e-01, 3.18103547e-01, 8.19319636e-01, 3.01072504e-01,\n        1.00000000e+00, 3.44827586e-02],\n       [6.86514886e-01, 9.80509745e-01, 9.09090909e-02, 8.10544182e-01,\n        0.00000000e+00, 5.88540079e-01, 8.61451251e-03, 0.00000000e+00,\n        1.58324821e-02, 5.29330731e-01, 1.12801987e-01, 2.02329294e-01,\n        1.00000000e+00, 6.55172414e-01],\n       [4.20315236e-02, 0.00000000e+00, 3.63636364e-01, 0.00000000e+00,\n        0.00000000e+00, 3.99268516e-02, 8.03129944e-01, 4.71751412e-04,\n        1.35342186e-01, 7.24371484e-02, 7.69315873e-01, 6.52930903e-01,\n        0.00000000e+00, 0.00000000e+00],\n       [3.73029772e-01, 5.50224888e-01, 5.45454545e-01, 3.10703299e-01,\n        1.00000000e+00, 2.10301737e-01, 5.36776340e-01, 4.23163842e-04,\n        1.70071502e-01, 6.14280794e-01, 4.18830436e-02, 3.97790706e-01,\n        1.00000000e+00, 4.13793103e-01],\n       [2.80210158e-01, 6.97151424e-01, 1.00000000e+00, 7.33107033e-01,\n        0.00000000e+00, 1.49344712e-02, 5.39671488e-01, 6.04519774e-02,\n        2.13483146e-01, 1.91826426e-01, 9.25769549e-01, 3.87788885e-01,\n        0.00000000e+00, 2.75862069e-01],\n       [5.28896673e-01, 5.83208396e-01, 3.63636364e-01, 4.74488172e-01,\n        0.00000000e+00, 1.87442853e-01, 3.92437295e-03, 4.38418079e-04,\n        1.95607763e-01, 3.22580645e-02, 5.80687890e-01, 5.37066204e-01,\n        1.00000000e+00, 4.82758621e-01],\n       [7.88091068e-01, 9.11544228e-01, 9.09090909e-02, 6.18542484e-01,\n        1.00000000e+00, 1.21914051e-02, 5.09705259e-02, 4.09604520e-03,\n        1.25383044e-01, 9.74744576e-01, 3.23918115e-01, 5.17512563e-01,\n        1.00000000e+00, 4.48275862e-01],\n       [0.00000000e+00, 6.29685157e-01, 6.36363636e-01, 5.94887027e-01,\n        0.00000000e+00, 1.03322158e-01, 3.35563562e-01, 0.00000000e+00,\n        3.87129724e-01, 1.68866950e-01, 8.03642658e-01, 2.51074111e-01,\n        0.00000000e+00, 6.20689655e-01],\n       [6.12959720e-02, 2.20389805e-01, 2.72727273e-01, 4.52529967e-01,\n        1.00000000e+00, 2.10301737e-02, 1.00000000e+00, 0.00000000e+00,\n        1.98161389e-01, 0.00000000e+00, 2.07827200e-01, 6.59434498e-01,\n        1.00000000e+00, 5.86206897e-01],\n       [4.06304729e-01, 3.86806597e-01, 0.00000000e+00, 3.85594569e-01,\n        0.00000000e+00, 1.72203596e-01, 5.16510305e-01, 0.00000000e+00,\n        1.75178754e-01, 8.55355298e-01, 1.00000000e+00, 5.89218176e-01,\n        1.00000000e+00, 5.17241379e-01],\n       [7.75831874e-01, 1.00000000e+00, 1.81818182e-01, 1.00000000e+00,\n        1.00000000e+00, 1.78908869e-01, 4.06494685e-01, 0.00000000e+00,\n        0.00000000e+00, 8.46171507e-01, 5.11981636e-01, 5.44930518e-01,\n        1.00000000e+00, 6.55172414e-01],\n       [6.40980736e-01, 6.28185907e-01, 9.09090909e-02, 7.10512358e-01,\n        1.00000000e+00, 9.23803718e-01, 8.23814328e-03, 0.00000000e+00,\n        4.79060266e-01, 6.78452531e-02, 4.59847972e-01, 7.82836724e-01,\n        1.00000000e+00, 2.06896552e-01],\n       [1.13835377e-01, 6.28185907e-01, 3.63636364e-01, 4.11583749e-01,\n        0.00000000e+00, 6.03474550e-02, 3.27310943e-02, 0.00000000e+00,\n        1.87946885e-01, 5.73986913e-03, 8.48453375e-01, 4.19546141e-01,\n        0.00000000e+00, 6.89655172e-01],\n       [4.08056042e-01, 3.85307346e-01, 9.09090909e-02, 6.15466214e-01,\n        1.00000000e+00, 7.89698263e-01, 8.91864779e-02, 1.22598870e-04,\n        1.95607763e-01, 1.73344048e-02, 4.74245503e-01, 4.65124875e-01,\n        1.00000000e+00, 3.44827586e-01],\n       [9.05429072e-01, 6.40179910e-01, 1.00000000e+00, 6.31590114e-01,\n        0.00000000e+00, 5.91587931e-01, 5.80636382e-02, 0.00000000e+00,\n        5.37793667e-01, 6.18872690e-01, 5.64958230e-01, 4.77505277e-01,\n        1.00000000e+00, 0.00000000e+00],\n       [6.09457093e-01, 5.74212894e-01, 1.81818182e-01, 4.79261695e-01,\n        1.00000000e+00, 1.94148126e-01, 1.74882855e-01, 0.00000000e+00,\n        1.57303371e-01, 3.07771783e-01, 4.89373071e-01, 2.88852817e-01,\n        1.00000000e+00, 4.13793103e-01]])"
     },
     "metadata": {}
    }
   ]
  },
  {
   "cell_type": "code",
   "metadata": {
    "cell_id": "6f969ef97686496d8b36844b993f5eaa",
    "tags": [],
    "deepnote_to_be_reexecuted": false,
    "source_hash": "fc94c4b5",
    "execution_start": 1651615714806,
    "execution_millis": 9,
    "deepnote_cell_type": "code",
    "deepnote_cell_height": 744,
    "deepnote_output_heights": [
     611
    ]
   },
   "source": "#indices & track name\nindices = pd.Series(final_df.index, index=final_df['track_name']).drop_duplicates()\nindices",
   "execution_count": null,
   "outputs": [
    {
     "output_type": "execute_result",
     "execution_count": 20,
     "data": {
      "text/plain": "track_name\nAs It Was                                                       0\nFirst Class                                                     1\nWAIT FOR U (feat. Drake & Tems)                                 2\nPUFFIN ON ZOOTIEZ                                               3\nHeat Waves                                                      4\nI'M ON ONE (feat. Drake)                                        5\nAbout Damn Time                                                 6\n712PM                                                           7\nI'M DAT N****                                                   8\nINDUSTRY BABY (feat. Jack Harlow)                               9\nNo Role Modelz                                                 10\nSTAY (with Justin Bieber)                                      11\nKEEP IT BURNIN (feat. Kanye West)                              12\ngood 4 u                                                       13\nWoman                                                          14\nWait a Minute!                                                 15\nGhost                                                          16\nEnemy (with JID) - from the series Arcane League of Legends    17\n505                                                            18\nThousand Miles                                                 19\nLOVE YOU BETTER                                                20\nHonest (feat. Don Toliver)                                     21\nMASSAGING ME                                                   22\nPROVENZA                                                       23\nDark Red                                                       24\nNeed to Know                                                   25\nSuper Gremlin                                                  26\nKnife Talk (with 21 Savage ft. Project Pat)                    27\nI Love You So                                                  28\nDon't Think Jesus                                              29\nSweater Weather                                                30\nMAMIII                                                         31\nFOR A NUT (feat. Gunna & Young Thug)                           32\nBam Bam (feat. Ed Sheeran)                                     33\nGOLD STACKS                                                    34\nTHATS WHAT I WANT                                              35\nSomething in the Orange                                        36\nSee You Again (feat. Kali Uchis)                               37\nWasted On You                                                  38\nNail Tech                                                      39\nCold Heart - PNAU Remix                                        40\nBoyfriend                                                      41\ntraitor                                                        42\nWe Don't Talk About Bruno                                      43\nShivers                                                        44\nfamily ties (with Kendrick Lamar)                              45\nMIDDLE OF THE NIGHT                                            46\nWants and Needs (feat. Lil Baby)                               47\nCHICKENS (feat. EST Gee)                                       48\nMonëy so big                                                   49\ndtype: int64"
     },
     "metadata": {}
    }
   ]
  },
  {
   "cell_type": "markdown",
   "source": "6. Build Content-Based Recommender",
   "metadata": {
    "cell_id": "d56024e269a14f82b10d08c3bd1d7e1c",
    "tags": [],
    "deepnote_cell_type": "markdown",
    "deepnote_cell_height": 69.390625
   }
  },
  {
   "cell_type": "code",
   "metadata": {
    "cell_id": "a1308b585eaf4bbea355be3beb52c3a1",
    "tags": [],
    "deepnote_to_be_reexecuted": false,
    "source_hash": "59a195b2",
    "execution_start": 1651615714818,
    "execution_millis": 6,
    "deepnote_cell_type": "code",
    "deepnote_cell_height": 384.4375,
    "deepnote_output_heights": [
     251.4375
    ]
   },
   "source": "#find cosine similarity\ncos_sim = cosine_similarity(df_norm)\ncos_sim",
   "execution_count": null,
   "outputs": [
    {
     "output_type": "execute_result",
     "execution_count": 21,
     "data": {
      "text/plain": "array([[1.        , 0.76739383, 0.6466187 , ..., 0.66031994, 0.79919225,\n        0.76329734],\n       [0.76739383, 1.        , 0.78460955, ..., 0.85232326, 0.78389007,\n        0.93507829],\n       [0.6466187 , 0.78460955, 1.        , ..., 0.93510978, 0.6696159 ,\n        0.86369325],\n       ...,\n       [0.66031994, 0.85232326, 0.93510978, ..., 1.        , 0.7018359 ,\n        0.92320495],\n       [0.79919225, 0.78389007, 0.6696159 , ..., 0.7018359 , 1.        ,\n        0.73907747],\n       [0.76329734, 0.93507829, 0.86369325, ..., 0.92320495, 0.73907747,\n        1.        ]])"
     },
     "metadata": {}
    }
   ]
  },
  {
   "cell_type": "code",
   "metadata": {
    "cell_id": "abab44308b8441d9bf6bae9fa0ee2336",
    "tags": [],
    "deepnote_to_be_reexecuted": false,
    "source_hash": "50781334",
    "execution_start": 1651615714870,
    "execution_millis": 0,
    "deepnote_cell_type": "code",
    "deepnote_cell_height": 279
   },
   "source": "#get recommendation\ndef CB_rec(trackname, topmost_recs):\n    index = indices[trackname]\n    cos_score = list(enumerate(cos_sim[indices[trackname]])) #changed cos_sim to final_df\n    sim_score = sorted(cos_score,key = lambda x:x[1],reverse = True)\n    \n    #Get top 'topmost_recs' songs\n    sim_score2 = sim_score[1:topmost_recs+1]\n    topsongs_i = [i[0] for i in sim_score2]\n    top_songs = final_df['track_name'].iloc[topsongs_i]\n    top_artists = final_df['name'].iloc[topsongs_i]\n    return top_songs",
   "execution_count": null,
   "outputs": []
  },
  {
   "cell_type": "code",
   "metadata": {
    "cell_id": "1bf021a7766745c4a5e4f19ed8a91464",
    "tags": [],
    "deepnote_to_be_reexecuted": false,
    "source_hash": "88af19e4",
    "execution_start": 1651615714871,
    "execution_millis": 3,
    "deepnote_cell_type": "code",
    "deepnote_cell_height": 175.75,
    "deepnote_output_heights": [
     78.75
    ]
   },
   "source": "CB_rec('good 4 u', 3)",
   "execution_count": null,
   "outputs": [
    {
     "output_type": "execute_result",
     "execution_count": 23,
     "data": {
      "text/plain": "24                            Dark Red\n44                             Shivers\n37    See You Again (feat. Kali Uchis)\nName: track_name, dtype: object"
     },
     "metadata": {}
    }
   ]
  },
  {
   "cell_type": "markdown",
   "source": "7. Model Evaluation\n- Determine model baesline --> with vs without recommender\n- baseline: next track (in order) that plays next\n- recommended results: next song recommended\n\nCalculate the recall.\n",
   "metadata": {
    "cell_id": "8bb4752c53a04a9db447be2b4c13676d",
    "tags": [],
    "deepnote_cell_type": "markdown",
    "deepnote_cell_height": 178.953125
   }
  },
  {
   "cell_type": "code",
   "metadata": {
    "cell_id": "8f0946e591004b50af7f851d0a8f9cad",
    "tags": [],
    "deepnote_to_be_reexecuted": false,
    "source_hash": "dc6a39b7",
    "execution_start": 1651615714872,
    "execution_millis": 135,
    "deepnote_cell_type": "code",
    "deepnote_cell_height": 906
   },
   "source": "#song that will play next in line \nbaseline_df = final_df\n#assuming on repeat\ntrack_list = list(final_df['track_name'])\nnext_track_list = track_list[1:]+track_list[0:1]\n\nlen(track_list), len(next_track_list)\nbaseline_df['next_track'] = next_track_list\nbaseline_df\n\n#song that will play next based on what recommender suggests\nrec_list = []\nfor i in range(len(track_list)):\n    recs = CB_rec(track_list[i], 1)\n    rec_list.append(''.join(list(recs)))\nrec_list\nbaseline_df['recommended_track'] = rec_list\nbaseline_df",
   "execution_count": null,
   "outputs": [
    {
     "output_type": "execute_result",
     "execution_count": 24,
     "data": {
      "application/vnd.deepnote.dataframe.v3+json": {
       "column_count": 25,
       "row_count": 50,
       "columns": [
        {
         "name": "danceability",
         "dtype": "float64",
         "stats": {
          "unique_count": 46,
          "nan_count": 0,
          "min": "0.345",
          "max": "0.916",
          "histogram": [
           {
            "bin_start": 0.345,
            "bin_end": 0.40209999999999996,
            "count": 4
           },
           {
            "bin_start": 0.40209999999999996,
            "bin_end": 0.4592,
            "count": 1
           },
           {
            "bin_start": 0.4592,
            "bin_end": 0.5163,
            "count": 2
           },
           {
            "bin_start": 0.5163,
            "bin_end": 0.5734,
            "count": 4
           },
           {
            "bin_start": 0.5734,
            "bin_end": 0.6305000000000001,
            "count": 8
           },
           {
            "bin_start": 0.6305000000000001,
            "bin_end": 0.6876,
            "count": 3
           },
           {
            "bin_start": 0.6876,
            "bin_end": 0.7447,
            "count": 8
           },
           {
            "bin_start": 0.7447,
            "bin_end": 0.8018000000000001,
            "count": 7
           },
           {
            "bin_start": 0.8018000000000001,
            "bin_end": 0.8589,
            "count": 7
           },
           {
            "bin_start": 0.8589,
            "bin_end": 0.916,
            "count": 6
           }
          ]
         }
        },
        {
         "name": "energy",
         "dtype": "float64",
         "stats": {
          "unique_count": 45,
          "nan_count": 0,
          "min": "0.192",
          "max": "0.859",
          "histogram": [
           {
            "bin_start": 0.192,
            "bin_end": 0.25870000000000004,
            "count": 1
           },
           {
            "bin_start": 0.25870000000000004,
            "bin_end": 0.3254,
            "count": 0
           },
           {
            "bin_start": 0.3254,
            "bin_end": 0.3921,
            "count": 2
           },
           {
            "bin_start": 0.3921,
            "bin_end": 0.45880000000000004,
            "count": 6
           },
           {
            "bin_start": 0.45880000000000004,
            "bin_end": 0.5255000000000001,
            "count": 3
           },
           {
            "bin_start": 0.5255000000000001,
            "bin_end": 0.5922000000000001,
            "count": 7
           },
           {
            "bin_start": 0.5922000000000001,
            "bin_end": 0.6589,
            "count": 11
           },
           {
            "bin_start": 0.6589,
            "bin_end": 0.7256,
            "count": 8
           },
           {
            "bin_start": 0.7256,
            "bin_end": 0.7923,
            "count": 7
           },
           {
            "bin_start": 0.7923,
            "bin_end": 0.859,
            "count": 5
           }
          ]
         }
        },
        {
         "name": "key",
         "dtype": "int64",
         "stats": {
          "unique_count": 12,
          "nan_count": 0,
          "min": "0",
          "max": "11",
          "histogram": [
           {
            "bin_start": 0,
            "bin_end": 1.1,
            "count": 12
           },
           {
            "bin_start": 1.1,
            "bin_end": 2.2,
            "count": 6
           },
           {
            "bin_start": 2.2,
            "bin_end": 3.3000000000000003,
            "count": 2
           },
           {
            "bin_start": 3.3000000000000003,
            "bin_end": 4.4,
            "count": 4
           },
           {
            "bin_start": 4.4,
            "bin_end": 5.5,
            "count": 5
           },
           {
            "bin_start": 5.5,
            "bin_end": 6.6000000000000005,
            "count": 3
           },
           {
            "bin_start": 6.6000000000000005,
            "bin_end": 7.700000000000001,
            "count": 2
           },
           {
            "bin_start": 7.700000000000001,
            "bin_end": 8.8,
            "count": 4
           },
           {
            "bin_start": 8.8,
            "bin_end": 9.9,
            "count": 1
           },
           {
            "bin_start": 9.9,
            "bin_end": 11,
            "count": 11
           }
          ]
         }
        },
        {
         "name": "loudness",
         "dtype": "float64",
         "stats": {
          "unique_count": 50,
          "nan_count": 0,
          "min": "-12.151",
          "max": "-2.724",
          "histogram": [
           {
            "bin_start": -12.151,
            "bin_end": -11.2083,
            "count": 1
           },
           {
            "bin_start": -11.2083,
            "bin_end": -10.2656,
            "count": 0
           },
           {
            "bin_start": -10.2656,
            "bin_end": -9.3229,
            "count": 1
           },
           {
            "bin_start": -9.3229,
            "bin_end": -8.3802,
            "count": 4
           },
           {
            "bin_start": -8.3802,
            "bin_end": -7.4375,
            "count": 5
           },
           {
            "bin_start": -7.4375,
            "bin_end": -6.4948,
            "count": 9
           },
           {
            "bin_start": -6.4948,
            "bin_end": -5.5521,
            "count": 13
           },
           {
            "bin_start": -5.5521,
            "bin_end": -4.6094,
            "count": 8
           },
           {
            "bin_start": -4.6094,
            "bin_end": -3.6667000000000005,
            "count": 6
           },
           {
            "bin_start": -3.6667000000000005,
            "bin_end": -2.724,
            "count": 3
           }
          ]
         }
        },
        {
         "name": "mode",
         "dtype": "int64",
         "stats": {
          "unique_count": 2,
          "nan_count": 0,
          "min": "0",
          "max": "1",
          "histogram": [
           {
            "bin_start": 0,
            "bin_end": 0.1,
            "count": 21
           },
           {
            "bin_start": 0.1,
            "bin_end": 0.2,
            "count": 0
           },
           {
            "bin_start": 0.2,
            "bin_end": 0.30000000000000004,
            "count": 0
           },
           {
            "bin_start": 0.30000000000000004,
            "bin_end": 0.4,
            "count": 0
           },
           {
            "bin_start": 0.4,
            "bin_end": 0.5,
            "count": 0
           },
           {
            "bin_start": 0.5,
            "bin_end": 0.6000000000000001,
            "count": 0
           },
           {
            "bin_start": 0.6000000000000001,
            "bin_end": 0.7000000000000001,
            "count": 0
           },
           {
            "bin_start": 0.7000000000000001,
            "bin_end": 0.8,
            "count": 0
           },
           {
            "bin_start": 0.8,
            "bin_end": 0.9,
            "count": 0
           },
           {
            "bin_start": 0.9,
            "bin_end": 1,
            "count": 29
           }
          ]
         }
        },
        {
         "name": "speechiness",
         "dtype": "float64",
         "stats": {
          "unique_count": 50,
          "nan_count": 0,
          "min": "0.0269",
          "max": "0.355",
          "histogram": [
           {
            "bin_start": 0.0269,
            "bin_end": 0.05971,
            "count": 16
           },
           {
            "bin_start": 0.05971,
            "bin_end": 0.09251999999999999,
            "count": 14
           },
           {
            "bin_start": 0.09251999999999999,
            "bin_end": 0.12533,
            "count": 3
           },
           {
            "bin_start": 0.12533,
            "bin_end": 0.15814,
            "count": 3
           },
           {
            "bin_start": 0.15814,
            "bin_end": 0.19095,
            "count": 2
           },
           {
            "bin_start": 0.19095,
            "bin_end": 0.22376,
            "count": 3
           },
           {
            "bin_start": 0.22376,
            "bin_end": 0.25656999999999996,
            "count": 0
           },
           {
            "bin_start": 0.25656999999999996,
            "bin_end": 0.28937999999999997,
            "count": 3
           },
           {
            "bin_start": 0.28937999999999997,
            "bin_end": 0.32219,
            "count": 1
           },
           {
            "bin_start": 0.32219,
            "bin_end": 0.355,
            "count": 5
           }
          ]
         }
        },
        {
         "name": "acousticness",
         "dtype": "float64",
         "stats": {
          "unique_count": 50,
          "nan_count": 0,
          "min": "0.000189",
          "max": "0.691",
          "histogram": [
           {
            "bin_start": 0.000189,
            "bin_end": 0.06927009999999999,
            "count": 23
           },
           {
            "bin_start": 0.06927009999999999,
            "bin_end": 0.13835119999999998,
            "count": 6
           },
           {
            "bin_start": 0.13835119999999998,
            "bin_end": 0.20743229999999996,
            "count": 2
           },
           {
            "bin_start": 0.20743229999999996,
            "bin_end": 0.27651339999999996,
            "count": 2
           },
           {
            "bin_start": 0.27651339999999996,
            "bin_end": 0.34559449999999997,
            "count": 6
           },
           {
            "bin_start": 0.34559449999999997,
            "bin_end": 0.4146755999999999,
            "count": 3
           },
           {
            "bin_start": 0.4146755999999999,
            "bin_end": 0.48375669999999993,
            "count": 4
           },
           {
            "bin_start": 0.48375669999999993,
            "bin_end": 0.5528377999999999,
            "count": 0
           },
           {
            "bin_start": 0.5528377999999999,
            "bin_end": 0.6219188999999999,
            "count": 2
           },
           {
            "bin_start": 0.6219188999999999,
            "bin_end": 0.691,
            "count": 2
           }
          ]
         }
        },
        {
         "name": "instrumentalness",
         "dtype": "float64",
         "stats": {
          "unique_count": 23,
          "nan_count": 0,
          "min": "0.0",
          "max": "0.0177",
          "histogram": [
           {
            "bin_start": 0,
            "bin_end": 0.00177,
            "count": 47
           },
           {
            "bin_start": 0.00177,
            "bin_end": 0.00354,
            "count": 1
           },
           {
            "bin_start": 0.00354,
            "bin_end": 0.0053100000000000005,
            "count": 0
           },
           {
            "bin_start": 0.0053100000000000005,
            "bin_end": 0.00708,
            "count": 0
           },
           {
            "bin_start": 0.00708,
            "bin_end": 0.00885,
            "count": 1
           },
           {
            "bin_start": 0.00885,
            "bin_end": 0.010620000000000001,
            "count": 0
           },
           {
            "bin_start": 0.010620000000000001,
            "bin_end": 0.01239,
            "count": 0
           },
           {
            "bin_start": 0.01239,
            "bin_end": 0.01416,
            "count": 0
           },
           {
            "bin_start": 0.01416,
            "bin_end": 0.01593,
            "count": 0
           },
           {
            "bin_start": 0.01593,
            "bin_end": 0.0177,
            "count": 1
           }
          ]
         }
        },
        {
         "name": "liveness",
         "dtype": "float64",
         "stats": {
          "unique_count": 46,
          "nan_count": 0,
          "min": "0.0424",
          "max": "0.434",
          "histogram": [
           {
            "bin_start": 0.0424,
            "bin_end": 0.08156,
            "count": 6
           },
           {
            "bin_start": 0.08156,
            "bin_end": 0.12072,
            "count": 26
           },
           {
            "bin_start": 0.12072,
            "bin_end": 0.15988,
            "count": 7
           },
           {
            "bin_start": 0.15988,
            "bin_end": 0.19904,
            "count": 1
           },
           {
            "bin_start": 0.19904,
            "bin_end": 0.2382,
            "count": 1
           },
           {
            "bin_start": 0.2382,
            "bin_end": 0.27736,
            "count": 1
           },
           {
            "bin_start": 0.27736,
            "bin_end": 0.31652,
            "count": 3
           },
           {
            "bin_start": 0.31652,
            "bin_end": 0.35568,
            "count": 2
           },
           {
            "bin_start": 0.35568,
            "bin_end": 0.39483999999999997,
            "count": 1
           },
           {
            "bin_start": 0.39483999999999997,
            "bin_end": 0.434,
            "count": 2
           }
          ]
         }
        },
        {
         "name": "valence",
         "dtype": "float64",
         "stats": {
          "unique_count": 49,
          "nan_count": 0,
          "min": "0.0849",
          "max": "0.956",
          "histogram": [
           {
            "bin_start": 0.0849,
            "bin_end": 0.17201,
            "count": 11
           },
           {
            "bin_start": 0.17201,
            "bin_end": 0.25912,
            "count": 7
           },
           {
            "bin_start": 0.25912,
            "bin_end": 0.3462299999999999,
            "count": 4
           },
           {
            "bin_start": 0.3462299999999999,
            "bin_end": 0.43333999999999995,
            "count": 3
           },
           {
            "bin_start": 0.43333999999999995,
            "bin_end": 0.52045,
            "count": 4
           },
           {
            "bin_start": 0.52045,
            "bin_end": 0.6075599999999999,
            "count": 6
           },
           {
            "bin_start": 0.6075599999999999,
            "bin_end": 0.6946699999999999,
            "count": 5
           },
           {
            "bin_start": 0.6946699999999999,
            "bin_end": 0.7817799999999999,
            "count": 2
           },
           {
            "bin_start": 0.7817799999999999,
            "bin_end": 0.8688899999999999,
            "count": 3
           },
           {
            "bin_start": 0.8688899999999999,
            "bin_end": 0.956,
            "count": 5
           }
          ]
         }
        },
        {
         "name": "tempo",
         "dtype": "float64",
         "stats": {
          "unique_count": 50,
          "nan_count": 0,
          "min": "72.993",
          "max": "205.863",
          "histogram": [
           {
            "bin_start": 72.993,
            "bin_end": 86.28,
            "count": 10
           },
           {
            "bin_start": 86.28,
            "bin_end": 99.567,
            "count": 4
           },
           {
            "bin_start": 99.567,
            "bin_end": 112.854,
            "count": 7
           },
           {
            "bin_start": 112.854,
            "bin_end": 126.14099999999999,
            "count": 4
           },
           {
            "bin_start": 126.14099999999999,
            "bin_end": 139.428,
            "count": 4
           },
           {
            "bin_start": 139.428,
            "bin_end": 152.715,
            "count": 10
           },
           {
            "bin_start": 152.715,
            "bin_end": 166.002,
            "count": 1
           },
           {
            "bin_start": 166.002,
            "bin_end": 179.289,
            "count": 5
           },
           {
            "bin_start": 179.289,
            "bin_end": 192.57600000000002,
            "count": 3
           },
           {
            "bin_start": 192.57600000000002,
            "bin_end": 205.863,
            "count": 2
           }
          ]
         }
        },
        {
         "name": "type",
         "dtype": "object",
         "stats": {
          "unique_count": 1,
          "nan_count": 0,
          "categories": [
           {
            "name": "audio_features",
            "count": 50
           }
          ]
         }
        },
        {
         "name": "id",
         "dtype": "object",
         "stats": {
          "unique_count": 50,
          "nan_count": 0,
          "categories": [
           {
            "name": "4LRPiXqCikLlN15c3yImP7",
            "count": 1
           },
           {
            "name": "1rDQ4oMwGJI7B4tovsBOxc",
            "count": 1
           },
           {
            "name": "48 others",
            "count": 48
           }
          ]
         }
        },
        {
         "name": "uri",
         "dtype": "object",
         "stats": {
          "unique_count": 50,
          "nan_count": 0,
          "categories": [
           {
            "name": "spotify:track:4LRPiXqCikLlN15c3yImP7",
            "count": 1
           },
           {
            "name": "spotify:track:1rDQ4oMwGJI7B4tovsBOxc",
            "count": 1
           },
           {
            "name": "48 others",
            "count": 48
           }
          ]
         }
        },
        {
         "name": "track_href",
         "dtype": "object",
         "stats": {
          "unique_count": 50,
          "nan_count": 0,
          "categories": [
           {
            "name": "https://api.spotify.com/v1/tracks/4LRPiXqCikLlN15c3yImP7",
            "count": 1
           },
           {
            "name": "https://api.spotify.com/v1/tracks/1rDQ4oMwGJI7B4tovsBOxc",
            "count": 1
           },
           {
            "name": "48 others",
            "count": 48
           }
          ]
         }
        },
        {
         "name": "analysis_url",
         "dtype": "object",
         "stats": {
          "unique_count": 50,
          "nan_count": 0,
          "categories": [
           {
            "name": "https://api.spotify.com/v1/audio-analysis/4LRPiXqCikLlN15c3yImP7",
            "count": 1
           },
           {
            "name": "https://api.spotify.com/v1/audio-analysis/1rDQ4oMwGJI7B4tovsBOxc",
            "count": 1
           },
           {
            "name": "48 others",
            "count": 48
           }
          ]
         }
        },
        {
         "name": "duration_ms",
         "dtype": "int64",
         "stats": {
          "unique_count": 50,
          "nan_count": 0,
          "min": "106133",
          "max": "292799",
          "histogram": [
           {
            "bin_start": 106133,
            "bin_end": 124799.6,
            "count": 1
           },
           {
            "bin_start": 124799.6,
            "bin_end": 143466.2,
            "count": 2
           },
           {
            "bin_start": 143466.2,
            "bin_end": 162132.8,
            "count": 5
           },
           {
            "bin_start": 162132.8,
            "bin_end": 180799.4,
            "count": 12
           },
           {
            "bin_start": 180799.4,
            "bin_end": 199466,
            "count": 7
           },
           {
            "bin_start": 199466,
            "bin_end": 218132.59999999998,
            "count": 11
           },
           {
            "bin_start": 218132.59999999998,
            "bin_end": 236799.19999999998,
            "count": 5
           },
           {
            "bin_start": 236799.19999999998,
            "bin_end": 255465.8,
            "count": 5
           },
           {
            "bin_start": 255465.8,
            "bin_end": 274132.4,
            "count": 1
           },
           {
            "bin_start": 274132.4,
            "bin_end": 292799,
            "count": 1
           }
          ]
         }
        },
        {
         "name": "time_signature",
         "dtype": "int64",
         "stats": {
          "unique_count": 2,
          "nan_count": 0,
          "min": "3",
          "max": "4",
          "histogram": [
           {
            "bin_start": 3,
            "bin_end": 3.1,
            "count": 5
           },
           {
            "bin_start": 3.1,
            "bin_end": 3.2,
            "count": 0
           },
           {
            "bin_start": 3.2,
            "bin_end": 3.3,
            "count": 0
           },
           {
            "bin_start": 3.3,
            "bin_end": 3.4,
            "count": 0
           },
           {
            "bin_start": 3.4,
            "bin_end": 3.5,
            "count": 0
           },
           {
            "bin_start": 3.5,
            "bin_end": 3.6,
            "count": 0
           },
           {
            "bin_start": 3.6,
            "bin_end": 3.7,
            "count": 0
           },
           {
            "bin_start": 3.7,
            "bin_end": 3.8,
            "count": 0
           },
           {
            "bin_start": 3.8,
            "bin_end": 3.9,
            "count": 0
           },
           {
            "bin_start": 3.9,
            "bin_end": 4,
            "count": 45
           }
          ]
         }
        },
        {
         "name": "genre",
         "dtype": "object",
         "stats": {
          "unique_count": 50,
          "nan_count": 0,
          "categories": [
           {
            "name": "['atl hip hop', 'pop rap', 'rap', 'southern hip hop', 'trap']",
            "count": 11
           },
           {
            "name": "['pop']",
            "count": 3
           },
           {
            "name": "28 others",
            "count": 36
           }
          ]
         }
        },
        {
         "name": "album",
         "dtype": "object",
         "stats": {
          "unique_count": 37,
          "nan_count": 0,
          "categories": [
           {
            "name": "I NEVER LIKED YOU",
            "count": 11
           },
           {
            "name": "MONTERO",
            "count": 2
           },
           {
            "name": "35 others",
            "count": 37
           }
          ]
         }
        },
        {
         "name": "popularity",
         "dtype": "int64",
         "stats": {
          "unique_count": 22,
          "nan_count": 0,
          "min": "71",
          "max": "100",
          "histogram": [
           {
            "bin_start": 71,
            "bin_end": 73.9,
            "count": 7
           },
           {
            "bin_start": 73.9,
            "bin_end": 76.8,
            "count": 6
           },
           {
            "bin_start": 76.8,
            "bin_end": 79.7,
            "count": 5
           },
           {
            "bin_start": 79.7,
            "bin_end": 82.6,
            "count": 3
           },
           {
            "bin_start": 82.6,
            "bin_end": 85.5,
            "count": 11
           },
           {
            "bin_start": 85.5,
            "bin_end": 88.4,
            "count": 7
           },
           {
            "bin_start": 88.4,
            "bin_end": 91.3,
            "count": 8
           },
           {
            "bin_start": 91.3,
            "bin_end": 94.2,
            "count": 1
           },
           {
            "bin_start": 94.2,
            "bin_end": 97.1,
            "count": 1
           },
           {
            "bin_start": 97.1,
            "bin_end": 100,
            "count": 1
           }
          ]
         }
        },
        {
         "name": "name",
         "dtype": "object",
         "stats": {
          "unique_count": 32,
          "nan_count": 0,
          "categories": [
           {
            "name": "Future",
            "count": 11
           },
           {
            "name": "Jack Harlow",
            "count": 2
           },
           {
            "name": "30 others",
            "count": 37
           }
          ]
         }
        },
        {
         "name": "track_name",
         "dtype": "object",
         "stats": {
          "unique_count": 50,
          "nan_count": 0,
          "categories": [
           {
            "name": "As It Was",
            "count": 1
           },
           {
            "name": "First Class",
            "count": 1
           },
           {
            "name": "48 others",
            "count": 48
           }
          ]
         }
        },
        {
         "name": "next_track",
         "dtype": "object",
         "stats": {
          "unique_count": 50,
          "nan_count": 0,
          "categories": [
           {
            "name": "First Class",
            "count": 1
           },
           {
            "name": "WAIT FOR U (feat. Drake & Tems)",
            "count": 1
           },
           {
            "name": "48 others",
            "count": 48
           }
          ]
         }
        },
        {
         "name": "recommended_track",
         "dtype": "object",
         "stats": {
          "unique_count": 29,
          "nan_count": 0,
          "categories": [
           {
            "name": "Need to Know",
            "count": 5
           },
           {
            "name": "Monëy so big",
            "count": 4
           },
           {
            "name": "27 others",
            "count": 41
           }
          ]
         }
        },
        {
         "name": "_deepnote_index_column",
         "dtype": "int64"
        }
       ],
       "rows": [
        {
         "danceability": 0.52,
         "energy": 0.731,
         "key": 6,
         "loudness": -5.338,
         "mode": 0,
         "speechiness": 0.0557,
         "acousticness": 0.342,
         "instrumentalness": 0.00101,
         "liveness": 0.311,
         "valence": 0.662,
         "tempo": 173.93,
         "type": "audio_features",
         "id": "4LRPiXqCikLlN15c3yImP7",
         "uri": "spotify:track:4LRPiXqCikLlN15c3yImP7",
         "track_href": "https://api.spotify.com/v1/tracks/4LRPiXqCikLlN15c3yImP7",
         "analysis_url": "https://api.spotify.com/v1/audio-analysis/4LRPiXqCikLlN15c3yImP7",
         "duration_ms": 167303,
         "time_signature": 4,
         "genre": "['pop']",
         "album": "As It Was",
         "popularity": 100,
         "name": "Harry Styles",
         "track_name": "As It Was",
         "next_track": "First Class",
         "recommended_track": "Woman",
         "_deepnote_index_column": 0
        },
        {
         "danceability": 0.905,
         "energy": 0.563,
         "key": 8,
         "loudness": -6.135,
         "mode": 1,
         "speechiness": 0.102,
         "acousticness": 0.0254,
         "instrumentalness": 0.00000971,
         "liveness": 0.113,
         "valence": 0.324,
         "tempo": 106.998,
         "type": "audio_features",
         "id": "1rDQ4oMwGJI7B4tovsBOxc",
         "uri": "spotify:track:1rDQ4oMwGJI7B4tovsBOxc",
         "track_href": "https://api.spotify.com/v1/tracks/1rDQ4oMwGJI7B4tovsBOxc",
         "analysis_url": "https://api.spotify.com/v1/audio-analysis/1rDQ4oMwGJI7B4tovsBOxc",
         "duration_ms": 173948,
         "time_signature": 4,
         "genre": "['deep underground hip hop', 'kentucky hip hop', 'rap']",
         "album": "First Class",
         "popularity": 95,
         "name": "Jack Harlow",
         "track_name": "First Class",
         "next_track": "WAIT FOR U (feat. Drake & Tems)",
         "recommended_track": "Monëy so big",
         "_deepnote_index_column": 1
        },
        {
         "danceability": 0.463,
         "energy": 0.642,
         "key": 1,
         "loudness": -4.474,
         "mode": 1,
         "speechiness": 0.34,
         "acousticness": 0.314,
         "instrumentalness": 0,
         "liveness": 0.0686,
         "valence": 0.339,
         "tempo": 83.389,
         "type": "audio_features",
         "id": "59nOXPmaKlBfGMDeOVGrIK",
         "uri": "spotify:track:59nOXPmaKlBfGMDeOVGrIK",
         "track_href": "https://api.spotify.com/v1/tracks/59nOXPmaKlBfGMDeOVGrIK",
         "analysis_url": "https://api.spotify.com/v1/audio-analysis/59nOXPmaKlBfGMDeOVGrIK",
         "duration_ms": 189893,
         "time_signature": 4,
         "genre": "['atl hip hop', 'pop rap', 'rap', 'southern hip hop', 'trap']",
         "album": "I NEVER LIKED YOU",
         "popularity": 78,
         "name": "Future",
         "track_name": "WAIT FOR U (feat. Drake & Tems)",
         "next_track": "PUFFIN ON ZOOTIEZ",
         "recommended_track": "Wants and Needs (feat. Lil Baby)",
         "_deepnote_index_column": 2
        },
        {
         "danceability": 0.883,
         "energy": 0.657,
         "key": 8,
         "loudness": -5.748,
         "mode": 1,
         "speechiness": 0.305,
         "acousticness": 0.0603,
         "instrumentalness": 0,
         "liveness": 0.128,
         "valence": 0.284,
         "tempo": 124.992,
         "type": "audio_features",
         "id": "1qMMYpVatbRITKCfq1gasi",
         "uri": "spotify:track:1qMMYpVatbRITKCfq1gasi",
         "track_href": "https://api.spotify.com/v1/tracks/1qMMYpVatbRITKCfq1gasi",
         "analysis_url": "https://api.spotify.com/v1/audio-analysis/1qMMYpVatbRITKCfq1gasi",
         "duration_ms": 172933,
         "time_signature": 4,
         "genre": "['atl hip hop', 'pop rap', 'rap', 'southern hip hop', 'trap']",
         "album": "I NEVER LIKED YOU",
         "popularity": 75,
         "name": "Future",
         "track_name": "PUFFIN ON ZOOTIEZ",
         "next_track": "Heat Waves",
         "recommended_track": "family ties (with Kendrick Lamar)",
         "_deepnote_index_column": 3
        },
        {
         "danceability": 0.761,
         "energy": 0.525,
         "key": 11,
         "loudness": -6.9,
         "mode": 1,
         "speechiness": 0.0944,
         "acousticness": 0.44,
         "instrumentalness": 0.0000067,
         "liveness": 0.0921,
         "valence": 0.531,
         "tempo": 80.87,
         "type": "audio_features",
         "id": "02MWAaffLxlfxAUY7c5dvx",
         "uri": "spotify:track:02MWAaffLxlfxAUY7c5dvx",
         "track_href": "https://api.spotify.com/v1/tracks/02MWAaffLxlfxAUY7c5dvx",
         "analysis_url": "https://api.spotify.com/v1/audio-analysis/02MWAaffLxlfxAUY7c5dvx",
         "duration_ms": 238805,
         "time_signature": 4,
         "genre": "['gauze pop', 'indietronica', 'shiver pop']",
         "album": "Dreamland (+ Bonus Levels)",
         "popularity": 90,
         "name": "Glass Animals",
         "track_name": "Heat Waves",
         "next_track": "I'M ON ONE (feat. Drake)",
         "recommended_track": "I Love You So",
         "_deepnote_index_column": 4
        },
        {
         "danceability": 0.773,
         "energy": 0.707,
         "key": 11,
         "loudness": -5.71,
         "mode": 1,
         "speechiness": 0.0568,
         "acousticness": 0.0103,
         "instrumentalness": 0.0000104,
         "liveness": 0.296,
         "valence": 0.113,
         "tempo": 76.977,
         "type": "audio_features",
         "id": "6wyhUr4Xw8z5uSy0AhoZfU",
         "uri": "spotify:track:6wyhUr4Xw8z5uSy0AhoZfU",
         "track_href": "https://api.spotify.com/v1/tracks/6wyhUr4Xw8z5uSy0AhoZfU",
         "analysis_url": "https://api.spotify.com/v1/audio-analysis/6wyhUr4Xw8z5uSy0AhoZfU",
         "duration_ms": 236187,
         "time_signature": 4,
         "genre": "['atl hip hop', 'pop rap', 'rap', 'southern hip hop', 'trap']",
         "album": "I NEVER LIKED YOU",
         "popularity": 75,
         "name": "Future",
         "track_name": "I'M ON ONE (feat. Drake)",
         "next_track": "About Damn Time",
         "recommended_track": "Super Gremlin",
         "_deepnote_index_column": 5
        },
        {
         "danceability": 0.836,
         "energy": 0.743,
         "key": 10,
         "loudness": -6.305,
         "mode": 0,
         "speechiness": 0.0656,
         "acousticness": 0.0995,
         "instrumentalness": 0,
         "liveness": 0.335,
         "valence": 0.722,
         "tempo": 108.966,
         "type": "audio_features",
         "id": "1PckUlxKqWQs3RlWXVBLw3",
         "uri": "spotify:track:1PckUlxKqWQs3RlWXVBLw3",
         "track_href": "https://api.spotify.com/v1/tracks/1PckUlxKqWQs3RlWXVBLw3",
         "analysis_url": "https://api.spotify.com/v1/audio-analysis/1PckUlxKqWQs3RlWXVBLw3",
         "duration_ms": 191822,
         "time_signature": 4,
         "genre": "['dance pop', 'escape room', 'minnesota hip hop', 'pop', 'trap queen']",
         "album": "About Damn Time",
         "popularity": 79,
         "name": "Lizzo",
         "track_name": "About Damn Time",
         "next_track": "712PM",
         "recommended_track": "CHICKENS (feat. EST Gee)",
         "_deepnote_index_column": 6
        },
        {
         "danceability": 0.711,
         "energy": 0.686,
         "key": 5,
         "loudness": -6.409,
         "mode": 0,
         "speechiness": 0.271,
         "acousticness": 0.0355,
         "instrumentalness": 0,
         "liveness": 0.124,
         "valence": 0.536,
         "tempo": 146.971,
         "type": "audio_features",
         "id": "3FSwpQ9dBZBeBV6UdYHI2R",
         "uri": "spotify:track:3FSwpQ9dBZBeBV6UdYHI2R",
         "track_href": "https://api.spotify.com/v1/tracks/3FSwpQ9dBZBeBV6UdYHI2R",
         "analysis_url": "https://api.spotify.com/v1/audio-analysis/3FSwpQ9dBZBeBV6UdYHI2R",
         "duration_ms": 173187,
         "time_signature": 4,
         "genre": "['atl hip hop', 'pop rap', 'rap', 'southern hip hop', 'trap']",
         "album": "I NEVER LIKED YOU",
         "popularity": 75,
         "name": "Future",
         "track_name": "712PM",
         "next_track": "I'M DAT N****",
         "recommended_track": "GOLD STACKS",
         "_deepnote_index_column": 7
        },
        {
         "danceability": 0.911,
         "energy": 0.573,
         "key": 2,
         "loudness": -5.573,
         "mode": 1,
         "speechiness": 0.163,
         "acousticness": 0.0112,
         "instrumentalness": 0.0000583,
         "liveness": 0.131,
         "valence": 0.145,
         "tempo": 144.026,
         "type": "audio_features",
         "id": "0AAVJIN4plafvmNKqRCltG",
         "uri": "spotify:track:0AAVJIN4plafvmNKqRCltG",
         "track_href": "https://api.spotify.com/v1/tracks/0AAVJIN4plafvmNKqRCltG",
         "analysis_url": "https://api.spotify.com/v1/audio-analysis/0AAVJIN4plafvmNKqRCltG",
         "duration_ms": 271840,
         "time_signature": 4,
         "genre": "['atl hip hop', 'pop rap', 'rap', 'southern hip hop', 'trap']",
         "album": "I NEVER LIKED YOU",
         "popularity": 74,
         "name": "Future",
         "track_name": "I'M DAT N****",
         "next_track": "INDUSTRY BABY (feat. Jack Harlow)",
         "recommended_track": "family ties (with Kendrick Lamar)",
         "_deepnote_index_column": 8
        },
        {
         "danceability": 0.741,
         "energy": 0.691,
         "key": 10,
         "loudness": -7.395,
         "mode": 0,
         "speechiness": 0.0672,
         "acousticness": 0.0221,
         "instrumentalness": 0,
         "liveness": 0.0476,
         "valence": 0.892,
         "tempo": 150.087,
         "type": "audio_features",
         "id": "5Z9KJZvQzH6PFmb8SNkxuk",
         "uri": "spotify:track:5Z9KJZvQzH6PFmb8SNkxuk",
         "track_href": "https://api.spotify.com/v1/tracks/5Z9KJZvQzH6PFmb8SNkxuk",
         "analysis_url": "https://api.spotify.com/v1/audio-analysis/5Z9KJZvQzH6PFmb8SNkxuk",
         "duration_ms": 212353,
         "time_signature": 4,
         "genre": "['lgbtq+ hip hop', 'pop']",
         "album": "MONTERO",
         "popularity": 85,
         "name": "Lil Nas X",
         "track_name": "INDUSTRY BABY (feat. Jack Harlow)",
         "next_track": "No Role Modelz",
         "recommended_track": "Honest (feat. Don Toliver)",
         "_deepnote_index_column": 9
        }
       ]
      },
      "text/plain": "    danceability  energy  key  loudness  mode  speechiness  acousticness  \\\n0          0.520   0.731    6    -5.338     0       0.0557      0.342000   \n1          0.905   0.563    8    -6.135     1       0.1020      0.025400   \n2          0.463   0.642    1    -4.474     1       0.3400      0.314000   \n3          0.883   0.657    8    -5.748     1       0.3050      0.060300   \n4          0.761   0.525   11    -6.900     1       0.0944      0.440000   \n5          0.773   0.707   11    -5.710     1       0.0568      0.010300   \n6          0.836   0.743   10    -6.305     0       0.0656      0.099500   \n7          0.711   0.686    5    -6.409     0       0.2710      0.035500   \n8          0.911   0.573    2    -5.573     1       0.1630      0.011200   \n9          0.741   0.691   10    -7.395     0       0.0672      0.022100   \n10         0.690   0.521   10    -8.492     0       0.3390      0.324000   \n11         0.591   0.764    1    -5.484     1       0.0483      0.038300   \n12         0.652   0.578    0    -6.187     1       0.1610      0.008610   \n13         0.563   0.664    9    -5.044     1       0.1540      0.335000   \n14         0.824   0.764    5    -4.175     0       0.0854      0.088800   \n15         0.764   0.705    3    -5.279     0       0.0278      0.037100   \n16         0.601   0.741    2    -5.569     1       0.0478      0.185000   \n17         0.728   0.783   11    -4.424     0       0.2660      0.237000   \n18         0.520   0.852    0    -5.866     1       0.0543      0.002370   \n19         0.376   0.657    7    -4.658     1       0.0768      0.085800   \n20         0.709   0.357    5    -9.289     1       0.2140      0.478000   \n21         0.810   0.655    8    -6.779     0       0.0698      0.127000   \n22         0.916   0.453    1    -4.148     1       0.1580      0.000189   \n23         0.870   0.516    1    -8.006     1       0.0541      0.656000   \n24         0.603   0.783    6    -4.023     1       0.0620      0.449000   \n25         0.664   0.609    1    -6.509     1       0.0707      0.304000   \n26         0.825   0.414    2    -6.634     1       0.1440      0.002650   \n27         0.849   0.424    5    -9.579     0       0.3240      0.063500   \n28         0.575   0.648   10    -4.891     1       0.0358      0.583000   \n29         0.578   0.431    2    -7.034     1       0.0269      0.469000   \n30         0.612   0.807   10    -2.810     1       0.0336      0.049500   \n31         0.843   0.700    4    -3.563     0       0.0803      0.093400   \n32         0.824   0.667   10    -6.603     0       0.0814      0.003210   \n33         0.756   0.697    8    -6.377     1       0.0401      0.182000   \n34         0.763   0.526    5    -6.753     0       0.3550      0.009370   \n35         0.737   0.846    1    -4.510     0       0.2200      0.006140   \n36         0.369   0.192    4   -12.151     0       0.0400      0.555000   \n37         0.558   0.559    6    -9.222     1       0.0959      0.371000   \n38         0.505   0.657   11    -5.240     0       0.0318      0.373000   \n39         0.647   0.581    4    -7.678     0       0.0884      0.002900   \n40         0.795   0.800    1    -6.320     1       0.0309      0.035400   \n41         0.345   0.612    7    -6.543     0       0.0608      0.232000   \n42         0.380   0.339    3    -7.885     1       0.0338      0.691000   \n43         0.577   0.450    0    -8.516     0       0.0834      0.357000   \n44         0.788   0.859    2    -2.724     1       0.0856      0.281000   \n45         0.711   0.611    1    -5.453     1       0.3300      0.005880   \n46         0.410   0.611    4    -8.271     0       0.0467      0.022800   \n47         0.578   0.449    1    -6.349     1       0.2860      0.061800   \n48         0.862   0.619   11    -6.197     0       0.2210      0.040300   \n49         0.693   0.575    2    -7.633     1       0.0906      0.121000   \n\n    instrumentalness  liveness  valence  ...  \\\n0           0.001010    0.3110   0.6620  ...   \n1           0.000010    0.1130   0.3240  ...   \n2           0.000000    0.0686   0.3390  ...   \n3           0.000000    0.1280   0.2840  ...   \n4           0.000007    0.0921   0.5310  ...   \n5           0.000010    0.2960   0.1130  ...   \n6           0.000000    0.3350   0.7220  ...   \n7           0.000000    0.1240   0.5360  ...   \n8           0.000058    0.1310   0.1450  ...   \n9           0.000000    0.0476   0.8920  ...   \n10          0.000000    0.0534   0.4940  ...   \n11          0.000000    0.1030   0.4780  ...   \n12          0.000000    0.2850   0.1950  ...   \n13          0.000000    0.0849   0.6880  ...   \n14          0.002940    0.1170   0.8810  ...   \n15          0.000019    0.0943   0.6720  ...   \n16          0.000029    0.4150   0.4410  ...   \n17          0.000000    0.4340   0.5550  ...   \n18          0.000058    0.0733   0.2340  ...   \n19          0.000000    0.0884   0.2030  ...   \n20          0.000294    0.1120   0.5440  ...   \n21          0.000082    0.1050   0.8090  ...   \n22          0.000000    0.1370   0.1520  ...   \n23          0.008230    0.1100   0.5300  ...   \n24          0.000008    0.1190   0.7750  ...   \n25          0.000000    0.0926   0.1940  ...   \n26          0.000000    0.3570   0.1060  ...   \n27          0.000000    0.0834   0.1530  ...   \n28          0.000000    0.1150   0.4660  ...   \n29          0.000000    0.1370   0.2100  ...   \n30          0.017700    0.1010   0.3980  ...   \n31          0.000000    0.1400   0.8990  ...   \n32          0.000003    0.0956   0.3050  ...   \n33          0.000000    0.3330   0.9560  ...   \n34          0.000002    0.1110   0.3620  ...   \n35          0.000000    0.0486   0.5460  ...   \n36          0.000008    0.0954   0.1480  ...   \n37          0.000007    0.1090   0.6200  ...   \n38          0.001070    0.1260   0.2520  ...   \n39          0.000008    0.1190   0.1130  ...   \n40          0.000073    0.0915   0.9340  ...   \n41          0.000000    0.1940   0.2320  ...   \n42          0.000000    0.1200   0.0849  ...   \n43          0.000000    0.1110   0.8300  ...   \n44          0.000000    0.0424   0.8220  ...   \n45          0.000000    0.2300   0.1440  ...   \n46          0.000000    0.1160   0.0899  ...   \n47          0.000002    0.1190   0.1000  ...   \n48          0.000000    0.2530   0.6240  ...   \n49          0.000000    0.1040   0.3530  ...   \n\n                                         analysis_url duration_ms  \\\n0   https://api.spotify.com/v1/audio-analysis/4LRP...      167303   \n1   https://api.spotify.com/v1/audio-analysis/1rDQ...      173948   \n2   https://api.spotify.com/v1/audio-analysis/59nO...      189893   \n3   https://api.spotify.com/v1/audio-analysis/1qMM...      172933   \n4   https://api.spotify.com/v1/audio-analysis/02MW...      238805   \n5   https://api.spotify.com/v1/audio-analysis/6wyh...      236187   \n6   https://api.spotify.com/v1/audio-analysis/1Pck...      191822   \n7   https://api.spotify.com/v1/audio-analysis/3FSw...      173187   \n8   https://api.spotify.com/v1/audio-analysis/0AAV...      271840   \n9   https://api.spotify.com/v1/audio-analysis/5Z9K...      212353   \n10  https://api.spotify.com/v1/audio-analysis/68Dn...      292799   \n11  https://api.spotify.com/v1/audio-analysis/5Pjd...      141806   \n12  https://api.spotify.com/v1/audio-analysis/7rWC...      207213   \n13  https://api.spotify.com/v1/audio-analysis/4ZtF...      178147   \n14  https://api.spotify.com/v1/audio-analysis/6Uj1...      172627   \n15  https://api.spotify.com/v1/audio-analysis/0y60...      196520   \n16  https://api.spotify.com/v1/audio-analysis/6I3m...      153190   \n17  https://api.spotify.com/v1/audio-analysis/1HhN...      173381   \n18  https://api.spotify.com/v1/audio-analysis/58ge...      253587   \n19  https://api.spotify.com/v1/audio-analysis/1r8Z...      164782   \n20  https://api.spotify.com/v1/audio-analysis/4XJR...      129480   \n21  https://api.spotify.com/v1/audio-analysis/2KdK...      193322   \n22  https://api.spotify.com/v1/audio-analysis/2tzg...      106133   \n23  https://api.spotify.com/v1/audio-analysis/7dSZ...      210200   \n24  https://api.spotify.com/v1/audio-analysis/37y7...      173104   \n25  https://api.spotify.com/v1/audio-analysis/3Vi5...      210560   \n26  https://api.spotify.com/v1/audio-analysis/1Y5J...      200548   \n27  https://api.spotify.com/v1/audio-analysis/2BcM...      242966   \n28  https://api.spotify.com/v1/audio-analysis/4SqW...      160240   \n29  https://api.spotify.com/v1/audio-analysis/1TUu...      226975   \n30  https://api.spotify.com/v1/audio-analysis/2QjO...      240400   \n31  https://api.spotify.com/v1/audio-analysis/1ri9...      226088   \n32  https://api.spotify.com/v1/audio-analysis/7HCX...      207933   \n33  https://api.spotify.com/v1/audio-analysis/2DB4...      206071   \n34  https://api.spotify.com/v1/audio-analysis/1Ijp...      162333   \n35  https://api.spotify.com/v1/audio-analysis/0e8n...      143901   \n36  https://api.spotify.com/v1/audio-analysis/3WMj...      228013   \n37  https://api.spotify.com/v1/audio-analysis/7KA4...      180387   \n38  https://api.spotify.com/v1/audio-analysis/3cBs...      178520   \n39  https://api.spotify.com/v1/audio-analysis/62Yo...      206385   \n40  https://api.spotify.com/v1/audio-analysis/6JIC...      202735   \n41  https://api.spotify.com/v1/audio-analysis/59Cf...      153000   \n42  https://api.spotify.com/v1/audio-analysis/5CZ4...      229227   \n43  https://api.spotify.com/v1/audio-analysis/52xJ...      216120   \n44  https://api.spotify.com/v1/audio-analysis/50nf...      207853   \n45  https://api.spotify.com/v1/audio-analysis/3QFI...      252262   \n46  https://api.spotify.com/v1/audio-analysis/58Hv...      184448   \n47  https://api.spotify.com/v1/audio-analysis/65OV...      192956   \n48  https://api.spotify.com/v1/audio-analysis/53wB...      195267   \n49  https://api.spotify.com/v1/audio-analysis/7Bba...      160052   \n\n   time_signature                                              genre  \\\n0               4                                              [pop]   \n1               4  [deep underground hip hop, kentucky hip hop, rap]   \n2               4  [atl hip hop, pop rap, rap, southern hip hop, ...   \n3               4  [atl hip hop, pop rap, rap, southern hip hop, ...   \n4               4              [gauze pop, indietronica, shiver pop]   \n5               4  [atl hip hop, pop rap, rap, southern hip hop, ...   \n6               4  [dance pop, escape room, minnesota hip hop, po...   \n7               4  [atl hip hop, pop rap, rap, southern hip hop, ...   \n8               4  [atl hip hop, pop rap, rap, southern hip hop, ...   \n9               4                              [lgbtq+ hip hop, pop]   \n10              4  [conscious hip hop, hip hop, north carolina hi...   \n11              4                               [australian hip hop]   \n12              4  [atl hip hop, pop rap, rap, southern hip hop, ...   \n13              4                                              [pop]   \n14              4                                   [dance pop, pop]   \n15              4  [afrofuturism, dance pop, electropop, pop, pos...   \n16              4                                [canadian pop, pop]   \n17              4                                [modern rock, rock]   \n18              4  [garage rock, permanent wave, rock, sheffield ...   \n19              4                               [australian hip hop]   \n20              4  [atl hip hop, pop rap, rap, southern hip hop, ...   \n21              4                                [canadian pop, pop]   \n22              4  [atl hip hop, pop rap, rap, southern hip hop, ...   \n23              4  [latin, reggaeton, reggaeton colombiano, trap ...   \n24              4                                [afrofuturism, pop]   \n25              4                                   [dance pop, pop]   \n26              4  [florida rap, hip hop, melodic rap, miami hip ...   \n27              4  [canadian hip hop, canadian pop, hip hop, rap,...   \n28              4                                    [chicago indie]   \n29              3                             [contemporary country]   \n30              4        [modern alternative rock, modern rock, pop]   \n31              4  [dance pop, latin, latin viral pop, pop, rap l...   \n32              4  [atl hip hop, pop rap, rap, southern hip hop, ...   \n33              4                    [dance pop, pop, post-teen pop]   \n34              4  [atl hip hop, pop rap, rap, southern hip hop, ...   \n35              4                              [lgbtq+ hip hop, pop]   \n36              3                                 [oklahoma country]   \n37              4                                     [hip hop, rap]   \n38              3                             [contemporary country]   \n39              4  [deep underground hip hop, kentucky hip hop, rap]   \n40              4               [glam rock, mellow gold, piano rock]   \n41              3                               [pop, post-teen pop]   \n42              4                                              [pop]   \n43              4                                                 []   \n44              4                                      [pop, uk pop]   \n45              4                                     [hip hop, rap]   \n46              3                                       [alt z, pop]   \n47              4  [canadian hip hop, canadian pop, hip hop, rap,...   \n48              4  [atl hip hop, pop rap, rap, southern hip hop, ...   \n49              4                                          [pluggnb]   \n\n                                           album popularity  \\\n0                                      As It Was        100   \n1                                    First Class         95   \n2                              I NEVER LIKED YOU         78   \n3                              I NEVER LIKED YOU         75   \n4                     Dreamland (+ Bonus Levels)         90   \n5                              I NEVER LIKED YOU         75   \n6                                About Damn Time         79   \n7                              I NEVER LIKED YOU         75   \n8                              I NEVER LIKED YOU         74   \n9                                        MONTERO         85   \n10                       2014 Forest Hills Drive         85   \n11                         F*CK LOVE 3: OVER YOU         88   \n12                             I NEVER LIKED YOU         74   \n13                                          SOUR         90   \n14                                    Planet Her         91   \n15                                  ARDIPITHECUS         87   \n16                                       Justice         89   \n17                               Mercury - Act 1         84   \n18  Favourite Worst Nightmare (Standard Version)         80   \n19                                Thousand Miles         84   \n20                             I NEVER LIKED YOU         72   \n21                                        Honest         75   \n22                             I NEVER LIKED YOU         72   \n23                                      PROVENZA         83   \n24                                      Dark Red         85   \n25                                    Planet Her         87   \n26                           Back For Everything         73   \n27                           Certified Lover Boy         84   \n28                                 I Love You So         88   \n29                             Don't Think Jesus         78   \n30                                   I Love You.         88   \n31                                        MAMIII         92   \n32                             I NEVER LIKED YOU         73   \n33                                       Familia         80   \n34                             I NEVER LIKED YOU         72   \n35                                       MONTERO         90   \n36                       Something in the Orange         71   \n37                                    Flower Boy         83   \n38                   Dangerous: The Double Album         79   \n39                                     Nail Tech         85   \n40                         The Lockdown Sessions         84   \n41                                     Boyfriend         89   \n42                                          SOUR         88   \n43  Encanto (Original Motion Picture Soundtrack)         86   \n44                                             =         90   \n45                              The Melodic Blue         77   \n46                           MIDDLE OF THE NIGHT         91   \n47                                 Scary Hours 2         81   \n48                             I NEVER LIKED YOU         71   \n49                                       Up 2 Më         83   \n\n                          name  \\\n0                 Harry Styles   \n1                  Jack Harlow   \n2                       Future   \n3                       Future   \n4                Glass Animals   \n5                       Future   \n6                        Lizzo   \n7                       Future   \n8                       Future   \n9                    Lil Nas X   \n10                     J. Cole   \n11               The Kid LAROI   \n12                      Future   \n13              Olivia Rodrigo   \n14                    Doja Cat   \n15                      WILLOW   \n16               Justin Bieber   \n17             Imagine Dragons   \n18              Arctic Monkeys   \n19               The Kid LAROI   \n20                      Future   \n21               Justin Bieber   \n22                      Future   \n23                     KAROL G   \n24                  Steve Lacy   \n25                    Doja Cat   \n26                 Kodak Black   \n27                       Drake   \n28                 The Walters   \n29               Morgan Wallen   \n30           The Neighbourhood   \n31                     Becky G   \n32                      Future   \n33              Camila Cabello   \n34                      Future   \n35                   Lil Nas X   \n36                  Zach Bryan   \n37          Tyler, The Creator   \n38               Morgan Wallen   \n39                 Jack Harlow   \n40                  Elton John   \n41                Dove Cameron   \n42              Olivia Rodrigo   \n43  Carolina Gaitán - La Gaita   \n44                  Ed Sheeran   \n45                   Baby Keem   \n46                  Elley Duhé   \n47                       Drake   \n48                      Future   \n49                        Yeat   \n\n                                           track_name  \\\n0                                           As It Was   \n1                                         First Class   \n2                     WAIT FOR U (feat. Drake & Tems)   \n3                                   PUFFIN ON ZOOTIEZ   \n4                                          Heat Waves   \n5                            I'M ON ONE (feat. Drake)   \n6                                     About Damn Time   \n7                                               712PM   \n8                                       I'M DAT N****   \n9                   INDUSTRY BABY (feat. Jack Harlow)   \n10                                     No Role Modelz   \n11                          STAY (with Justin Bieber)   \n12                  KEEP IT BURNIN (feat. Kanye West)   \n13                                           good 4 u   \n14                                              Woman   \n15                                     Wait a Minute!   \n16                                              Ghost   \n17  Enemy (with JID) - from the series Arcane Leag...   \n18                                                505   \n19                                     Thousand Miles   \n20                                    LOVE YOU BETTER   \n21                         Honest (feat. Don Toliver)   \n22                                       MASSAGING ME   \n23                                           PROVENZA   \n24                                           Dark Red   \n25                                       Need to Know   \n26                                      Super Gremlin   \n27        Knife Talk (with 21 Savage ft. Project Pat)   \n28                                      I Love You So   \n29                                  Don't Think Jesus   \n30                                    Sweater Weather   \n31                                             MAMIII   \n32               FOR A NUT (feat. Gunna & Young Thug)   \n33                         Bam Bam (feat. Ed Sheeran)   \n34                                        GOLD STACKS   \n35                                  THATS WHAT I WANT   \n36                            Something in the Orange   \n37                   See You Again (feat. Kali Uchis)   \n38                                      Wasted On You   \n39                                          Nail Tech   \n40                            Cold Heart - PNAU Remix   \n41                                          Boyfriend   \n42                                            traitor   \n43                          We Don't Talk About Bruno   \n44                                            Shivers   \n45                  family ties (with Kendrick Lamar)   \n46                                MIDDLE OF THE NIGHT   \n47                   Wants and Needs (feat. Lil Baby)   \n48                           CHICKENS (feat. EST Gee)   \n49                                       Monëy so big   \n\n                                           next_track  \\\n0                                         First Class   \n1                     WAIT FOR U (feat. Drake & Tems)   \n2                                   PUFFIN ON ZOOTIEZ   \n3                                          Heat Waves   \n4                            I'M ON ONE (feat. Drake)   \n5                                     About Damn Time   \n6                                               712PM   \n7                                       I'M DAT N****   \n8                   INDUSTRY BABY (feat. Jack Harlow)   \n9                                      No Role Modelz   \n10                          STAY (with Justin Bieber)   \n11                  KEEP IT BURNIN (feat. Kanye West)   \n12                                           good 4 u   \n13                                              Woman   \n14                                     Wait a Minute!   \n15                                              Ghost   \n16  Enemy (with JID) - from the series Arcane Leag...   \n17                                                505   \n18                                     Thousand Miles   \n19                                    LOVE YOU BETTER   \n20                         Honest (feat. Don Toliver)   \n21                                       MASSAGING ME   \n22                                           PROVENZA   \n23                                           Dark Red   \n24                                       Need to Know   \n25                                      Super Gremlin   \n26        Knife Talk (with 21 Savage ft. Project Pat)   \n27                                      I Love You So   \n28                                  Don't Think Jesus   \n29                                    Sweater Weather   \n30                                             MAMIII   \n31               FOR A NUT (feat. Gunna & Young Thug)   \n32                         Bam Bam (feat. Ed Sheeran)   \n33                                        GOLD STACKS   \n34                                  THATS WHAT I WANT   \n35                            Something in the Orange   \n36                   See You Again (feat. Kali Uchis)   \n37                                      Wasted On You   \n38                                          Nail Tech   \n39                            Cold Heart - PNAU Remix   \n40                                          Boyfriend   \n41                                            traitor   \n42                          We Don't Talk About Bruno   \n43                                            Shivers   \n44                  family ties (with Kendrick Lamar)   \n45                                MIDDLE OF THE NIGHT   \n46                   Wants and Needs (feat. Lil Baby)   \n47                           CHICKENS (feat. EST Gee)   \n48                                       Monëy so big   \n49                                          As It Was   \n\n                              recommended_track  \n0                                         Woman  \n1                                  Monëy so big  \n2              Wants and Needs (feat. Lil Baby)  \n3             family ties (with Kendrick Lamar)  \n4                                 I Love You So  \n5                                 Super Gremlin  \n6                      CHICKENS (feat. EST Gee)  \n7                                   GOLD STACKS  \n8             family ties (with Kendrick Lamar)  \n9                    Honest (feat. Don Toliver)  \n10  Knife Talk (with 21 Savage ft. Project Pat)  \n11                                 Monëy so big  \n12                                Super Gremlin  \n13                                     Dark Red  \n14                                       MAMIII  \n15                                       MAMIII  \n16                    STAY (with Justin Bieber)  \n17                              About Damn Time  \n18                                 Need to Know  \n19                                I Love You So  \n20             See You Again (feat. Kali Uchis)  \n21            INDUSTRY BABY (feat. Jack Harlow)  \n22                                 Monëy so big  \n23                                 Need to Know  \n24                                     good 4 u  \n25                                 Monëy so big  \n26            KEEP IT BURNIN (feat. Kanye West)  \n27                                  GOLD STACKS  \n28                                   Heat Waves  \n29                                 Need to Know  \n30                               Thousand Miles  \n31                               Wait a Minute!  \n32                              About Damn Time  \n33             See You Again (feat. Kali Uchis)  \n34                                        712PM  \n35                                        Woman  \n36                                Wasted On You  \n37                                   Heat Waves  \n38                                    Boyfriend  \n39  Knife Talk (with 21 Savage ft. Project Pat)  \n40                                      Shivers  \n41                          MIDDLE OF THE NIGHT  \n42                                 Need to Know  \n43                                    As It Was  \n44                      Cold Heart - PNAU Remix  \n45             Wants and Needs (feat. Lil Baby)  \n46                                    Boyfriend  \n47            family ties (with Kendrick Lamar)  \n48                              About Damn Time  \n49                                 Need to Know  \n\n[50 rows x 25 columns]",
      "text/html": "<div>\n<style scoped>\n    .dataframe tbody tr th:only-of-type {\n        vertical-align: middle;\n    }\n\n    .dataframe tbody tr th {\n        vertical-align: top;\n    }\n\n    .dataframe thead th {\n        text-align: right;\n    }\n</style>\n<table border=\"1\" class=\"dataframe\">\n  <thead>\n    <tr style=\"text-align: right;\">\n      <th></th>\n      <th>danceability</th>\n      <th>energy</th>\n      <th>key</th>\n      <th>loudness</th>\n      <th>mode</th>\n      <th>speechiness</th>\n      <th>acousticness</th>\n      <th>instrumentalness</th>\n      <th>liveness</th>\n      <th>valence</th>\n      <th>...</th>\n      <th>analysis_url</th>\n      <th>duration_ms</th>\n      <th>time_signature</th>\n      <th>genre</th>\n      <th>album</th>\n      <th>popularity</th>\n      <th>name</th>\n      <th>track_name</th>\n      <th>next_track</th>\n      <th>recommended_track</th>\n    </tr>\n  </thead>\n  <tbody>\n    <tr>\n      <th>0</th>\n      <td>0.520</td>\n      <td>0.731</td>\n      <td>6</td>\n      <td>-5.338</td>\n      <td>0</td>\n      <td>0.0557</td>\n      <td>0.342000</td>\n      <td>0.001010</td>\n      <td>0.3110</td>\n      <td>0.6620</td>\n      <td>...</td>\n      <td>https://api.spotify.com/v1/audio-analysis/4LRP...</td>\n      <td>167303</td>\n      <td>4</td>\n      <td>[pop]</td>\n      <td>As It Was</td>\n      <td>100</td>\n      <td>Harry Styles</td>\n      <td>As It Was</td>\n      <td>First Class</td>\n      <td>Woman</td>\n    </tr>\n    <tr>\n      <th>1</th>\n      <td>0.905</td>\n      <td>0.563</td>\n      <td>8</td>\n      <td>-6.135</td>\n      <td>1</td>\n      <td>0.1020</td>\n      <td>0.025400</td>\n      <td>0.000010</td>\n      <td>0.1130</td>\n      <td>0.3240</td>\n      <td>...</td>\n      <td>https://api.spotify.com/v1/audio-analysis/1rDQ...</td>\n      <td>173948</td>\n      <td>4</td>\n      <td>[deep underground hip hop, kentucky hip hop, rap]</td>\n      <td>First Class</td>\n      <td>95</td>\n      <td>Jack Harlow</td>\n      <td>First Class</td>\n      <td>WAIT FOR U (feat. Drake &amp; Tems)</td>\n      <td>Monëy so big</td>\n    </tr>\n    <tr>\n      <th>2</th>\n      <td>0.463</td>\n      <td>0.642</td>\n      <td>1</td>\n      <td>-4.474</td>\n      <td>1</td>\n      <td>0.3400</td>\n      <td>0.314000</td>\n      <td>0.000000</td>\n      <td>0.0686</td>\n      <td>0.3390</td>\n      <td>...</td>\n      <td>https://api.spotify.com/v1/audio-analysis/59nO...</td>\n      <td>189893</td>\n      <td>4</td>\n      <td>[atl hip hop, pop rap, rap, southern hip hop, ...</td>\n      <td>I NEVER LIKED YOU</td>\n      <td>78</td>\n      <td>Future</td>\n      <td>WAIT FOR U (feat. Drake &amp; Tems)</td>\n      <td>PUFFIN ON ZOOTIEZ</td>\n      <td>Wants and Needs (feat. Lil Baby)</td>\n    </tr>\n    <tr>\n      <th>3</th>\n      <td>0.883</td>\n      <td>0.657</td>\n      <td>8</td>\n      <td>-5.748</td>\n      <td>1</td>\n      <td>0.3050</td>\n      <td>0.060300</td>\n      <td>0.000000</td>\n      <td>0.1280</td>\n      <td>0.2840</td>\n      <td>...</td>\n      <td>https://api.spotify.com/v1/audio-analysis/1qMM...</td>\n      <td>172933</td>\n      <td>4</td>\n      <td>[atl hip hop, pop rap, rap, southern hip hop, ...</td>\n      <td>I NEVER LIKED YOU</td>\n      <td>75</td>\n      <td>Future</td>\n      <td>PUFFIN ON ZOOTIEZ</td>\n      <td>Heat Waves</td>\n      <td>family ties (with Kendrick Lamar)</td>\n    </tr>\n    <tr>\n      <th>4</th>\n      <td>0.761</td>\n      <td>0.525</td>\n      <td>11</td>\n      <td>-6.900</td>\n      <td>1</td>\n      <td>0.0944</td>\n      <td>0.440000</td>\n      <td>0.000007</td>\n      <td>0.0921</td>\n      <td>0.5310</td>\n      <td>...</td>\n      <td>https://api.spotify.com/v1/audio-analysis/02MW...</td>\n      <td>238805</td>\n      <td>4</td>\n      <td>[gauze pop, indietronica, shiver pop]</td>\n      <td>Dreamland (+ Bonus Levels)</td>\n      <td>90</td>\n      <td>Glass Animals</td>\n      <td>Heat Waves</td>\n      <td>I'M ON ONE (feat. Drake)</td>\n      <td>I Love You So</td>\n    </tr>\n    <tr>\n      <th>5</th>\n      <td>0.773</td>\n      <td>0.707</td>\n      <td>11</td>\n      <td>-5.710</td>\n      <td>1</td>\n      <td>0.0568</td>\n      <td>0.010300</td>\n      <td>0.000010</td>\n      <td>0.2960</td>\n      <td>0.1130</td>\n      <td>...</td>\n      <td>https://api.spotify.com/v1/audio-analysis/6wyh...</td>\n      <td>236187</td>\n      <td>4</td>\n      <td>[atl hip hop, pop rap, rap, southern hip hop, ...</td>\n      <td>I NEVER LIKED YOU</td>\n      <td>75</td>\n      <td>Future</td>\n      <td>I'M ON ONE (feat. Drake)</td>\n      <td>About Damn Time</td>\n      <td>Super Gremlin</td>\n    </tr>\n    <tr>\n      <th>6</th>\n      <td>0.836</td>\n      <td>0.743</td>\n      <td>10</td>\n      <td>-6.305</td>\n      <td>0</td>\n      <td>0.0656</td>\n      <td>0.099500</td>\n      <td>0.000000</td>\n      <td>0.3350</td>\n      <td>0.7220</td>\n      <td>...</td>\n      <td>https://api.spotify.com/v1/audio-analysis/1Pck...</td>\n      <td>191822</td>\n      <td>4</td>\n      <td>[dance pop, escape room, minnesota hip hop, po...</td>\n      <td>About Damn Time</td>\n      <td>79</td>\n      <td>Lizzo</td>\n      <td>About Damn Time</td>\n      <td>712PM</td>\n      <td>CHICKENS (feat. EST Gee)</td>\n    </tr>\n    <tr>\n      <th>7</th>\n      <td>0.711</td>\n      <td>0.686</td>\n      <td>5</td>\n      <td>-6.409</td>\n      <td>0</td>\n      <td>0.2710</td>\n      <td>0.035500</td>\n      <td>0.000000</td>\n      <td>0.1240</td>\n      <td>0.5360</td>\n      <td>...</td>\n      <td>https://api.spotify.com/v1/audio-analysis/3FSw...</td>\n      <td>173187</td>\n      <td>4</td>\n      <td>[atl hip hop, pop rap, rap, southern hip hop, ...</td>\n      <td>I NEVER LIKED YOU</td>\n      <td>75</td>\n      <td>Future</td>\n      <td>712PM</td>\n      <td>I'M DAT N****</td>\n      <td>GOLD STACKS</td>\n    </tr>\n    <tr>\n      <th>8</th>\n      <td>0.911</td>\n      <td>0.573</td>\n      <td>2</td>\n      <td>-5.573</td>\n      <td>1</td>\n      <td>0.1630</td>\n      <td>0.011200</td>\n      <td>0.000058</td>\n      <td>0.1310</td>\n      <td>0.1450</td>\n      <td>...</td>\n      <td>https://api.spotify.com/v1/audio-analysis/0AAV...</td>\n      <td>271840</td>\n      <td>4</td>\n      <td>[atl hip hop, pop rap, rap, southern hip hop, ...</td>\n      <td>I NEVER LIKED YOU</td>\n      <td>74</td>\n      <td>Future</td>\n      <td>I'M DAT N****</td>\n      <td>INDUSTRY BABY (feat. Jack Harlow)</td>\n      <td>family ties (with Kendrick Lamar)</td>\n    </tr>\n    <tr>\n      <th>9</th>\n      <td>0.741</td>\n      <td>0.691</td>\n      <td>10</td>\n      <td>-7.395</td>\n      <td>0</td>\n      <td>0.0672</td>\n      <td>0.022100</td>\n      <td>0.000000</td>\n      <td>0.0476</td>\n      <td>0.8920</td>\n      <td>...</td>\n      <td>https://api.spotify.com/v1/audio-analysis/5Z9K...</td>\n      <td>212353</td>\n      <td>4</td>\n      <td>[lgbtq+ hip hop, pop]</td>\n      <td>MONTERO</td>\n      <td>85</td>\n      <td>Lil Nas X</td>\n      <td>INDUSTRY BABY (feat. Jack Harlow)</td>\n      <td>No Role Modelz</td>\n      <td>Honest (feat. Don Toliver)</td>\n    </tr>\n    <tr>\n      <th>10</th>\n      <td>0.690</td>\n      <td>0.521</td>\n      <td>10</td>\n      <td>-8.492</td>\n      <td>0</td>\n      <td>0.3390</td>\n      <td>0.324000</td>\n      <td>0.000000</td>\n      <td>0.0534</td>\n      <td>0.4940</td>\n      <td>...</td>\n      <td>https://api.spotify.com/v1/audio-analysis/68Dn...</td>\n      <td>292799</td>\n      <td>4</td>\n      <td>[conscious hip hop, hip hop, north carolina hi...</td>\n      <td>2014 Forest Hills Drive</td>\n      <td>85</td>\n      <td>J. Cole</td>\n      <td>No Role Modelz</td>\n      <td>STAY (with Justin Bieber)</td>\n      <td>Knife Talk (with 21 Savage ft. Project Pat)</td>\n    </tr>\n    <tr>\n      <th>11</th>\n      <td>0.591</td>\n      <td>0.764</td>\n      <td>1</td>\n      <td>-5.484</td>\n      <td>1</td>\n      <td>0.0483</td>\n      <td>0.038300</td>\n      <td>0.000000</td>\n      <td>0.1030</td>\n      <td>0.4780</td>\n      <td>...</td>\n      <td>https://api.spotify.com/v1/audio-analysis/5Pjd...</td>\n      <td>141806</td>\n      <td>4</td>\n      <td>[australian hip hop]</td>\n      <td>F*CK LOVE 3: OVER YOU</td>\n      <td>88</td>\n      <td>The Kid LAROI</td>\n      <td>STAY (with Justin Bieber)</td>\n      <td>KEEP IT BURNIN (feat. Kanye West)</td>\n      <td>Monëy so big</td>\n    </tr>\n    <tr>\n      <th>12</th>\n      <td>0.652</td>\n      <td>0.578</td>\n      <td>0</td>\n      <td>-6.187</td>\n      <td>1</td>\n      <td>0.1610</td>\n      <td>0.008610</td>\n      <td>0.000000</td>\n      <td>0.2850</td>\n      <td>0.1950</td>\n      <td>...</td>\n      <td>https://api.spotify.com/v1/audio-analysis/7rWC...</td>\n      <td>207213</td>\n      <td>4</td>\n      <td>[atl hip hop, pop rap, rap, southern hip hop, ...</td>\n      <td>I NEVER LIKED YOU</td>\n      <td>74</td>\n      <td>Future</td>\n      <td>KEEP IT BURNIN (feat. Kanye West)</td>\n      <td>good 4 u</td>\n      <td>Super Gremlin</td>\n    </tr>\n    <tr>\n      <th>13</th>\n      <td>0.563</td>\n      <td>0.664</td>\n      <td>9</td>\n      <td>-5.044</td>\n      <td>1</td>\n      <td>0.1540</td>\n      <td>0.335000</td>\n      <td>0.000000</td>\n      <td>0.0849</td>\n      <td>0.6880</td>\n      <td>...</td>\n      <td>https://api.spotify.com/v1/audio-analysis/4ZtF...</td>\n      <td>178147</td>\n      <td>4</td>\n      <td>[pop]</td>\n      <td>SOUR</td>\n      <td>90</td>\n      <td>Olivia Rodrigo</td>\n      <td>good 4 u</td>\n      <td>Woman</td>\n      <td>Dark Red</td>\n    </tr>\n    <tr>\n      <th>14</th>\n      <td>0.824</td>\n      <td>0.764</td>\n      <td>5</td>\n      <td>-4.175</td>\n      <td>0</td>\n      <td>0.0854</td>\n      <td>0.088800</td>\n      <td>0.002940</td>\n      <td>0.1170</td>\n      <td>0.8810</td>\n      <td>...</td>\n      <td>https://api.spotify.com/v1/audio-analysis/6Uj1...</td>\n      <td>172627</td>\n      <td>4</td>\n      <td>[dance pop, pop]</td>\n      <td>Planet Her</td>\n      <td>91</td>\n      <td>Doja Cat</td>\n      <td>Woman</td>\n      <td>Wait a Minute!</td>\n      <td>MAMIII</td>\n    </tr>\n    <tr>\n      <th>15</th>\n      <td>0.764</td>\n      <td>0.705</td>\n      <td>3</td>\n      <td>-5.279</td>\n      <td>0</td>\n      <td>0.0278</td>\n      <td>0.037100</td>\n      <td>0.000019</td>\n      <td>0.0943</td>\n      <td>0.6720</td>\n      <td>...</td>\n      <td>https://api.spotify.com/v1/audio-analysis/0y60...</td>\n      <td>196520</td>\n      <td>4</td>\n      <td>[afrofuturism, dance pop, electropop, pop, pos...</td>\n      <td>ARDIPITHECUS</td>\n      <td>87</td>\n      <td>WILLOW</td>\n      <td>Wait a Minute!</td>\n      <td>Ghost</td>\n      <td>MAMIII</td>\n    </tr>\n    <tr>\n      <th>16</th>\n      <td>0.601</td>\n      <td>0.741</td>\n      <td>2</td>\n      <td>-5.569</td>\n      <td>1</td>\n      <td>0.0478</td>\n      <td>0.185000</td>\n      <td>0.000029</td>\n      <td>0.4150</td>\n      <td>0.4410</td>\n      <td>...</td>\n      <td>https://api.spotify.com/v1/audio-analysis/6I3m...</td>\n      <td>153190</td>\n      <td>4</td>\n      <td>[canadian pop, pop]</td>\n      <td>Justice</td>\n      <td>89</td>\n      <td>Justin Bieber</td>\n      <td>Ghost</td>\n      <td>Enemy (with JID) - from the series Arcane Leag...</td>\n      <td>STAY (with Justin Bieber)</td>\n    </tr>\n    <tr>\n      <th>17</th>\n      <td>0.728</td>\n      <td>0.783</td>\n      <td>11</td>\n      <td>-4.424</td>\n      <td>0</td>\n      <td>0.2660</td>\n      <td>0.237000</td>\n      <td>0.000000</td>\n      <td>0.4340</td>\n      <td>0.5550</td>\n      <td>...</td>\n      <td>https://api.spotify.com/v1/audio-analysis/1HhN...</td>\n      <td>173381</td>\n      <td>4</td>\n      <td>[modern rock, rock]</td>\n      <td>Mercury - Act 1</td>\n      <td>84</td>\n      <td>Imagine Dragons</td>\n      <td>Enemy (with JID) - from the series Arcane Leag...</td>\n      <td>505</td>\n      <td>About Damn Time</td>\n    </tr>\n    <tr>\n      <th>18</th>\n      <td>0.520</td>\n      <td>0.852</td>\n      <td>0</td>\n      <td>-5.866</td>\n      <td>1</td>\n      <td>0.0543</td>\n      <td>0.002370</td>\n      <td>0.000058</td>\n      <td>0.0733</td>\n      <td>0.2340</td>\n      <td>...</td>\n      <td>https://api.spotify.com/v1/audio-analysis/58ge...</td>\n      <td>253587</td>\n      <td>4</td>\n      <td>[garage rock, permanent wave, rock, sheffield ...</td>\n      <td>Favourite Worst Nightmare (Standard Version)</td>\n      <td>80</td>\n      <td>Arctic Monkeys</td>\n      <td>505</td>\n      <td>Thousand Miles</td>\n      <td>Need to Know</td>\n    </tr>\n    <tr>\n      <th>19</th>\n      <td>0.376</td>\n      <td>0.657</td>\n      <td>7</td>\n      <td>-4.658</td>\n      <td>1</td>\n      <td>0.0768</td>\n      <td>0.085800</td>\n      <td>0.000000</td>\n      <td>0.0884</td>\n      <td>0.2030</td>\n      <td>...</td>\n      <td>https://api.spotify.com/v1/audio-analysis/1r8Z...</td>\n      <td>164782</td>\n      <td>4</td>\n      <td>[australian hip hop]</td>\n      <td>Thousand Miles</td>\n      <td>84</td>\n      <td>The Kid LAROI</td>\n      <td>Thousand Miles</td>\n      <td>LOVE YOU BETTER</td>\n      <td>I Love You So</td>\n    </tr>\n    <tr>\n      <th>20</th>\n      <td>0.709</td>\n      <td>0.357</td>\n      <td>5</td>\n      <td>-9.289</td>\n      <td>1</td>\n      <td>0.2140</td>\n      <td>0.478000</td>\n      <td>0.000294</td>\n      <td>0.1120</td>\n      <td>0.5440</td>\n      <td>...</td>\n      <td>https://api.spotify.com/v1/audio-analysis/4XJR...</td>\n      <td>129480</td>\n      <td>4</td>\n      <td>[atl hip hop, pop rap, rap, southern hip hop, ...</td>\n      <td>I NEVER LIKED YOU</td>\n      <td>72</td>\n      <td>Future</td>\n      <td>LOVE YOU BETTER</td>\n      <td>Honest (feat. Don Toliver)</td>\n      <td>See You Again (feat. Kali Uchis)</td>\n    </tr>\n    <tr>\n      <th>21</th>\n      <td>0.810</td>\n      <td>0.655</td>\n      <td>8</td>\n      <td>-6.779</td>\n      <td>0</td>\n      <td>0.0698</td>\n      <td>0.127000</td>\n      <td>0.000082</td>\n      <td>0.1050</td>\n      <td>0.8090</td>\n      <td>...</td>\n      <td>https://api.spotify.com/v1/audio-analysis/2KdK...</td>\n      <td>193322</td>\n      <td>4</td>\n      <td>[canadian pop, pop]</td>\n      <td>Honest</td>\n      <td>75</td>\n      <td>Justin Bieber</td>\n      <td>Honest (feat. Don Toliver)</td>\n      <td>MASSAGING ME</td>\n      <td>INDUSTRY BABY (feat. Jack Harlow)</td>\n    </tr>\n    <tr>\n      <th>22</th>\n      <td>0.916</td>\n      <td>0.453</td>\n      <td>1</td>\n      <td>-4.148</td>\n      <td>1</td>\n      <td>0.1580</td>\n      <td>0.000189</td>\n      <td>0.000000</td>\n      <td>0.1370</td>\n      <td>0.1520</td>\n      <td>...</td>\n      <td>https://api.spotify.com/v1/audio-analysis/2tzg...</td>\n      <td>106133</td>\n      <td>4</td>\n      <td>[atl hip hop, pop rap, rap, southern hip hop, ...</td>\n      <td>I NEVER LIKED YOU</td>\n      <td>72</td>\n      <td>Future</td>\n      <td>MASSAGING ME</td>\n      <td>PROVENZA</td>\n      <td>Monëy so big</td>\n    </tr>\n    <tr>\n      <th>23</th>\n      <td>0.870</td>\n      <td>0.516</td>\n      <td>1</td>\n      <td>-8.006</td>\n      <td>1</td>\n      <td>0.0541</td>\n      <td>0.656000</td>\n      <td>0.008230</td>\n      <td>0.1100</td>\n      <td>0.5300</td>\n      <td>...</td>\n      <td>https://api.spotify.com/v1/audio-analysis/7dSZ...</td>\n      <td>210200</td>\n      <td>4</td>\n      <td>[latin, reggaeton, reggaeton colombiano, trap ...</td>\n      <td>PROVENZA</td>\n      <td>83</td>\n      <td>KAROL G</td>\n      <td>PROVENZA</td>\n      <td>Dark Red</td>\n      <td>Need to Know</td>\n    </tr>\n    <tr>\n      <th>24</th>\n      <td>0.603</td>\n      <td>0.783</td>\n      <td>6</td>\n      <td>-4.023</td>\n      <td>1</td>\n      <td>0.0620</td>\n      <td>0.449000</td>\n      <td>0.000008</td>\n      <td>0.1190</td>\n      <td>0.7750</td>\n      <td>...</td>\n      <td>https://api.spotify.com/v1/audio-analysis/37y7...</td>\n      <td>173104</td>\n      <td>4</td>\n      <td>[afrofuturism, pop]</td>\n      <td>Dark Red</td>\n      <td>85</td>\n      <td>Steve Lacy</td>\n      <td>Dark Red</td>\n      <td>Need to Know</td>\n      <td>good 4 u</td>\n    </tr>\n    <tr>\n      <th>25</th>\n      <td>0.664</td>\n      <td>0.609</td>\n      <td>1</td>\n      <td>-6.509</td>\n      <td>1</td>\n      <td>0.0707</td>\n      <td>0.304000</td>\n      <td>0.000000</td>\n      <td>0.0926</td>\n      <td>0.1940</td>\n      <td>...</td>\n      <td>https://api.spotify.com/v1/audio-analysis/3Vi5...</td>\n      <td>210560</td>\n      <td>4</td>\n      <td>[dance pop, pop]</td>\n      <td>Planet Her</td>\n      <td>87</td>\n      <td>Doja Cat</td>\n      <td>Need to Know</td>\n      <td>Super Gremlin</td>\n      <td>Monëy so big</td>\n    </tr>\n    <tr>\n      <th>26</th>\n      <td>0.825</td>\n      <td>0.414</td>\n      <td>2</td>\n      <td>-6.634</td>\n      <td>1</td>\n      <td>0.1440</td>\n      <td>0.002650</td>\n      <td>0.000000</td>\n      <td>0.3570</td>\n      <td>0.1060</td>\n      <td>...</td>\n      <td>https://api.spotify.com/v1/audio-analysis/1Y5J...</td>\n      <td>200548</td>\n      <td>4</td>\n      <td>[florida rap, hip hop, melodic rap, miami hip ...</td>\n      <td>Back For Everything</td>\n      <td>73</td>\n      <td>Kodak Black</td>\n      <td>Super Gremlin</td>\n      <td>Knife Talk (with 21 Savage ft. Project Pat)</td>\n      <td>KEEP IT BURNIN (feat. Kanye West)</td>\n    </tr>\n    <tr>\n      <th>27</th>\n      <td>0.849</td>\n      <td>0.424</td>\n      <td>5</td>\n      <td>-9.579</td>\n      <td>0</td>\n      <td>0.3240</td>\n      <td>0.063500</td>\n      <td>0.000000</td>\n      <td>0.0834</td>\n      <td>0.1530</td>\n      <td>...</td>\n      <td>https://api.spotify.com/v1/audio-analysis/2BcM...</td>\n      <td>242966</td>\n      <td>4</td>\n      <td>[canadian hip hop, canadian pop, hip hop, rap,...</td>\n      <td>Certified Lover Boy</td>\n      <td>84</td>\n      <td>Drake</td>\n      <td>Knife Talk (with 21 Savage ft. Project Pat)</td>\n      <td>I Love You So</td>\n      <td>GOLD STACKS</td>\n    </tr>\n    <tr>\n      <th>28</th>\n      <td>0.575</td>\n      <td>0.648</td>\n      <td>10</td>\n      <td>-4.891</td>\n      <td>1</td>\n      <td>0.0358</td>\n      <td>0.583000</td>\n      <td>0.000000</td>\n      <td>0.1150</td>\n      <td>0.4660</td>\n      <td>...</td>\n      <td>https://api.spotify.com/v1/audio-analysis/4SqW...</td>\n      <td>160240</td>\n      <td>4</td>\n      <td>[chicago indie]</td>\n      <td>I Love You So</td>\n      <td>88</td>\n      <td>The Walters</td>\n      <td>I Love You So</td>\n      <td>Don't Think Jesus</td>\n      <td>Heat Waves</td>\n    </tr>\n    <tr>\n      <th>29</th>\n      <td>0.578</td>\n      <td>0.431</td>\n      <td>2</td>\n      <td>-7.034</td>\n      <td>1</td>\n      <td>0.0269</td>\n      <td>0.469000</td>\n      <td>0.000000</td>\n      <td>0.1370</td>\n      <td>0.2100</td>\n      <td>...</td>\n      <td>https://api.spotify.com/v1/audio-analysis/1TUu...</td>\n      <td>226975</td>\n      <td>3</td>\n      <td>[contemporary country]</td>\n      <td>Don't Think Jesus</td>\n      <td>78</td>\n      <td>Morgan Wallen</td>\n      <td>Don't Think Jesus</td>\n      <td>Sweater Weather</td>\n      <td>Need to Know</td>\n    </tr>\n    <tr>\n      <th>30</th>\n      <td>0.612</td>\n      <td>0.807</td>\n      <td>10</td>\n      <td>-2.810</td>\n      <td>1</td>\n      <td>0.0336</td>\n      <td>0.049500</td>\n      <td>0.017700</td>\n      <td>0.1010</td>\n      <td>0.3980</td>\n      <td>...</td>\n      <td>https://api.spotify.com/v1/audio-analysis/2QjO...</td>\n      <td>240400</td>\n      <td>4</td>\n      <td>[modern alternative rock, modern rock, pop]</td>\n      <td>I Love You.</td>\n      <td>88</td>\n      <td>The Neighbourhood</td>\n      <td>Sweater Weather</td>\n      <td>MAMIII</td>\n      <td>Thousand Miles</td>\n    </tr>\n    <tr>\n      <th>31</th>\n      <td>0.843</td>\n      <td>0.700</td>\n      <td>4</td>\n      <td>-3.563</td>\n      <td>0</td>\n      <td>0.0803</td>\n      <td>0.093400</td>\n      <td>0.000000</td>\n      <td>0.1400</td>\n      <td>0.8990</td>\n      <td>...</td>\n      <td>https://api.spotify.com/v1/audio-analysis/1ri9...</td>\n      <td>226088</td>\n      <td>4</td>\n      <td>[dance pop, latin, latin viral pop, pop, rap l...</td>\n      <td>MAMIII</td>\n      <td>92</td>\n      <td>Becky G</td>\n      <td>MAMIII</td>\n      <td>FOR A NUT (feat. Gunna &amp; Young Thug)</td>\n      <td>Wait a Minute!</td>\n    </tr>\n    <tr>\n      <th>32</th>\n      <td>0.824</td>\n      <td>0.667</td>\n      <td>10</td>\n      <td>-6.603</td>\n      <td>0</td>\n      <td>0.0814</td>\n      <td>0.003210</td>\n      <td>0.000003</td>\n      <td>0.0956</td>\n      <td>0.3050</td>\n      <td>...</td>\n      <td>https://api.spotify.com/v1/audio-analysis/7HCX...</td>\n      <td>207933</td>\n      <td>4</td>\n      <td>[atl hip hop, pop rap, rap, southern hip hop, ...</td>\n      <td>I NEVER LIKED YOU</td>\n      <td>73</td>\n      <td>Future</td>\n      <td>FOR A NUT (feat. Gunna &amp; Young Thug)</td>\n      <td>Bam Bam (feat. Ed Sheeran)</td>\n      <td>About Damn Time</td>\n    </tr>\n    <tr>\n      <th>33</th>\n      <td>0.756</td>\n      <td>0.697</td>\n      <td>8</td>\n      <td>-6.377</td>\n      <td>1</td>\n      <td>0.0401</td>\n      <td>0.182000</td>\n      <td>0.000000</td>\n      <td>0.3330</td>\n      <td>0.9560</td>\n      <td>...</td>\n      <td>https://api.spotify.com/v1/audio-analysis/2DB4...</td>\n      <td>206071</td>\n      <td>4</td>\n      <td>[dance pop, pop, post-teen pop]</td>\n      <td>Familia</td>\n      <td>80</td>\n      <td>Camila Cabello</td>\n      <td>Bam Bam (feat. Ed Sheeran)</td>\n      <td>GOLD STACKS</td>\n      <td>See You Again (feat. Kali Uchis)</td>\n    </tr>\n    <tr>\n      <th>34</th>\n      <td>0.763</td>\n      <td>0.526</td>\n      <td>5</td>\n      <td>-6.753</td>\n      <td>0</td>\n      <td>0.3550</td>\n      <td>0.009370</td>\n      <td>0.000002</td>\n      <td>0.1110</td>\n      <td>0.3620</td>\n      <td>...</td>\n      <td>https://api.spotify.com/v1/audio-analysis/1Ijp...</td>\n      <td>162333</td>\n      <td>4</td>\n      <td>[atl hip hop, pop rap, rap, southern hip hop, ...</td>\n      <td>I NEVER LIKED YOU</td>\n      <td>72</td>\n      <td>Future</td>\n      <td>GOLD STACKS</td>\n      <td>THATS WHAT I WANT</td>\n      <td>712PM</td>\n    </tr>\n    <tr>\n      <th>35</th>\n      <td>0.737</td>\n      <td>0.846</td>\n      <td>1</td>\n      <td>-4.510</td>\n      <td>0</td>\n      <td>0.2200</td>\n      <td>0.006140</td>\n      <td>0.000000</td>\n      <td>0.0486</td>\n      <td>0.5460</td>\n      <td>...</td>\n      <td>https://api.spotify.com/v1/audio-analysis/0e8n...</td>\n      <td>143901</td>\n      <td>4</td>\n      <td>[lgbtq+ hip hop, pop]</td>\n      <td>MONTERO</td>\n      <td>90</td>\n      <td>Lil Nas X</td>\n      <td>THATS WHAT I WANT</td>\n      <td>Something in the Orange</td>\n      <td>Woman</td>\n    </tr>\n    <tr>\n      <th>36</th>\n      <td>0.369</td>\n      <td>0.192</td>\n      <td>4</td>\n      <td>-12.151</td>\n      <td>0</td>\n      <td>0.0400</td>\n      <td>0.555000</td>\n      <td>0.000008</td>\n      <td>0.0954</td>\n      <td>0.1480</td>\n      <td>...</td>\n      <td>https://api.spotify.com/v1/audio-analysis/3WMj...</td>\n      <td>228013</td>\n      <td>3</td>\n      <td>[oklahoma country]</td>\n      <td>Something in the Orange</td>\n      <td>71</td>\n      <td>Zach Bryan</td>\n      <td>Something in the Orange</td>\n      <td>See You Again (feat. Kali Uchis)</td>\n      <td>Wasted On You</td>\n    </tr>\n    <tr>\n      <th>37</th>\n      <td>0.558</td>\n      <td>0.559</td>\n      <td>6</td>\n      <td>-9.222</td>\n      <td>1</td>\n      <td>0.0959</td>\n      <td>0.371000</td>\n      <td>0.000007</td>\n      <td>0.1090</td>\n      <td>0.6200</td>\n      <td>...</td>\n      <td>https://api.spotify.com/v1/audio-analysis/7KA4...</td>\n      <td>180387</td>\n      <td>4</td>\n      <td>[hip hop, rap]</td>\n      <td>Flower Boy</td>\n      <td>83</td>\n      <td>Tyler, The Creator</td>\n      <td>See You Again (feat. Kali Uchis)</td>\n      <td>Wasted On You</td>\n      <td>Heat Waves</td>\n    </tr>\n    <tr>\n      <th>38</th>\n      <td>0.505</td>\n      <td>0.657</td>\n      <td>11</td>\n      <td>-5.240</td>\n      <td>0</td>\n      <td>0.0318</td>\n      <td>0.373000</td>\n      <td>0.001070</td>\n      <td>0.1260</td>\n      <td>0.2520</td>\n      <td>...</td>\n      <td>https://api.spotify.com/v1/audio-analysis/3cBs...</td>\n      <td>178520</td>\n      <td>3</td>\n      <td>[contemporary country]</td>\n      <td>Dangerous: The Double Album</td>\n      <td>79</td>\n      <td>Morgan Wallen</td>\n      <td>Wasted On You</td>\n      <td>Nail Tech</td>\n      <td>Boyfriend</td>\n    </tr>\n    <tr>\n      <th>39</th>\n      <td>0.647</td>\n      <td>0.581</td>\n      <td>4</td>\n      <td>-7.678</td>\n      <td>0</td>\n      <td>0.0884</td>\n      <td>0.002900</td>\n      <td>0.000008</td>\n      <td>0.1190</td>\n      <td>0.1130</td>\n      <td>...</td>\n      <td>https://api.spotify.com/v1/audio-analysis/62Yo...</td>\n      <td>206385</td>\n      <td>4</td>\n      <td>[deep underground hip hop, kentucky hip hop, rap]</td>\n      <td>Nail Tech</td>\n      <td>85</td>\n      <td>Jack Harlow</td>\n      <td>Nail Tech</td>\n      <td>Cold Heart - PNAU Remix</td>\n      <td>Knife Talk (with 21 Savage ft. Project Pat)</td>\n    </tr>\n    <tr>\n      <th>40</th>\n      <td>0.795</td>\n      <td>0.800</td>\n      <td>1</td>\n      <td>-6.320</td>\n      <td>1</td>\n      <td>0.0309</td>\n      <td>0.035400</td>\n      <td>0.000073</td>\n      <td>0.0915</td>\n      <td>0.9340</td>\n      <td>...</td>\n      <td>https://api.spotify.com/v1/audio-analysis/6JIC...</td>\n      <td>202735</td>\n      <td>4</td>\n      <td>[glam rock, mellow gold, piano rock]</td>\n      <td>The Lockdown Sessions</td>\n      <td>84</td>\n      <td>Elton John</td>\n      <td>Cold Heart - PNAU Remix</td>\n      <td>Boyfriend</td>\n      <td>Shivers</td>\n    </tr>\n    <tr>\n      <th>41</th>\n      <td>0.345</td>\n      <td>0.612</td>\n      <td>7</td>\n      <td>-6.543</td>\n      <td>0</td>\n      <td>0.0608</td>\n      <td>0.232000</td>\n      <td>0.000000</td>\n      <td>0.1940</td>\n      <td>0.2320</td>\n      <td>...</td>\n      <td>https://api.spotify.com/v1/audio-analysis/59Cf...</td>\n      <td>153000</td>\n      <td>3</td>\n      <td>[pop, post-teen pop]</td>\n      <td>Boyfriend</td>\n      <td>89</td>\n      <td>Dove Cameron</td>\n      <td>Boyfriend</td>\n      <td>traitor</td>\n      <td>MIDDLE OF THE NIGHT</td>\n    </tr>\n    <tr>\n      <th>42</th>\n      <td>0.380</td>\n      <td>0.339</td>\n      <td>3</td>\n      <td>-7.885</td>\n      <td>1</td>\n      <td>0.0338</td>\n      <td>0.691000</td>\n      <td>0.000000</td>\n      <td>0.1200</td>\n      <td>0.0849</td>\n      <td>...</td>\n      <td>https://api.spotify.com/v1/audio-analysis/5CZ4...</td>\n      <td>229227</td>\n      <td>4</td>\n      <td>[pop]</td>\n      <td>SOUR</td>\n      <td>88</td>\n      <td>Olivia Rodrigo</td>\n      <td>traitor</td>\n      <td>We Don't Talk About Bruno</td>\n      <td>Need to Know</td>\n    </tr>\n    <tr>\n      <th>43</th>\n      <td>0.577</td>\n      <td>0.450</td>\n      <td>0</td>\n      <td>-8.516</td>\n      <td>0</td>\n      <td>0.0834</td>\n      <td>0.357000</td>\n      <td>0.000000</td>\n      <td>0.1110</td>\n      <td>0.8300</td>\n      <td>...</td>\n      <td>https://api.spotify.com/v1/audio-analysis/52xJ...</td>\n      <td>216120</td>\n      <td>4</td>\n      <td>[]</td>\n      <td>Encanto (Original Motion Picture Soundtrack)</td>\n      <td>86</td>\n      <td>Carolina Gaitán - La Gaita</td>\n      <td>We Don't Talk About Bruno</td>\n      <td>Shivers</td>\n      <td>As It Was</td>\n    </tr>\n    <tr>\n      <th>44</th>\n      <td>0.788</td>\n      <td>0.859</td>\n      <td>2</td>\n      <td>-2.724</td>\n      <td>1</td>\n      <td>0.0856</td>\n      <td>0.281000</td>\n      <td>0.000000</td>\n      <td>0.0424</td>\n      <td>0.8220</td>\n      <td>...</td>\n      <td>https://api.spotify.com/v1/audio-analysis/50nf...</td>\n      <td>207853</td>\n      <td>4</td>\n      <td>[pop, uk pop]</td>\n      <td>=</td>\n      <td>90</td>\n      <td>Ed Sheeran</td>\n      <td>Shivers</td>\n      <td>family ties (with Kendrick Lamar)</td>\n      <td>Cold Heart - PNAU Remix</td>\n    </tr>\n    <tr>\n      <th>45</th>\n      <td>0.711</td>\n      <td>0.611</td>\n      <td>1</td>\n      <td>-5.453</td>\n      <td>1</td>\n      <td>0.3300</td>\n      <td>0.005880</td>\n      <td>0.000000</td>\n      <td>0.2300</td>\n      <td>0.1440</td>\n      <td>...</td>\n      <td>https://api.spotify.com/v1/audio-analysis/3QFI...</td>\n      <td>252262</td>\n      <td>4</td>\n      <td>[hip hop, rap]</td>\n      <td>The Melodic Blue</td>\n      <td>77</td>\n      <td>Baby Keem</td>\n      <td>family ties (with Kendrick Lamar)</td>\n      <td>MIDDLE OF THE NIGHT</td>\n      <td>Wants and Needs (feat. Lil Baby)</td>\n    </tr>\n    <tr>\n      <th>46</th>\n      <td>0.410</td>\n      <td>0.611</td>\n      <td>4</td>\n      <td>-8.271</td>\n      <td>0</td>\n      <td>0.0467</td>\n      <td>0.022800</td>\n      <td>0.000000</td>\n      <td>0.1160</td>\n      <td>0.0899</td>\n      <td>...</td>\n      <td>https://api.spotify.com/v1/audio-analysis/58Hv...</td>\n      <td>184448</td>\n      <td>3</td>\n      <td>[alt z, pop]</td>\n      <td>MIDDLE OF THE NIGHT</td>\n      <td>91</td>\n      <td>Elley Duhé</td>\n      <td>MIDDLE OF THE NIGHT</td>\n      <td>Wants and Needs (feat. Lil Baby)</td>\n      <td>Boyfriend</td>\n    </tr>\n    <tr>\n      <th>47</th>\n      <td>0.578</td>\n      <td>0.449</td>\n      <td>1</td>\n      <td>-6.349</td>\n      <td>1</td>\n      <td>0.2860</td>\n      <td>0.061800</td>\n      <td>0.000002</td>\n      <td>0.1190</td>\n      <td>0.1000</td>\n      <td>...</td>\n      <td>https://api.spotify.com/v1/audio-analysis/65OV...</td>\n      <td>192956</td>\n      <td>4</td>\n      <td>[canadian hip hop, canadian pop, hip hop, rap,...</td>\n      <td>Scary Hours 2</td>\n      <td>81</td>\n      <td>Drake</td>\n      <td>Wants and Needs (feat. Lil Baby)</td>\n      <td>CHICKENS (feat. EST Gee)</td>\n      <td>family ties (with Kendrick Lamar)</td>\n    </tr>\n    <tr>\n      <th>48</th>\n      <td>0.862</td>\n      <td>0.619</td>\n      <td>11</td>\n      <td>-6.197</td>\n      <td>0</td>\n      <td>0.2210</td>\n      <td>0.040300</td>\n      <td>0.000000</td>\n      <td>0.2530</td>\n      <td>0.6240</td>\n      <td>...</td>\n      <td>https://api.spotify.com/v1/audio-analysis/53wB...</td>\n      <td>195267</td>\n      <td>4</td>\n      <td>[atl hip hop, pop rap, rap, southern hip hop, ...</td>\n      <td>I NEVER LIKED YOU</td>\n      <td>71</td>\n      <td>Future</td>\n      <td>CHICKENS (feat. EST Gee)</td>\n      <td>Monëy so big</td>\n      <td>About Damn Time</td>\n    </tr>\n    <tr>\n      <th>49</th>\n      <td>0.693</td>\n      <td>0.575</td>\n      <td>2</td>\n      <td>-7.633</td>\n      <td>1</td>\n      <td>0.0906</td>\n      <td>0.121000</td>\n      <td>0.000000</td>\n      <td>0.1040</td>\n      <td>0.3530</td>\n      <td>...</td>\n      <td>https://api.spotify.com/v1/audio-analysis/7Bba...</td>\n      <td>160052</td>\n      <td>4</td>\n      <td>[pluggnb]</td>\n      <td>Up 2 Më</td>\n      <td>83</td>\n      <td>Yeat</td>\n      <td>Monëy so big</td>\n      <td>As It Was</td>\n      <td>Need to Know</td>\n    </tr>\n  </tbody>\n</table>\n<p>50 rows × 25 columns</p>\n</div>"
     },
     "metadata": {}
    }
   ]
  },
  {
   "cell_type": "code",
   "metadata": {
    "cell_id": "8f0254483411428db7486432cb6c6516",
    "tags": [],
    "deepnote_to_be_reexecuted": false,
    "source_hash": "832550bd",
    "execution_start": 1651615715021,
    "execution_millis": 153,
    "deepnote_cell_type": "code",
    "deepnote_cell_height": 423
   },
   "source": "#next_track\nnext_track_sf = []\nfor i in range(len(next_track_list)):\n    r = baseline_df.loc[baseline_df['track_name'] == next_track_list[i]][features].values.flatten().tolist()\n    next_track_sf.append(r)\n\n#recommended_track\nrec_track_list = list(baseline_df['recommended_track'])\nrecommended_track_sf = []\nfor i in range(len(rec_track_list)):\n    r2 = baseline_df.loc[baseline_df['track_name'] == rec_track_list[i]][features].values.flatten().tolist()\n    recommended_track_sf.append(r2)\n\n#current_track\ncurr_track_list = list(baseline_df['track_name'])\ncurrent_track_sf = []\nfor i in range(len(curr_track_list)):\n    r3 = baseline_df.loc[baseline_df['track_name'] == curr_track_list[i]][features].values.flatten().tolist()\n    current_track_sf.append(r3)\n",
   "execution_count": null,
   "outputs": []
  },
  {
   "cell_type": "code",
   "metadata": {
    "cell_id": "de522858fe994e3ebbbb450410ede6ca",
    "tags": [],
    "deepnote_to_be_reexecuted": false,
    "source_hash": "a4cbde72",
    "execution_start": 1651615715225,
    "execution_millis": 1,
    "deepnote_cell_type": "code",
    "deepnote_cell_height": 477
   },
   "source": "#recall = # of relevant recommendations / # of all possible relevant items\n#precision = # of relevant recommendations / # of items recommended\nimport difflib\n#similarity between track_name & next_track vs track_name & recommneded_track?\n\n#track_name & next_track\ncurr_next = []\ncurr_rec = []\nfor i in range(len(current_track_sf)):\n    sim_cn=difflib.SequenceMatcher(None,current_track_sf[i],next_track_sf[i]).ratio()\n    sim_cr=difflib.SequenceMatcher(None,current_track_sf[i],recommended_track_sf[i]).ratio()\n\n    #sim_cn = cosine_similarity(np.asarray(current_track_sf)[i].reshape(1, -1), np.asarray(next_track_sf)[i].reshape(1, -1))\n    #sim_cr = cosine_similarity(np.asarray(current_track_sf)[0].reshape(1, -1), np.asarray(recommended_track_sf)[0].reshape(1, -1))\n    curr_next.append(sim_cn)\n    curr_rec.append(sim_cr)\n\n#curr_next, curr_rec\nrec_better = []\nfor i in range(len(curr_next)):\n    rec_bet = (curr_next[i] <= curr_rec[i])\n    rec_better.append(rec_bet)\n#rec_better",
   "execution_count": null,
   "outputs": []
  },
  {
   "cell_type": "code",
   "metadata": {
    "cell_id": "aaf18d6d76aa4b109c638629af307f7d",
    "tags": [],
    "deepnote_to_be_reexecuted": false,
    "source_hash": "915e0089",
    "execution_start": 1651615715226,
    "execution_millis": 2,
    "deepnote_cell_type": "code",
    "deepnote_cell_height": 154.1875,
    "deepnote_output_heights": [
     21.1875
    ]
   },
   "source": "#precision = # of relevant recommendations / # of items recommended\nprecision = rec_better.count(True) / len(rec_better)\nprecision",
   "execution_count": null,
   "outputs": [
    {
     "output_type": "execute_result",
     "execution_count": 27,
     "data": {
      "text/plain": "0.92"
     },
     "metadata": {}
    }
   ]
  },
  {
   "cell_type": "markdown",
   "source": "8. Test on other playlists: Take 3 very different playlists, combine them, and run recommender on a song to see if it preicts something in the same playlist\n- Jazz Study playlist: https://open.spotify.com/playlist/7jHEx7oHxN4B7PKCLapcq9?si=bf6e8c0e17404cf4\n- Mandarin playlist: https://open.spotify.com/playlist/340MRzAs8Ro5dgGtHA8hUZ?si=44ee0e93c0424c86\n- Meditation playlist: https://open.spotify.com/playlist/3ksy3Zso4vdt4JIzTYvpF9?si=ef7b395459424ec0",
   "metadata": {
    "cell_id": "0e0b52831ae6445ab241a5ec027e3470",
    "tags": [],
    "deepnote_cell_type": "markdown",
    "deepnote_cell_height": 178.953125
   }
  },
  {
   "cell_type": "code",
   "metadata": {
    "cell_id": "68fb8c0ef55f4a25bf006ed1b76da567",
    "tags": [],
    "deepnote_to_be_reexecuted": false,
    "source_hash": "1c0e0303",
    "execution_start": 1651615715227,
    "execution_millis": 699,
    "deepnote_cell_type": "code",
    "deepnote_cell_height": 261
   },
   "source": "playlist_link1 = \"https://open.spotify.com/playlist/7jHEx7oHxN4B7PKCLapcq9?si=bf6e8c0e17404cf4\"\nplaylist_URI1 = playlist_link1.split(\"/\")[-1].split(\"?\")[0]\ntrack_uris1 = [x[\"track\"][\"uri\"] for x in sp.playlist_tracks(playlist_URI1)[\"items\"]]\n\nplaylist_link2 = \"https://open.spotify.com/playlist/340MRzAs8Ro5dgGtHA8hUZ?si=44ee0e93c0424c86\"\nplaylist_URI2 = playlist_link2.split(\"/\")[-1].split(\"?\")[0]\ntrack_uris2 = [x[\"track\"][\"uri\"] for x in sp.playlist_tracks(playlist_URI2)[\"items\"]]\n\nplaylist_link3 = \"https://open.spotify.com/playlist/3ksy3Zso4vdt4JIzTYvpF9?si=ef7b395459424ec0\"\nplaylist_URI3 = playlist_link3.split(\"/\")[-1].split(\"?\")[0]\ntrack_uris3 = [x[\"track\"][\"uri\"] for x in sp.playlist_tracks(playlist_URI3)[\"items\"]]",
   "execution_count": null,
   "outputs": []
  },
  {
   "cell_type": "code",
   "metadata": {
    "cell_id": "6d29022c18714ba9b825de0f3b4c9fa3",
    "tags": [],
    "deepnote_to_be_reexecuted": false,
    "source_hash": "90fdb506",
    "execution_start": 1651615715934,
    "execution_millis": 24620,
    "deepnote_cell_type": "code",
    "deepnote_cell_height": 829.125
   },
   "source": "#Playlist1\nprint('Jazz Study playlist:')\naudio_features1 = []\nfor i in range(len(track_uris1)):\n    audio_features1.append(sp.audio_features(track_uris1[i]))\naudio_features1[0]\n\ntrack_names1 = []\nfor k in sp.playlist_tracks(playlist_URI1)[\"items\"]:\n    track_names1.append(k[\"track\"][\"name\"])\nprint(track_names1)\n\n#Playlist2\nprint('Mandarin playlist:')\naudio_features2 = []\nfor i in range(len(track_uris2)):\n    audio_features2.append(sp.audio_features(track_uris2[i]))\naudio_features2[0]\n\ntrack_names2 = []\nfor k in sp.playlist_tracks(playlist_URI2)[\"items\"]:\n    track_names2.append(k[\"track\"][\"name\"])\nprint(track_names2)\n\n#Playlist3\nprint(\"Meditation playlist:\")\naudio_features3 = []\nfor i in range(len(track_uris3)):\n    audio_features3.append(sp.audio_features(track_uris3[i]))\naudio_features3[0]\n\ntrack_names3 = []\nfor k in sp.playlist_tracks(playlist_URI3)[\"items\"]:\n    track_names3.append(k[\"track\"][\"name\"])\nprint(track_names3)",
   "execution_count": null,
   "outputs": [
    {
     "name": "stdout",
     "text": "Jazz Study playlist:\n['New York Nights', 'Near You', 'Misty', 'All I See is Us', 'Saga of Harrison Crabfeathers', 'Halfway', 'The Sweetest Nighlife', \"I'd Rather Be Alone\", 'Just The Way You Are', 'Got That Feeling', 'Cry Me A River', 'Rosalinde', 'Melody of Summer', 'No Other Woman', 'Kissing in the Streets', 'Autumn Leaves', 'When I Fall In Love', 'As She Rises', 'Clear Bridge', 'The Last Time', 'I Have A Dream', 'Girl From Ipanema', 'Budapest Nights', 'Swing Low Sweet Chariot', 'My Heart Is For You', 'Forgiving is Forgetting', \"Isn't She Lovely\", 'Stay', \"It's Gonna Be a Good Day\", 'Walk On By', 'Chiquitita', 'My Funny Valentine', 'Summertime', 'My Simple Thing', 'The Winner Takes It All', 'What A Wonderful World', 'Every Breath You Take', 'Imagine', 'Fly Me To The Moon', 'Over The Rainbow', 'Inner City Drive', 'Unforgetable', 'On Your Lips', 'Under A Smiling Moon', 'Fancy Fancy', 'Smile', 'In Thoughtful', 'Home', 'I´ll Never Smile Again', 'Abisko', 'Peace', \"I Can't Get Started\", 'Air on G String', 'Pastorale in C minor', 'Italian Concerto: Andante', 'Postcards']\nMandarin playlist:\n['怎麼了', '下一頁的我', '好難得', '說好不哭', '我是誰 (電視劇《狼殿下》主題曲)', '可惜不是你', '突然好想你', '她說', '我也不知道', '5:10a.m.', '天空之外 (電視劇《陪你到世界之巔》片尾曲)', '一路向北', '[Wei Wuxian] Qu Jin Chen Qing', '你不是真正的快樂', '不哭', '[Lan Wangji] Bu Wang', '學不會', '愛殤', '玫瑰少年', '說了再見', '情人咒 - 電視劇《琉璃美人煞》片尾曲', '妳說妳還不了', 'Never - 《狼殿下》战爱版预告宣传曲', '逆時光的浪', '後來的我們', '那些年', '珊瑚海', '玫瑰少年', '小幸運', '七里香', '說好的幸福呢', '明明就', '可惜沒如果', '髮如雪', '你,好不好? - TVBS連續劇【遺憾拼圖】片尾曲', '修煉愛情', '童話', '給我一個理由忘記', '晴天', '不為誰而作的歌', '如果雨之後', '我不願讓你一個人', '[Interlude] Yi Nan Ping', '以後別做朋友', '第一個想到你 - 電視劇 《後菜鳥的燦爛時代》片尾曲', '忘記擁抱 - 電影 「234說愛你」 主題曲', '不能說的秘密', '视线所及只剩生活', '我愛著就好', '猜猜看', '退後', '我不會喜歡你', '背對背擁抱', '我的快樂', '猜不透', '手掌心', 'How are you', '洋蔥', '踮起腳尖愛', '等一個人', '這不是我', 'The Moment', '千分之一', '愛你', '想你想到快瘋了', '愛,存在', '花背後的溫柔 - 電視劇「流星花園」插曲', '告白氣球', '贰叁', '心跳的證明 - 電影《一吻定情》心動版主題曲', '我愛過你', '愛你沒差', '心牆', '放下', '安靜', '勇氣', '愛在身邊 - 愛在你聲邊 主題曲', '轉眼(2018 自傳最終章)', '我知道', '绿色', '聽見下雨的聲音', '永不失聯的愛', '真的傻 (電影《一吻定情》追愛版主題曲)', '受夠', '彩虹', '楓', '手寫的從前', '愛情怎麼喊停', '消極掰', '少一點天份', '理想情人', '曖昧', '人質', '塵埃', '命運', '怪美的', 'Play我呸', '沒有如果', '那些你很冒險的夢', '給我你的愛']\nMeditation playlist:\n['Mandala', 'Orbital', 'Waves', 'दुनिया के सपने', 'Hypnosis', 'Supernova', 'Felicia', 'Ruby', 'Trust the Universe', 'Moonchild', 'Will you be there when I wake up', 'Blooming', 'Wacht op mij', 'By the docks', 'More Than Anything', 'Nebula', 'At Night', 'Nocturno', 'Piazzale Mauna', 'Illuminous', 'Night Sky', 'Rise', 'Cliffside', 'ojala', 'Forward', 'Cycles', 'In the Deep', 'Now I know', 'Mind Cleansing', 'Breathe', 'Eternity', 'Violin Chant', 'Night Light', 'Lost at Sea', 'Sleep Tight', 'Ethereal', 'Echo', 'Cold Imagination', 'Airborne', 'Air', 'Serein', 'Vibemode', 'Dew', 'Seven Hours', 'Static', 'Brisk', 'Walk the Moon', 'Beneath Us', 'Floating', 'Lights', 'Blue Dreams', 'Ice', 'Winter Is Coming', 'Spring', 'Fade Away', 'Colonial Whispers', 'Sooth', 'A Bed Of Clouds', 'Time and Space', 'Time', 'Mind Warrior (Beta 13 Hz)', 'Higher', 'Far Away', 'Pure Waves', 'The Great Journey', 'In the Meantime', 'Long Long Sleep', 'Light Rays', 'Dense', 'New Beginnings', 'Sunset Drifter', 'Our Consciousness', 'Hanami', 'By the ocean', 'Sorry', 'Momentum', 'In the Far Away Distance', 'Where I Belong', 'Loneliness', 'Beneath the Ocean', 'Misty Ocean', 'Time Will Tell', 'Tranquility Bayview', 'Soltitude', 'Pathways', 'New Awakening', 'Nothing to See', 'Lost Woods', 'Soul', 'Cold Morning', 'Marbles', 'Forever', 'Wren', 'Pink Dreams', 'Dark Matter', 'Dreams', 'Winds of Haryana', 'Keep Climbing', 'Follow Along', 'Palm Trees']\n",
     "output_type": "stream"
    }
   ]
  },
  {
   "cell_type": "code",
   "metadata": {
    "cell_id": "f0ed940d9bcf4a32876e37a4512d2ebf",
    "tags": [],
    "deepnote_to_be_reexecuted": false,
    "source_hash": "ca4c0e35",
    "execution_start": 1651615740552,
    "execution_millis": 4,
    "deepnote_cell_type": "code",
    "deepnote_cell_height": 118.1875,
    "deepnote_output_heights": [
     21.1875
    ]
   },
   "source": "len(track_names1) + len(track_names2) + len(track_names3)",
   "execution_count": null,
   "outputs": [
    {
     "output_type": "execute_result",
     "execution_count": 30,
     "data": {
      "text/plain": "256"
     },
     "metadata": {}
    }
   ]
  },
  {
   "cell_type": "code",
   "metadata": {
    "cell_id": "2ad6f2c8a20a4ba78ec83dd54da9314f",
    "tags": [],
    "deepnote_to_be_reexecuted": false,
    "source_hash": "22fcb6eb",
    "execution_start": 1651615740553,
    "execution_millis": 6401,
    "deepnote_cell_type": "code",
    "deepnote_cell_height": 1374
   },
   "source": "#Playlist1\ndfs = []\n\nfor x in audio_features1:\n    df = pd.DataFrame(x)\n    dfs.append(df)\n\nfinal_df1 = pd.concat(dfs, ignore_index=True)\n\n#add URI, track_name, main artist, name, popularity, genre, and album to final_df\n\nURIs = []\ntrack_names = []\nmain_artist = []\nname = []\npopularity = []\ngenre = []\nalbum = []\n\nfor k in sp.playlist_tracks(playlist_URI1)[\"items\"]:\n    URIs.append(k[\"track\"][\"uri\"])\n    track_names.append(k[\"track\"][\"name\"])\n    main_artist.append(k[\"track\"][\"artists\"][0][\"uri\"])\n    name.append(k[\"track\"][\"artists\"][0][\"name\"]) #arist URL\n    album.append(k[\"track\"][\"album\"][\"name\"])\n    popularity.append(k[\"track\"][\"popularity\"])\n\n#artist_info & genre\nartist_info = []\nfor r in range(len(main_artist)):\n    artist_info.append(sp.artist(main_artist[r]))\n\nfor y in artist_info:\n    genre.append(y[\"genres\"])\n\n#add genre, album, popularity, name, main_artist, track_names, and URIs to final_df for more context\n\nfinal_df1['genre'] = genre\nfinal_df1['album'] = album\nfinal_df1['popularity'] = popularity\nfinal_df1['name'] = name\nfinal_df1['track_name'] = track_names\nfinal_df1.to_csv('final_df1.csv')\nfinal_df1",
   "execution_count": null,
   "outputs": [
    {
     "output_type": "execute_result",
     "execution_count": 31,
     "data": {
      "application/vnd.deepnote.dataframe.v3+json": {
       "column_count": 23,
       "row_count": 56,
       "columns": [
        {
         "name": "danceability",
         "dtype": "float64",
         "stats": {
          "unique_count": 53,
          "nan_count": 0,
          "min": "0.271",
          "max": "0.776",
          "histogram": [
           {
            "bin_start": 0.271,
            "bin_end": 0.3215,
            "count": 1
           },
           {
            "bin_start": 0.3215,
            "bin_end": 0.372,
            "count": 6
           },
           {
            "bin_start": 0.372,
            "bin_end": 0.42250000000000004,
            "count": 11
           },
           {
            "bin_start": 0.42250000000000004,
            "bin_end": 0.47300000000000003,
            "count": 11
           },
           {
            "bin_start": 0.47300000000000003,
            "bin_end": 0.5235000000000001,
            "count": 12
           },
           {
            "bin_start": 0.5235000000000001,
            "bin_end": 0.5740000000000001,
            "count": 2
           },
           {
            "bin_start": 0.5740000000000001,
            "bin_end": 0.6245,
            "count": 1
           },
           {
            "bin_start": 0.6245,
            "bin_end": 0.675,
            "count": 3
           },
           {
            "bin_start": 0.675,
            "bin_end": 0.7255,
            "count": 5
           },
           {
            "bin_start": 0.7255,
            "bin_end": 0.776,
            "count": 4
           }
          ]
         }
        },
        {
         "name": "energy",
         "dtype": "float64",
         "stats": {
          "unique_count": 55,
          "nan_count": 0,
          "min": "0.00148",
          "max": "0.3",
          "histogram": [
           {
            "bin_start": 0.00148,
            "bin_end": 0.031332,
            "count": 17
           },
           {
            "bin_start": 0.031332,
            "bin_end": 0.061184,
            "count": 8
           },
           {
            "bin_start": 0.061184,
            "bin_end": 0.09103599999999999,
            "count": 4
           },
           {
            "bin_start": 0.09103599999999999,
            "bin_end": 0.120888,
            "count": 4
           },
           {
            "bin_start": 0.120888,
            "bin_end": 0.15074,
            "count": 6
           },
           {
            "bin_start": 0.15074,
            "bin_end": 0.180592,
            "count": 4
           },
           {
            "bin_start": 0.180592,
            "bin_end": 0.21044400000000002,
            "count": 6
           },
           {
            "bin_start": 0.21044400000000002,
            "bin_end": 0.240296,
            "count": 3
           },
           {
            "bin_start": 0.240296,
            "bin_end": 0.270148,
            "count": 1
           },
           {
            "bin_start": 0.270148,
            "bin_end": 0.3,
            "count": 3
           }
          ]
         }
        },
        {
         "name": "key",
         "dtype": "int64",
         "stats": {
          "unique_count": 12,
          "nan_count": 0,
          "min": "0",
          "max": "11",
          "histogram": [
           {
            "bin_start": 0,
            "bin_end": 1.1,
            "count": 10
           },
           {
            "bin_start": 1.1,
            "bin_end": 2.2,
            "count": 2
           },
           {
            "bin_start": 2.2,
            "bin_end": 3.3000000000000003,
            "count": 2
           },
           {
            "bin_start": 3.3000000000000003,
            "bin_end": 4.4,
            "count": 4
           },
           {
            "bin_start": 4.4,
            "bin_end": 5.5,
            "count": 4
           },
           {
            "bin_start": 5.5,
            "bin_end": 6.6000000000000005,
            "count": 1
           },
           {
            "bin_start": 6.6000000000000005,
            "bin_end": 7.700000000000001,
            "count": 6
           },
           {
            "bin_start": 7.700000000000001,
            "bin_end": 8.8,
            "count": 4
           },
           {
            "bin_start": 8.8,
            "bin_end": 9.9,
            "count": 3
           },
           {
            "bin_start": 9.9,
            "bin_end": 11,
            "count": 20
           }
          ]
         }
        },
        {
         "name": "loudness",
         "dtype": "float64",
         "stats": {
          "unique_count": 56,
          "nan_count": 0,
          "min": "-26.935",
          "max": "-12.636",
          "histogram": [
           {
            "bin_start": -26.935,
            "bin_end": -25.5051,
            "count": 6
           },
           {
            "bin_start": -25.5051,
            "bin_end": -24.0752,
            "count": 3
           },
           {
            "bin_start": -24.0752,
            "bin_end": -22.6453,
            "count": 4
           },
           {
            "bin_start": -22.6453,
            "bin_end": -21.2154,
            "count": 5
           },
           {
            "bin_start": -21.2154,
            "bin_end": -19.7855,
            "count": 6
           },
           {
            "bin_start": -19.7855,
            "bin_end": -18.3556,
            "count": 8
           },
           {
            "bin_start": -18.3556,
            "bin_end": -16.9257,
            "count": 7
           },
           {
            "bin_start": -16.9257,
            "bin_end": -15.4958,
            "count": 5
           },
           {
            "bin_start": -15.4958,
            "bin_end": -14.0659,
            "count": 9
           },
           {
            "bin_start": -14.0659,
            "bin_end": -12.636,
            "count": 3
           }
          ]
         }
        },
        {
         "name": "mode",
         "dtype": "int64",
         "stats": {
          "unique_count": 2,
          "nan_count": 0,
          "min": "0",
          "max": "1",
          "histogram": [
           {
            "bin_start": 0,
            "bin_end": 0.1,
            "count": 15
           },
           {
            "bin_start": 0.1,
            "bin_end": 0.2,
            "count": 0
           },
           {
            "bin_start": 0.2,
            "bin_end": 0.30000000000000004,
            "count": 0
           },
           {
            "bin_start": 0.30000000000000004,
            "bin_end": 0.4,
            "count": 0
           },
           {
            "bin_start": 0.4,
            "bin_end": 0.5,
            "count": 0
           },
           {
            "bin_start": 0.5,
            "bin_end": 0.6000000000000001,
            "count": 0
           },
           {
            "bin_start": 0.6000000000000001,
            "bin_end": 0.7000000000000001,
            "count": 0
           },
           {
            "bin_start": 0.7000000000000001,
            "bin_end": 0.8,
            "count": 0
           },
           {
            "bin_start": 0.8,
            "bin_end": 0.9,
            "count": 0
           },
           {
            "bin_start": 0.9,
            "bin_end": 1,
            "count": 41
           }
          ]
         }
        },
        {
         "name": "speechiness",
         "dtype": "float64",
         "stats": {
          "unique_count": 50,
          "nan_count": 0,
          "min": "0.0293",
          "max": "0.121",
          "histogram": [
           {
            "bin_start": 0.0293,
            "bin_end": 0.038470000000000004,
            "count": 22
           },
           {
            "bin_start": 0.038470000000000004,
            "bin_end": 0.04764,
            "count": 16
           },
           {
            "bin_start": 0.04764,
            "bin_end": 0.05681,
            "count": 8
           },
           {
            "bin_start": 0.05681,
            "bin_end": 0.06598000000000001,
            "count": 7
           },
           {
            "bin_start": 0.06598000000000001,
            "bin_end": 0.07515,
            "count": 1
           },
           {
            "bin_start": 0.07515,
            "bin_end": 0.08432,
            "count": 1
           },
           {
            "bin_start": 0.08432,
            "bin_end": 0.09349000000000002,
            "count": 0
           },
           {
            "bin_start": 0.09349000000000002,
            "bin_end": 0.10266,
            "count": 0
           },
           {
            "bin_start": 0.10266,
            "bin_end": 0.11183000000000001,
            "count": 0
           },
           {
            "bin_start": 0.11183000000000001,
            "bin_end": 0.121,
            "count": 1
           }
          ]
         }
        },
        {
         "name": "acousticness",
         "dtype": "float64",
         "stats": {
          "unique_count": 34,
          "nan_count": 0,
          "min": "0.562",
          "max": "0.996",
          "histogram": [
           {
            "bin_start": 0.562,
            "bin_end": 0.6054,
            "count": 1
           },
           {
            "bin_start": 0.6054,
            "bin_end": 0.6488,
            "count": 0
           },
           {
            "bin_start": 0.6488,
            "bin_end": 0.6922,
            "count": 0
           },
           {
            "bin_start": 0.6922,
            "bin_end": 0.7356,
            "count": 1
           },
           {
            "bin_start": 0.7356,
            "bin_end": 0.779,
            "count": 1
           },
           {
            "bin_start": 0.779,
            "bin_end": 0.8224,
            "count": 3
           },
           {
            "bin_start": 0.8224,
            "bin_end": 0.8658,
            "count": 6
           },
           {
            "bin_start": 0.8658,
            "bin_end": 0.9092,
            "count": 3
           },
           {
            "bin_start": 0.9092,
            "bin_end": 0.9526,
            "count": 9
           },
           {
            "bin_start": 0.9526,
            "bin_end": 0.996,
            "count": 32
           }
          ]
         }
        },
        {
         "name": "instrumentalness",
         "dtype": "float64",
         "stats": {
          "unique_count": 44,
          "nan_count": 0,
          "min": "0.221",
          "max": "0.961",
          "histogram": [
           {
            "bin_start": 0.221,
            "bin_end": 0.295,
            "count": 3
           },
           {
            "bin_start": 0.295,
            "bin_end": 0.369,
            "count": 0
           },
           {
            "bin_start": 0.369,
            "bin_end": 0.44299999999999995,
            "count": 0
           },
           {
            "bin_start": 0.44299999999999995,
            "bin_end": 0.517,
            "count": 0
           },
           {
            "bin_start": 0.517,
            "bin_end": 0.591,
            "count": 1
           },
           {
            "bin_start": 0.591,
            "bin_end": 0.6649999999999999,
            "count": 1
           },
           {
            "bin_start": 0.6649999999999999,
            "bin_end": 0.739,
            "count": 1
           },
           {
            "bin_start": 0.739,
            "bin_end": 0.813,
            "count": 5
           },
           {
            "bin_start": 0.813,
            "bin_end": 0.8869999999999999,
            "count": 9
           },
           {
            "bin_start": 0.8869999999999999,
            "bin_end": 0.961,
            "count": 36
           }
          ]
         }
        },
        {
         "name": "liveness",
         "dtype": "float64",
         "stats": {
          "unique_count": 46,
          "nan_count": 0,
          "min": "0.0752",
          "max": "0.337",
          "histogram": [
           {
            "bin_start": 0.0752,
            "bin_end": 0.10138,
            "count": 19
           },
           {
            "bin_start": 0.10138,
            "bin_end": 0.12756,
            "count": 26
           },
           {
            "bin_start": 0.12756,
            "bin_end": 0.15374,
            "count": 5
           },
           {
            "bin_start": 0.15374,
            "bin_end": 0.17992000000000002,
            "count": 2
           },
           {
            "bin_start": 0.17992000000000002,
            "bin_end": 0.2061,
            "count": 1
           },
           {
            "bin_start": 0.2061,
            "bin_end": 0.23228,
            "count": 0
           },
           {
            "bin_start": 0.23228,
            "bin_end": 0.25846,
            "count": 0
           },
           {
            "bin_start": 0.25846,
            "bin_end": 0.28464,
            "count": 0
           },
           {
            "bin_start": 0.28464,
            "bin_end": 0.31082000000000004,
            "count": 0
           },
           {
            "bin_start": 0.31082000000000004,
            "bin_end": 0.337,
            "count": 3
           }
          ]
         }
        },
        {
         "name": "valence",
         "dtype": "float64",
         "stats": {
          "unique_count": 51,
          "nan_count": 0,
          "min": "0.0358",
          "max": "0.586",
          "histogram": [
           {
            "bin_start": 0.0358,
            "bin_end": 0.09082,
            "count": 6
           },
           {
            "bin_start": 0.09082,
            "bin_end": 0.14584,
            "count": 9
           },
           {
            "bin_start": 0.14584,
            "bin_end": 0.20085999999999998,
            "count": 23
           },
           {
            "bin_start": 0.20085999999999998,
            "bin_end": 0.25588,
            "count": 8
           },
           {
            "bin_start": 0.25588,
            "bin_end": 0.3109,
            "count": 3
           },
           {
            "bin_start": 0.3109,
            "bin_end": 0.36591999999999997,
            "count": 1
           },
           {
            "bin_start": 0.36591999999999997,
            "bin_end": 0.42094,
            "count": 3
           },
           {
            "bin_start": 0.42094,
            "bin_end": 0.47596,
            "count": 1
           },
           {
            "bin_start": 0.47596,
            "bin_end": 0.53098,
            "count": 0
           },
           {
            "bin_start": 0.53098,
            "bin_end": 0.586,
            "count": 2
           }
          ]
         }
        },
        {
         "name": "tempo",
         "dtype": "float64",
         "stats": {
          "unique_count": 56,
          "nan_count": 0,
          "min": "62.513",
          "max": "184.993",
          "histogram": [
           {
            "bin_start": 62.513,
            "bin_end": 74.761,
            "count": 22
           },
           {
            "bin_start": 74.761,
            "bin_end": 87.009,
            "count": 7
           },
           {
            "bin_start": 87.009,
            "bin_end": 99.257,
            "count": 8
           },
           {
            "bin_start": 99.257,
            "bin_end": 111.505,
            "count": 5
           },
           {
            "bin_start": 111.505,
            "bin_end": 123.75299999999999,
            "count": 3
           },
           {
            "bin_start": 123.75299999999999,
            "bin_end": 136.001,
            "count": 5
           },
           {
            "bin_start": 136.001,
            "bin_end": 148.249,
            "count": 1
           },
           {
            "bin_start": 148.249,
            "bin_end": 160.49699999999999,
            "count": 0
           },
           {
            "bin_start": 160.49699999999999,
            "bin_end": 172.745,
            "count": 2
           },
           {
            "bin_start": 172.745,
            "bin_end": 184.993,
            "count": 3
           }
          ]
         }
        },
        {
         "name": "type",
         "dtype": "object",
         "stats": {
          "unique_count": 1,
          "nan_count": 0,
          "categories": [
           {
            "name": "audio_features",
            "count": 56
           }
          ]
         }
        },
        {
         "name": "id",
         "dtype": "object",
         "stats": {
          "unique_count": 56,
          "nan_count": 0,
          "categories": [
           {
            "name": "1e5Xxhz3Ij8TLCNuhB2IEL",
            "count": 1
           },
           {
            "name": "2RF7VdZ8LSDU80BS1gnf7I",
            "count": 1
           },
           {
            "name": "54 others",
            "count": 54
           }
          ]
         }
        },
        {
         "name": "uri",
         "dtype": "object",
         "stats": {
          "unique_count": 56,
          "nan_count": 0,
          "categories": [
           {
            "name": "spotify:track:1e5Xxhz3Ij8TLCNuhB2IEL",
            "count": 1
           },
           {
            "name": "spotify:track:2RF7VdZ8LSDU80BS1gnf7I",
            "count": 1
           },
           {
            "name": "54 others",
            "count": 54
           }
          ]
         }
        },
        {
         "name": "track_href",
         "dtype": "object",
         "stats": {
          "unique_count": 56,
          "nan_count": 0,
          "categories": [
           {
            "name": "https://api.spotify.com/v1/tracks/1e5Xxhz3Ij8TLCNuhB2IEL",
            "count": 1
           },
           {
            "name": "https://api.spotify.com/v1/tracks/2RF7VdZ8LSDU80BS1gnf7I",
            "count": 1
           },
           {
            "name": "54 others",
            "count": 54
           }
          ]
         }
        },
        {
         "name": "analysis_url",
         "dtype": "object",
         "stats": {
          "unique_count": 56,
          "nan_count": 0,
          "categories": [
           {
            "name": "https://api.spotify.com/v1/audio-analysis/1e5Xxhz3Ij8TLCNuhB2IEL",
            "count": 1
           },
           {
            "name": "https://api.spotify.com/v1/audio-analysis/2RF7VdZ8LSDU80BS1gnf7I",
            "count": 1
           },
           {
            "name": "54 others",
            "count": 54
           }
          ]
         }
        },
        {
         "name": "duration_ms",
         "dtype": "int64",
         "stats": {
          "unique_count": 56,
          "nan_count": 0,
          "min": "114310",
          "max": "407498",
          "histogram": [
           {
            "bin_start": 114310,
            "bin_end": 143628.8,
            "count": 10
           },
           {
            "bin_start": 143628.8,
            "bin_end": 172947.6,
            "count": 7
           },
           {
            "bin_start": 172947.6,
            "bin_end": 202266.4,
            "count": 9
           },
           {
            "bin_start": 202266.4,
            "bin_end": 231585.2,
            "count": 7
           },
           {
            "bin_start": 231585.2,
            "bin_end": 260904,
            "count": 13
           },
           {
            "bin_start": 260904,
            "bin_end": 290222.8,
            "count": 3
           },
           {
            "bin_start": 290222.8,
            "bin_end": 319541.6,
            "count": 3
           },
           {
            "bin_start": 319541.6,
            "bin_end": 348860.4,
            "count": 2
           },
           {
            "bin_start": 348860.4,
            "bin_end": 378179.2,
            "count": 1
           },
           {
            "bin_start": 378179.2,
            "bin_end": 407498,
            "count": 1
           }
          ]
         }
        },
        {
         "name": "time_signature",
         "dtype": "int64",
         "stats": {
          "unique_count": 3,
          "nan_count": 0,
          "min": "3",
          "max": "5",
          "histogram": [
           {
            "bin_start": 3,
            "bin_end": 3.2,
            "count": 12
           },
           {
            "bin_start": 3.2,
            "bin_end": 3.4,
            "count": 0
           },
           {
            "bin_start": 3.4,
            "bin_end": 3.6,
            "count": 0
           },
           {
            "bin_start": 3.6,
            "bin_end": 3.8,
            "count": 0
           },
           {
            "bin_start": 3.8,
            "bin_end": 4,
            "count": 0
           },
           {
            "bin_start": 4,
            "bin_end": 4.2,
            "count": 42
           },
           {
            "bin_start": 4.2,
            "bin_end": 4.4,
            "count": 0
           },
           {
            "bin_start": 4.4,
            "bin_end": 4.6,
            "count": 0
           },
           {
            "bin_start": 4.6,
            "bin_end": 4.8,
            "count": 0
           },
           {
            "bin_start": 4.8,
            "bin_end": 5,
            "count": 2
           }
          ]
         }
        },
        {
         "name": "genre",
         "dtype": "object",
         "stats": {
          "unique_count": 56,
          "nan_count": 0,
          "categories": [
           {
            "name": "[]",
            "count": 30
           },
           {
            "name": "['compositional ambient', 'focus', 'neo-classical']",
            "count": 4
           },
           {
            "name": "12 others",
            "count": 22
           }
          ]
         }
        },
        {
         "name": "album",
         "dtype": "object",
         "stats": {
          "unique_count": 35,
          "nan_count": 0,
          "categories": [
           {
            "name": "A Scandinavian Thing",
            "count": 4
           },
           {
            "name": "Forgiving is Forgetting",
            "count": 3
           },
           {
            "name": "33 others",
            "count": 49
           }
          ]
         }
        },
        {
         "name": "popularity",
         "dtype": "int64",
         "stats": {
          "unique_count": 25,
          "nan_count": 0,
          "min": "0",
          "max": "54",
          "histogram": [
           {
            "bin_start": 0,
            "bin_end": 5.4,
            "count": 6
           },
           {
            "bin_start": 5.4,
            "bin_end": 10.8,
            "count": 0
           },
           {
            "bin_start": 10.8,
            "bin_end": 16.200000000000003,
            "count": 1
           },
           {
            "bin_start": 16.200000000000003,
            "bin_end": 21.6,
            "count": 4
           },
           {
            "bin_start": 21.6,
            "bin_end": 27,
            "count": 1
           },
           {
            "bin_start": 27,
            "bin_end": 32.400000000000006,
            "count": 13
           },
           {
            "bin_start": 32.400000000000006,
            "bin_end": 37.800000000000004,
            "count": 15
           },
           {
            "bin_start": 37.800000000000004,
            "bin_end": 43.2,
            "count": 10
           },
           {
            "bin_start": 43.2,
            "bin_end": 48.6,
            "count": 4
           },
           {
            "bin_start": 48.6,
            "bin_end": 54,
            "count": 2
           }
          ]
         }
        },
        {
         "name": "name",
         "dtype": "object",
         "stats": {
          "unique_count": 36,
          "nan_count": 0,
          "categories": [
           {
            "name": "Peter Sandberg",
            "count": 4
           },
           {
            "name": "Hip Jazz Collective",
            "count": 3
           },
           {
            "name": "34 others",
            "count": 49
           }
          ]
         }
        },
        {
         "name": "track_name",
         "dtype": "object",
         "stats": {
          "unique_count": 56,
          "nan_count": 0,
          "categories": [
           {
            "name": "New York Nights",
            "count": 1
           },
           {
            "name": "Near You",
            "count": 1
           },
           {
            "name": "54 others",
            "count": 54
           }
          ]
         }
        },
        {
         "name": "_deepnote_index_column",
         "dtype": "int64"
        }
       ],
       "rows": [
        {
         "danceability": 0.358,
         "energy": 0.0482,
         "key": 11,
         "loudness": -18.887,
         "mode": 1,
         "speechiness": 0.0452,
         "acousticness": 0.994,
         "instrumentalness": 0.941,
         "liveness": 0.109,
         "valence": 0.366,
         "tempo": 74.878,
         "type": "audio_features",
         "id": "1e5Xxhz3Ij8TLCNuhB2IEL",
         "uri": "spotify:track:1e5Xxhz3Ij8TLCNuhB2IEL",
         "track_href": "https://api.spotify.com/v1/tracks/1e5Xxhz3Ij8TLCNuhB2IEL",
         "analysis_url": "https://api.spotify.com/v1/audio-analysis/1e5Xxhz3Ij8TLCNuhB2IEL",
         "duration_ms": 170496,
         "time_signature": 5,
         "genre": "[]",
         "album": "Maude De Geyndt",
         "popularity": 37,
         "name": "Maude De Geyndt",
         "track_name": "New York Nights",
         "_deepnote_index_column": 0
        },
        {
         "danceability": 0.391,
         "energy": 0.0343,
         "key": 11,
         "loudness": -19.342,
         "mode": 1,
         "speechiness": 0.048,
         "acousticness": 0.987,
         "instrumentalness": 0.924,
         "liveness": 0.0943,
         "valence": 0.18,
         "tempo": 66.671,
         "type": "audio_features",
         "id": "2RF7VdZ8LSDU80BS1gnf7I",
         "uri": "spotify:track:2RF7VdZ8LSDU80BS1gnf7I",
         "track_href": "https://api.spotify.com/v1/tracks/2RF7VdZ8LSDU80BS1gnf7I",
         "analysis_url": "https://api.spotify.com/v1/audio-analysis/2RF7VdZ8LSDU80BS1gnf7I",
         "duration_ms": 184289,
         "time_signature": 4,
         "genre": "[]",
         "album": "Forgiving is Forgetting",
         "popularity": 31,
         "name": "Hip Jazz Collective",
         "track_name": "Near You",
         "_deepnote_index_column": 1
        },
        {
         "danceability": 0.429,
         "energy": 0.051,
         "key": 8,
         "loudness": -15.024,
         "mode": 1,
         "speechiness": 0.0605,
         "acousticness": 0.995,
         "instrumentalness": 0.961,
         "liveness": 0.116,
         "valence": 0.178,
         "tempo": 70.339,
         "type": "audio_features",
         "id": "06HQejVsTz9NqkSmxsVCCM",
         "uri": "spotify:track:06HQejVsTz9NqkSmxsVCCM",
         "track_href": "https://api.spotify.com/v1/tracks/06HQejVsTz9NqkSmxsVCCM",
         "analysis_url": "https://api.spotify.com/v1/audio-analysis/06HQejVsTz9NqkSmxsVCCM",
         "duration_ms": 299181,
         "time_signature": 4,
         "genre": "['christmas instrumental', 'pianissimo']",
         "album": "Session 1",
         "popularity": 38,
         "name": "Ahron Kupner",
         "track_name": "Misty",
         "_deepnote_index_column": 2
        },
        {
         "danceability": 0.46,
         "energy": 0.141,
         "key": 9,
         "loudness": -14.994,
         "mode": 1,
         "speechiness": 0.0314,
         "acousticness": 0.854,
         "instrumentalness": 0.885,
         "liveness": 0.11,
         "valence": 0.147,
         "tempo": 168.807,
         "type": "audio_features",
         "id": "2wx4FLHxxKP6wJvgp3Cceu",
         "uri": "spotify:track:2wx4FLHxxKP6wJvgp3Cceu",
         "track_href": "https://api.spotify.com/v1/tracks/2wx4FLHxxKP6wJvgp3Cceu",
         "analysis_url": "https://api.spotify.com/v1/audio-analysis/2wx4FLHxxKP6wJvgp3Cceu",
         "duration_ms": 278071,
         "time_signature": 3,
         "genre": "[]",
         "album": "Kissing in the Streets",
         "popularity": 37,
         "name": "Sassy Players",
         "track_name": "All I See is Us",
         "_deepnote_index_column": 3
        },
        {
         "danceability": 0.684,
         "energy": 0.274,
         "key": 11,
         "loudness": -15.921,
         "mode": 0,
         "speechiness": 0.0339,
         "acousticness": 0.822,
         "instrumentalness": 0.909,
         "liveness": 0.112,
         "valence": 0.18,
         "tempo": 112.42,
         "type": "audio_features",
         "id": "1D93vTG8Uio5cpf5YRF4Do",
         "uri": "spotify:track:1D93vTG8Uio5cpf5YRF4Do",
         "track_href": "https://api.spotify.com/v1/tracks/1D93vTG8Uio5cpf5YRF4Do",
         "analysis_url": "https://api.spotify.com/v1/audio-analysis/1D93vTG8Uio5cpf5YRF4Do",
         "duration_ms": 266669,
         "time_signature": 3,
         "genre": "['christmas instrumental']",
         "album": "Jazz Standards",
         "popularity": 35,
         "name": "Milos Foreman",
         "track_name": "Saga of Harrison Crabfeathers",
         "_deepnote_index_column": 4
        },
        {
         "danceability": 0.735,
         "energy": 0.169,
         "key": 11,
         "loudness": -17.437,
         "mode": 1,
         "speechiness": 0.0375,
         "acousticness": 0.859,
         "instrumentalness": 0.938,
         "liveness": 0.114,
         "valence": 0.091,
         "tempo": 93.7,
         "type": "audio_features",
         "id": "08wGol6j6NY9WlPXaD20Sb",
         "uri": "spotify:track:08wGol6j6NY9WlPXaD20Sb",
         "track_href": "https://api.spotify.com/v1/tracks/08wGol6j6NY9WlPXaD20Sb",
         "analysis_url": "https://api.spotify.com/v1/audio-analysis/08wGol6j6NY9WlPXaD20Sb",
         "duration_ms": 228123,
         "time_signature": 4,
         "genre": "[]",
         "album": "Halfway",
         "popularity": 36,
         "name": "Ilya Mann",
         "track_name": "Halfway",
         "_deepnote_index_column": 5
        },
        {
         "danceability": 0.425,
         "energy": 0.136,
         "key": 11,
         "loudness": -17.382,
         "mode": 1,
         "speechiness": 0.0293,
         "acousticness": 0.914,
         "instrumentalness": 0.921,
         "liveness": 0.127,
         "valence": 0.238,
         "tempo": 168.527,
         "type": "audio_features",
         "id": "0Vh8hPIxImlwXBj7KOJMhW",
         "uri": "spotify:track:0Vh8hPIxImlwXBj7KOJMhW",
         "track_href": "https://api.spotify.com/v1/tracks/0Vh8hPIxImlwXBj7KOJMhW",
         "analysis_url": "https://api.spotify.com/v1/audio-analysis/0Vh8hPIxImlwXBj7KOJMhW",
         "duration_ms": 176272,
         "time_signature": 3,
         "genre": "[]",
         "album": "Stop Look Desire",
         "popularity": 40,
         "name": "Ellie & The Bunch",
         "track_name": "The Sweetest Nighlife",
         "_deepnote_index_column": 6
        },
        {
         "danceability": 0.404,
         "energy": 0.201,
         "key": 4,
         "loudness": -15.549,
         "mode": 1,
         "speechiness": 0.0383,
         "acousticness": 0.946,
         "instrumentalness": 0.906,
         "liveness": 0.106,
         "valence": 0.272,
         "tempo": 183.716,
         "type": "audio_features",
         "id": "3aMPhbRGGTBCwWxVoHLOHu",
         "uri": "spotify:track:3aMPhbRGGTBCwWxVoHLOHu",
         "track_href": "https://api.spotify.com/v1/tracks/3aMPhbRGGTBCwWxVoHLOHu",
         "analysis_url": "https://api.spotify.com/v1/audio-analysis/3aMPhbRGGTBCwWxVoHLOHu",
         "duration_ms": 247835,
         "time_signature": 3,
         "genre": "['background music']",
         "album": "Someone Who Cares",
         "popularity": 0,
         "name": "Franz Gordon",
         "track_name": "I'd Rather Be Alone",
         "_deepnote_index_column": 7
        },
        {
         "danceability": 0.573,
         "energy": 0.0643,
         "key": 7,
         "loudness": -19.774,
         "mode": 1,
         "speechiness": 0.0728,
         "acousticness": 0.996,
         "instrumentalness": 0.943,
         "liveness": 0.0984,
         "valence": 0.208,
         "tempo": 112.181,
         "type": "audio_features",
         "id": "0BteZ0GPP4VO3M1k5NYDVE",
         "uri": "spotify:track:0BteZ0GPP4VO3M1k5NYDVE",
         "track_href": "https://api.spotify.com/v1/tracks/0BteZ0GPP4VO3M1k5NYDVE",
         "analysis_url": "https://api.spotify.com/v1/audio-analysis/0BteZ0GPP4VO3M1k5NYDVE",
         "duration_ms": 236026,
         "time_signature": 4,
         "genre": "['calming instrumental', 'christmas instrumental', 'focus', 'piano cover']",
         "album": "Classics",
         "popularity": 36,
         "name": "Brandon Mills",
         "track_name": "Just The Way You Are",
         "_deepnote_index_column": 8
        },
        {
         "danceability": 0.482,
         "energy": 0.189,
         "key": 10,
         "loudness": -15.645,
         "mode": 1,
         "speechiness": 0.0404,
         "acousticness": 0.794,
         "instrumentalness": 0.796,
         "liveness": 0.126,
         "valence": 0.213,
         "tempo": 135.136,
         "type": "audio_features",
         "id": "2VY6cGSr6iDouF55iOS6Ok",
         "uri": "spotify:track:2VY6cGSr6iDouF55iOS6Ok",
         "track_href": "https://api.spotify.com/v1/tracks/2VY6cGSr6iDouF55iOS6Ok",
         "analysis_url": "https://api.spotify.com/v1/audio-analysis/2VY6cGSr6iDouF55iOS6Ok",
         "duration_ms": 359937,
         "time_signature": 4,
         "genre": "['compositional ambient', 'focus', 'neo-classical']",
         "album": "A Scandinavian Thing",
         "popularity": 0,
         "name": "Peter Sandberg",
         "track_name": "Got That Feeling",
         "_deepnote_index_column": 9
        }
       ]
      },
      "text/plain": "    danceability   energy  key  loudness  mode  speechiness  acousticness  \\\n0          0.358  0.04820   11   -18.887     1       0.0452         0.994   \n1          0.391  0.03430   11   -19.342     1       0.0480         0.987   \n2          0.429  0.05100    8   -15.024     1       0.0605         0.995   \n3          0.460  0.14100    9   -14.994     1       0.0314         0.854   \n4          0.684  0.27400   11   -15.921     0       0.0339         0.822   \n5          0.735  0.16900   11   -17.437     1       0.0375         0.859   \n6          0.425  0.13600   11   -17.382     1       0.0293         0.914   \n7          0.404  0.20100    4   -15.549     1       0.0383         0.946   \n8          0.573  0.06430    7   -19.774     1       0.0728         0.996   \n9          0.482  0.18900   10   -15.645     1       0.0404         0.794   \n10         0.461  0.06720    0   -16.226     0       0.0467         0.995   \n11         0.478  0.01100    0   -24.731     0       0.0462         0.995   \n12         0.776  0.12600    3   -17.661     0       0.0421         0.938   \n13         0.638  0.00325   11   -17.459     1       0.0765         0.969   \n14         0.699  0.25800    9   -14.707     1       0.0314         0.911   \n15         0.403  0.01570    8   -26.877     0       0.0419         0.995   \n16         0.491  0.01690    3   -23.164     1       0.0474         0.994   \n17         0.390  0.00153    5   -25.624     1       0.1210         0.991   \n18         0.521  0.03620    0   -18.862     0       0.0597         0.995   \n19         0.426  0.09170    4   -17.985     1       0.0413         0.984   \n20         0.732  0.22600    1   -15.145     0       0.0452         0.562   \n21         0.427  0.05020    5   -19.982     1       0.0557         0.995   \n22         0.391  0.00302    9   -21.328     1       0.0389         0.995   \n23         0.376  0.01550    7   -24.706     1       0.0473         0.995   \n24         0.495  0.14400    1   -14.389     1       0.0347         0.724   \n25         0.347  0.02740    7   -23.790     1       0.0359         0.988   \n26         0.725  0.17600   11   -18.639     1       0.0358         0.943   \n27         0.509  0.00314    8   -20.909     0       0.0536         0.995   \n28         0.629  0.28100   11   -15.124     1       0.0374         0.805   \n29         0.271  0.10700    5   -19.676     1       0.0646         0.994   \n30         0.760  0.20700    8   -14.373     1       0.0330         0.748   \n31         0.328  0.01450   11   -26.935     0       0.0520         0.994   \n32         0.329  0.00789   11   -26.861     1       0.0500         0.995   \n33         0.459  0.17100    0   -13.782     1       0.0395         0.860   \n34         0.646  0.23700    4   -13.886     0       0.0601         0.828   \n35         0.376  0.02220   11   -26.348     1       0.0563         0.995   \n36         0.435  0.03080   11   -26.250     1       0.0370         0.995   \n37         0.433  0.02300   11   -23.970     1       0.0653         0.995   \n38         0.386  0.01790   11   -25.294     1       0.0597         0.995   \n39         0.392  0.06640    0   -16.245     1       0.0462         0.995   \n40         0.698  0.15500   11   -17.919     1       0.0338         0.963   \n41         0.408  0.01260    6   -20.377     0       0.0517         0.996   \n42         0.682  0.22700    4   -14.881     1       0.0345         0.921   \n43         0.479  0.19300    0   -12.636     0       0.0351         0.859   \n44         0.501  0.00148   11   -19.137     1       0.0593         0.995   \n45         0.507  0.11100    0   -20.858     1       0.0325         0.982   \n46         0.486  0.10000   10   -23.329     1       0.0419         0.963   \n47         0.478  0.20800    7   -15.125     1       0.0315         0.902   \n48         0.349  0.08300    5   -21.928     0       0.0351         0.945   \n49         0.547  0.06080    2   -19.962     1       0.0317         0.883   \n50         0.505  0.15000   10   -17.508     1       0.0335         0.972   \n51         0.577  0.05590    7   -22.203     1       0.0518         0.984   \n52         0.402  0.18100    0   -20.436     1       0.0369         0.827   \n53         0.441  0.30000    7   -18.911     0       0.0415         0.881   \n54         0.371  0.13600    2   -21.602     0       0.0425         0.915   \n55         0.431  0.04340   11   -22.086     1       0.0310         0.934   \n\n    instrumentalness  liveness  valence  ...  \\\n0              0.941    0.1090   0.3660  ...   \n1              0.924    0.0943   0.1800  ...   \n2              0.961    0.1160   0.1780  ...   \n3              0.885    0.1100   0.1470  ...   \n4              0.909    0.1120   0.1800  ...   \n5              0.938    0.1140   0.0910  ...   \n6              0.921    0.1270   0.2380  ...   \n7              0.906    0.1060   0.2720  ...   \n8              0.943    0.0984   0.2080  ...   \n9              0.796    0.1260   0.2130  ...   \n10             0.953    0.1080   0.1320  ...   \n11             0.952    0.1080   0.0917  ...   \n12             0.869    0.1160   0.1990  ...   \n13             0.941    0.1170   0.4060  ...   \n14             0.869    0.3370   0.1630  ...   \n15             0.926    0.0925   0.1750  ...   \n16             0.959    0.1310   0.1590  ...   \n17             0.753    0.0880   0.3560  ...   \n18             0.959    0.1400   0.1050  ...   \n19             0.922    0.0941   0.0614  ...   \n20             0.866    0.0752   0.1810  ...   \n21             0.960    0.0962   0.1660  ...   \n22             0.944    0.1150   0.5860  ...   \n23             0.943    0.0946   0.1350  ...   \n24             0.221    0.3190   0.0841  ...   \n25             0.897    0.1130   0.0639  ...   \n26             0.926    0.2040   0.1070  ...   \n27             0.655    0.1130   0.4680  ...   \n28             0.789    0.0893   0.1580  ...   \n29             0.938    0.1100   0.1570  ...   \n30             0.850    0.1350   0.2840  ...   \n31             0.895    0.1030   0.1460  ...   \n32             0.908    0.1150   0.1890  ...   \n33             0.280    0.1060   0.1820  ...   \n34             0.845    0.0961   0.5370  ...   \n35             0.936    0.1240   0.2290  ...   \n36             0.925    0.1020   0.2970  ...   \n37             0.909    0.0987   0.2310  ...   \n38             0.918    0.1410   0.2450  ...   \n39             0.941    0.1460   0.1520  ...   \n40             0.878    0.0882   0.1950  ...   \n41             0.961    0.0948   0.1320  ...   \n42             0.810    0.1030   0.1640  ...   \n43             0.737    0.3310   0.1530  ...   \n44             0.927    0.1010   0.4030  ...   \n45             0.944    0.1720   0.1870  ...   \n46             0.861    0.0808   0.2360  ...   \n47             0.780    0.1250   0.1930  ...   \n48             0.899    0.1680   0.0771  ...   \n49             0.552    0.0952   0.1320  ...   \n50             0.836    0.1100   0.1690  ...   \n51             0.957    0.0845   0.2140  ...   \n52             0.899    0.0884   0.1320  ...   \n53             0.890    0.0988   0.1690  ...   \n54             0.938    0.1100   0.0358  ...   \n55             0.253    0.1120   0.0753  ...   \n\n                                     uri  \\\n0   spotify:track:1e5Xxhz3Ij8TLCNuhB2IEL   \n1   spotify:track:2RF7VdZ8LSDU80BS1gnf7I   \n2   spotify:track:06HQejVsTz9NqkSmxsVCCM   \n3   spotify:track:2wx4FLHxxKP6wJvgp3Cceu   \n4   spotify:track:1D93vTG8Uio5cpf5YRF4Do   \n5   spotify:track:08wGol6j6NY9WlPXaD20Sb   \n6   spotify:track:0Vh8hPIxImlwXBj7KOJMhW   \n7   spotify:track:3aMPhbRGGTBCwWxVoHLOHu   \n8   spotify:track:0BteZ0GPP4VO3M1k5NYDVE   \n9   spotify:track:2VY6cGSr6iDouF55iOS6Ok   \n10  spotify:track:5wOSVqRfk4LcB7ZYKnkIr2   \n11  spotify:track:3asFtaun1ReiGvVZywcFpG   \n12  spotify:track:6MpKUPhmBJaW2yJ2rApFw8   \n13  spotify:track:44Lxeby8f0oPb5wHeEDywC   \n14  spotify:track:5SlXY4uuH8F1hNcCtlk6a2   \n15  spotify:track:7picJQF5Xp0ktoXTWoCn9g   \n16  spotify:track:3RTSNE39EhMQkzwKwEu5v4   \n17  spotify:track:2wBb2lAmkZZIioQcJpH8D6   \n18  spotify:track:2ZitZzpm4i01kZm1nNPRPg   \n19  spotify:track:7tBdnsJdPHamk6TuvHhooL   \n20  spotify:track:299ev5PDUaqTjLSGboDLK4   \n21  spotify:track:5gzgkcNPHlSgnoqdEOYLfC   \n22  spotify:track:5sY8PrKuyiAXV8resJ25Dp   \n23  spotify:track:7tfAVm2Fam6FpCkYhfcngh   \n24  spotify:track:3u6fXPiITVsTNolEqapeBU   \n25  spotify:track:3JY3W61L5HL2EcvRM8tvv9   \n26  spotify:track:3jA8JPR7n9dTEJCMi8CCqH   \n27  spotify:track:3E7WP7K12jvSRcSbFY6cKB   \n28  spotify:track:1rFb88KyP2Ldgl5fYj9NB2   \n29  spotify:track:7M45oIYzrTG3Nk2ZBezeaq   \n30  spotify:track:5JzllPULgQirGB0Y7LYqil   \n31  spotify:track:6K4fG1vf4vUXVM7yGJId0Z   \n32  spotify:track:3SEt66pkLYUxRjpfgWxMr5   \n33  spotify:track:4uP9aFwUv5lMNOlh6mKuNM   \n34  spotify:track:5bAMh6RORJtqwMAZcUUwsj   \n35  spotify:track:0QBgBYJGKbQ94uBKStszv0   \n36  spotify:track:07VvjQ0uISLUDL4DyVDBYD   \n37  spotify:track:0f9hfSrqerRhRZBoBj7MMb   \n38  spotify:track:6xmtDsawgD1iRmT1VRic0n   \n39  spotify:track:2Wvwr16E4O51JeNSs5K5Dp   \n40  spotify:track:6mq2Dnc3hicrfGolQhVwEE   \n41  spotify:track:5WC6MJOe9oVg0yz2yj2KA0   \n42  spotify:track:0K3nmGgX5QgxVvOqZo9ZHP   \n43  spotify:track:0I4boD33TLuWNt7kskm3KY   \n44  spotify:track:2M6y5cW4m04z3ZXL6kZKlA   \n45  spotify:track:62fsGTb05ahHcBN3alxd6F   \n46  spotify:track:4xaWsmSgkCOXOaxEF0ofjy   \n47  spotify:track:3MTcxtewW0gk7k8uJ5m17x   \n48  spotify:track:5vFqxBA36r8w1NKDUhpt07   \n49  spotify:track:65zFbHuyUdai6WFwtPAkix   \n50  spotify:track:6qxR6arAISIf7Mm2ynH4u1   \n51  spotify:track:5L9Mumh1rUDSIaHPzLpVhj   \n52  spotify:track:2cwHHkydmUENV3FuNBCJzm   \n53  spotify:track:5Wlz87TeswJfxecSXHUETL   \n54  spotify:track:5Nfkl13MT2eD9W7XRwrOyQ   \n55  spotify:track:1IxO95D87hSIyA20XTLCiU   \n\n                                           track_href  \\\n0   https://api.spotify.com/v1/tracks/1e5Xxhz3Ij8T...   \n1   https://api.spotify.com/v1/tracks/2RF7VdZ8LSDU...   \n2   https://api.spotify.com/v1/tracks/06HQejVsTz9N...   \n3   https://api.spotify.com/v1/tracks/2wx4FLHxxKP6...   \n4   https://api.spotify.com/v1/tracks/1D93vTG8Uio5...   \n5   https://api.spotify.com/v1/tracks/08wGol6j6NY9...   \n6   https://api.spotify.com/v1/tracks/0Vh8hPIxImlw...   \n7   https://api.spotify.com/v1/tracks/3aMPhbRGGTBC...   \n8   https://api.spotify.com/v1/tracks/0BteZ0GPP4VO...   \n9   https://api.spotify.com/v1/tracks/2VY6cGSr6iDo...   \n10  https://api.spotify.com/v1/tracks/5wOSVqRfk4Lc...   \n11  https://api.spotify.com/v1/tracks/3asFtaun1Rei...   \n12  https://api.spotify.com/v1/tracks/6MpKUPhmBJaW...   \n13  https://api.spotify.com/v1/tracks/44Lxeby8f0oP...   \n14  https://api.spotify.com/v1/tracks/5SlXY4uuH8F1...   \n15  https://api.spotify.com/v1/tracks/7picJQF5Xp0k...   \n16  https://api.spotify.com/v1/tracks/3RTSNE39EhMQ...   \n17  https://api.spotify.com/v1/tracks/2wBb2lAmkZZI...   \n18  https://api.spotify.com/v1/tracks/2ZitZzpm4i01...   \n19  https://api.spotify.com/v1/tracks/7tBdnsJdPHam...   \n20  https://api.spotify.com/v1/tracks/299ev5PDUaqT...   \n21  https://api.spotify.com/v1/tracks/5gzgkcNPHlSg...   \n22  https://api.spotify.com/v1/tracks/5sY8PrKuyiAX...   \n23  https://api.spotify.com/v1/tracks/7tfAVm2Fam6F...   \n24  https://api.spotify.com/v1/tracks/3u6fXPiITVsT...   \n25  https://api.spotify.com/v1/tracks/3JY3W61L5HL2...   \n26  https://api.spotify.com/v1/tracks/3jA8JPR7n9dT...   \n27  https://api.spotify.com/v1/tracks/3E7WP7K12jvS...   \n28  https://api.spotify.com/v1/tracks/1rFb88KyP2Ld...   \n29  https://api.spotify.com/v1/tracks/7M45oIYzrTG3...   \n30  https://api.spotify.com/v1/tracks/5JzllPULgQir...   \n31  https://api.spotify.com/v1/tracks/6K4fG1vf4vUX...   \n32  https://api.spotify.com/v1/tracks/3SEt66pkLYUx...   \n33  https://api.spotify.com/v1/tracks/4uP9aFwUv5lM...   \n34  https://api.spotify.com/v1/tracks/5bAMh6RORJtq...   \n35  https://api.spotify.com/v1/tracks/0QBgBYJGKbQ9...   \n36  https://api.spotify.com/v1/tracks/07VvjQ0uISLU...   \n37  https://api.spotify.com/v1/tracks/0f9hfSrqerRh...   \n38  https://api.spotify.com/v1/tracks/6xmtDsawgD1i...   \n39  https://api.spotify.com/v1/tracks/2Wvwr16E4O51...   \n40  https://api.spotify.com/v1/tracks/6mq2Dnc3hicr...   \n41  https://api.spotify.com/v1/tracks/5WC6MJOe9oVg...   \n42  https://api.spotify.com/v1/tracks/0K3nmGgX5Qgx...   \n43  https://api.spotify.com/v1/tracks/0I4boD33TLuW...   \n44  https://api.spotify.com/v1/tracks/2M6y5cW4m04z...   \n45  https://api.spotify.com/v1/tracks/62fsGTb05ahH...   \n46  https://api.spotify.com/v1/tracks/4xaWsmSgkCOX...   \n47  https://api.spotify.com/v1/tracks/3MTcxtewW0gk...   \n48  https://api.spotify.com/v1/tracks/5vFqxBA36r8w...   \n49  https://api.spotify.com/v1/tracks/65zFbHuyUdai...   \n50  https://api.spotify.com/v1/tracks/6qxR6arAISIf...   \n51  https://api.spotify.com/v1/tracks/5L9Mumh1rUDS...   \n52  https://api.spotify.com/v1/tracks/2cwHHkydmUEN...   \n53  https://api.spotify.com/v1/tracks/5Wlz87TeswJf...   \n54  https://api.spotify.com/v1/tracks/5Nfkl13MT2eD...   \n55  https://api.spotify.com/v1/tracks/1IxO95D87hSI...   \n\n                                         analysis_url duration_ms  \\\n0   https://api.spotify.com/v1/audio-analysis/1e5X...      170496   \n1   https://api.spotify.com/v1/audio-analysis/2RF7...      184289   \n2   https://api.spotify.com/v1/audio-analysis/06HQ...      299181   \n3   https://api.spotify.com/v1/audio-analysis/2wx4...      278071   \n4   https://api.spotify.com/v1/audio-analysis/1D93...      266669   \n5   https://api.spotify.com/v1/audio-analysis/08wG...      228123   \n6   https://api.spotify.com/v1/audio-analysis/0Vh8...      176272   \n7   https://api.spotify.com/v1/audio-analysis/3aMP...      247835   \n8   https://api.spotify.com/v1/audio-analysis/0Bte...      236026   \n9   https://api.spotify.com/v1/audio-analysis/2VY6...      359937   \n10  https://api.spotify.com/v1/audio-analysis/5wOS...      221178   \n11  https://api.spotify.com/v1/audio-analysis/3asF...      187604   \n12  https://api.spotify.com/v1/audio-analysis/6MpK...      156993   \n13  https://api.spotify.com/v1/audio-analysis/44Lx...      129352   \n14  https://api.spotify.com/v1/audio-analysis/5SlX...      212755   \n15  https://api.spotify.com/v1/audio-analysis/7pic...      256314   \n16  https://api.spotify.com/v1/audio-analysis/3RTS...      233096   \n17  https://api.spotify.com/v1/audio-analysis/2wBb...      143551   \n18  https://api.spotify.com/v1/audio-analysis/2Zit...      134670   \n19  https://api.spotify.com/v1/audio-analysis/7tBd...      137227   \n20  https://api.spotify.com/v1/audio-analysis/299e...      151901   \n21  https://api.spotify.com/v1/audio-analysis/5gzg...      203318   \n22  https://api.spotify.com/v1/audio-analysis/5sY8...      139291   \n23  https://api.spotify.com/v1/audio-analysis/7tfA...      142807   \n24  https://api.spotify.com/v1/audio-analysis/3u6f...      339177   \n25  https://api.spotify.com/v1/audio-analysis/3JY3...      171445   \n26  https://api.spotify.com/v1/audio-analysis/3jA8...      166651   \n27  https://api.spotify.com/v1/audio-analysis/3E7W...      117628   \n28  https://api.spotify.com/v1/audio-analysis/1rFb...      258437   \n29  https://api.spotify.com/v1/audio-analysis/7M45...      166591   \n30  https://api.spotify.com/v1/audio-analysis/5Jzl...      137957   \n31  https://api.spotify.com/v1/audio-analysis/6K4f...      257166   \n32  https://api.spotify.com/v1/audio-analysis/3SEt...      294382   \n33  https://api.spotify.com/v1/audio-analysis/4uP9...      301609   \n34  https://api.spotify.com/v1/audio-analysis/5bAM...      185747   \n35  https://api.spotify.com/v1/audio-analysis/0QBg...      187399   \n36  https://api.spotify.com/v1/audio-analysis/07Vv...      200711   \n37  https://api.spotify.com/v1/audio-analysis/0f9h...      177354   \n38  https://api.spotify.com/v1/audio-analysis/6xmt...      135631   \n39  https://api.spotify.com/v1/audio-analysis/2Wvw...      238278   \n40  https://api.spotify.com/v1/audio-analysis/6mq2...      234938   \n41  https://api.spotify.com/v1/audio-analysis/5WC6...      204558   \n42  https://api.spotify.com/v1/audio-analysis/0K3n...      242033   \n43  https://api.spotify.com/v1/audio-analysis/0I4b...      263913   \n44  https://api.spotify.com/v1/audio-analysis/2M6y...      114310   \n45  https://api.spotify.com/v1/audio-analysis/62fs...      259228   \n46  https://api.spotify.com/v1/audio-analysis/4xaW...      242600   \n47  https://api.spotify.com/v1/audio-analysis/3MTc...      217619   \n48  https://api.spotify.com/v1/audio-analysis/5vFq...      245495   \n49  https://api.spotify.com/v1/audio-analysis/65zF...      168190   \n50  https://api.spotify.com/v1/audio-analysis/6qxR...      193775   \n51  https://api.spotify.com/v1/audio-analysis/5L9M...      236487   \n52  https://api.spotify.com/v1/audio-analysis/2cwH...      215742   \n53  https://api.spotify.com/v1/audio-analysis/5Wlz...      407498   \n54  https://api.spotify.com/v1/audio-analysis/5Nfk...      329013   \n55  https://api.spotify.com/v1/audio-analysis/1IxO...      185459   \n\n   time_signature                                              genre  \\\n0               5                                                 []   \n1               4                                                 []   \n2               4               [christmas instrumental, pianissimo]   \n3               3                                                 []   \n4               3                           [christmas instrumental]   \n5               4                                                 []   \n6               3                                                 []   \n7               3                                 [background music]   \n8               4  [calming instrumental, christmas instrumental,...   \n9               4      [compositional ambient, focus, neo-classical]   \n10              4                                                 []   \n11              3                                                 []   \n12              4                                                 []   \n13              4                     [background jazz, dinner jazz]   \n14              4                                                 []   \n15              4                                                 []   \n16              4                                      [piano cover]   \n17              5                                 [background piano]   \n18              4               [christmas instrumental, pianissimo]   \n19              4                                                 []   \n20              4                                                 []   \n21              4                                                 []   \n22              3                                                 []   \n23              4                                      [piano cover]   \n24              4      [compositional ambient, focus, neo-classical]   \n25              4                                                 []   \n26              4                           [christmas instrumental]   \n27              3                                                 []   \n28              4                                                 []   \n29              4                [calming instrumental, piano cover]   \n30              4                                                 []   \n31              4                                                 []   \n32              3                                                 []   \n33              3      [compositional ambient, focus, neo-classical]   \n34              4                                                 []   \n35              3                                                 []   \n36              4                                      [piano cover]   \n37              4                                      [piano cover]   \n38              4                                                 []   \n39              4                [calming instrumental, piano cover]   \n40              4                                                 []   \n41              4                               [focus, piano cover]   \n42              4                                                 []   \n43              4      [compositional ambient, focus, neo-classical]   \n44              4                                                 []   \n45              4                                  [background jazz]   \n46              4                                                 []   \n47              3                                     [jazz quartet]   \n48              4                                                 []   \n49              4                                  [background jazz]   \n50              4                                                 []   \n51              4                                                 []   \n52              4  [baroque, classical, early music, german baroque]   \n53              3  [baroque, classical, early music, german baroque]   \n54              4  [baroque, classical, early music, german baroque]   \n55              4                                  [background jazz]   \n\n                                                album  popularity  \\\n0                                     Maude De Geyndt          37   \n1                             Forgiving is Forgetting          31   \n2                                           Session 1          38   \n3                              Kissing in the Streets          37   \n4                                      Jazz Standards          35   \n5                                             Halfway          36   \n6                                    Stop Look Desire          40   \n7                                   Someone Who Cares           0   \n8                                            Classics          36   \n9                                A Scandinavian Thing           0   \n10                                        Grand Hotel          28   \n11                                       Damian Syslo          28   \n12                                   Stop Look Desire          36   \n13                                The Gotland Session           0   \n14                             Kissing in the Streets          35   \n15                                              Vibes          34   \n16                            Swing Low Sweet Chariot          34   \n17                                       As She Rises          37   \n18                                          Session 1          36   \n19                            Forgiving is Forgetting          19   \n20                                           Our Take          37   \n21                                        Grand Hotel          39   \n22                                              Vibes          35   \n23                            Swing Low Sweet Chariot          31   \n24                               A Scandinavian Thing           0   \n25                            Forgiving is Forgetting          28   \n26                                     Jazz Standards          40   \n27                                The End Of The Road          20   \n28                             Kissing in the Streets          38   \n29                                        Fall Pieces          27   \n30                                  Donald Price Band          29   \n31                                    Maude De Geyndt          21   \n32                                         Summertime          31   \n33                               A Scandinavian Thing           0   \n34                                The Groove Planters          39   \n35                                           Classics          36   \n36                                        Jazz Covers          27   \n37                                        Jazz Covers          31   \n38                                      The Standards          32   \n39                                        Fall Pieces          46   \n40                                            Halfway          41   \n41                                      Clark Younger          38   \n42                                          Tropicana          33   \n43                               A Scandinavian Thing           0   \n44                                      The Standards          29   \n45                                              Smile          44   \n46                                          Newselves          39   \n47                                      Home (Singel)          22   \n48                             I´ll Never Smile Again          54   \n49                                             Abisko          47   \n50                              Relaxin' at Camarillo          46   \n51                    Softly, as in a Morning Sunrise          39   \n52  My Personal Favorites: The Jacques Loussier Tr...          31   \n53  My Personal Favorites: The Jacques Loussier Tr...          19   \n54  My Personal Favorites: The Jacques Loussier Tr...          15   \n55                                          Postcards          53   \n\n                       name                     track_name  \n0           Maude De Geyndt                New York Nights  \n1       Hip Jazz Collective                       Near You  \n2              Ahron Kupner                          Misty  \n3             Sassy Players                All I See is Us  \n4             Milos Foreman  Saga of Harrison Crabfeathers  \n5                 Ilya Mann                        Halfway  \n6         Ellie & The Bunch          The Sweetest Nighlife  \n7              Franz Gordon            I'd Rather Be Alone  \n8             Brandon Mills           Just The Way You Are  \n9            Peter Sandberg               Got That Feeling  \n10          Davide Ambrosia                 Cry Me A River  \n11             Damian Syslo                      Rosalinde  \n12        Ellie & The Bunch               Melody of Summer  \n13  Magnus Ringblom Quartet                 No Other Woman  \n14            Sassy Players         Kissing in the Streets  \n15         Malcolm Schultze                  Autumn Leaves  \n16             Ofelia Marsh            When I Fall In Love  \n17           Dimitri Stöckl                   As She Rises  \n18             Ahron Kupner                   Clear Bridge  \n19      Hip Jazz Collective                  The Last Time  \n20    Sebastian Dalton Trio                 I Have A Dream  \n21          Davide Ambrosia              Girl From Ipanema  \n22         Malcolm Schultze                Budapest Nights  \n23             Ofelia Marsh        Swing Low Sweet Chariot  \n24           Peter Sandberg            My Heart Is For You  \n25      Hip Jazz Collective        Forgiving is Forgetting  \n26            Milos Foreman               Isn't She Lovely  \n27          Daniel Patarava                           Stay  \n28            Sassy Players       It's Gonna Be a Good Day  \n29           Sonya O'Malley                     Walk On By  \n30        Donald Price Band                     Chiquitita  \n31          Maude De Geyndt             My Funny Valentine  \n32               Greta Leja                     Summertime  \n33           Peter Sandberg                My Simple Thing  \n34      The Groove Planters        The Winner Takes It All  \n35                 Tan Chin         What A Wonderful World  \n36         Edward Jefferson          Every Breath You Take  \n37         Edward Jefferson                        Imagine  \n38            Bruce Douglas             Fly Me To The Moon  \n39           Sonya O'Malley               Over The Rainbow  \n40                Ilya Mann               Inner City Drive  \n41            Clark Younger                   Unforgetable  \n42            Trio From Rio                   On Your Lips  \n43           Peter Sandberg           Under A Smiling Moon  \n44            Bruce Douglas                    Fancy Fancy  \n45       Daniel Rhodes Trio                          Smile  \n46                  MEGTARO                  In Thoughtful  \n47               SE-Quartet                           Home  \n48    Steve Luke & Holloway         I´ll Never Smile Again  \n49                  Norberg                         Abisko  \n50      William Carter Band                          Peace  \n51               Sal Ritter            I Can't Get Started  \n52    Johann Sebastian Bach                Air on G String  \n53    Johann Sebastian Bach           Pastorale in C minor  \n54    Johann Sebastian Bach      Italian Concerto: Andante  \n55        Greydon Park Band                      Postcards  \n\n[56 rows x 23 columns]",
      "text/html": "<div>\n<style scoped>\n    .dataframe tbody tr th:only-of-type {\n        vertical-align: middle;\n    }\n\n    .dataframe tbody tr th {\n        vertical-align: top;\n    }\n\n    .dataframe thead th {\n        text-align: right;\n    }\n</style>\n<table border=\"1\" class=\"dataframe\">\n  <thead>\n    <tr style=\"text-align: right;\">\n      <th></th>\n      <th>danceability</th>\n      <th>energy</th>\n      <th>key</th>\n      <th>loudness</th>\n      <th>mode</th>\n      <th>speechiness</th>\n      <th>acousticness</th>\n      <th>instrumentalness</th>\n      <th>liveness</th>\n      <th>valence</th>\n      <th>...</th>\n      <th>uri</th>\n      <th>track_href</th>\n      <th>analysis_url</th>\n      <th>duration_ms</th>\n      <th>time_signature</th>\n      <th>genre</th>\n      <th>album</th>\n      <th>popularity</th>\n      <th>name</th>\n      <th>track_name</th>\n    </tr>\n  </thead>\n  <tbody>\n    <tr>\n      <th>0</th>\n      <td>0.358</td>\n      <td>0.04820</td>\n      <td>11</td>\n      <td>-18.887</td>\n      <td>1</td>\n      <td>0.0452</td>\n      <td>0.994</td>\n      <td>0.941</td>\n      <td>0.1090</td>\n      <td>0.3660</td>\n      <td>...</td>\n      <td>spotify:track:1e5Xxhz3Ij8TLCNuhB2IEL</td>\n      <td>https://api.spotify.com/v1/tracks/1e5Xxhz3Ij8T...</td>\n      <td>https://api.spotify.com/v1/audio-analysis/1e5X...</td>\n      <td>170496</td>\n      <td>5</td>\n      <td>[]</td>\n      <td>Maude De Geyndt</td>\n      <td>37</td>\n      <td>Maude De Geyndt</td>\n      <td>New York Nights</td>\n    </tr>\n    <tr>\n      <th>1</th>\n      <td>0.391</td>\n      <td>0.03430</td>\n      <td>11</td>\n      <td>-19.342</td>\n      <td>1</td>\n      <td>0.0480</td>\n      <td>0.987</td>\n      <td>0.924</td>\n      <td>0.0943</td>\n      <td>0.1800</td>\n      <td>...</td>\n      <td>spotify:track:2RF7VdZ8LSDU80BS1gnf7I</td>\n      <td>https://api.spotify.com/v1/tracks/2RF7VdZ8LSDU...</td>\n      <td>https://api.spotify.com/v1/audio-analysis/2RF7...</td>\n      <td>184289</td>\n      <td>4</td>\n      <td>[]</td>\n      <td>Forgiving is Forgetting</td>\n      <td>31</td>\n      <td>Hip Jazz Collective</td>\n      <td>Near You</td>\n    </tr>\n    <tr>\n      <th>2</th>\n      <td>0.429</td>\n      <td>0.05100</td>\n      <td>8</td>\n      <td>-15.024</td>\n      <td>1</td>\n      <td>0.0605</td>\n      <td>0.995</td>\n      <td>0.961</td>\n      <td>0.1160</td>\n      <td>0.1780</td>\n      <td>...</td>\n      <td>spotify:track:06HQejVsTz9NqkSmxsVCCM</td>\n      <td>https://api.spotify.com/v1/tracks/06HQejVsTz9N...</td>\n      <td>https://api.spotify.com/v1/audio-analysis/06HQ...</td>\n      <td>299181</td>\n      <td>4</td>\n      <td>[christmas instrumental, pianissimo]</td>\n      <td>Session 1</td>\n      <td>38</td>\n      <td>Ahron Kupner</td>\n      <td>Misty</td>\n    </tr>\n    <tr>\n      <th>3</th>\n      <td>0.460</td>\n      <td>0.14100</td>\n      <td>9</td>\n      <td>-14.994</td>\n      <td>1</td>\n      <td>0.0314</td>\n      <td>0.854</td>\n      <td>0.885</td>\n      <td>0.1100</td>\n      <td>0.1470</td>\n      <td>...</td>\n      <td>spotify:track:2wx4FLHxxKP6wJvgp3Cceu</td>\n      <td>https://api.spotify.com/v1/tracks/2wx4FLHxxKP6...</td>\n      <td>https://api.spotify.com/v1/audio-analysis/2wx4...</td>\n      <td>278071</td>\n      <td>3</td>\n      <td>[]</td>\n      <td>Kissing in the Streets</td>\n      <td>37</td>\n      <td>Sassy Players</td>\n      <td>All I See is Us</td>\n    </tr>\n    <tr>\n      <th>4</th>\n      <td>0.684</td>\n      <td>0.27400</td>\n      <td>11</td>\n      <td>-15.921</td>\n      <td>0</td>\n      <td>0.0339</td>\n      <td>0.822</td>\n      <td>0.909</td>\n      <td>0.1120</td>\n      <td>0.1800</td>\n      <td>...</td>\n      <td>spotify:track:1D93vTG8Uio5cpf5YRF4Do</td>\n      <td>https://api.spotify.com/v1/tracks/1D93vTG8Uio5...</td>\n      <td>https://api.spotify.com/v1/audio-analysis/1D93...</td>\n      <td>266669</td>\n      <td>3</td>\n      <td>[christmas instrumental]</td>\n      <td>Jazz Standards</td>\n      <td>35</td>\n      <td>Milos Foreman</td>\n      <td>Saga of Harrison Crabfeathers</td>\n    </tr>\n    <tr>\n      <th>5</th>\n      <td>0.735</td>\n      <td>0.16900</td>\n      <td>11</td>\n      <td>-17.437</td>\n      <td>1</td>\n      <td>0.0375</td>\n      <td>0.859</td>\n      <td>0.938</td>\n      <td>0.1140</td>\n      <td>0.0910</td>\n      <td>...</td>\n      <td>spotify:track:08wGol6j6NY9WlPXaD20Sb</td>\n      <td>https://api.spotify.com/v1/tracks/08wGol6j6NY9...</td>\n      <td>https://api.spotify.com/v1/audio-analysis/08wG...</td>\n      <td>228123</td>\n      <td>4</td>\n      <td>[]</td>\n      <td>Halfway</td>\n      <td>36</td>\n      <td>Ilya Mann</td>\n      <td>Halfway</td>\n    </tr>\n    <tr>\n      <th>6</th>\n      <td>0.425</td>\n      <td>0.13600</td>\n      <td>11</td>\n      <td>-17.382</td>\n      <td>1</td>\n      <td>0.0293</td>\n      <td>0.914</td>\n      <td>0.921</td>\n      <td>0.1270</td>\n      <td>0.2380</td>\n      <td>...</td>\n      <td>spotify:track:0Vh8hPIxImlwXBj7KOJMhW</td>\n      <td>https://api.spotify.com/v1/tracks/0Vh8hPIxImlw...</td>\n      <td>https://api.spotify.com/v1/audio-analysis/0Vh8...</td>\n      <td>176272</td>\n      <td>3</td>\n      <td>[]</td>\n      <td>Stop Look Desire</td>\n      <td>40</td>\n      <td>Ellie &amp; The Bunch</td>\n      <td>The Sweetest Nighlife</td>\n    </tr>\n    <tr>\n      <th>7</th>\n      <td>0.404</td>\n      <td>0.20100</td>\n      <td>4</td>\n      <td>-15.549</td>\n      <td>1</td>\n      <td>0.0383</td>\n      <td>0.946</td>\n      <td>0.906</td>\n      <td>0.1060</td>\n      <td>0.2720</td>\n      <td>...</td>\n      <td>spotify:track:3aMPhbRGGTBCwWxVoHLOHu</td>\n      <td>https://api.spotify.com/v1/tracks/3aMPhbRGGTBC...</td>\n      <td>https://api.spotify.com/v1/audio-analysis/3aMP...</td>\n      <td>247835</td>\n      <td>3</td>\n      <td>[background music]</td>\n      <td>Someone Who Cares</td>\n      <td>0</td>\n      <td>Franz Gordon</td>\n      <td>I'd Rather Be Alone</td>\n    </tr>\n    <tr>\n      <th>8</th>\n      <td>0.573</td>\n      <td>0.06430</td>\n      <td>7</td>\n      <td>-19.774</td>\n      <td>1</td>\n      <td>0.0728</td>\n      <td>0.996</td>\n      <td>0.943</td>\n      <td>0.0984</td>\n      <td>0.2080</td>\n      <td>...</td>\n      <td>spotify:track:0BteZ0GPP4VO3M1k5NYDVE</td>\n      <td>https://api.spotify.com/v1/tracks/0BteZ0GPP4VO...</td>\n      <td>https://api.spotify.com/v1/audio-analysis/0Bte...</td>\n      <td>236026</td>\n      <td>4</td>\n      <td>[calming instrumental, christmas instrumental,...</td>\n      <td>Classics</td>\n      <td>36</td>\n      <td>Brandon Mills</td>\n      <td>Just The Way You Are</td>\n    </tr>\n    <tr>\n      <th>9</th>\n      <td>0.482</td>\n      <td>0.18900</td>\n      <td>10</td>\n      <td>-15.645</td>\n      <td>1</td>\n      <td>0.0404</td>\n      <td>0.794</td>\n      <td>0.796</td>\n      <td>0.1260</td>\n      <td>0.2130</td>\n      <td>...</td>\n      <td>spotify:track:2VY6cGSr6iDouF55iOS6Ok</td>\n      <td>https://api.spotify.com/v1/tracks/2VY6cGSr6iDo...</td>\n      <td>https://api.spotify.com/v1/audio-analysis/2VY6...</td>\n      <td>359937</td>\n      <td>4</td>\n      <td>[compositional ambient, focus, neo-classical]</td>\n      <td>A Scandinavian Thing</td>\n      <td>0</td>\n      <td>Peter Sandberg</td>\n      <td>Got That Feeling</td>\n    </tr>\n    <tr>\n      <th>10</th>\n      <td>0.461</td>\n      <td>0.06720</td>\n      <td>0</td>\n      <td>-16.226</td>\n      <td>0</td>\n      <td>0.0467</td>\n      <td>0.995</td>\n      <td>0.953</td>\n      <td>0.1080</td>\n      <td>0.1320</td>\n      <td>...</td>\n      <td>spotify:track:5wOSVqRfk4LcB7ZYKnkIr2</td>\n      <td>https://api.spotify.com/v1/tracks/5wOSVqRfk4Lc...</td>\n      <td>https://api.spotify.com/v1/audio-analysis/5wOS...</td>\n      <td>221178</td>\n      <td>4</td>\n      <td>[]</td>\n      <td>Grand Hotel</td>\n      <td>28</td>\n      <td>Davide Ambrosia</td>\n      <td>Cry Me A River</td>\n    </tr>\n    <tr>\n      <th>11</th>\n      <td>0.478</td>\n      <td>0.01100</td>\n      <td>0</td>\n      <td>-24.731</td>\n      <td>0</td>\n      <td>0.0462</td>\n      <td>0.995</td>\n      <td>0.952</td>\n      <td>0.1080</td>\n      <td>0.0917</td>\n      <td>...</td>\n      <td>spotify:track:3asFtaun1ReiGvVZywcFpG</td>\n      <td>https://api.spotify.com/v1/tracks/3asFtaun1Rei...</td>\n      <td>https://api.spotify.com/v1/audio-analysis/3asF...</td>\n      <td>187604</td>\n      <td>3</td>\n      <td>[]</td>\n      <td>Damian Syslo</td>\n      <td>28</td>\n      <td>Damian Syslo</td>\n      <td>Rosalinde</td>\n    </tr>\n    <tr>\n      <th>12</th>\n      <td>0.776</td>\n      <td>0.12600</td>\n      <td>3</td>\n      <td>-17.661</td>\n      <td>0</td>\n      <td>0.0421</td>\n      <td>0.938</td>\n      <td>0.869</td>\n      <td>0.1160</td>\n      <td>0.1990</td>\n      <td>...</td>\n      <td>spotify:track:6MpKUPhmBJaW2yJ2rApFw8</td>\n      <td>https://api.spotify.com/v1/tracks/6MpKUPhmBJaW...</td>\n      <td>https://api.spotify.com/v1/audio-analysis/6MpK...</td>\n      <td>156993</td>\n      <td>4</td>\n      <td>[]</td>\n      <td>Stop Look Desire</td>\n      <td>36</td>\n      <td>Ellie &amp; The Bunch</td>\n      <td>Melody of Summer</td>\n    </tr>\n    <tr>\n      <th>13</th>\n      <td>0.638</td>\n      <td>0.00325</td>\n      <td>11</td>\n      <td>-17.459</td>\n      <td>1</td>\n      <td>0.0765</td>\n      <td>0.969</td>\n      <td>0.941</td>\n      <td>0.1170</td>\n      <td>0.4060</td>\n      <td>...</td>\n      <td>spotify:track:44Lxeby8f0oPb5wHeEDywC</td>\n      <td>https://api.spotify.com/v1/tracks/44Lxeby8f0oP...</td>\n      <td>https://api.spotify.com/v1/audio-analysis/44Lx...</td>\n      <td>129352</td>\n      <td>4</td>\n      <td>[background jazz, dinner jazz]</td>\n      <td>The Gotland Session</td>\n      <td>0</td>\n      <td>Magnus Ringblom Quartet</td>\n      <td>No Other Woman</td>\n    </tr>\n    <tr>\n      <th>14</th>\n      <td>0.699</td>\n      <td>0.25800</td>\n      <td>9</td>\n      <td>-14.707</td>\n      <td>1</td>\n      <td>0.0314</td>\n      <td>0.911</td>\n      <td>0.869</td>\n      <td>0.3370</td>\n      <td>0.1630</td>\n      <td>...</td>\n      <td>spotify:track:5SlXY4uuH8F1hNcCtlk6a2</td>\n      <td>https://api.spotify.com/v1/tracks/5SlXY4uuH8F1...</td>\n      <td>https://api.spotify.com/v1/audio-analysis/5SlX...</td>\n      <td>212755</td>\n      <td>4</td>\n      <td>[]</td>\n      <td>Kissing in the Streets</td>\n      <td>35</td>\n      <td>Sassy Players</td>\n      <td>Kissing in the Streets</td>\n    </tr>\n    <tr>\n      <th>15</th>\n      <td>0.403</td>\n      <td>0.01570</td>\n      <td>8</td>\n      <td>-26.877</td>\n      <td>0</td>\n      <td>0.0419</td>\n      <td>0.995</td>\n      <td>0.926</td>\n      <td>0.0925</td>\n      <td>0.1750</td>\n      <td>...</td>\n      <td>spotify:track:7picJQF5Xp0ktoXTWoCn9g</td>\n      <td>https://api.spotify.com/v1/tracks/7picJQF5Xp0k...</td>\n      <td>https://api.spotify.com/v1/audio-analysis/7pic...</td>\n      <td>256314</td>\n      <td>4</td>\n      <td>[]</td>\n      <td>Vibes</td>\n      <td>34</td>\n      <td>Malcolm Schultze</td>\n      <td>Autumn Leaves</td>\n    </tr>\n    <tr>\n      <th>16</th>\n      <td>0.491</td>\n      <td>0.01690</td>\n      <td>3</td>\n      <td>-23.164</td>\n      <td>1</td>\n      <td>0.0474</td>\n      <td>0.994</td>\n      <td>0.959</td>\n      <td>0.1310</td>\n      <td>0.1590</td>\n      <td>...</td>\n      <td>spotify:track:3RTSNE39EhMQkzwKwEu5v4</td>\n      <td>https://api.spotify.com/v1/tracks/3RTSNE39EhMQ...</td>\n      <td>https://api.spotify.com/v1/audio-analysis/3RTS...</td>\n      <td>233096</td>\n      <td>4</td>\n      <td>[piano cover]</td>\n      <td>Swing Low Sweet Chariot</td>\n      <td>34</td>\n      <td>Ofelia Marsh</td>\n      <td>When I Fall In Love</td>\n    </tr>\n    <tr>\n      <th>17</th>\n      <td>0.390</td>\n      <td>0.00153</td>\n      <td>5</td>\n      <td>-25.624</td>\n      <td>1</td>\n      <td>0.1210</td>\n      <td>0.991</td>\n      <td>0.753</td>\n      <td>0.0880</td>\n      <td>0.3560</td>\n      <td>...</td>\n      <td>spotify:track:2wBb2lAmkZZIioQcJpH8D6</td>\n      <td>https://api.spotify.com/v1/tracks/2wBb2lAmkZZI...</td>\n      <td>https://api.spotify.com/v1/audio-analysis/2wBb...</td>\n      <td>143551</td>\n      <td>5</td>\n      <td>[background piano]</td>\n      <td>As She Rises</td>\n      <td>37</td>\n      <td>Dimitri Stöckl</td>\n      <td>As She Rises</td>\n    </tr>\n    <tr>\n      <th>18</th>\n      <td>0.521</td>\n      <td>0.03620</td>\n      <td>0</td>\n      <td>-18.862</td>\n      <td>0</td>\n      <td>0.0597</td>\n      <td>0.995</td>\n      <td>0.959</td>\n      <td>0.1400</td>\n      <td>0.1050</td>\n      <td>...</td>\n      <td>spotify:track:2ZitZzpm4i01kZm1nNPRPg</td>\n      <td>https://api.spotify.com/v1/tracks/2ZitZzpm4i01...</td>\n      <td>https://api.spotify.com/v1/audio-analysis/2Zit...</td>\n      <td>134670</td>\n      <td>4</td>\n      <td>[christmas instrumental, pianissimo]</td>\n      <td>Session 1</td>\n      <td>36</td>\n      <td>Ahron Kupner</td>\n      <td>Clear Bridge</td>\n    </tr>\n    <tr>\n      <th>19</th>\n      <td>0.426</td>\n      <td>0.09170</td>\n      <td>4</td>\n      <td>-17.985</td>\n      <td>1</td>\n      <td>0.0413</td>\n      <td>0.984</td>\n      <td>0.922</td>\n      <td>0.0941</td>\n      <td>0.0614</td>\n      <td>...</td>\n      <td>spotify:track:7tBdnsJdPHamk6TuvHhooL</td>\n      <td>https://api.spotify.com/v1/tracks/7tBdnsJdPHam...</td>\n      <td>https://api.spotify.com/v1/audio-analysis/7tBd...</td>\n      <td>137227</td>\n      <td>4</td>\n      <td>[]</td>\n      <td>Forgiving is Forgetting</td>\n      <td>19</td>\n      <td>Hip Jazz Collective</td>\n      <td>The Last Time</td>\n    </tr>\n    <tr>\n      <th>20</th>\n      <td>0.732</td>\n      <td>0.22600</td>\n      <td>1</td>\n      <td>-15.145</td>\n      <td>0</td>\n      <td>0.0452</td>\n      <td>0.562</td>\n      <td>0.866</td>\n      <td>0.0752</td>\n      <td>0.1810</td>\n      <td>...</td>\n      <td>spotify:track:299ev5PDUaqTjLSGboDLK4</td>\n      <td>https://api.spotify.com/v1/tracks/299ev5PDUaqT...</td>\n      <td>https://api.spotify.com/v1/audio-analysis/299e...</td>\n      <td>151901</td>\n      <td>4</td>\n      <td>[]</td>\n      <td>Our Take</td>\n      <td>37</td>\n      <td>Sebastian Dalton Trio</td>\n      <td>I Have A Dream</td>\n    </tr>\n    <tr>\n      <th>21</th>\n      <td>0.427</td>\n      <td>0.05020</td>\n      <td>5</td>\n      <td>-19.982</td>\n      <td>1</td>\n      <td>0.0557</td>\n      <td>0.995</td>\n      <td>0.960</td>\n      <td>0.0962</td>\n      <td>0.1660</td>\n      <td>...</td>\n      <td>spotify:track:5gzgkcNPHlSgnoqdEOYLfC</td>\n      <td>https://api.spotify.com/v1/tracks/5gzgkcNPHlSg...</td>\n      <td>https://api.spotify.com/v1/audio-analysis/5gzg...</td>\n      <td>203318</td>\n      <td>4</td>\n      <td>[]</td>\n      <td>Grand Hotel</td>\n      <td>39</td>\n      <td>Davide Ambrosia</td>\n      <td>Girl From Ipanema</td>\n    </tr>\n    <tr>\n      <th>22</th>\n      <td>0.391</td>\n      <td>0.00302</td>\n      <td>9</td>\n      <td>-21.328</td>\n      <td>1</td>\n      <td>0.0389</td>\n      <td>0.995</td>\n      <td>0.944</td>\n      <td>0.1150</td>\n      <td>0.5860</td>\n      <td>...</td>\n      <td>spotify:track:5sY8PrKuyiAXV8resJ25Dp</td>\n      <td>https://api.spotify.com/v1/tracks/5sY8PrKuyiAX...</td>\n      <td>https://api.spotify.com/v1/audio-analysis/5sY8...</td>\n      <td>139291</td>\n      <td>3</td>\n      <td>[]</td>\n      <td>Vibes</td>\n      <td>35</td>\n      <td>Malcolm Schultze</td>\n      <td>Budapest Nights</td>\n    </tr>\n    <tr>\n      <th>23</th>\n      <td>0.376</td>\n      <td>0.01550</td>\n      <td>7</td>\n      <td>-24.706</td>\n      <td>1</td>\n      <td>0.0473</td>\n      <td>0.995</td>\n      <td>0.943</td>\n      <td>0.0946</td>\n      <td>0.1350</td>\n      <td>...</td>\n      <td>spotify:track:7tfAVm2Fam6FpCkYhfcngh</td>\n      <td>https://api.spotify.com/v1/tracks/7tfAVm2Fam6F...</td>\n      <td>https://api.spotify.com/v1/audio-analysis/7tfA...</td>\n      <td>142807</td>\n      <td>4</td>\n      <td>[piano cover]</td>\n      <td>Swing Low Sweet Chariot</td>\n      <td>31</td>\n      <td>Ofelia Marsh</td>\n      <td>Swing Low Sweet Chariot</td>\n    </tr>\n    <tr>\n      <th>24</th>\n      <td>0.495</td>\n      <td>0.14400</td>\n      <td>1</td>\n      <td>-14.389</td>\n      <td>1</td>\n      <td>0.0347</td>\n      <td>0.724</td>\n      <td>0.221</td>\n      <td>0.3190</td>\n      <td>0.0841</td>\n      <td>...</td>\n      <td>spotify:track:3u6fXPiITVsTNolEqapeBU</td>\n      <td>https://api.spotify.com/v1/tracks/3u6fXPiITVsT...</td>\n      <td>https://api.spotify.com/v1/audio-analysis/3u6f...</td>\n      <td>339177</td>\n      <td>4</td>\n      <td>[compositional ambient, focus, neo-classical]</td>\n      <td>A Scandinavian Thing</td>\n      <td>0</td>\n      <td>Peter Sandberg</td>\n      <td>My Heart Is For You</td>\n    </tr>\n    <tr>\n      <th>25</th>\n      <td>0.347</td>\n      <td>0.02740</td>\n      <td>7</td>\n      <td>-23.790</td>\n      <td>1</td>\n      <td>0.0359</td>\n      <td>0.988</td>\n      <td>0.897</td>\n      <td>0.1130</td>\n      <td>0.0639</td>\n      <td>...</td>\n      <td>spotify:track:3JY3W61L5HL2EcvRM8tvv9</td>\n      <td>https://api.spotify.com/v1/tracks/3JY3W61L5HL2...</td>\n      <td>https://api.spotify.com/v1/audio-analysis/3JY3...</td>\n      <td>171445</td>\n      <td>4</td>\n      <td>[]</td>\n      <td>Forgiving is Forgetting</td>\n      <td>28</td>\n      <td>Hip Jazz Collective</td>\n      <td>Forgiving is Forgetting</td>\n    </tr>\n    <tr>\n      <th>26</th>\n      <td>0.725</td>\n      <td>0.17600</td>\n      <td>11</td>\n      <td>-18.639</td>\n      <td>1</td>\n      <td>0.0358</td>\n      <td>0.943</td>\n      <td>0.926</td>\n      <td>0.2040</td>\n      <td>0.1070</td>\n      <td>...</td>\n      <td>spotify:track:3jA8JPR7n9dTEJCMi8CCqH</td>\n      <td>https://api.spotify.com/v1/tracks/3jA8JPR7n9dT...</td>\n      <td>https://api.spotify.com/v1/audio-analysis/3jA8...</td>\n      <td>166651</td>\n      <td>4</td>\n      <td>[christmas instrumental]</td>\n      <td>Jazz Standards</td>\n      <td>40</td>\n      <td>Milos Foreman</td>\n      <td>Isn't She Lovely</td>\n    </tr>\n    <tr>\n      <th>27</th>\n      <td>0.509</td>\n      <td>0.00314</td>\n      <td>8</td>\n      <td>-20.909</td>\n      <td>0</td>\n      <td>0.0536</td>\n      <td>0.995</td>\n      <td>0.655</td>\n      <td>0.1130</td>\n      <td>0.4680</td>\n      <td>...</td>\n      <td>spotify:track:3E7WP7K12jvSRcSbFY6cKB</td>\n      <td>https://api.spotify.com/v1/tracks/3E7WP7K12jvS...</td>\n      <td>https://api.spotify.com/v1/audio-analysis/3E7W...</td>\n      <td>117628</td>\n      <td>3</td>\n      <td>[]</td>\n      <td>The End Of The Road</td>\n      <td>20</td>\n      <td>Daniel Patarava</td>\n      <td>Stay</td>\n    </tr>\n    <tr>\n      <th>28</th>\n      <td>0.629</td>\n      <td>0.28100</td>\n      <td>11</td>\n      <td>-15.124</td>\n      <td>1</td>\n      <td>0.0374</td>\n      <td>0.805</td>\n      <td>0.789</td>\n      <td>0.0893</td>\n      <td>0.1580</td>\n      <td>...</td>\n      <td>spotify:track:1rFb88KyP2Ldgl5fYj9NB2</td>\n      <td>https://api.spotify.com/v1/tracks/1rFb88KyP2Ld...</td>\n      <td>https://api.spotify.com/v1/audio-analysis/1rFb...</td>\n      <td>258437</td>\n      <td>4</td>\n      <td>[]</td>\n      <td>Kissing in the Streets</td>\n      <td>38</td>\n      <td>Sassy Players</td>\n      <td>It's Gonna Be a Good Day</td>\n    </tr>\n    <tr>\n      <th>29</th>\n      <td>0.271</td>\n      <td>0.10700</td>\n      <td>5</td>\n      <td>-19.676</td>\n      <td>1</td>\n      <td>0.0646</td>\n      <td>0.994</td>\n      <td>0.938</td>\n      <td>0.1100</td>\n      <td>0.1570</td>\n      <td>...</td>\n      <td>spotify:track:7M45oIYzrTG3Nk2ZBezeaq</td>\n      <td>https://api.spotify.com/v1/tracks/7M45oIYzrTG3...</td>\n      <td>https://api.spotify.com/v1/audio-analysis/7M45...</td>\n      <td>166591</td>\n      <td>4</td>\n      <td>[calming instrumental, piano cover]</td>\n      <td>Fall Pieces</td>\n      <td>27</td>\n      <td>Sonya O'Malley</td>\n      <td>Walk On By</td>\n    </tr>\n    <tr>\n      <th>30</th>\n      <td>0.760</td>\n      <td>0.20700</td>\n      <td>8</td>\n      <td>-14.373</td>\n      <td>1</td>\n      <td>0.0330</td>\n      <td>0.748</td>\n      <td>0.850</td>\n      <td>0.1350</td>\n      <td>0.2840</td>\n      <td>...</td>\n      <td>spotify:track:5JzllPULgQirGB0Y7LYqil</td>\n      <td>https://api.spotify.com/v1/tracks/5JzllPULgQir...</td>\n      <td>https://api.spotify.com/v1/audio-analysis/5Jzl...</td>\n      <td>137957</td>\n      <td>4</td>\n      <td>[]</td>\n      <td>Donald Price Band</td>\n      <td>29</td>\n      <td>Donald Price Band</td>\n      <td>Chiquitita</td>\n    </tr>\n    <tr>\n      <th>31</th>\n      <td>0.328</td>\n      <td>0.01450</td>\n      <td>11</td>\n      <td>-26.935</td>\n      <td>0</td>\n      <td>0.0520</td>\n      <td>0.994</td>\n      <td>0.895</td>\n      <td>0.1030</td>\n      <td>0.1460</td>\n      <td>...</td>\n      <td>spotify:track:6K4fG1vf4vUXVM7yGJId0Z</td>\n      <td>https://api.spotify.com/v1/tracks/6K4fG1vf4vUX...</td>\n      <td>https://api.spotify.com/v1/audio-analysis/6K4f...</td>\n      <td>257166</td>\n      <td>4</td>\n      <td>[]</td>\n      <td>Maude De Geyndt</td>\n      <td>21</td>\n      <td>Maude De Geyndt</td>\n      <td>My Funny Valentine</td>\n    </tr>\n    <tr>\n      <th>32</th>\n      <td>0.329</td>\n      <td>0.00789</td>\n      <td>11</td>\n      <td>-26.861</td>\n      <td>1</td>\n      <td>0.0500</td>\n      <td>0.995</td>\n      <td>0.908</td>\n      <td>0.1150</td>\n      <td>0.1890</td>\n      <td>...</td>\n      <td>spotify:track:3SEt66pkLYUxRjpfgWxMr5</td>\n      <td>https://api.spotify.com/v1/tracks/3SEt66pkLYUx...</td>\n      <td>https://api.spotify.com/v1/audio-analysis/3SEt...</td>\n      <td>294382</td>\n      <td>3</td>\n      <td>[]</td>\n      <td>Summertime</td>\n      <td>31</td>\n      <td>Greta Leja</td>\n      <td>Summertime</td>\n    </tr>\n    <tr>\n      <th>33</th>\n      <td>0.459</td>\n      <td>0.17100</td>\n      <td>0</td>\n      <td>-13.782</td>\n      <td>1</td>\n      <td>0.0395</td>\n      <td>0.860</td>\n      <td>0.280</td>\n      <td>0.1060</td>\n      <td>0.1820</td>\n      <td>...</td>\n      <td>spotify:track:4uP9aFwUv5lMNOlh6mKuNM</td>\n      <td>https://api.spotify.com/v1/tracks/4uP9aFwUv5lM...</td>\n      <td>https://api.spotify.com/v1/audio-analysis/4uP9...</td>\n      <td>301609</td>\n      <td>3</td>\n      <td>[compositional ambient, focus, neo-classical]</td>\n      <td>A Scandinavian Thing</td>\n      <td>0</td>\n      <td>Peter Sandberg</td>\n      <td>My Simple Thing</td>\n    </tr>\n    <tr>\n      <th>34</th>\n      <td>0.646</td>\n      <td>0.23700</td>\n      <td>4</td>\n      <td>-13.886</td>\n      <td>0</td>\n      <td>0.0601</td>\n      <td>0.828</td>\n      <td>0.845</td>\n      <td>0.0961</td>\n      <td>0.5370</td>\n      <td>...</td>\n      <td>spotify:track:5bAMh6RORJtqwMAZcUUwsj</td>\n      <td>https://api.spotify.com/v1/tracks/5bAMh6RORJtq...</td>\n      <td>https://api.spotify.com/v1/audio-analysis/5bAM...</td>\n      <td>185747</td>\n      <td>4</td>\n      <td>[]</td>\n      <td>The Groove Planters</td>\n      <td>39</td>\n      <td>The Groove Planters</td>\n      <td>The Winner Takes It All</td>\n    </tr>\n    <tr>\n      <th>35</th>\n      <td>0.376</td>\n      <td>0.02220</td>\n      <td>11</td>\n      <td>-26.348</td>\n      <td>1</td>\n      <td>0.0563</td>\n      <td>0.995</td>\n      <td>0.936</td>\n      <td>0.1240</td>\n      <td>0.2290</td>\n      <td>...</td>\n      <td>spotify:track:0QBgBYJGKbQ94uBKStszv0</td>\n      <td>https://api.spotify.com/v1/tracks/0QBgBYJGKbQ9...</td>\n      <td>https://api.spotify.com/v1/audio-analysis/0QBg...</td>\n      <td>187399</td>\n      <td>3</td>\n      <td>[]</td>\n      <td>Classics</td>\n      <td>36</td>\n      <td>Tan Chin</td>\n      <td>What A Wonderful World</td>\n    </tr>\n    <tr>\n      <th>36</th>\n      <td>0.435</td>\n      <td>0.03080</td>\n      <td>11</td>\n      <td>-26.250</td>\n      <td>1</td>\n      <td>0.0370</td>\n      <td>0.995</td>\n      <td>0.925</td>\n      <td>0.1020</td>\n      <td>0.2970</td>\n      <td>...</td>\n      <td>spotify:track:07VvjQ0uISLUDL4DyVDBYD</td>\n      <td>https://api.spotify.com/v1/tracks/07VvjQ0uISLU...</td>\n      <td>https://api.spotify.com/v1/audio-analysis/07Vv...</td>\n      <td>200711</td>\n      <td>4</td>\n      <td>[piano cover]</td>\n      <td>Jazz Covers</td>\n      <td>27</td>\n      <td>Edward Jefferson</td>\n      <td>Every Breath You Take</td>\n    </tr>\n    <tr>\n      <th>37</th>\n      <td>0.433</td>\n      <td>0.02300</td>\n      <td>11</td>\n      <td>-23.970</td>\n      <td>1</td>\n      <td>0.0653</td>\n      <td>0.995</td>\n      <td>0.909</td>\n      <td>0.0987</td>\n      <td>0.2310</td>\n      <td>...</td>\n      <td>spotify:track:0f9hfSrqerRhRZBoBj7MMb</td>\n      <td>https://api.spotify.com/v1/tracks/0f9hfSrqerRh...</td>\n      <td>https://api.spotify.com/v1/audio-analysis/0f9h...</td>\n      <td>177354</td>\n      <td>4</td>\n      <td>[piano cover]</td>\n      <td>Jazz Covers</td>\n      <td>31</td>\n      <td>Edward Jefferson</td>\n      <td>Imagine</td>\n    </tr>\n    <tr>\n      <th>38</th>\n      <td>0.386</td>\n      <td>0.01790</td>\n      <td>11</td>\n      <td>-25.294</td>\n      <td>1</td>\n      <td>0.0597</td>\n      <td>0.995</td>\n      <td>0.918</td>\n      <td>0.1410</td>\n      <td>0.2450</td>\n      <td>...</td>\n      <td>spotify:track:6xmtDsawgD1iRmT1VRic0n</td>\n      <td>https://api.spotify.com/v1/tracks/6xmtDsawgD1i...</td>\n      <td>https://api.spotify.com/v1/audio-analysis/6xmt...</td>\n      <td>135631</td>\n      <td>4</td>\n      <td>[]</td>\n      <td>The Standards</td>\n      <td>32</td>\n      <td>Bruce Douglas</td>\n      <td>Fly Me To The Moon</td>\n    </tr>\n    <tr>\n      <th>39</th>\n      <td>0.392</td>\n      <td>0.06640</td>\n      <td>0</td>\n      <td>-16.245</td>\n      <td>1</td>\n      <td>0.0462</td>\n      <td>0.995</td>\n      <td>0.941</td>\n      <td>0.1460</td>\n      <td>0.1520</td>\n      <td>...</td>\n      <td>spotify:track:2Wvwr16E4O51JeNSs5K5Dp</td>\n      <td>https://api.spotify.com/v1/tracks/2Wvwr16E4O51...</td>\n      <td>https://api.spotify.com/v1/audio-analysis/2Wvw...</td>\n      <td>238278</td>\n      <td>4</td>\n      <td>[calming instrumental, piano cover]</td>\n      <td>Fall Pieces</td>\n      <td>46</td>\n      <td>Sonya O'Malley</td>\n      <td>Over The Rainbow</td>\n    </tr>\n    <tr>\n      <th>40</th>\n      <td>0.698</td>\n      <td>0.15500</td>\n      <td>11</td>\n      <td>-17.919</td>\n      <td>1</td>\n      <td>0.0338</td>\n      <td>0.963</td>\n      <td>0.878</td>\n      <td>0.0882</td>\n      <td>0.1950</td>\n      <td>...</td>\n      <td>spotify:track:6mq2Dnc3hicrfGolQhVwEE</td>\n      <td>https://api.spotify.com/v1/tracks/6mq2Dnc3hicr...</td>\n      <td>https://api.spotify.com/v1/audio-analysis/6mq2...</td>\n      <td>234938</td>\n      <td>4</td>\n      <td>[]</td>\n      <td>Halfway</td>\n      <td>41</td>\n      <td>Ilya Mann</td>\n      <td>Inner City Drive</td>\n    </tr>\n    <tr>\n      <th>41</th>\n      <td>0.408</td>\n      <td>0.01260</td>\n      <td>6</td>\n      <td>-20.377</td>\n      <td>0</td>\n      <td>0.0517</td>\n      <td>0.996</td>\n      <td>0.961</td>\n      <td>0.0948</td>\n      <td>0.1320</td>\n      <td>...</td>\n      <td>spotify:track:5WC6MJOe9oVg0yz2yj2KA0</td>\n      <td>https://api.spotify.com/v1/tracks/5WC6MJOe9oVg...</td>\n      <td>https://api.spotify.com/v1/audio-analysis/5WC6...</td>\n      <td>204558</td>\n      <td>4</td>\n      <td>[focus, piano cover]</td>\n      <td>Clark Younger</td>\n      <td>38</td>\n      <td>Clark Younger</td>\n      <td>Unforgetable</td>\n    </tr>\n    <tr>\n      <th>42</th>\n      <td>0.682</td>\n      <td>0.22700</td>\n      <td>4</td>\n      <td>-14.881</td>\n      <td>1</td>\n      <td>0.0345</td>\n      <td>0.921</td>\n      <td>0.810</td>\n      <td>0.1030</td>\n      <td>0.1640</td>\n      <td>...</td>\n      <td>spotify:track:0K3nmGgX5QgxVvOqZo9ZHP</td>\n      <td>https://api.spotify.com/v1/tracks/0K3nmGgX5Qgx...</td>\n      <td>https://api.spotify.com/v1/audio-analysis/0K3n...</td>\n      <td>242033</td>\n      <td>4</td>\n      <td>[]</td>\n      <td>Tropicana</td>\n      <td>33</td>\n      <td>Trio From Rio</td>\n      <td>On Your Lips</td>\n    </tr>\n    <tr>\n      <th>43</th>\n      <td>0.479</td>\n      <td>0.19300</td>\n      <td>0</td>\n      <td>-12.636</td>\n      <td>0</td>\n      <td>0.0351</td>\n      <td>0.859</td>\n      <td>0.737</td>\n      <td>0.3310</td>\n      <td>0.1530</td>\n      <td>...</td>\n      <td>spotify:track:0I4boD33TLuWNt7kskm3KY</td>\n      <td>https://api.spotify.com/v1/tracks/0I4boD33TLuW...</td>\n      <td>https://api.spotify.com/v1/audio-analysis/0I4b...</td>\n      <td>263913</td>\n      <td>4</td>\n      <td>[compositional ambient, focus, neo-classical]</td>\n      <td>A Scandinavian Thing</td>\n      <td>0</td>\n      <td>Peter Sandberg</td>\n      <td>Under A Smiling Moon</td>\n    </tr>\n    <tr>\n      <th>44</th>\n      <td>0.501</td>\n      <td>0.00148</td>\n      <td>11</td>\n      <td>-19.137</td>\n      <td>1</td>\n      <td>0.0593</td>\n      <td>0.995</td>\n      <td>0.927</td>\n      <td>0.1010</td>\n      <td>0.4030</td>\n      <td>...</td>\n      <td>spotify:track:2M6y5cW4m04z3ZXL6kZKlA</td>\n      <td>https://api.spotify.com/v1/tracks/2M6y5cW4m04z...</td>\n      <td>https://api.spotify.com/v1/audio-analysis/2M6y...</td>\n      <td>114310</td>\n      <td>4</td>\n      <td>[]</td>\n      <td>The Standards</td>\n      <td>29</td>\n      <td>Bruce Douglas</td>\n      <td>Fancy Fancy</td>\n    </tr>\n    <tr>\n      <th>45</th>\n      <td>0.507</td>\n      <td>0.11100</td>\n      <td>0</td>\n      <td>-20.858</td>\n      <td>1</td>\n      <td>0.0325</td>\n      <td>0.982</td>\n      <td>0.944</td>\n      <td>0.1720</td>\n      <td>0.1870</td>\n      <td>...</td>\n      <td>spotify:track:62fsGTb05ahHcBN3alxd6F</td>\n      <td>https://api.spotify.com/v1/tracks/62fsGTb05ahH...</td>\n      <td>https://api.spotify.com/v1/audio-analysis/62fs...</td>\n      <td>259228</td>\n      <td>4</td>\n      <td>[background jazz]</td>\n      <td>Smile</td>\n      <td>44</td>\n      <td>Daniel Rhodes Trio</td>\n      <td>Smile</td>\n    </tr>\n    <tr>\n      <th>46</th>\n      <td>0.486</td>\n      <td>0.10000</td>\n      <td>10</td>\n      <td>-23.329</td>\n      <td>1</td>\n      <td>0.0419</td>\n      <td>0.963</td>\n      <td>0.861</td>\n      <td>0.0808</td>\n      <td>0.2360</td>\n      <td>...</td>\n      <td>spotify:track:4xaWsmSgkCOXOaxEF0ofjy</td>\n      <td>https://api.spotify.com/v1/tracks/4xaWsmSgkCOX...</td>\n      <td>https://api.spotify.com/v1/audio-analysis/4xaW...</td>\n      <td>242600</td>\n      <td>4</td>\n      <td>[]</td>\n      <td>Newselves</td>\n      <td>39</td>\n      <td>MEGTARO</td>\n      <td>In Thoughtful</td>\n    </tr>\n    <tr>\n      <th>47</th>\n      <td>0.478</td>\n      <td>0.20800</td>\n      <td>7</td>\n      <td>-15.125</td>\n      <td>1</td>\n      <td>0.0315</td>\n      <td>0.902</td>\n      <td>0.780</td>\n      <td>0.1250</td>\n      <td>0.1930</td>\n      <td>...</td>\n      <td>spotify:track:3MTcxtewW0gk7k8uJ5m17x</td>\n      <td>https://api.spotify.com/v1/tracks/3MTcxtewW0gk...</td>\n      <td>https://api.spotify.com/v1/audio-analysis/3MTc...</td>\n      <td>217619</td>\n      <td>3</td>\n      <td>[jazz quartet]</td>\n      <td>Home (Singel)</td>\n      <td>22</td>\n      <td>SE-Quartet</td>\n      <td>Home</td>\n    </tr>\n    <tr>\n      <th>48</th>\n      <td>0.349</td>\n      <td>0.08300</td>\n      <td>5</td>\n      <td>-21.928</td>\n      <td>0</td>\n      <td>0.0351</td>\n      <td>0.945</td>\n      <td>0.899</td>\n      <td>0.1680</td>\n      <td>0.0771</td>\n      <td>...</td>\n      <td>spotify:track:5vFqxBA36r8w1NKDUhpt07</td>\n      <td>https://api.spotify.com/v1/tracks/5vFqxBA36r8w...</td>\n      <td>https://api.spotify.com/v1/audio-analysis/5vFq...</td>\n      <td>245495</td>\n      <td>4</td>\n      <td>[]</td>\n      <td>I´ll Never Smile Again</td>\n      <td>54</td>\n      <td>Steve Luke &amp; Holloway</td>\n      <td>I´ll Never Smile Again</td>\n    </tr>\n    <tr>\n      <th>49</th>\n      <td>0.547</td>\n      <td>0.06080</td>\n      <td>2</td>\n      <td>-19.962</td>\n      <td>1</td>\n      <td>0.0317</td>\n      <td>0.883</td>\n      <td>0.552</td>\n      <td>0.0952</td>\n      <td>0.1320</td>\n      <td>...</td>\n      <td>spotify:track:65zFbHuyUdai6WFwtPAkix</td>\n      <td>https://api.spotify.com/v1/tracks/65zFbHuyUdai...</td>\n      <td>https://api.spotify.com/v1/audio-analysis/65zF...</td>\n      <td>168190</td>\n      <td>4</td>\n      <td>[background jazz]</td>\n      <td>Abisko</td>\n      <td>47</td>\n      <td>Norberg</td>\n      <td>Abisko</td>\n    </tr>\n    <tr>\n      <th>50</th>\n      <td>0.505</td>\n      <td>0.15000</td>\n      <td>10</td>\n      <td>-17.508</td>\n      <td>1</td>\n      <td>0.0335</td>\n      <td>0.972</td>\n      <td>0.836</td>\n      <td>0.1100</td>\n      <td>0.1690</td>\n      <td>...</td>\n      <td>spotify:track:6qxR6arAISIf7Mm2ynH4u1</td>\n      <td>https://api.spotify.com/v1/tracks/6qxR6arAISIf...</td>\n      <td>https://api.spotify.com/v1/audio-analysis/6qxR...</td>\n      <td>193775</td>\n      <td>4</td>\n      <td>[]</td>\n      <td>Relaxin' at Camarillo</td>\n      <td>46</td>\n      <td>William Carter Band</td>\n      <td>Peace</td>\n    </tr>\n    <tr>\n      <th>51</th>\n      <td>0.577</td>\n      <td>0.05590</td>\n      <td>7</td>\n      <td>-22.203</td>\n      <td>1</td>\n      <td>0.0518</td>\n      <td>0.984</td>\n      <td>0.957</td>\n      <td>0.0845</td>\n      <td>0.2140</td>\n      <td>...</td>\n      <td>spotify:track:5L9Mumh1rUDSIaHPzLpVhj</td>\n      <td>https://api.spotify.com/v1/tracks/5L9Mumh1rUDS...</td>\n      <td>https://api.spotify.com/v1/audio-analysis/5L9M...</td>\n      <td>236487</td>\n      <td>4</td>\n      <td>[]</td>\n      <td>Softly, as in a Morning Sunrise</td>\n      <td>39</td>\n      <td>Sal Ritter</td>\n      <td>I Can't Get Started</td>\n    </tr>\n    <tr>\n      <th>52</th>\n      <td>0.402</td>\n      <td>0.18100</td>\n      <td>0</td>\n      <td>-20.436</td>\n      <td>1</td>\n      <td>0.0369</td>\n      <td>0.827</td>\n      <td>0.899</td>\n      <td>0.0884</td>\n      <td>0.1320</td>\n      <td>...</td>\n      <td>spotify:track:2cwHHkydmUENV3FuNBCJzm</td>\n      <td>https://api.spotify.com/v1/tracks/2cwHHkydmUEN...</td>\n      <td>https://api.spotify.com/v1/audio-analysis/2cwH...</td>\n      <td>215742</td>\n      <td>4</td>\n      <td>[baroque, classical, early music, german baroque]</td>\n      <td>My Personal Favorites: The Jacques Loussier Tr...</td>\n      <td>31</td>\n      <td>Johann Sebastian Bach</td>\n      <td>Air on G String</td>\n    </tr>\n    <tr>\n      <th>53</th>\n      <td>0.441</td>\n      <td>0.30000</td>\n      <td>7</td>\n      <td>-18.911</td>\n      <td>0</td>\n      <td>0.0415</td>\n      <td>0.881</td>\n      <td>0.890</td>\n      <td>0.0988</td>\n      <td>0.1690</td>\n      <td>...</td>\n      <td>spotify:track:5Wlz87TeswJfxecSXHUETL</td>\n      <td>https://api.spotify.com/v1/tracks/5Wlz87TeswJf...</td>\n      <td>https://api.spotify.com/v1/audio-analysis/5Wlz...</td>\n      <td>407498</td>\n      <td>3</td>\n      <td>[baroque, classical, early music, german baroque]</td>\n      <td>My Personal Favorites: The Jacques Loussier Tr...</td>\n      <td>19</td>\n      <td>Johann Sebastian Bach</td>\n      <td>Pastorale in C minor</td>\n    </tr>\n    <tr>\n      <th>54</th>\n      <td>0.371</td>\n      <td>0.13600</td>\n      <td>2</td>\n      <td>-21.602</td>\n      <td>0</td>\n      <td>0.0425</td>\n      <td>0.915</td>\n      <td>0.938</td>\n      <td>0.1100</td>\n      <td>0.0358</td>\n      <td>...</td>\n      <td>spotify:track:5Nfkl13MT2eD9W7XRwrOyQ</td>\n      <td>https://api.spotify.com/v1/tracks/5Nfkl13MT2eD...</td>\n      <td>https://api.spotify.com/v1/audio-analysis/5Nfk...</td>\n      <td>329013</td>\n      <td>4</td>\n      <td>[baroque, classical, early music, german baroque]</td>\n      <td>My Personal Favorites: The Jacques Loussier Tr...</td>\n      <td>15</td>\n      <td>Johann Sebastian Bach</td>\n      <td>Italian Concerto: Andante</td>\n    </tr>\n    <tr>\n      <th>55</th>\n      <td>0.431</td>\n      <td>0.04340</td>\n      <td>11</td>\n      <td>-22.086</td>\n      <td>1</td>\n      <td>0.0310</td>\n      <td>0.934</td>\n      <td>0.253</td>\n      <td>0.1120</td>\n      <td>0.0753</td>\n      <td>...</td>\n      <td>spotify:track:1IxO95D87hSIyA20XTLCiU</td>\n      <td>https://api.spotify.com/v1/tracks/1IxO95D87hSI...</td>\n      <td>https://api.spotify.com/v1/audio-analysis/1IxO...</td>\n      <td>185459</td>\n      <td>4</td>\n      <td>[background jazz]</td>\n      <td>Postcards</td>\n      <td>53</td>\n      <td>Greydon Park Band</td>\n      <td>Postcards</td>\n    </tr>\n  </tbody>\n</table>\n<p>56 rows × 23 columns</p>\n</div>"
     },
     "metadata": {}
    }
   ]
  },
  {
   "cell_type": "code",
   "metadata": {
    "cell_id": "e122335c063a4b0dbe50267fe985f57e",
    "tags": [],
    "deepnote_to_be_reexecuted": false,
    "source_hash": "231b5d18",
    "execution_start": 1651615746968,
    "execution_millis": 9806,
    "deepnote_cell_type": "code",
    "deepnote_cell_height": 1374
   },
   "source": "#Playlist2\ndfs = []\n\nfor x in audio_features2:\n    df = pd.DataFrame(x)\n    dfs.append(df)\n\nfinal_df2 = pd.concat(dfs, ignore_index=True)\n\n#add URI, track_name, main artist, name, popularity, genre, and album to final_df\n\nURIs = []\ntrack_names = []\nmain_artist = []\nname = []\npopularity = []\ngenre = []\nalbum = []\n\nfor k in sp.playlist_tracks(playlist_URI2)[\"items\"]:\n    URIs.append(k[\"track\"][\"uri\"])\n    track_names.append(k[\"track\"][\"name\"])\n    main_artist.append(k[\"track\"][\"artists\"][0][\"uri\"])\n    name.append(k[\"track\"][\"artists\"][0][\"name\"]) #arist URL\n    album.append(k[\"track\"][\"album\"][\"name\"])\n    popularity.append(k[\"track\"][\"popularity\"])\n\n#artist_info & genre\nartist_info = []\nfor r in range(len(main_artist)):\n    artist_info.append(sp.artist(main_artist[r]))\n\nfor y in artist_info:\n    genre.append(y[\"genres\"])\n\n#add genre, album, popularity, name, main_artist, track_names, and URIs to final_df for more context\n\nfinal_df2['genre'] = genre\nfinal_df2['album'] = album\nfinal_df2['popularity'] = popularity\nfinal_df2['name'] = name\nfinal_df2['track_name'] = track_names\nfinal_df2.to_csv('final_df2.csv')\nfinal_df2",
   "execution_count": null,
   "outputs": [
    {
     "output_type": "execute_result",
     "execution_count": 32,
     "data": {
      "application/vnd.deepnote.dataframe.v3+json": {
       "column_count": 23,
       "row_count": 100,
       "columns": [
        {
         "name": "danceability",
         "dtype": "float64",
         "stats": {
          "unique_count": 92,
          "nan_count": 0,
          "min": "0.211",
          "max": "0.824",
          "histogram": [
           {
            "bin_start": 0.211,
            "bin_end": 0.2723,
            "count": 3
           },
           {
            "bin_start": 0.2723,
            "bin_end": 0.3336,
            "count": 7
           },
           {
            "bin_start": 0.3336,
            "bin_end": 0.39490000000000003,
            "count": 8
           },
           {
            "bin_start": 0.39490000000000003,
            "bin_end": 0.4562,
            "count": 17
           },
           {
            "bin_start": 0.4562,
            "bin_end": 0.5175,
            "count": 21
           },
           {
            "bin_start": 0.5175,
            "bin_end": 0.5788,
            "count": 22
           },
           {
            "bin_start": 0.5788,
            "bin_end": 0.6401,
            "count": 6
           },
           {
            "bin_start": 0.6401,
            "bin_end": 0.7014,
            "count": 12
           },
           {
            "bin_start": 0.7014,
            "bin_end": 0.7626999999999999,
            "count": 2
           },
           {
            "bin_start": 0.7626999999999999,
            "bin_end": 0.824,
            "count": 2
           }
          ]
         }
        },
        {
         "name": "energy",
         "dtype": "float64",
         "stats": {
          "unique_count": 89,
          "nan_count": 0,
          "min": "0.238",
          "max": "0.877",
          "histogram": [
           {
            "bin_start": 0.238,
            "bin_end": 0.3019,
            "count": 5
           },
           {
            "bin_start": 0.3019,
            "bin_end": 0.3658,
            "count": 11
           },
           {
            "bin_start": 0.3658,
            "bin_end": 0.42969999999999997,
            "count": 16
           },
           {
            "bin_start": 0.42969999999999997,
            "bin_end": 0.4936,
            "count": 18
           },
           {
            "bin_start": 0.4936,
            "bin_end": 0.5575,
            "count": 18
           },
           {
            "bin_start": 0.5575,
            "bin_end": 0.6214,
            "count": 17
           },
           {
            "bin_start": 0.6214,
            "bin_end": 0.6853,
            "count": 6
           },
           {
            "bin_start": 0.6853,
            "bin_end": 0.7492,
            "count": 5
           },
           {
            "bin_start": 0.7492,
            "bin_end": 0.8130999999999999,
            "count": 2
           },
           {
            "bin_start": 0.8130999999999999,
            "bin_end": 0.877,
            "count": 2
           }
          ]
         }
        },
        {
         "name": "key",
         "dtype": "int64",
         "stats": {
          "unique_count": 12,
          "nan_count": 0,
          "min": "0",
          "max": "11",
          "histogram": [
           {
            "bin_start": 0,
            "bin_end": 1.1,
            "count": 15
           },
           {
            "bin_start": 1.1,
            "bin_end": 2.2,
            "count": 8
           },
           {
            "bin_start": 2.2,
            "bin_end": 3.3000000000000003,
            "count": 12
           },
           {
            "bin_start": 3.3000000000000003,
            "bin_end": 4.4,
            "count": 5
           },
           {
            "bin_start": 4.4,
            "bin_end": 5.5,
            "count": 10
           },
           {
            "bin_start": 5.5,
            "bin_end": 6.6000000000000005,
            "count": 8
           },
           {
            "bin_start": 6.6000000000000005,
            "bin_end": 7.700000000000001,
            "count": 7
           },
           {
            "bin_start": 7.700000000000001,
            "bin_end": 8.8,
            "count": 7
           },
           {
            "bin_start": 8.8,
            "bin_end": 9.9,
            "count": 8
           },
           {
            "bin_start": 9.9,
            "bin_end": 11,
            "count": 20
           }
          ]
         }
        },
        {
         "name": "loudness",
         "dtype": "float64",
         "stats": {
          "unique_count": 98,
          "nan_count": 0,
          "min": "-13.271",
          "max": "-3.467",
          "histogram": [
           {
            "bin_start": -13.271,
            "bin_end": -12.290600000000001,
            "count": 1
           },
           {
            "bin_start": -12.290600000000001,
            "bin_end": -11.3102,
            "count": 2
           },
           {
            "bin_start": -11.3102,
            "bin_end": -10.3298,
            "count": 7
           },
           {
            "bin_start": -10.3298,
            "bin_end": -9.349400000000001,
            "count": 11
           },
           {
            "bin_start": -9.349400000000001,
            "bin_end": -8.369,
            "count": 12
           },
           {
            "bin_start": -8.369,
            "bin_end": -7.3886,
            "count": 20
           },
           {
            "bin_start": -7.3886,
            "bin_end": -6.408200000000001,
            "count": 21
           },
           {
            "bin_start": -6.408200000000001,
            "bin_end": -5.4278,
            "count": 13
           },
           {
            "bin_start": -5.4278,
            "bin_end": -4.4474,
            "count": 8
           },
           {
            "bin_start": -4.4474,
            "bin_end": -3.467,
            "count": 5
           }
          ]
         }
        },
        {
         "name": "mode",
         "dtype": "int64",
         "stats": {
          "unique_count": 2,
          "nan_count": 0,
          "min": "0",
          "max": "1",
          "histogram": [
           {
            "bin_start": 0,
            "bin_end": 0.1,
            "count": 19
           },
           {
            "bin_start": 0.1,
            "bin_end": 0.2,
            "count": 0
           },
           {
            "bin_start": 0.2,
            "bin_end": 0.30000000000000004,
            "count": 0
           },
           {
            "bin_start": 0.30000000000000004,
            "bin_end": 0.4,
            "count": 0
           },
           {
            "bin_start": 0.4,
            "bin_end": 0.5,
            "count": 0
           },
           {
            "bin_start": 0.5,
            "bin_end": 0.6000000000000001,
            "count": 0
           },
           {
            "bin_start": 0.6000000000000001,
            "bin_end": 0.7000000000000001,
            "count": 0
           },
           {
            "bin_start": 0.7000000000000001,
            "bin_end": 0.8,
            "count": 0
           },
           {
            "bin_start": 0.8,
            "bin_end": 0.9,
            "count": 0
           },
           {
            "bin_start": 0.9,
            "bin_end": 1,
            "count": 81
           }
          ]
         }
        },
        {
         "name": "speechiness",
         "dtype": "float64",
         "stats": {
          "unique_count": 74,
          "nan_count": 0,
          "min": "0.0222",
          "max": "0.18",
          "histogram": [
           {
            "bin_start": 0.0222,
            "bin_end": 0.03798,
            "count": 82
           },
           {
            "bin_start": 0.03798,
            "bin_end": 0.05376,
            "count": 10
           },
           {
            "bin_start": 0.05376,
            "bin_end": 0.06953999999999999,
            "count": 6
           },
           {
            "bin_start": 0.06953999999999999,
            "bin_end": 0.08532,
            "count": 0
           },
           {
            "bin_start": 0.08532,
            "bin_end": 0.1011,
            "count": 1
           },
           {
            "bin_start": 0.1011,
            "bin_end": 0.11687999999999998,
            "count": 0
           },
           {
            "bin_start": 0.11687999999999998,
            "bin_end": 0.13266,
            "count": 0
           },
           {
            "bin_start": 0.13266,
            "bin_end": 0.14844,
            "count": 0
           },
           {
            "bin_start": 0.14844,
            "bin_end": 0.16421999999999998,
            "count": 0
           },
           {
            "bin_start": 0.16421999999999998,
            "bin_end": 0.18,
            "count": 1
           }
          ]
         }
        },
        {
         "name": "acousticness",
         "dtype": "float64",
         "stats": {
          "unique_count": 97,
          "nan_count": 0,
          "min": "0.0119",
          "max": "0.948",
          "histogram": [
           {
            "bin_start": 0.0119,
            "bin_end": 0.10550999999999999,
            "count": 11
           },
           {
            "bin_start": 0.10550999999999999,
            "bin_end": 0.19912,
            "count": 3
           },
           {
            "bin_start": 0.19912,
            "bin_end": 0.29273000000000005,
            "count": 9
           },
           {
            "bin_start": 0.29273000000000005,
            "bin_end": 0.38634,
            "count": 10
           },
           {
            "bin_start": 0.38634,
            "bin_end": 0.47995,
            "count": 9
           },
           {
            "bin_start": 0.47995,
            "bin_end": 0.5735600000000001,
            "count": 12
           },
           {
            "bin_start": 0.5735600000000001,
            "bin_end": 0.66717,
            "count": 14
           },
           {
            "bin_start": 0.66717,
            "bin_end": 0.76078,
            "count": 11
           },
           {
            "bin_start": 0.76078,
            "bin_end": 0.85439,
            "count": 12
           },
           {
            "bin_start": 0.85439,
            "bin_end": 0.948,
            "count": 9
           }
          ]
         }
        },
        {
         "name": "instrumentalness",
         "dtype": "float64",
         "stats": {
          "unique_count": 35,
          "nan_count": 0,
          "min": "0.0",
          "max": "0.812",
          "histogram": [
           {
            "bin_start": 0,
            "bin_end": 0.08120000000000001,
            "count": 99
           },
           {
            "bin_start": 0.08120000000000001,
            "bin_end": 0.16240000000000002,
            "count": 0
           },
           {
            "bin_start": 0.16240000000000002,
            "bin_end": 0.24360000000000004,
            "count": 0
           },
           {
            "bin_start": 0.24360000000000004,
            "bin_end": 0.32480000000000003,
            "count": 0
           },
           {
            "bin_start": 0.32480000000000003,
            "bin_end": 0.406,
            "count": 0
           },
           {
            "bin_start": 0.406,
            "bin_end": 0.4872000000000001,
            "count": 0
           },
           {
            "bin_start": 0.4872000000000001,
            "bin_end": 0.5684,
            "count": 0
           },
           {
            "bin_start": 0.5684,
            "bin_end": 0.6496000000000001,
            "count": 0
           },
           {
            "bin_start": 0.6496000000000001,
            "bin_end": 0.7308000000000001,
            "count": 0
           },
           {
            "bin_start": 0.7308000000000001,
            "bin_end": 0.812,
            "count": 1
           }
          ]
         }
        },
        {
         "name": "liveness",
         "dtype": "float64",
         "stats": {
          "unique_count": 74,
          "nan_count": 0,
          "min": "0.0436",
          "max": "0.9",
          "histogram": [
           {
            "bin_start": 0.0436,
            "bin_end": 0.12924000000000002,
            "count": 67
           },
           {
            "bin_start": 0.12924000000000002,
            "bin_end": 0.21488000000000002,
            "count": 21
           },
           {
            "bin_start": 0.21488000000000002,
            "bin_end": 0.30052,
            "count": 4
           },
           {
            "bin_start": 0.30052,
            "bin_end": 0.38616000000000006,
            "count": 4
           },
           {
            "bin_start": 0.38616000000000006,
            "bin_end": 0.4718,
            "count": 2
           },
           {
            "bin_start": 0.4718,
            "bin_end": 0.55744,
            "count": 0
           },
           {
            "bin_start": 0.55744,
            "bin_end": 0.64308,
            "count": 0
           },
           {
            "bin_start": 0.64308,
            "bin_end": 0.72872,
            "count": 0
           },
           {
            "bin_start": 0.72872,
            "bin_end": 0.8143600000000001,
            "count": 1
           },
           {
            "bin_start": 0.8143600000000001,
            "bin_end": 0.9,
            "count": 1
           }
          ]
         }
        },
        {
         "name": "valence",
         "dtype": "float64",
         "stats": {
          "unique_count": 87,
          "nan_count": 0,
          "min": "0.085",
          "max": "0.795",
          "histogram": [
           {
            "bin_start": 0.085,
            "bin_end": 0.15600000000000003,
            "count": 11
           },
           {
            "bin_start": 0.15600000000000003,
            "bin_end": 0.22700000000000004,
            "count": 19
           },
           {
            "bin_start": 0.22700000000000004,
            "bin_end": 0.29800000000000004,
            "count": 21
           },
           {
            "bin_start": 0.29800000000000004,
            "bin_end": 0.36900000000000005,
            "count": 26
           },
           {
            "bin_start": 0.36900000000000005,
            "bin_end": 0.44000000000000006,
            "count": 11
           },
           {
            "bin_start": 0.44000000000000006,
            "bin_end": 0.511,
            "count": 5
           },
           {
            "bin_start": 0.511,
            "bin_end": 0.5820000000000001,
            "count": 5
           },
           {
            "bin_start": 0.5820000000000001,
            "bin_end": 0.653,
            "count": 1
           },
           {
            "bin_start": 0.653,
            "bin_end": 0.724,
            "count": 0
           },
           {
            "bin_start": 0.724,
            "bin_end": 0.795,
            "count": 1
           }
          ]
         }
        },
        {
         "name": "tempo",
         "dtype": "float64",
         "stats": {
          "unique_count": 100,
          "nan_count": 0,
          "min": "67.104",
          "max": "204.164",
          "histogram": [
           {
            "bin_start": 67.104,
            "bin_end": 80.81,
            "count": 11
           },
           {
            "bin_start": 80.81,
            "bin_end": 94.51599999999999,
            "count": 6
           },
           {
            "bin_start": 94.51599999999999,
            "bin_end": 108.222,
            "count": 5
           },
           {
            "bin_start": 108.222,
            "bin_end": 121.928,
            "count": 8
           },
           {
            "bin_start": 121.928,
            "bin_end": 135.63400000000001,
            "count": 21
           },
           {
            "bin_start": 135.63400000000001,
            "bin_end": 149.33999999999997,
            "count": 24
           },
           {
            "bin_start": 149.33999999999997,
            "bin_end": 163.046,
            "count": 11
           },
           {
            "bin_start": 163.046,
            "bin_end": 176.752,
            "count": 8
           },
           {
            "bin_start": 176.752,
            "bin_end": 190.458,
            "count": 5
           },
           {
            "bin_start": 190.458,
            "bin_end": 204.164,
            "count": 1
           }
          ]
         }
        },
        {
         "name": "type",
         "dtype": "object",
         "stats": {
          "unique_count": 1,
          "nan_count": 0,
          "categories": [
           {
            "name": "audio_features",
            "count": 100
           }
          ]
         }
        },
        {
         "name": "id",
         "dtype": "object",
         "stats": {
          "unique_count": 100,
          "nan_count": 0,
          "categories": [
           {
            "name": "2IAumRplFr0Ns09kKgt2je",
            "count": 1
           },
           {
            "name": "09NpNi1RKNgCAvdRRugc33",
            "count": 1
           },
           {
            "name": "98 others",
            "count": 98
           }
          ]
         }
        },
        {
         "name": "uri",
         "dtype": "object",
         "stats": {
          "unique_count": 100,
          "nan_count": 0,
          "categories": [
           {
            "name": "spotify:track:2IAumRplFr0Ns09kKgt2je",
            "count": 1
           },
           {
            "name": "spotify:track:09NpNi1RKNgCAvdRRugc33",
            "count": 1
           },
           {
            "name": "98 others",
            "count": 98
           }
          ]
         }
        },
        {
         "name": "track_href",
         "dtype": "object",
         "stats": {
          "unique_count": 100,
          "nan_count": 0,
          "categories": [
           {
            "name": "https://api.spotify.com/v1/tracks/2IAumRplFr0Ns09kKgt2je",
            "count": 1
           },
           {
            "name": "https://api.spotify.com/v1/tracks/09NpNi1RKNgCAvdRRugc33",
            "count": 1
           },
           {
            "name": "98 others",
            "count": 98
           }
          ]
         }
        },
        {
         "name": "analysis_url",
         "dtype": "object",
         "stats": {
          "unique_count": 100,
          "nan_count": 0,
          "categories": [
           {
            "name": "https://api.spotify.com/v1/audio-analysis/2IAumRplFr0Ns09kKgt2je",
            "count": 1
           },
           {
            "name": "https://api.spotify.com/v1/audio-analysis/09NpNi1RKNgCAvdRRugc33",
            "count": 1
           },
           {
            "name": "98 others",
            "count": 98
           }
          ]
         }
        },
        {
         "name": "duration_ms",
         "dtype": "int64",
         "stats": {
          "unique_count": 99,
          "nan_count": 0,
          "min": "147617",
          "max": "369867",
          "histogram": [
           {
            "bin_start": 147617,
            "bin_end": 169842,
            "count": 1
           },
           {
            "bin_start": 169842,
            "bin_end": 192067,
            "count": 4
           },
           {
            "bin_start": 192067,
            "bin_end": 214292,
            "count": 4
           },
           {
            "bin_start": 214292,
            "bin_end": 236517,
            "count": 15
           },
           {
            "bin_start": 236517,
            "bin_end": 258742,
            "count": 17
           },
           {
            "bin_start": 258742,
            "bin_end": 280967,
            "count": 22
           },
           {
            "bin_start": 280967,
            "bin_end": 303192,
            "count": 21
           },
           {
            "bin_start": 303192,
            "bin_end": 325417,
            "count": 7
           },
           {
            "bin_start": 325417,
            "bin_end": 347642,
            "count": 5
           },
           {
            "bin_start": 347642,
            "bin_end": 369867,
            "count": 4
           }
          ]
         }
        },
        {
         "name": "time_signature",
         "dtype": "int64",
         "stats": {
          "unique_count": 2,
          "nan_count": 0,
          "min": "3",
          "max": "4",
          "histogram": [
           {
            "bin_start": 3,
            "bin_end": 3.1,
            "count": 3
           },
           {
            "bin_start": 3.1,
            "bin_end": 3.2,
            "count": 0
           },
           {
            "bin_start": 3.2,
            "bin_end": 3.3,
            "count": 0
           },
           {
            "bin_start": 3.3,
            "bin_end": 3.4,
            "count": 0
           },
           {
            "bin_start": 3.4,
            "bin_end": 3.5,
            "count": 0
           },
           {
            "bin_start": 3.5,
            "bin_end": 3.6,
            "count": 0
           },
           {
            "bin_start": 3.6,
            "bin_end": 3.7,
            "count": 0
           },
           {
            "bin_start": 3.7,
            "bin_end": 3.8,
            "count": 0
           },
           {
            "bin_start": 3.8,
            "bin_end": 3.9,
            "count": 0
           },
           {
            "bin_start": 3.9,
            "bin_end": 4,
            "count": 97
           }
          ]
         }
        },
        {
         "name": "genre",
         "dtype": "object",
         "stats": {
          "unique_count": 100,
          "nan_count": 0,
          "categories": [
           {
            "name": "['mandopop', 'taiwan pop']",
            "count": 30
           },
           {
            "name": "['c-pop', 'mandopop', 'taiwan pop', 'zhongguo feng']",
            "count": 18
           },
           {
            "name": "19 others",
            "count": 52
           }
          ]
         }
        },
        {
         "name": "album",
         "dtype": "object",
         "stats": {
          "unique_count": 80,
          "nan_count": 0,
          "categories": [
           {
            "name": "11月的蕭邦",
            "count": 4
           },
           {
            "name": "The Untamed",
            "count": 3
           },
           {
            "name": "78 others",
            "count": 93
           }
          ]
         }
        },
        {
         "name": "popularity",
         "dtype": "int64",
         "stats": {
          "unique_count": 38,
          "nan_count": 0,
          "min": "0",
          "max": "61",
          "histogram": [
           {
            "bin_start": 0,
            "bin_end": 6.1,
            "count": 3
           },
           {
            "bin_start": 6.1,
            "bin_end": 12.2,
            "count": 1
           },
           {
            "bin_start": 12.2,
            "bin_end": 18.299999999999997,
            "count": 2
           },
           {
            "bin_start": 18.299999999999997,
            "bin_end": 24.4,
            "count": 3
           },
           {
            "bin_start": 24.4,
            "bin_end": 30.5,
            "count": 5
           },
           {
            "bin_start": 30.5,
            "bin_end": 36.599999999999994,
            "count": 6
           },
           {
            "bin_start": 36.599999999999994,
            "bin_end": 42.699999999999996,
            "count": 15
           },
           {
            "bin_start": 42.699999999999996,
            "bin_end": 48.8,
            "count": 18
           },
           {
            "bin_start": 48.8,
            "bin_end": 54.9,
            "count": 24
           },
           {
            "bin_start": 54.9,
            "bin_end": 61,
            "count": 23
           }
          ]
         }
        },
        {
         "name": "name",
         "dtype": "object",
         "stats": {
          "unique_count": 49,
          "nan_count": 0,
          "categories": [
           {
            "name": "Jay Chou",
            "count": 18
           },
           {
            "name": "Eric Chou",
            "count": 8
           },
           {
            "name": "47 others",
            "count": 74
           }
          ]
         }
        },
        {
         "name": "track_name",
         "dtype": "object",
         "stats": {
          "unique_count": 99,
          "nan_count": 0,
          "categories": [
           {
            "name": "玫瑰少年",
            "count": 2
           },
           {
            "name": "怎麼了",
            "count": 1
           },
           {
            "name": "97 others",
            "count": 97
           }
          ]
         }
        },
        {
         "name": "_deepnote_index_column",
         "dtype": "int64"
        }
       ],
       "rows": [
        {
         "danceability": 0.496,
         "energy": 0.515,
         "key": 9,
         "loudness": -9.52,
         "mode": 1,
         "speechiness": 0.0352,
         "acousticness": 0.701,
         "instrumentalness": 0.000168,
         "liveness": 0.155,
         "valence": 0.263,
         "tempo": 140.051,
         "type": "audio_features",
         "id": "2IAumRplFr0Ns09kKgt2je",
         "uri": "spotify:track:2IAumRplFr0Ns09kKgt2je",
         "track_href": "https://api.spotify.com/v1/tracks/2IAumRplFr0Ns09kKgt2je",
         "analysis_url": "https://api.spotify.com/v1/audio-analysis/2IAumRplFr0Ns09kKgt2je",
         "duration_ms": 321040,
         "time_signature": 4,
         "genre": "['mandopop']",
         "album": "終於了解自由",
         "popularity": 54,
         "name": "Eric Chou",
         "track_name": "怎麼了",
         "_deepnote_index_column": 0
        },
        {
         "danceability": 0.559,
         "energy": 0.505,
         "key": 6,
         "loudness": -7.012,
         "mode": 1,
         "speechiness": 0.0359,
         "acousticness": 0.67,
         "instrumentalness": 0,
         "liveness": 0.0932,
         "valence": 0.221,
         "tempo": 146.012,
         "type": "audio_features",
         "id": "09NpNi1RKNgCAvdRRugc33",
         "uri": "spotify:track:09NpNi1RKNgCAvdRRugc33",
         "track_href": "https://api.spotify.com/v1/tracks/09NpNi1RKNgCAvdRRugc33",
         "analysis_url": "https://api.spotify.com/v1/audio-analysis/09NpNi1RKNgCAvdRRugc33",
         "duration_ms": 349133,
         "time_signature": 4,
         "genre": "['mandopop', 'taiwan pop']",
         "album": "黏黏",
         "popularity": 26,
         "name": "Cyndi Wang",
         "track_name": "下一頁的我",
         "_deepnote_index_column": 1
        },
        {
         "danceability": 0.658,
         "energy": 0.24,
         "key": 11,
         "loudness": -8.308,
         "mode": 1,
         "speechiness": 0.0311,
         "acousticness": 0.928,
         "instrumentalness": 0,
         "liveness": 0.0747,
         "valence": 0.238,
         "tempo": 93.964,
         "type": "audio_features",
         "id": "5uj0henHh9OgeOViRZGPiG",
         "uri": "spotify:track:5uj0henHh9OgeOViRZGPiG",
         "track_href": "https://api.spotify.com/v1/tracks/5uj0henHh9OgeOViRZGPiG",
         "analysis_url": "https://api.spotify.com/v1/audio-analysis/5uj0henHh9OgeOViRZGPiG",
         "duration_ms": 183867,
         "time_signature": 4,
         "genre": "['mandopop', 'taiwan pop']",
         "album": "好難得",
         "popularity": 36,
         "name": "Della",
         "track_name": "好難得",
         "_deepnote_index_column": 2
        },
        {
         "danceability": 0.512,
         "energy": 0.35,
         "key": 10,
         "loudness": -11.843,
         "mode": 1,
         "speechiness": 0.0311,
         "acousticness": 0.478,
         "instrumentalness": 0.00000115,
         "liveness": 0.0855,
         "valence": 0.343,
         "tempo": 152.023,
         "type": "audio_features",
         "id": "56wVfJKtnwlSZtC4NVgIrf",
         "uri": "spotify:track:56wVfJKtnwlSZtC4NVgIrf",
         "track_href": "https://api.spotify.com/v1/tracks/56wVfJKtnwlSZtC4NVgIrf",
         "analysis_url": "https://api.spotify.com/v1/audio-analysis/56wVfJKtnwlSZtC4NVgIrf",
         "duration_ms": 222333,
         "time_signature": 4,
         "genre": "['c-pop', 'mandopop', 'taiwan pop', 'zhongguo feng']",
         "album": "說好不哭",
         "popularity": 59,
         "name": "Jay Chou",
         "track_name": "說好不哭",
         "_deepnote_index_column": 3
        },
        {
         "danceability": 0.591,
         "energy": 0.595,
         "key": 11,
         "loudness": -9.984,
         "mode": 0,
         "speechiness": 0.0653,
         "acousticness": 0.641,
         "instrumentalness": 0,
         "liveness": 0.161,
         "valence": 0.611,
         "tempo": 77.009,
         "type": "audio_features",
         "id": "3oTmOv9KjIcOfRTfGH5c62",
         "uri": "spotify:track:3oTmOv9KjIcOfRTfGH5c62",
         "track_href": "https://api.spotify.com/v1/tracks/3oTmOv9KjIcOfRTfGH5c62",
         "analysis_url": "https://api.spotify.com/v1/audio-analysis/3oTmOv9KjIcOfRTfGH5c62",
         "duration_ms": 239286,
         "time_signature": 4,
         "genre": "['mandopop', 'taiwan pop']",
         "album": "《狼殿下》影視原聲帶",
         "popularity": 44,
         "name": "Jolin Tsai",
         "track_name": "我是誰 (電視劇《狼殿下》主題曲)",
         "_deepnote_index_column": 4
        },
        {
         "danceability": 0.373,
         "energy": 0.32,
         "key": 6,
         "loudness": -8.593,
         "mode": 1,
         "speechiness": 0.0316,
         "acousticness": 0.83,
         "instrumentalness": 0,
         "liveness": 0.179,
         "valence": 0.357,
         "tempo": 73.775,
         "type": "audio_features",
         "id": "4m4e3vIghV2QkHuOf83M7N",
         "uri": "spotify:track:4m4e3vIghV2QkHuOf83M7N",
         "track_href": "https://api.spotify.com/v1/tracks/4m4e3vIghV2QkHuOf83M7N",
         "analysis_url": "https://api.spotify.com/v1/audio-analysis/4m4e3vIghV2QkHuOf83M7N",
         "duration_ms": 285831,
         "time_signature": 4,
         "genre": "['c-pop', 'malaysian mandopop', 'mandopop']",
         "album": "絲路",
         "popularity": 52,
         "name": "Fish Leong",
         "track_name": "可惜不是你",
         "_deepnote_index_column": 5
        },
        {
         "danceability": 0.462,
         "energy": 0.465,
         "key": 2,
         "loudness": -6.485,
         "mode": 1,
         "speechiness": 0.0262,
         "acousticness": 0.226,
         "instrumentalness": 0.0000077,
         "liveness": 0.196,
         "valence": 0.409,
         "tempo": 140.112,
         "type": "audio_features",
         "id": "0IAgufC1FlOg1nZMmRZxRr",
         "uri": "spotify:track:0IAgufC1FlOg1nZMmRZxRr",
         "track_href": "https://api.spotify.com/v1/tracks/0IAgufC1FlOg1nZMmRZxRr",
         "analysis_url": "https://api.spotify.com/v1/audio-analysis/0IAgufC1FlOg1nZMmRZxRr",
         "duration_ms": 265867,
         "time_signature": 4,
         "genre": "['mandopop', 'taiwan pop']",
         "album": "後 青春期的詩",
         "popularity": 56,
         "name": "Mayday",
         "track_name": "突然好想你",
         "_deepnote_index_column": 6
        },
        {
         "danceability": 0.335,
         "energy": 0.326,
         "key": 0,
         "loudness": -7.223,
         "mode": 1,
         "speechiness": 0.0331,
         "acousticness": 0.948,
         "instrumentalness": 0,
         "liveness": 0.0619,
         "valence": 0.326,
         "tempo": 169.267,
         "type": "audio_features",
         "id": "632VyMrvhsHIsO4zq9khts",
         "uri": "spotify:track:632VyMrvhsHIsO4zq9khts",
         "track_href": "https://api.spotify.com/v1/tracks/632VyMrvhsHIsO4zq9khts",
         "analysis_url": "https://api.spotify.com/v1/audio-analysis/632VyMrvhsHIsO4zq9khts",
         "duration_ms": 318499,
         "time_signature": 4,
         "genre": "['mandopop', 'singaporean mandopop', 'singaporean pop']",
         "album": "她說",
         "popularity": 57,
         "name": "JJ Lin",
         "track_name": "她說",
         "_deepnote_index_column": 7
        },
        {
         "danceability": 0.675,
         "energy": 0.583,
         "key": 0,
         "loudness": -10.044,
         "mode": 1,
         "speechiness": 0.0297,
         "acousticness": 0.445,
         "instrumentalness": 0.000422,
         "liveness": 0.0834,
         "valence": 0.399,
         "tempo": 152.005,
         "type": "audio_features",
         "id": "6n7WFheyDAM4aqZ788JiA5",
         "uri": "spotify:track:6n7WFheyDAM4aqZ788JiA5",
         "track_href": "https://api.spotify.com/v1/tracks/6n7WFheyDAM4aqZ788JiA5",
         "analysis_url": "https://api.spotify.com/v1/audio-analysis/6n7WFheyDAM4aqZ788JiA5",
         "duration_ms": 228170,
         "time_signature": 4,
         "genre": "['chinese singer-songwriter', 'mainland chinese pop', 'mandopop']",
         "album": "汪苏泷歌曲合辑, Vol. 2",
         "popularity": 11,
         "name": "Silence Wang",
         "track_name": "我也不知道",
         "_deepnote_index_column": 8
        },
        {
         "danceability": 0.279,
         "energy": 0.363,
         "key": 5,
         "loudness": -10.775,
         "mode": 1,
         "speechiness": 0.0308,
         "acousticness": 0.915,
         "instrumentalness": 0.00173,
         "liveness": 0.132,
         "valence": 0.085,
         "tempo": 72.567,
         "type": "audio_features",
         "id": "5cLC6HJUMx7lgz3m7x7UtP",
         "uri": "spotify:track:5cLC6HJUMx7lgz3m7x7UtP",
         "track_href": "https://api.spotify.com/v1/tracks/5cLC6HJUMx7lgz3m7x7UtP",
         "analysis_url": "https://api.spotify.com/v1/audio-analysis/5cLC6HJUMx7lgz3m7x7UtP",
         "duration_ms": 234033,
         "time_signature": 4,
         "genre": "['chinese indie', 'taiwan indie', 'taiwan pop']",
         "album": "夜长梦少",
         "popularity": 2,
         "name": "傻子與白痴",
         "track_name": "5:10a.m.",
         "_deepnote_index_column": 9
        }
       ]
      },
      "text/plain": "    danceability  energy  key  loudness  mode  speechiness  acousticness  \\\n0          0.496   0.515    9    -9.520     1       0.0352        0.7010   \n1          0.559   0.505    6    -7.012     1       0.0359        0.6700   \n2          0.658   0.240   11    -8.308     1       0.0311        0.9280   \n3          0.512   0.350   10   -11.843     1       0.0311        0.4780   \n4          0.591   0.595   11    -9.984     0       0.0653        0.6410   \n..           ...     ...  ...       ...   ...          ...           ...   \n95         0.767   0.625   11    -7.430     0       0.1800        0.0264   \n96         0.824   0.877    8    -4.757     0       0.0447        0.0196   \n97         0.550   0.849    2    -3.961     1       0.0565        0.5100   \n98         0.426   0.487    2    -5.276     1       0.0361        0.7850   \n99         0.595   0.452    9    -7.284     1       0.0291        0.2320   \n\n    instrumentalness  liveness  valence  ...  \\\n0           0.000168    0.1550    0.263  ...   \n1           0.000000    0.0932    0.221  ...   \n2           0.000000    0.0747    0.238  ...   \n3           0.000001    0.0855    0.343  ...   \n4           0.000000    0.1610    0.611  ...   \n..               ...       ...      ...  ...   \n95          0.000002    0.1220    0.580  ...   \n96          0.000311    0.1400    0.316  ...   \n97          0.000000    0.0436    0.795  ...   \n98          0.000000    0.2590    0.280  ...   \n99          0.000082    0.7960    0.309  ...   \n\n                                     uri  \\\n0   spotify:track:2IAumRplFr0Ns09kKgt2je   \n1   spotify:track:09NpNi1RKNgCAvdRRugc33   \n2   spotify:track:5uj0henHh9OgeOViRZGPiG   \n3   spotify:track:56wVfJKtnwlSZtC4NVgIrf   \n4   spotify:track:3oTmOv9KjIcOfRTfGH5c62   \n..                                   ...   \n95  spotify:track:0cONHWTIfgEpAuVwbbwGgc   \n96  spotify:track:18ImQnN3yZxL6vDQiOvata   \n97  spotify:track:0QxlXlQZD78tjivjAtQglz   \n98  spotify:track:5kZDxLcbqglZ2yYXg4Mkjc   \n99  spotify:track:0N0N9YdBHJSdffySq2J2eO   \n\n                                           track_href  \\\n0   https://api.spotify.com/v1/tracks/2IAumRplFr0N...   \n1   https://api.spotify.com/v1/tracks/09NpNi1RKNgC...   \n2   https://api.spotify.com/v1/tracks/5uj0henHh9Og...   \n3   https://api.spotify.com/v1/tracks/56wVfJKtnwlS...   \n4   https://api.spotify.com/v1/tracks/3oTmOv9KjIcO...   \n..                                                ...   \n95  https://api.spotify.com/v1/tracks/0cONHWTIfgEp...   \n96  https://api.spotify.com/v1/tracks/18ImQnN3yZxL...   \n97  https://api.spotify.com/v1/tracks/0QxlXlQZD78t...   \n98  https://api.spotify.com/v1/tracks/5kZDxLcbqglZ...   \n99  https://api.spotify.com/v1/tracks/0N0N9YdBHJSd...   \n\n                                         analysis_url duration_ms  \\\n0   https://api.spotify.com/v1/audio-analysis/2IAu...      321040   \n1   https://api.spotify.com/v1/audio-analysis/09Np...      349133   \n2   https://api.spotify.com/v1/audio-analysis/5uj0...      183867   \n3   https://api.spotify.com/v1/audio-analysis/56wV...      222333   \n4   https://api.spotify.com/v1/audio-analysis/3oTm...      239286   \n..                                                ...         ...   \n95  https://api.spotify.com/v1/audio-analysis/0cON...      182344   \n96  https://api.spotify.com/v1/audio-analysis/18Im...      193360   \n97  https://api.spotify.com/v1/audio-analysis/0Qxl...      268453   \n98  https://api.spotify.com/v1/audio-analysis/5kZD...      244470   \n99  https://api.spotify.com/v1/audio-analysis/0N0N...      285860   \n\n   time_signature                                              genre  \\\n0               4                                         [mandopop]   \n1               4                             [mandopop, taiwan pop]   \n2               4                             [mandopop, taiwan pop]   \n3               4       [c-pop, mandopop, taiwan pop, zhongguo feng]   \n4               4                             [mandopop, taiwan pop]   \n..            ...                                                ...   \n95              4                             [mandopop, taiwan pop]   \n96              4                             [mandopop, taiwan pop]   \n97              4              [c-pop, malaysian mandopop, mandopop]   \n98              4  [mandopop, singaporean mandopop, singaporean pop]   \n99              4                                                 []   \n\n                      album  popularity        name         track_name  \n0                    終於了解自由          54   Eric Chou                怎麼了  \n1                        黏黏          26  Cyndi Wang              下一頁的我  \n2                       好難得          36       Della                好難得  \n3                      說好不哭          59    Jay Chou               說好不哭  \n4                《狼殿下》影視原聲帶          44  Jolin Tsai  我是誰 (電視劇《狼殿下》主題曲)  \n..                      ...         ...         ...                ...  \n95              Ugly Beauty          47  Jolin Tsai                怪美的  \n96                        呸          44  Jolin Tsai             Play我呸  \n97  現在開始我愛你[戀愛的力量][下集]新歌+精選          20  Fish Leong               沒有如果  \n98                      學不會          58      JJ Lin           那些你很冒險的夢  \n99             稍息立正我愛你電視原聲帶          27        Tank              給我你的愛  \n\n[100 rows x 23 columns]",
      "text/html": "<div>\n<style scoped>\n    .dataframe tbody tr th:only-of-type {\n        vertical-align: middle;\n    }\n\n    .dataframe tbody tr th {\n        vertical-align: top;\n    }\n\n    .dataframe thead th {\n        text-align: right;\n    }\n</style>\n<table border=\"1\" class=\"dataframe\">\n  <thead>\n    <tr style=\"text-align: right;\">\n      <th></th>\n      <th>danceability</th>\n      <th>energy</th>\n      <th>key</th>\n      <th>loudness</th>\n      <th>mode</th>\n      <th>speechiness</th>\n      <th>acousticness</th>\n      <th>instrumentalness</th>\n      <th>liveness</th>\n      <th>valence</th>\n      <th>...</th>\n      <th>uri</th>\n      <th>track_href</th>\n      <th>analysis_url</th>\n      <th>duration_ms</th>\n      <th>time_signature</th>\n      <th>genre</th>\n      <th>album</th>\n      <th>popularity</th>\n      <th>name</th>\n      <th>track_name</th>\n    </tr>\n  </thead>\n  <tbody>\n    <tr>\n      <th>0</th>\n      <td>0.496</td>\n      <td>0.515</td>\n      <td>9</td>\n      <td>-9.520</td>\n      <td>1</td>\n      <td>0.0352</td>\n      <td>0.7010</td>\n      <td>0.000168</td>\n      <td>0.1550</td>\n      <td>0.263</td>\n      <td>...</td>\n      <td>spotify:track:2IAumRplFr0Ns09kKgt2je</td>\n      <td>https://api.spotify.com/v1/tracks/2IAumRplFr0N...</td>\n      <td>https://api.spotify.com/v1/audio-analysis/2IAu...</td>\n      <td>321040</td>\n      <td>4</td>\n      <td>[mandopop]</td>\n      <td>終於了解自由</td>\n      <td>54</td>\n      <td>Eric Chou</td>\n      <td>怎麼了</td>\n    </tr>\n    <tr>\n      <th>1</th>\n      <td>0.559</td>\n      <td>0.505</td>\n      <td>6</td>\n      <td>-7.012</td>\n      <td>1</td>\n      <td>0.0359</td>\n      <td>0.6700</td>\n      <td>0.000000</td>\n      <td>0.0932</td>\n      <td>0.221</td>\n      <td>...</td>\n      <td>spotify:track:09NpNi1RKNgCAvdRRugc33</td>\n      <td>https://api.spotify.com/v1/tracks/09NpNi1RKNgC...</td>\n      <td>https://api.spotify.com/v1/audio-analysis/09Np...</td>\n      <td>349133</td>\n      <td>4</td>\n      <td>[mandopop, taiwan pop]</td>\n      <td>黏黏</td>\n      <td>26</td>\n      <td>Cyndi Wang</td>\n      <td>下一頁的我</td>\n    </tr>\n    <tr>\n      <th>2</th>\n      <td>0.658</td>\n      <td>0.240</td>\n      <td>11</td>\n      <td>-8.308</td>\n      <td>1</td>\n      <td>0.0311</td>\n      <td>0.9280</td>\n      <td>0.000000</td>\n      <td>0.0747</td>\n      <td>0.238</td>\n      <td>...</td>\n      <td>spotify:track:5uj0henHh9OgeOViRZGPiG</td>\n      <td>https://api.spotify.com/v1/tracks/5uj0henHh9Og...</td>\n      <td>https://api.spotify.com/v1/audio-analysis/5uj0...</td>\n      <td>183867</td>\n      <td>4</td>\n      <td>[mandopop, taiwan pop]</td>\n      <td>好難得</td>\n      <td>36</td>\n      <td>Della</td>\n      <td>好難得</td>\n    </tr>\n    <tr>\n      <th>3</th>\n      <td>0.512</td>\n      <td>0.350</td>\n      <td>10</td>\n      <td>-11.843</td>\n      <td>1</td>\n      <td>0.0311</td>\n      <td>0.4780</td>\n      <td>0.000001</td>\n      <td>0.0855</td>\n      <td>0.343</td>\n      <td>...</td>\n      <td>spotify:track:56wVfJKtnwlSZtC4NVgIrf</td>\n      <td>https://api.spotify.com/v1/tracks/56wVfJKtnwlS...</td>\n      <td>https://api.spotify.com/v1/audio-analysis/56wV...</td>\n      <td>222333</td>\n      <td>4</td>\n      <td>[c-pop, mandopop, taiwan pop, zhongguo feng]</td>\n      <td>說好不哭</td>\n      <td>59</td>\n      <td>Jay Chou</td>\n      <td>說好不哭</td>\n    </tr>\n    <tr>\n      <th>4</th>\n      <td>0.591</td>\n      <td>0.595</td>\n      <td>11</td>\n      <td>-9.984</td>\n      <td>0</td>\n      <td>0.0653</td>\n      <td>0.6410</td>\n      <td>0.000000</td>\n      <td>0.1610</td>\n      <td>0.611</td>\n      <td>...</td>\n      <td>spotify:track:3oTmOv9KjIcOfRTfGH5c62</td>\n      <td>https://api.spotify.com/v1/tracks/3oTmOv9KjIcO...</td>\n      <td>https://api.spotify.com/v1/audio-analysis/3oTm...</td>\n      <td>239286</td>\n      <td>4</td>\n      <td>[mandopop, taiwan pop]</td>\n      <td>《狼殿下》影視原聲帶</td>\n      <td>44</td>\n      <td>Jolin Tsai</td>\n      <td>我是誰 (電視劇《狼殿下》主題曲)</td>\n    </tr>\n    <tr>\n      <th>...</th>\n      <td>...</td>\n      <td>...</td>\n      <td>...</td>\n      <td>...</td>\n      <td>...</td>\n      <td>...</td>\n      <td>...</td>\n      <td>...</td>\n      <td>...</td>\n      <td>...</td>\n      <td>...</td>\n      <td>...</td>\n      <td>...</td>\n      <td>...</td>\n      <td>...</td>\n      <td>...</td>\n      <td>...</td>\n      <td>...</td>\n      <td>...</td>\n      <td>...</td>\n      <td>...</td>\n    </tr>\n    <tr>\n      <th>95</th>\n      <td>0.767</td>\n      <td>0.625</td>\n      <td>11</td>\n      <td>-7.430</td>\n      <td>0</td>\n      <td>0.1800</td>\n      <td>0.0264</td>\n      <td>0.000002</td>\n      <td>0.1220</td>\n      <td>0.580</td>\n      <td>...</td>\n      <td>spotify:track:0cONHWTIfgEpAuVwbbwGgc</td>\n      <td>https://api.spotify.com/v1/tracks/0cONHWTIfgEp...</td>\n      <td>https://api.spotify.com/v1/audio-analysis/0cON...</td>\n      <td>182344</td>\n      <td>4</td>\n      <td>[mandopop, taiwan pop]</td>\n      <td>Ugly Beauty</td>\n      <td>47</td>\n      <td>Jolin Tsai</td>\n      <td>怪美的</td>\n    </tr>\n    <tr>\n      <th>96</th>\n      <td>0.824</td>\n      <td>0.877</td>\n      <td>8</td>\n      <td>-4.757</td>\n      <td>0</td>\n      <td>0.0447</td>\n      <td>0.0196</td>\n      <td>0.000311</td>\n      <td>0.1400</td>\n      <td>0.316</td>\n      <td>...</td>\n      <td>spotify:track:18ImQnN3yZxL6vDQiOvata</td>\n      <td>https://api.spotify.com/v1/tracks/18ImQnN3yZxL...</td>\n      <td>https://api.spotify.com/v1/audio-analysis/18Im...</td>\n      <td>193360</td>\n      <td>4</td>\n      <td>[mandopop, taiwan pop]</td>\n      <td>呸</td>\n      <td>44</td>\n      <td>Jolin Tsai</td>\n      <td>Play我呸</td>\n    </tr>\n    <tr>\n      <th>97</th>\n      <td>0.550</td>\n      <td>0.849</td>\n      <td>2</td>\n      <td>-3.961</td>\n      <td>1</td>\n      <td>0.0565</td>\n      <td>0.5100</td>\n      <td>0.000000</td>\n      <td>0.0436</td>\n      <td>0.795</td>\n      <td>...</td>\n      <td>spotify:track:0QxlXlQZD78tjivjAtQglz</td>\n      <td>https://api.spotify.com/v1/tracks/0QxlXlQZD78t...</td>\n      <td>https://api.spotify.com/v1/audio-analysis/0Qxl...</td>\n      <td>268453</td>\n      <td>4</td>\n      <td>[c-pop, malaysian mandopop, mandopop]</td>\n      <td>現在開始我愛你[戀愛的力量][下集]新歌+精選</td>\n      <td>20</td>\n      <td>Fish Leong</td>\n      <td>沒有如果</td>\n    </tr>\n    <tr>\n      <th>98</th>\n      <td>0.426</td>\n      <td>0.487</td>\n      <td>2</td>\n      <td>-5.276</td>\n      <td>1</td>\n      <td>0.0361</td>\n      <td>0.7850</td>\n      <td>0.000000</td>\n      <td>0.2590</td>\n      <td>0.280</td>\n      <td>...</td>\n      <td>spotify:track:5kZDxLcbqglZ2yYXg4Mkjc</td>\n      <td>https://api.spotify.com/v1/tracks/5kZDxLcbqglZ...</td>\n      <td>https://api.spotify.com/v1/audio-analysis/5kZD...</td>\n      <td>244470</td>\n      <td>4</td>\n      <td>[mandopop, singaporean mandopop, singaporean pop]</td>\n      <td>學不會</td>\n      <td>58</td>\n      <td>JJ Lin</td>\n      <td>那些你很冒險的夢</td>\n    </tr>\n    <tr>\n      <th>99</th>\n      <td>0.595</td>\n      <td>0.452</td>\n      <td>9</td>\n      <td>-7.284</td>\n      <td>1</td>\n      <td>0.0291</td>\n      <td>0.2320</td>\n      <td>0.000082</td>\n      <td>0.7960</td>\n      <td>0.309</td>\n      <td>...</td>\n      <td>spotify:track:0N0N9YdBHJSdffySq2J2eO</td>\n      <td>https://api.spotify.com/v1/tracks/0N0N9YdBHJSd...</td>\n      <td>https://api.spotify.com/v1/audio-analysis/0N0N...</td>\n      <td>285860</td>\n      <td>4</td>\n      <td>[]</td>\n      <td>稍息立正我愛你電視原聲帶</td>\n      <td>27</td>\n      <td>Tank</td>\n      <td>給我你的愛</td>\n    </tr>\n  </tbody>\n</table>\n<p>100 rows × 23 columns</p>\n</div>"
     },
     "metadata": {}
    }
   ]
  },
  {
   "cell_type": "code",
   "metadata": {
    "cell_id": "3f289d43c14b421daa9133980983c43c",
    "tags": [],
    "deepnote_to_be_reexecuted": false,
    "source_hash": "f5b326a3",
    "execution_start": 1651615756395,
    "execution_millis": 10277,
    "deepnote_cell_type": "code",
    "deepnote_cell_height": 1374
   },
   "source": "#Playlist3\ndfs = []\n\nfor x in audio_features3:\n    df = pd.DataFrame(x)\n    dfs.append(df)\n\nfinal_df3 = pd.concat(dfs, ignore_index=True)\n\n#add URI, track_name, main artist, name, popularity, genre, and album to final_df\n\nURIs = []\ntrack_names = []\nmain_artist = []\nname = []\npopularity = []\ngenre = []\nalbum = []\n\nfor k in sp.playlist_tracks(playlist_URI3)[\"items\"]:\n    URIs.append(k[\"track\"][\"uri\"])\n    track_names.append(k[\"track\"][\"name\"])\n    main_artist.append(k[\"track\"][\"artists\"][0][\"uri\"])\n    name.append(k[\"track\"][\"artists\"][0][\"name\"]) #arist URL\n    album.append(k[\"track\"][\"album\"][\"name\"])\n    popularity.append(k[\"track\"][\"popularity\"])\n\n#artist_info & genre\nartist_info = []\nfor r in range(len(main_artist)):\n    artist_info.append(sp.artist(main_artist[r]))\n\nfor y in artist_info:\n    genre.append(y[\"genres\"])\n\n#add genre, album, popularity, name, main_artist, track_names, and URIs to final_df for more context\n\nfinal_df3['genre'] = genre\nfinal_df3['album'] = album\nfinal_df3['popularity'] = popularity\nfinal_df3['name'] = name\nfinal_df3['track_name'] = track_names\nfinal_df3.to_csv('final_df3.csv')\nfinal_df3",
   "execution_count": null,
   "outputs": [
    {
     "output_type": "execute_result",
     "execution_count": 33,
     "data": {
      "application/vnd.deepnote.dataframe.v3+json": {
       "column_count": 23,
       "row_count": 100,
       "columns": [
        {
         "name": "danceability",
         "dtype": "float64",
         "stats": {
          "unique_count": 88,
          "nan_count": 0,
          "min": "0.0634",
          "max": "0.764",
          "histogram": [
           {
            "bin_start": 0.0634,
            "bin_end": 0.13346,
            "count": 21
           },
           {
            "bin_start": 0.13346,
            "bin_end": 0.20351999999999998,
            "count": 36
           },
           {
            "bin_start": 0.20351999999999998,
            "bin_end": 0.27358,
            "count": 21
           },
           {
            "bin_start": 0.27358,
            "bin_end": 0.34364,
            "count": 8
           },
           {
            "bin_start": 0.34364,
            "bin_end": 0.4137,
            "count": 6
           },
           {
            "bin_start": 0.4137,
            "bin_end": 0.48375999999999997,
            "count": 1
           },
           {
            "bin_start": 0.48375999999999997,
            "bin_end": 0.55382,
            "count": 4
           },
           {
            "bin_start": 0.55382,
            "bin_end": 0.62388,
            "count": 1
           },
           {
            "bin_start": 0.62388,
            "bin_end": 0.69394,
            "count": 1
           },
           {
            "bin_start": 0.69394,
            "bin_end": 0.764,
            "count": 1
           }
          ]
         }
        },
        {
         "name": "energy",
         "dtype": "float64",
         "stats": {
          "unique_count": 97,
          "nan_count": 0,
          "min": "0.00139",
          "max": "0.339",
          "histogram": [
           {
            "bin_start": 0.00139,
            "bin_end": 0.035151,
            "count": 58
           },
           {
            "bin_start": 0.035151,
            "bin_end": 0.068912,
            "count": 16
           },
           {
            "bin_start": 0.068912,
            "bin_end": 0.102673,
            "count": 13
           },
           {
            "bin_start": 0.102673,
            "bin_end": 0.136434,
            "count": 4
           },
           {
            "bin_start": 0.136434,
            "bin_end": 0.17019499999999999,
            "count": 4
           },
           {
            "bin_start": 0.17019499999999999,
            "bin_end": 0.203956,
            "count": 1
           },
           {
            "bin_start": 0.203956,
            "bin_end": 0.237717,
            "count": 2
           },
           {
            "bin_start": 0.237717,
            "bin_end": 0.271478,
            "count": 1
           },
           {
            "bin_start": 0.271478,
            "bin_end": 0.305239,
            "count": 0
           },
           {
            "bin_start": 0.305239,
            "bin_end": 0.339,
            "count": 1
           }
          ]
         }
        },
        {
         "name": "key",
         "dtype": "int64",
         "stats": {
          "unique_count": 12,
          "nan_count": 0,
          "min": "0",
          "max": "11",
          "histogram": [
           {
            "bin_start": 0,
            "bin_end": 1.1,
            "count": 39
           },
           {
            "bin_start": 1.1,
            "bin_end": 2.2,
            "count": 10
           },
           {
            "bin_start": 2.2,
            "bin_end": 3.3000000000000003,
            "count": 3
           },
           {
            "bin_start": 3.3000000000000003,
            "bin_end": 4.4,
            "count": 9
           },
           {
            "bin_start": 4.4,
            "bin_end": 5.5,
            "count": 8
           },
           {
            "bin_start": 5.5,
            "bin_end": 6.6000000000000005,
            "count": 1
           },
           {
            "bin_start": 6.6000000000000005,
            "bin_end": 7.700000000000001,
            "count": 11
           },
           {
            "bin_start": 7.700000000000001,
            "bin_end": 8.8,
            "count": 4
           },
           {
            "bin_start": 8.8,
            "bin_end": 9.9,
            "count": 9
           },
           {
            "bin_start": 9.9,
            "bin_end": 11,
            "count": 6
           }
          ]
         }
        },
        {
         "name": "loudness",
         "dtype": "float64",
         "stats": {
          "unique_count": 100,
          "nan_count": 0,
          "min": "-41.166",
          "max": "-13.598",
          "histogram": [
           {
            "bin_start": -41.166,
            "bin_end": -38.4092,
            "count": 5
           },
           {
            "bin_start": -38.4092,
            "bin_end": -35.6524,
            "count": 6
           },
           {
            "bin_start": -35.6524,
            "bin_end": -32.8956,
            "count": 11
           },
           {
            "bin_start": -32.8956,
            "bin_end": -30.138799999999996,
            "count": 21
           },
           {
            "bin_start": -30.138799999999996,
            "bin_end": -27.381999999999998,
            "count": 16
           },
           {
            "bin_start": -27.381999999999998,
            "bin_end": -24.6252,
            "count": 14
           },
           {
            "bin_start": -24.6252,
            "bin_end": -21.868399999999998,
            "count": 14
           },
           {
            "bin_start": -21.868399999999998,
            "bin_end": -19.1116,
            "count": 8
           },
           {
            "bin_start": -19.1116,
            "bin_end": -16.3548,
            "count": 3
           },
           {
            "bin_start": -16.3548,
            "bin_end": -13.598,
            "count": 2
           }
          ]
         }
        },
        {
         "name": "mode",
         "dtype": "int64",
         "stats": {
          "unique_count": 2,
          "nan_count": 0,
          "min": "0",
          "max": "1",
          "histogram": [
           {
            "bin_start": 0,
            "bin_end": 0.1,
            "count": 21
           },
           {
            "bin_start": 0.1,
            "bin_end": 0.2,
            "count": 0
           },
           {
            "bin_start": 0.2,
            "bin_end": 0.30000000000000004,
            "count": 0
           },
           {
            "bin_start": 0.30000000000000004,
            "bin_end": 0.4,
            "count": 0
           },
           {
            "bin_start": 0.4,
            "bin_end": 0.5,
            "count": 0
           },
           {
            "bin_start": 0.5,
            "bin_end": 0.6000000000000001,
            "count": 0
           },
           {
            "bin_start": 0.6000000000000001,
            "bin_end": 0.7000000000000001,
            "count": 0
           },
           {
            "bin_start": 0.7000000000000001,
            "bin_end": 0.8,
            "count": 0
           },
           {
            "bin_start": 0.8,
            "bin_end": 0.9,
            "count": 0
           },
           {
            "bin_start": 0.9,
            "bin_end": 1,
            "count": 79
           }
          ]
         }
        },
        {
         "name": "speechiness",
         "dtype": "float64",
         "stats": {
          "unique_count": 80,
          "nan_count": 0,
          "min": "0.0305",
          "max": "0.092",
          "histogram": [
           {
            "bin_start": 0.0305,
            "bin_end": 0.03665,
            "count": 13
           },
           {
            "bin_start": 0.03665,
            "bin_end": 0.0428,
            "count": 51
           },
           {
            "bin_start": 0.0428,
            "bin_end": 0.04895,
            "count": 27
           },
           {
            "bin_start": 0.04895,
            "bin_end": 0.055099999999999996,
            "count": 4
           },
           {
            "bin_start": 0.055099999999999996,
            "bin_end": 0.06125,
            "count": 0
           },
           {
            "bin_start": 0.06125,
            "bin_end": 0.0674,
            "count": 2
           },
           {
            "bin_start": 0.0674,
            "bin_end": 0.07355,
            "count": 0
           },
           {
            "bin_start": 0.07355,
            "bin_end": 0.0797,
            "count": 0
           },
           {
            "bin_start": 0.0797,
            "bin_end": 0.08585000000000001,
            "count": 2
           },
           {
            "bin_start": 0.08585000000000001,
            "bin_end": 0.092,
            "count": 1
           }
          ]
         }
        },
        {
         "name": "acousticness",
         "dtype": "float64",
         "stats": {
          "unique_count": 66,
          "nan_count": 0,
          "min": "0.397",
          "max": "0.996",
          "histogram": [
           {
            "bin_start": 0.397,
            "bin_end": 0.45690000000000003,
            "count": 1
           },
           {
            "bin_start": 0.45690000000000003,
            "bin_end": 0.5168,
            "count": 0
           },
           {
            "bin_start": 0.5168,
            "bin_end": 0.5767,
            "count": 1
           },
           {
            "bin_start": 0.5767,
            "bin_end": 0.6366,
            "count": 1
           },
           {
            "bin_start": 0.6366,
            "bin_end": 0.6965,
            "count": 1
           },
           {
            "bin_start": 0.6965,
            "bin_end": 0.7564,
            "count": 0
           },
           {
            "bin_start": 0.7564,
            "bin_end": 0.8163,
            "count": 4
           },
           {
            "bin_start": 0.8163,
            "bin_end": 0.8762,
            "count": 1
           },
           {
            "bin_start": 0.8762,
            "bin_end": 0.9360999999999999,
            "count": 18
           },
           {
            "bin_start": 0.9360999999999999,
            "bin_end": 0.996,
            "count": 73
           }
          ]
         }
        },
        {
         "name": "instrumentalness",
         "dtype": "float64",
         "stats": {
          "unique_count": 79,
          "nan_count": 0,
          "min": "0.00113",
          "max": "0.995",
          "histogram": [
           {
            "bin_start": 0.00113,
            "bin_end": 0.10051700000000001,
            "count": 2
           },
           {
            "bin_start": 0.10051700000000001,
            "bin_end": 0.199904,
            "count": 0
           },
           {
            "bin_start": 0.199904,
            "bin_end": 0.29929100000000003,
            "count": 0
           },
           {
            "bin_start": 0.29929100000000003,
            "bin_end": 0.39867800000000003,
            "count": 0
           },
           {
            "bin_start": 0.39867800000000003,
            "bin_end": 0.49806500000000004,
            "count": 0
           },
           {
            "bin_start": 0.49806500000000004,
            "bin_end": 0.597452,
            "count": 0
           },
           {
            "bin_start": 0.597452,
            "bin_end": 0.696839,
            "count": 0
           },
           {
            "bin_start": 0.696839,
            "bin_end": 0.796226,
            "count": 4
           },
           {
            "bin_start": 0.796226,
            "bin_end": 0.895613,
            "count": 28
           },
           {
            "bin_start": 0.895613,
            "bin_end": 0.995,
            "count": 66
           }
          ]
         }
        },
        {
         "name": "liveness",
         "dtype": "float64",
         "stats": {
          "unique_count": 71,
          "nan_count": 0,
          "min": "0.0472",
          "max": "0.382",
          "histogram": [
           {
            "bin_start": 0.0472,
            "bin_end": 0.08068,
            "count": 10
           },
           {
            "bin_start": 0.08068,
            "bin_end": 0.11415999999999998,
            "count": 62
           },
           {
            "bin_start": 0.11415999999999998,
            "bin_end": 0.14764,
            "count": 13
           },
           {
            "bin_start": 0.14764,
            "bin_end": 0.18111999999999998,
            "count": 6
           },
           {
            "bin_start": 0.18111999999999998,
            "bin_end": 0.21459999999999999,
            "count": 2
           },
           {
            "bin_start": 0.21459999999999999,
            "bin_end": 0.24807999999999997,
            "count": 0
           },
           {
            "bin_start": 0.24807999999999997,
            "bin_end": 0.28156,
            "count": 4
           },
           {
            "bin_start": 0.28156,
            "bin_end": 0.31504,
            "count": 0
           },
           {
            "bin_start": 0.31504,
            "bin_end": 0.34852,
            "count": 0
           },
           {
            "bin_start": 0.34852,
            "bin_end": 0.382,
            "count": 3
           }
          ]
         }
        },
        {
         "name": "valence",
         "dtype": "float64",
         "stats": {
          "unique_count": 88,
          "nan_count": 0,
          "min": "0.0281",
          "max": "0.474",
          "histogram": [
           {
            "bin_start": 0.0281,
            "bin_end": 0.07269,
            "count": 65
           },
           {
            "bin_start": 0.07269,
            "bin_end": 0.11728,
            "count": 12
           },
           {
            "bin_start": 0.11728,
            "bin_end": 0.16187,
            "count": 9
           },
           {
            "bin_start": 0.16187,
            "bin_end": 0.20645999999999998,
            "count": 4
           },
           {
            "bin_start": 0.20645999999999998,
            "bin_end": 0.25105,
            "count": 5
           },
           {
            "bin_start": 0.25105,
            "bin_end": 0.29564,
            "count": 1
           },
           {
            "bin_start": 0.29564,
            "bin_end": 0.34023,
            "count": 1
           },
           {
            "bin_start": 0.34023,
            "bin_end": 0.38482,
            "count": 2
           },
           {
            "bin_start": 0.38482,
            "bin_end": 0.42941,
            "count": 0
           },
           {
            "bin_start": 0.42941,
            "bin_end": 0.474,
            "count": 1
           }
          ]
         }
        },
        {
         "name": "tempo",
         "dtype": "float64",
         "stats": {
          "unique_count": 100,
          "nan_count": 0,
          "min": "47.509",
          "max": "175.118",
          "histogram": [
           {
            "bin_start": 47.509,
            "bin_end": 60.2699,
            "count": 6
           },
           {
            "bin_start": 60.2699,
            "bin_end": 73.0308,
            "count": 33
           },
           {
            "bin_start": 73.0308,
            "bin_end": 85.79169999999999,
            "count": 19
           },
           {
            "bin_start": 85.79169999999999,
            "bin_end": 98.5526,
            "count": 8
           },
           {
            "bin_start": 98.5526,
            "bin_end": 111.3135,
            "count": 7
           },
           {
            "bin_start": 111.3135,
            "bin_end": 124.0744,
            "count": 6
           },
           {
            "bin_start": 124.0744,
            "bin_end": 136.83530000000002,
            "count": 10
           },
           {
            "bin_start": 136.83530000000002,
            "bin_end": 149.5962,
            "count": 6
           },
           {
            "bin_start": 149.5962,
            "bin_end": 162.3571,
            "count": 1
           },
           {
            "bin_start": 162.3571,
            "bin_end": 175.118,
            "count": 4
           }
          ]
         }
        },
        {
         "name": "type",
         "dtype": "object",
         "stats": {
          "unique_count": 1,
          "nan_count": 0,
          "categories": [
           {
            "name": "audio_features",
            "count": 100
           }
          ]
         }
        },
        {
         "name": "id",
         "dtype": "object",
         "stats": {
          "unique_count": 100,
          "nan_count": 0,
          "categories": [
           {
            "name": "1aeKotbZ2wBYuOspDawtwo",
            "count": 1
           },
           {
            "name": "2sqE9z7rJlzV5ZgieeUatU",
            "count": 1
           },
           {
            "name": "98 others",
            "count": 98
           }
          ]
         }
        },
        {
         "name": "uri",
         "dtype": "object",
         "stats": {
          "unique_count": 100,
          "nan_count": 0,
          "categories": [
           {
            "name": "spotify:track:1aeKotbZ2wBYuOspDawtwo",
            "count": 1
           },
           {
            "name": "spotify:track:2sqE9z7rJlzV5ZgieeUatU",
            "count": 1
           },
           {
            "name": "98 others",
            "count": 98
           }
          ]
         }
        },
        {
         "name": "track_href",
         "dtype": "object",
         "stats": {
          "unique_count": 100,
          "nan_count": 0,
          "categories": [
           {
            "name": "https://api.spotify.com/v1/tracks/1aeKotbZ2wBYuOspDawtwo",
            "count": 1
           },
           {
            "name": "https://api.spotify.com/v1/tracks/2sqE9z7rJlzV5ZgieeUatU",
            "count": 1
           },
           {
            "name": "98 others",
            "count": 98
           }
          ]
         }
        },
        {
         "name": "analysis_url",
         "dtype": "object",
         "stats": {
          "unique_count": 100,
          "nan_count": 0,
          "categories": [
           {
            "name": "https://api.spotify.com/v1/audio-analysis/1aeKotbZ2wBYuOspDawtwo",
            "count": 1
           },
           {
            "name": "https://api.spotify.com/v1/audio-analysis/2sqE9z7rJlzV5ZgieeUatU",
            "count": 1
           },
           {
            "name": "98 others",
            "count": 98
           }
          ]
         }
        },
        {
         "name": "duration_ms",
         "dtype": "int64",
         "stats": {
          "unique_count": 98,
          "nan_count": 0,
          "min": "78750",
          "max": "298750",
          "histogram": [
           {
            "bin_start": 78750,
            "bin_end": 100750,
            "count": 2
           },
           {
            "bin_start": 100750,
            "bin_end": 122750,
            "count": 6
           },
           {
            "bin_start": 122750,
            "bin_end": 144750,
            "count": 18
           },
           {
            "bin_start": 144750,
            "bin_end": 166750,
            "count": 10
           },
           {
            "bin_start": 166750,
            "bin_end": 188750,
            "count": 19
           },
           {
            "bin_start": 188750,
            "bin_end": 210750,
            "count": 30
           },
           {
            "bin_start": 210750,
            "bin_end": 232750,
            "count": 7
           },
           {
            "bin_start": 232750,
            "bin_end": 254750,
            "count": 4
           },
           {
            "bin_start": 254750,
            "bin_end": 276750,
            "count": 0
           },
           {
            "bin_start": 276750,
            "bin_end": 298750,
            "count": 4
           }
          ]
         }
        },
        {
         "name": "time_signature",
         "dtype": "int64",
         "stats": {
          "unique_count": 4,
          "nan_count": 0,
          "min": "1",
          "max": "5",
          "histogram": [
           {
            "bin_start": 1,
            "bin_end": 1.4,
            "count": 4
           },
           {
            "bin_start": 1.4,
            "bin_end": 1.8,
            "count": 0
           },
           {
            "bin_start": 1.8,
            "bin_end": 2.2,
            "count": 0
           },
           {
            "bin_start": 2.2,
            "bin_end": 2.6,
            "count": 0
           },
           {
            "bin_start": 2.6,
            "bin_end": 3,
            "count": 0
           },
           {
            "bin_start": 3,
            "bin_end": 3.4000000000000004,
            "count": 27
           },
           {
            "bin_start": 3.4000000000000004,
            "bin_end": 3.8000000000000003,
            "count": 0
           },
           {
            "bin_start": 3.8000000000000003,
            "bin_end": 4.2,
            "count": 59
           },
           {
            "bin_start": 4.2,
            "bin_end": 4.6,
            "count": 0
           },
           {
            "bin_start": 4.6,
            "bin_end": 5,
            "count": 10
           }
          ]
         }
        },
        {
         "name": "genre",
         "dtype": "object",
         "stats": {
          "unique_count": 100,
          "nan_count": 0,
          "categories": [
           {
            "name": "[]",
            "count": 81
           },
           {
            "name": "['background music']",
            "count": 14
           },
           {
            "name": "5 others",
            "count": 5
           }
          ]
         }
        },
        {
         "name": "album",
         "dtype": "object",
         "stats": {
          "unique_count": 95,
          "nan_count": 0,
          "categories": [
           {
            "name": "Nature",
            "count": 5
           },
           {
            "name": "Astral Plane",
            "count": 2
           },
           {
            "name": "93 others",
            "count": 93
           }
          ]
         }
        },
        {
         "name": "popularity",
         "dtype": "int64",
         "stats": {
          "unique_count": 22,
          "nan_count": 0,
          "min": "0",
          "max": "61",
          "histogram": [
           {
            "bin_start": 0,
            "bin_end": 6.1,
            "count": 6
           },
           {
            "bin_start": 6.1,
            "bin_end": 12.2,
            "count": 0
           },
           {
            "bin_start": 12.2,
            "bin_end": 18.299999999999997,
            "count": 0
           },
           {
            "bin_start": 18.299999999999997,
            "bin_end": 24.4,
            "count": 0
           },
           {
            "bin_start": 24.4,
            "bin_end": 30.5,
            "count": 0
           },
           {
            "bin_start": 30.5,
            "bin_end": 36.599999999999994,
            "count": 0
           },
           {
            "bin_start": 36.599999999999994,
            "bin_end": 42.699999999999996,
            "count": 4
           },
           {
            "bin_start": 42.699999999999996,
            "bin_end": 48.8,
            "count": 11
           },
           {
            "bin_start": 48.8,
            "bin_end": 54.9,
            "count": 51
           },
           {
            "bin_start": 54.9,
            "bin_end": 61,
            "count": 28
           }
          ]
         }
        },
        {
         "name": "name",
         "dtype": "object",
         "stats": {
          "unique_count": 56,
          "nan_count": 0,
          "categories": [
           {
            "name": "Lunar Skybox",
            "count": 10
           },
           {
            "name": "AtomFlow",
            "count": 5
           },
           {
            "name": "54 others",
            "count": 85
           }
          ]
         }
        },
        {
         "name": "track_name",
         "dtype": "object",
         "stats": {
          "unique_count": 100,
          "nan_count": 0,
          "categories": [
           {
            "name": "Mandala",
            "count": 1
           },
           {
            "name": "Orbital",
            "count": 1
           },
           {
            "name": "98 others",
            "count": 98
           }
          ]
         }
        },
        {
         "name": "_deepnote_index_column",
         "dtype": "int64"
        }
       ],
       "rows": [
        {
         "danceability": 0.143,
         "energy": 0.155,
         "key": 3,
         "loudness": -21.899,
         "mode": 1,
         "speechiness": 0.0413,
         "acousticness": 0.988,
         "instrumentalness": 0.74,
         "liveness": 0.109,
         "valence": 0.0389,
         "tempo": 146.503,
         "type": "audio_features",
         "id": "1aeKotbZ2wBYuOspDawtwo",
         "uri": "spotify:track:1aeKotbZ2wBYuOspDawtwo",
         "track_href": "https://api.spotify.com/v1/tracks/1aeKotbZ2wBYuOspDawtwo",
         "analysis_url": "https://api.spotify.com/v1/audio-analysis/1aeKotbZ2wBYuOspDawtwo",
         "duration_ms": 137509,
         "time_signature": 4,
         "genre": "['background music']",
         "album": "Mandala",
         "popularity": 60,
         "name": "Lhokanda",
         "track_name": "Mandala",
         "_deepnote_index_column": 0
        },
        {
         "danceability": 0.202,
         "energy": 0.112,
         "key": 0,
         "loudness": -20.236,
         "mode": 1,
         "speechiness": 0.0422,
         "acousticness": 0.991,
         "instrumentalness": 0.84,
         "liveness": 0.0769,
         "valence": 0.0368,
         "tempo": 89.581,
         "type": "audio_features",
         "id": "2sqE9z7rJlzV5ZgieeUatU",
         "uri": "spotify:track:2sqE9z7rJlzV5ZgieeUatU",
         "track_href": "https://api.spotify.com/v1/tracks/2sqE9z7rJlzV5ZgieeUatU",
         "analysis_url": "https://api.spotify.com/v1/audio-analysis/2sqE9z7rJlzV5ZgieeUatU",
         "duration_ms": 144091,
         "time_signature": 4,
         "genre": "['background music']",
         "album": "Space",
         "popularity": 56,
         "name": "Matter and Energy",
         "track_name": "Orbital",
         "_deepnote_index_column": 1
        },
        {
         "danceability": 0.0723,
         "energy": 0.101,
         "key": 3,
         "loudness": -22.677,
         "mode": 1,
         "speechiness": 0.0498,
         "acousticness": 0.783,
         "instrumentalness": 0.895,
         "liveness": 0.102,
         "valence": 0.0319,
         "tempo": 79.804,
         "type": "audio_features",
         "id": "2Qmg0oyUxivJVhVxbXEZcO",
         "uri": "spotify:track:2Qmg0oyUxivJVhVxbXEZcO",
         "track_href": "https://api.spotify.com/v1/tracks/2Qmg0oyUxivJVhVxbXEZcO",
         "analysis_url": "https://api.spotify.com/v1/audio-analysis/2Qmg0oyUxivJVhVxbXEZcO",
         "duration_ms": 200946,
         "time_signature": 3,
         "genre": "['background music']",
         "album": "Waves",
         "popularity": 56,
         "name": "Opus Monik",
         "track_name": "Waves",
         "_deepnote_index_column": 2
        },
        {
         "danceability": 0.137,
         "energy": 0.0308,
         "key": 5,
         "loudness": -30.158,
         "mode": 1,
         "speechiness": 0.0411,
         "acousticness": 0.936,
         "instrumentalness": 0.953,
         "liveness": 0.126,
         "valence": 0.0389,
         "tempo": 83.557,
         "type": "audio_features",
         "id": "7wKteYGjLxGYGYw45SFCS0",
         "uri": "spotify:track:7wKteYGjLxGYGYw45SFCS0",
         "track_href": "https://api.spotify.com/v1/tracks/7wKteYGjLxGYGYw45SFCS0",
         "analysis_url": "https://api.spotify.com/v1/audio-analysis/7wKteYGjLxGYGYw45SFCS0",
         "duration_ms": 123799,
         "time_signature": 4,
         "genre": "[]",
         "album": "दुनिया के सपने",
         "popularity": 57,
         "name": "Raku-Nu",
         "track_name": "दुनिया के सपने",
         "_deepnote_index_column": 3
        },
        {
         "danceability": 0.202,
         "energy": 0.00172,
         "key": 2,
         "loudness": -35.595,
         "mode": 1,
         "speechiness": 0.0408,
         "acousticness": 0.952,
         "instrumentalness": 0.853,
         "liveness": 0.111,
         "valence": 0.0378,
         "tempo": 135.5,
         "type": "audio_features",
         "id": "6xhwbnVSG3DeLM6oZau2Mr",
         "uri": "spotify:track:6xhwbnVSG3DeLM6oZau2Mr",
         "track_href": "https://api.spotify.com/v1/tracks/6xhwbnVSG3DeLM6oZau2Mr",
         "analysis_url": "https://api.spotify.com/v1/audio-analysis/6xhwbnVSG3DeLM6oZau2Mr",
         "duration_ms": 192000,
         "time_signature": 3,
         "genre": "['background music']",
         "album": "The Minimalist",
         "popularity": 54,
         "name": "Benjamin Martins",
         "track_name": "Hypnosis",
         "_deepnote_index_column": 4
        },
        {
         "danceability": 0.191,
         "energy": 0.00188,
         "key": 5,
         "loudness": -30.14,
         "mode": 1,
         "speechiness": 0.037,
         "acousticness": 0.968,
         "instrumentalness": 0.928,
         "liveness": 0.111,
         "valence": 0.0281,
         "tempo": 68.899,
         "type": "audio_features",
         "id": "5KBswDWzbvbe6o0cyQA788",
         "uri": "spotify:track:5KBswDWzbvbe6o0cyQA788",
         "track_href": "https://api.spotify.com/v1/tracks/5KBswDWzbvbe6o0cyQA788",
         "analysis_url": "https://api.spotify.com/v1/audio-analysis/5KBswDWzbvbe6o0cyQA788",
         "duration_ms": 140613,
         "time_signature": 4,
         "genre": "[]",
         "album": "Supernova",
         "popularity": 54,
         "name": "Adrian Coly",
         "track_name": "Supernova",
         "_deepnote_index_column": 5
        },
        {
         "danceability": 0.525,
         "energy": 0.16,
         "key": 7,
         "loudness": -20.232,
         "mode": 1,
         "speechiness": 0.0655,
         "acousticness": 0.951,
         "instrumentalness": 0.952,
         "liveness": 0.108,
         "valence": 0.21,
         "tempo": 122.983,
         "type": "audio_features",
         "id": "5EDa5MNxytx54nv0FjOWg4",
         "uri": "spotify:track:5EDa5MNxytx54nv0FjOWg4",
         "track_href": "https://api.spotify.com/v1/tracks/5EDa5MNxytx54nv0FjOWg4",
         "analysis_url": "https://api.spotify.com/v1/audio-analysis/5EDa5MNxytx54nv0FjOWg4",
         "duration_ms": 134746,
         "time_signature": 4,
         "genre": "[]",
         "album": "Felicia",
         "popularity": 49,
         "name": "Antoine Pepe",
         "track_name": "Felicia",
         "_deepnote_index_column": 6
        },
        {
         "danceability": 0.0939,
         "energy": 0.0634,
         "key": 2,
         "loudness": -18.692,
         "mode": 1,
         "speechiness": 0.0395,
         "acousticness": 0.925,
         "instrumentalness": 0.963,
         "liveness": 0.11,
         "valence": 0.168,
         "tempo": 87.749,
         "type": "audio_features",
         "id": "0JH9zw05M791JyLuLifxpw",
         "uri": "spotify:track:0JH9zw05M791JyLuLifxpw",
         "track_href": "https://api.spotify.com/v1/tracks/0JH9zw05M791JyLuLifxpw",
         "analysis_url": "https://api.spotify.com/v1/audio-analysis/0JH9zw05M791JyLuLifxpw",
         "duration_ms": 167104,
         "time_signature": 3,
         "genre": "['background music']",
         "album": "Gemstones, Vol. 4",
         "popularity": 49,
         "name": "Crystal Fragments",
         "track_name": "Ruby",
         "_deepnote_index_column": 7
        },
        {
         "danceability": 0.173,
         "energy": 0.00826,
         "key": 7,
         "loudness": -32.053,
         "mode": 1,
         "speechiness": 0.0369,
         "acousticness": 0.993,
         "instrumentalness": 0.902,
         "liveness": 0.0904,
         "valence": 0.115,
         "tempo": 72.312,
         "type": "audio_features",
         "id": "4P7LF3ktiDORMF1coYTf66",
         "uri": "spotify:track:4P7LF3ktiDORMF1coYTf66",
         "track_href": "https://api.spotify.com/v1/tracks/4P7LF3ktiDORMF1coYTf66",
         "analysis_url": "https://api.spotify.com/v1/audio-analysis/4P7LF3ktiDORMF1coYTf66",
         "duration_ms": 169000,
         "time_signature": 3,
         "genre": "[]",
         "album": "Trust the Universe",
         "popularity": 57,
         "name": "Chama Wijnen",
         "track_name": "Trust the Universe",
         "_deepnote_index_column": 8
        },
        {
         "danceability": 0.554,
         "energy": 0.237,
         "key": 11,
         "loudness": -18.994,
         "mode": 0,
         "speechiness": 0.0355,
         "acousticness": 0.65,
         "instrumentalness": 0.924,
         "liveness": 0.0472,
         "valence": 0.155,
         "tempo": 129.998,
         "type": "audio_features",
         "id": "36pKTtmRcBGGIcNNoyuIDR",
         "uri": "spotify:track:36pKTtmRcBGGIcNNoyuIDR",
         "track_href": "https://api.spotify.com/v1/tracks/36pKTtmRcBGGIcNNoyuIDR",
         "analysis_url": "https://api.spotify.com/v1/audio-analysis/36pKTtmRcBGGIcNNoyuIDR",
         "duration_ms": 188357,
         "time_signature": 4,
         "genre": "[]",
         "album": "Moonchild",
         "popularity": 59,
         "name": "Neon Eyes",
         "track_name": "Moonchild",
         "_deepnote_index_column": 9
        }
       ]
      },
      "text/plain": "    danceability   energy  key  loudness  mode  speechiness  acousticness  \\\n0         0.1430  0.15500    3   -21.899     1       0.0413         0.988   \n1         0.2020  0.11200    0   -20.236     1       0.0422         0.991   \n2         0.0723  0.10100    3   -22.677     1       0.0498         0.783   \n3         0.1370  0.03080    5   -30.158     1       0.0411         0.936   \n4         0.2020  0.00172    2   -35.595     1       0.0408         0.952   \n..           ...      ...  ...       ...   ...          ...           ...   \n95        0.3060  0.33900    8   -13.598     0       0.0418         0.397   \n96        0.1440  0.11600   11   -26.927     0       0.0641         0.623   \n97        0.1450  0.04100    5   -25.220     1       0.0348         0.982   \n98        0.3800  0.01000    9   -29.684     1       0.0375         0.996   \n99        0.2440  0.00574    0   -34.928     1       0.0406         0.993   \n\n    instrumentalness  liveness  valence  ...  \\\n0            0.74000    0.1090   0.0389  ...   \n1            0.84000    0.0769   0.0368  ...   \n2            0.89500    0.1020   0.0319  ...   \n3            0.95300    0.1260   0.0389  ...   \n4            0.85300    0.1110   0.0378  ...   \n..               ...       ...      ...  ...   \n95           0.00113    0.1040   0.0307  ...   \n96           0.91300    0.0918   0.0444  ...   \n97           0.86800    0.2630   0.0403  ...   \n98           0.84200    0.1080   0.1630  ...   \n99           0.93100    0.1100   0.1490  ...   \n\n                                     uri  \\\n0   spotify:track:1aeKotbZ2wBYuOspDawtwo   \n1   spotify:track:2sqE9z7rJlzV5ZgieeUatU   \n2   spotify:track:2Qmg0oyUxivJVhVxbXEZcO   \n3   spotify:track:7wKteYGjLxGYGYw45SFCS0   \n4   spotify:track:6xhwbnVSG3DeLM6oZau2Mr   \n..                                   ...   \n95  spotify:track:0r1Lskg885JtBYN2zeC6wM   \n96  spotify:track:5M2vSYhLSDww1n3x2zB1qN   \n97  spotify:track:1OMmObhWmRz0dpiARmgSL7   \n98  spotify:track:6ppu6cIKlNB6b2XPbFlKfV   \n99  spotify:track:0ykiMp7KHzpabUQtYNHqal   \n\n                                           track_href  \\\n0   https://api.spotify.com/v1/tracks/1aeKotbZ2wBY...   \n1   https://api.spotify.com/v1/tracks/2sqE9z7rJlzV...   \n2   https://api.spotify.com/v1/tracks/2Qmg0oyUxivJ...   \n3   https://api.spotify.com/v1/tracks/7wKteYGjLxGY...   \n4   https://api.spotify.com/v1/tracks/6xhwbnVSG3De...   \n..                                                ...   \n95  https://api.spotify.com/v1/tracks/0r1Lskg885Jt...   \n96  https://api.spotify.com/v1/tracks/5M2vSYhLSDww...   \n97  https://api.spotify.com/v1/tracks/1OMmObhWmRz0...   \n98  https://api.spotify.com/v1/tracks/6ppu6cIKlNB6...   \n99  https://api.spotify.com/v1/tracks/0ykiMp7KHzpa...   \n\n                                         analysis_url duration_ms  \\\n0   https://api.spotify.com/v1/audio-analysis/1aeK...      137509   \n1   https://api.spotify.com/v1/audio-analysis/2sqE...      144091   \n2   https://api.spotify.com/v1/audio-analysis/2Qmg...      200946   \n3   https://api.spotify.com/v1/audio-analysis/7wKt...      123799   \n4   https://api.spotify.com/v1/audio-analysis/6xhw...      192000   \n..                                                ...         ...   \n95  https://api.spotify.com/v1/audio-analysis/0r1L...      114639   \n96  https://api.spotify.com/v1/audio-analysis/5M2v...      176432   \n97  https://api.spotify.com/v1/audio-analysis/1OMm...      204189   \n98  https://api.spotify.com/v1/audio-analysis/6ppu...      112800   \n99  https://api.spotify.com/v1/audio-analysis/0yki...      201600   \n\n   time_signature               genre             album  popularity  \\\n0               4  [background music]           Mandala          60   \n1               4  [background music]             Space          56   \n2               3  [background music]             Waves          56   \n3               4                  []    दुनिया के सपने          57   \n4               3  [background music]    The Minimalist          54   \n..            ...                 ...               ...         ...   \n95              3                  []            Dreams          54   \n96              3  [background music]  Winds of Haryana          45   \n97              4                  []     Keep Climbing          48   \n98              4                  []      Follow Along          47   \n99              4                  []        Palm Trees          53   \n\n                     name        track_name  \n0                Lhokanda           Mandala  \n1       Matter and Energy           Orbital  \n2              Opus Monik             Waves  \n3                 Raku-Nu    दुनिया के सपने  \n4        Benjamin Martins          Hypnosis  \n..                    ...               ...  \n95               Silkroad            Dreams  \n96              Muni Yogi  Winds of Haryana  \n97           Nordic Winds     Keep Climbing  \n98  Riverside Underground      Follow Along  \n99            Forest Noir        Palm Trees  \n\n[100 rows x 23 columns]",
      "text/html": "<div>\n<style scoped>\n    .dataframe tbody tr th:only-of-type {\n        vertical-align: middle;\n    }\n\n    .dataframe tbody tr th {\n        vertical-align: top;\n    }\n\n    .dataframe thead th {\n        text-align: right;\n    }\n</style>\n<table border=\"1\" class=\"dataframe\">\n  <thead>\n    <tr style=\"text-align: right;\">\n      <th></th>\n      <th>danceability</th>\n      <th>energy</th>\n      <th>key</th>\n      <th>loudness</th>\n      <th>mode</th>\n      <th>speechiness</th>\n      <th>acousticness</th>\n      <th>instrumentalness</th>\n      <th>liveness</th>\n      <th>valence</th>\n      <th>...</th>\n      <th>uri</th>\n      <th>track_href</th>\n      <th>analysis_url</th>\n      <th>duration_ms</th>\n      <th>time_signature</th>\n      <th>genre</th>\n      <th>album</th>\n      <th>popularity</th>\n      <th>name</th>\n      <th>track_name</th>\n    </tr>\n  </thead>\n  <tbody>\n    <tr>\n      <th>0</th>\n      <td>0.1430</td>\n      <td>0.15500</td>\n      <td>3</td>\n      <td>-21.899</td>\n      <td>1</td>\n      <td>0.0413</td>\n      <td>0.988</td>\n      <td>0.74000</td>\n      <td>0.1090</td>\n      <td>0.0389</td>\n      <td>...</td>\n      <td>spotify:track:1aeKotbZ2wBYuOspDawtwo</td>\n      <td>https://api.spotify.com/v1/tracks/1aeKotbZ2wBY...</td>\n      <td>https://api.spotify.com/v1/audio-analysis/1aeK...</td>\n      <td>137509</td>\n      <td>4</td>\n      <td>[background music]</td>\n      <td>Mandala</td>\n      <td>60</td>\n      <td>Lhokanda</td>\n      <td>Mandala</td>\n    </tr>\n    <tr>\n      <th>1</th>\n      <td>0.2020</td>\n      <td>0.11200</td>\n      <td>0</td>\n      <td>-20.236</td>\n      <td>1</td>\n      <td>0.0422</td>\n      <td>0.991</td>\n      <td>0.84000</td>\n      <td>0.0769</td>\n      <td>0.0368</td>\n      <td>...</td>\n      <td>spotify:track:2sqE9z7rJlzV5ZgieeUatU</td>\n      <td>https://api.spotify.com/v1/tracks/2sqE9z7rJlzV...</td>\n      <td>https://api.spotify.com/v1/audio-analysis/2sqE...</td>\n      <td>144091</td>\n      <td>4</td>\n      <td>[background music]</td>\n      <td>Space</td>\n      <td>56</td>\n      <td>Matter and Energy</td>\n      <td>Orbital</td>\n    </tr>\n    <tr>\n      <th>2</th>\n      <td>0.0723</td>\n      <td>0.10100</td>\n      <td>3</td>\n      <td>-22.677</td>\n      <td>1</td>\n      <td>0.0498</td>\n      <td>0.783</td>\n      <td>0.89500</td>\n      <td>0.1020</td>\n      <td>0.0319</td>\n      <td>...</td>\n      <td>spotify:track:2Qmg0oyUxivJVhVxbXEZcO</td>\n      <td>https://api.spotify.com/v1/tracks/2Qmg0oyUxivJ...</td>\n      <td>https://api.spotify.com/v1/audio-analysis/2Qmg...</td>\n      <td>200946</td>\n      <td>3</td>\n      <td>[background music]</td>\n      <td>Waves</td>\n      <td>56</td>\n      <td>Opus Monik</td>\n      <td>Waves</td>\n    </tr>\n    <tr>\n      <th>3</th>\n      <td>0.1370</td>\n      <td>0.03080</td>\n      <td>5</td>\n      <td>-30.158</td>\n      <td>1</td>\n      <td>0.0411</td>\n      <td>0.936</td>\n      <td>0.95300</td>\n      <td>0.1260</td>\n      <td>0.0389</td>\n      <td>...</td>\n      <td>spotify:track:7wKteYGjLxGYGYw45SFCS0</td>\n      <td>https://api.spotify.com/v1/tracks/7wKteYGjLxGY...</td>\n      <td>https://api.spotify.com/v1/audio-analysis/7wKt...</td>\n      <td>123799</td>\n      <td>4</td>\n      <td>[]</td>\n      <td>दुनिया के सपने</td>\n      <td>57</td>\n      <td>Raku-Nu</td>\n      <td>दुनिया के सपने</td>\n    </tr>\n    <tr>\n      <th>4</th>\n      <td>0.2020</td>\n      <td>0.00172</td>\n      <td>2</td>\n      <td>-35.595</td>\n      <td>1</td>\n      <td>0.0408</td>\n      <td>0.952</td>\n      <td>0.85300</td>\n      <td>0.1110</td>\n      <td>0.0378</td>\n      <td>...</td>\n      <td>spotify:track:6xhwbnVSG3DeLM6oZau2Mr</td>\n      <td>https://api.spotify.com/v1/tracks/6xhwbnVSG3De...</td>\n      <td>https://api.spotify.com/v1/audio-analysis/6xhw...</td>\n      <td>192000</td>\n      <td>3</td>\n      <td>[background music]</td>\n      <td>The Minimalist</td>\n      <td>54</td>\n      <td>Benjamin Martins</td>\n      <td>Hypnosis</td>\n    </tr>\n    <tr>\n      <th>...</th>\n      <td>...</td>\n      <td>...</td>\n      <td>...</td>\n      <td>...</td>\n      <td>...</td>\n      <td>...</td>\n      <td>...</td>\n      <td>...</td>\n      <td>...</td>\n      <td>...</td>\n      <td>...</td>\n      <td>...</td>\n      <td>...</td>\n      <td>...</td>\n      <td>...</td>\n      <td>...</td>\n      <td>...</td>\n      <td>...</td>\n      <td>...</td>\n      <td>...</td>\n      <td>...</td>\n    </tr>\n    <tr>\n      <th>95</th>\n      <td>0.3060</td>\n      <td>0.33900</td>\n      <td>8</td>\n      <td>-13.598</td>\n      <td>0</td>\n      <td>0.0418</td>\n      <td>0.397</td>\n      <td>0.00113</td>\n      <td>0.1040</td>\n      <td>0.0307</td>\n      <td>...</td>\n      <td>spotify:track:0r1Lskg885JtBYN2zeC6wM</td>\n      <td>https://api.spotify.com/v1/tracks/0r1Lskg885Jt...</td>\n      <td>https://api.spotify.com/v1/audio-analysis/0r1L...</td>\n      <td>114639</td>\n      <td>3</td>\n      <td>[]</td>\n      <td>Dreams</td>\n      <td>54</td>\n      <td>Silkroad</td>\n      <td>Dreams</td>\n    </tr>\n    <tr>\n      <th>96</th>\n      <td>0.1440</td>\n      <td>0.11600</td>\n      <td>11</td>\n      <td>-26.927</td>\n      <td>0</td>\n      <td>0.0641</td>\n      <td>0.623</td>\n      <td>0.91300</td>\n      <td>0.0918</td>\n      <td>0.0444</td>\n      <td>...</td>\n      <td>spotify:track:5M2vSYhLSDww1n3x2zB1qN</td>\n      <td>https://api.spotify.com/v1/tracks/5M2vSYhLSDww...</td>\n      <td>https://api.spotify.com/v1/audio-analysis/5M2v...</td>\n      <td>176432</td>\n      <td>3</td>\n      <td>[background music]</td>\n      <td>Winds of Haryana</td>\n      <td>45</td>\n      <td>Muni Yogi</td>\n      <td>Winds of Haryana</td>\n    </tr>\n    <tr>\n      <th>97</th>\n      <td>0.1450</td>\n      <td>0.04100</td>\n      <td>5</td>\n      <td>-25.220</td>\n      <td>1</td>\n      <td>0.0348</td>\n      <td>0.982</td>\n      <td>0.86800</td>\n      <td>0.2630</td>\n      <td>0.0403</td>\n      <td>...</td>\n      <td>spotify:track:1OMmObhWmRz0dpiARmgSL7</td>\n      <td>https://api.spotify.com/v1/tracks/1OMmObhWmRz0...</td>\n      <td>https://api.spotify.com/v1/audio-analysis/1OMm...</td>\n      <td>204189</td>\n      <td>4</td>\n      <td>[]</td>\n      <td>Keep Climbing</td>\n      <td>48</td>\n      <td>Nordic Winds</td>\n      <td>Keep Climbing</td>\n    </tr>\n    <tr>\n      <th>98</th>\n      <td>0.3800</td>\n      <td>0.01000</td>\n      <td>9</td>\n      <td>-29.684</td>\n      <td>1</td>\n      <td>0.0375</td>\n      <td>0.996</td>\n      <td>0.84200</td>\n      <td>0.1080</td>\n      <td>0.1630</td>\n      <td>...</td>\n      <td>spotify:track:6ppu6cIKlNB6b2XPbFlKfV</td>\n      <td>https://api.spotify.com/v1/tracks/6ppu6cIKlNB6...</td>\n      <td>https://api.spotify.com/v1/audio-analysis/6ppu...</td>\n      <td>112800</td>\n      <td>4</td>\n      <td>[]</td>\n      <td>Follow Along</td>\n      <td>47</td>\n      <td>Riverside Underground</td>\n      <td>Follow Along</td>\n    </tr>\n    <tr>\n      <th>99</th>\n      <td>0.2440</td>\n      <td>0.00574</td>\n      <td>0</td>\n      <td>-34.928</td>\n      <td>1</td>\n      <td>0.0406</td>\n      <td>0.993</td>\n      <td>0.93100</td>\n      <td>0.1100</td>\n      <td>0.1490</td>\n      <td>...</td>\n      <td>spotify:track:0ykiMp7KHzpabUQtYNHqal</td>\n      <td>https://api.spotify.com/v1/tracks/0ykiMp7KHzpa...</td>\n      <td>https://api.spotify.com/v1/audio-analysis/0yki...</td>\n      <td>201600</td>\n      <td>4</td>\n      <td>[]</td>\n      <td>Palm Trees</td>\n      <td>53</td>\n      <td>Forest Noir</td>\n      <td>Palm Trees</td>\n    </tr>\n  </tbody>\n</table>\n<p>100 rows × 23 columns</p>\n</div>"
     },
     "metadata": {}
    }
   ]
  },
  {
   "cell_type": "code",
   "metadata": {
    "cell_id": "4bd565e7b4a84c37bc763e56907b8c94",
    "tags": [],
    "deepnote_to_be_reexecuted": false,
    "source_hash": "e197632e",
    "execution_start": 1651615766677,
    "execution_millis": 98,
    "deepnote_table_state": {
     "pageSize": 10,
     "pageIndex": 9,
     "filters": [],
     "sortBy": []
    },
    "deepnote_table_loading": false,
    "deepnote_cell_type": "code",
    "deepnote_cell_height": 672
   },
   "source": "#Combine all playlists into 1 dataframe\nconcat_df1 = pd.concat([final_df1, final_df2])\nconcat_df2 = pd.concat([concat_df1,final_df3])\nconcat_df2\n",
   "execution_count": null,
   "outputs": [
    {
     "output_type": "execute_result",
     "execution_count": 34,
     "data": {
      "application/vnd.deepnote.dataframe.v3+json": {
       "column_count": 23,
       "row_count": 256,
       "columns": [
        {
         "name": "danceability",
         "dtype": "float64",
         "stats": {
          "unique_count": 217,
          "nan_count": 0,
          "min": "0.0634",
          "max": "0.824",
          "histogram": [
           {
            "bin_start": 0.0634,
            "bin_end": 0.13945999999999997,
            "count": 23
           },
           {
            "bin_start": 0.13945999999999997,
            "bin_end": 0.21552,
            "count": 43
           },
           {
            "bin_start": 0.21552,
            "bin_end": 0.29157999999999995,
            "count": 21
           },
           {
            "bin_start": 0.29157999999999995,
            "bin_end": 0.36763999999999997,
            "count": 21
           },
           {
            "bin_start": 0.36763999999999997,
            "bin_end": 0.4437,
            "count": 40
           },
           {
            "bin_start": 0.4437,
            "bin_end": 0.5197599999999999,
            "count": 44
           },
           {
            "bin_start": 0.5197599999999999,
            "bin_end": 0.5958199999999999,
            "count": 32
           },
           {
            "bin_start": 0.5958199999999999,
            "bin_end": 0.6718799999999999,
            "count": 15
           },
           {
            "bin_start": 0.6718799999999999,
            "bin_end": 0.7479399999999999,
            "count": 12
           },
           {
            "bin_start": 0.7479399999999999,
            "bin_end": 0.824,
            "count": 5
           }
          ]
         }
        },
        {
         "name": "energy",
         "dtype": "float64",
         "stats": {
          "unique_count": 235,
          "nan_count": 0,
          "min": "0.00139",
          "max": "0.877",
          "histogram": [
           {
            "bin_start": 0.00139,
            "bin_end": 0.088951,
            "count": 109
           },
           {
            "bin_start": 0.088951,
            "bin_end": 0.176512,
            "count": 29
           },
           {
            "bin_start": 0.176512,
            "bin_end": 0.264073,
            "count": 17
           },
           {
            "bin_start": 0.264073,
            "bin_end": 0.351634,
            "count": 14
           },
           {
            "bin_start": 0.351634,
            "bin_end": 0.439195,
            "count": 21
           },
           {
            "bin_start": 0.439195,
            "bin_end": 0.526756,
            "count": 27
           },
           {
            "bin_start": 0.526756,
            "bin_end": 0.614317,
            "count": 22
           },
           {
            "bin_start": 0.614317,
            "bin_end": 0.701878,
            "count": 10
           },
           {
            "bin_start": 0.701878,
            "bin_end": 0.789439,
            "count": 4
           },
           {
            "bin_start": 0.789439,
            "bin_end": 0.877,
            "count": 3
           }
          ]
         }
        },
        {
         "name": "key",
         "dtype": "int64",
         "stats": {
          "unique_count": 12,
          "nan_count": 0,
          "min": "0",
          "max": "11",
          "histogram": [
           {
            "bin_start": 0,
            "bin_end": 1.1,
            "count": 64
           },
           {
            "bin_start": 1.1,
            "bin_end": 2.2,
            "count": 20
           },
           {
            "bin_start": 2.2,
            "bin_end": 3.3000000000000003,
            "count": 17
           },
           {
            "bin_start": 3.3000000000000003,
            "bin_end": 4.4,
            "count": 18
           },
           {
            "bin_start": 4.4,
            "bin_end": 5.5,
            "count": 22
           },
           {
            "bin_start": 5.5,
            "bin_end": 6.6000000000000005,
            "count": 10
           },
           {
            "bin_start": 6.6000000000000005,
            "bin_end": 7.700000000000001,
            "count": 24
           },
           {
            "bin_start": 7.700000000000001,
            "bin_end": 8.8,
            "count": 15
           },
           {
            "bin_start": 8.8,
            "bin_end": 9.9,
            "count": 20
           },
           {
            "bin_start": 9.9,
            "bin_end": 11,
            "count": 46
           }
          ]
         }
        },
        {
         "name": "loudness",
         "dtype": "float64",
         "stats": {
          "unique_count": 254,
          "nan_count": 0,
          "min": "-41.166",
          "max": "-3.467",
          "histogram": [
           {
            "bin_start": -41.166,
            "bin_end": -37.3961,
            "count": 5
           },
           {
            "bin_start": -37.3961,
            "bin_end": -33.6262,
            "count": 16
           },
           {
            "bin_start": -33.6262,
            "bin_end": -29.856299999999997,
            "count": 22
           },
           {
            "bin_start": -29.856299999999997,
            "bin_end": -26.086399999999998,
            "count": 30
           },
           {
            "bin_start": -26.086399999999998,
            "bin_end": -22.316499999999998,
            "count": 26
           },
           {
            "bin_start": -22.316499999999998,
            "bin_end": -18.546599999999998,
            "count": 31
           },
           {
            "bin_start": -18.546599999999998,
            "bin_end": -14.776699999999998,
            "count": 19
           },
           {
            "bin_start": -14.776699999999998,
            "bin_end": -11.006799999999998,
            "count": 11
           },
           {
            "bin_start": -11.006799999999998,
            "bin_end": -7.236899999999999,
            "count": 55
           },
           {
            "bin_start": -7.236899999999999,
            "bin_end": -3.467,
            "count": 41
           }
          ]
         }
        },
        {
         "name": "mode",
         "dtype": "int64",
         "stats": {
          "unique_count": 2,
          "nan_count": 0,
          "min": "0",
          "max": "1",
          "histogram": [
           {
            "bin_start": 0,
            "bin_end": 0.1,
            "count": 55
           },
           {
            "bin_start": 0.1,
            "bin_end": 0.2,
            "count": 0
           },
           {
            "bin_start": 0.2,
            "bin_end": 0.30000000000000004,
            "count": 0
           },
           {
            "bin_start": 0.30000000000000004,
            "bin_end": 0.4,
            "count": 0
           },
           {
            "bin_start": 0.4,
            "bin_end": 0.5,
            "count": 0
           },
           {
            "bin_start": 0.5,
            "bin_end": 0.6000000000000001,
            "count": 0
           },
           {
            "bin_start": 0.6000000000000001,
            "bin_end": 0.7000000000000001,
            "count": 0
           },
           {
            "bin_start": 0.7000000000000001,
            "bin_end": 0.8,
            "count": 0
           },
           {
            "bin_start": 0.8,
            "bin_end": 0.9,
            "count": 0
           },
           {
            "bin_start": 0.9,
            "bin_end": 1,
            "count": 201
           }
          ]
         }
        },
        {
         "name": "speechiness",
         "dtype": "float64",
         "stats": {
          "unique_count": 169,
          "nan_count": 0,
          "min": "0.0222",
          "max": "0.18",
          "histogram": [
           {
            "bin_start": 0.0222,
            "bin_end": 0.03798,
            "count": 127
           },
           {
            "bin_start": 0.03798,
            "bin_end": 0.05376,
            "count": 103
           },
           {
            "bin_start": 0.05376,
            "bin_end": 0.06953999999999999,
            "count": 18
           },
           {
            "bin_start": 0.06953999999999999,
            "bin_end": 0.08532,
            "count": 4
           },
           {
            "bin_start": 0.08532,
            "bin_end": 0.1011,
            "count": 2
           },
           {
            "bin_start": 0.1011,
            "bin_end": 0.11687999999999998,
            "count": 0
           },
           {
            "bin_start": 0.11687999999999998,
            "bin_end": 0.13266,
            "count": 1
           },
           {
            "bin_start": 0.13266,
            "bin_end": 0.14844,
            "count": 0
           },
           {
            "bin_start": 0.14844,
            "bin_end": 0.16421999999999998,
            "count": 0
           },
           {
            "bin_start": 0.16421999999999998,
            "bin_end": 0.18,
            "count": 1
           }
          ]
         }
        },
        {
         "name": "acousticness",
         "dtype": "float64",
         "stats": {
          "unique_count": 180,
          "nan_count": 0,
          "min": "0.0119",
          "max": "0.996",
          "histogram": [
           {
            "bin_start": 0.0119,
            "bin_end": 0.11030999999999999,
            "count": 11
           },
           {
            "bin_start": 0.11030999999999999,
            "bin_end": 0.20872,
            "count": 3
           },
           {
            "bin_start": 0.20872,
            "bin_end": 0.30713,
            "count": 10
           },
           {
            "bin_start": 0.30713,
            "bin_end": 0.40554,
            "count": 11
           },
           {
            "bin_start": 0.40554,
            "bin_end": 0.50395,
            "count": 9
           },
           {
            "bin_start": 0.50395,
            "bin_end": 0.60236,
            "count": 16
           },
           {
            "bin_start": 0.60236,
            "bin_end": 0.70077,
            "count": 17
           },
           {
            "bin_start": 0.70077,
            "bin_end": 0.79918,
            "count": 20
           },
           {
            "bin_start": 0.79918,
            "bin_end": 0.89759,
            "count": 28
           },
           {
            "bin_start": 0.89759,
            "bin_end": 0.996,
            "count": 131
           }
          ]
         }
        },
        {
         "name": "instrumentalness",
         "dtype": "float64",
         "stats": {
          "unique_count": 144,
          "nan_count": 0,
          "min": "0.0",
          "max": "0.995",
          "histogram": [
           {
            "bin_start": 0,
            "bin_end": 0.0995,
            "count": 101
           },
           {
            "bin_start": 0.0995,
            "bin_end": 0.199,
            "count": 0
           },
           {
            "bin_start": 0.199,
            "bin_end": 0.2985,
            "count": 3
           },
           {
            "bin_start": 0.2985,
            "bin_end": 0.398,
            "count": 0
           },
           {
            "bin_start": 0.398,
            "bin_end": 0.49750000000000005,
            "count": 0
           },
           {
            "bin_start": 0.49750000000000005,
            "bin_end": 0.597,
            "count": 1
           },
           {
            "bin_start": 0.597,
            "bin_end": 0.6965,
            "count": 1
           },
           {
            "bin_start": 0.6965,
            "bin_end": 0.796,
            "count": 8
           },
           {
            "bin_start": 0.796,
            "bin_end": 0.8955000000000001,
            "count": 42
           },
           {
            "bin_start": 0.8955000000000001,
            "bin_end": 0.995,
            "count": 100
           }
          ]
         }
        },
        {
         "name": "liveness",
         "dtype": "float64",
         "stats": {
          "unique_count": 150,
          "nan_count": 0,
          "min": "0.0436",
          "max": "0.9",
          "histogram": [
           {
            "bin_start": 0.0436,
            "bin_end": 0.12924000000000002,
            "count": 193
           },
           {
            "bin_start": 0.12924000000000002,
            "bin_end": 0.21488000000000002,
            "count": 41
           },
           {
            "bin_start": 0.21488000000000002,
            "bin_end": 0.30052,
            "count": 8
           },
           {
            "bin_start": 0.30052,
            "bin_end": 0.38616000000000006,
            "count": 10
           },
           {
            "bin_start": 0.38616000000000006,
            "bin_end": 0.4718,
            "count": 2
           },
           {
            "bin_start": 0.4718,
            "bin_end": 0.55744,
            "count": 0
           },
           {
            "bin_start": 0.55744,
            "bin_end": 0.64308,
            "count": 0
           },
           {
            "bin_start": 0.64308,
            "bin_end": 0.72872,
            "count": 0
           },
           {
            "bin_start": 0.72872,
            "bin_end": 0.8143600000000001,
            "count": 1
           },
           {
            "bin_start": 0.8143600000000001,
            "bin_end": 0.9,
            "count": 1
           }
          ]
         }
        },
        {
         "name": "valence",
         "dtype": "float64",
         "stats": {
          "unique_count": 208,
          "nan_count": 0,
          "min": "0.0281",
          "max": "0.795",
          "histogram": [
           {
            "bin_start": 0.0281,
            "bin_end": 0.10479000000000001,
            "count": 87
           },
           {
            "bin_start": 0.10479000000000001,
            "bin_end": 0.18148000000000003,
            "count": 51
           },
           {
            "bin_start": 0.18148000000000003,
            "bin_end": 0.25817,
            "count": 41
           },
           {
            "bin_start": 0.25817,
            "bin_end": 0.33486000000000005,
            "count": 33
           },
           {
            "bin_start": 0.33486000000000005,
            "bin_end": 0.4115500000000001,
            "count": 25
           },
           {
            "bin_start": 0.4115500000000001,
            "bin_end": 0.48824000000000006,
            "count": 8
           },
           {
            "bin_start": 0.48824000000000006,
            "bin_end": 0.56493,
            "count": 7
           },
           {
            "bin_start": 0.56493,
            "bin_end": 0.6416200000000001,
            "count": 3
           },
           {
            "bin_start": 0.6416200000000001,
            "bin_end": 0.7183100000000001,
            "count": 0
           },
           {
            "bin_start": 0.7183100000000001,
            "bin_end": 0.795,
            "count": 1
           }
          ]
         }
        },
        {
         "name": "tempo",
         "dtype": "float64",
         "stats": {
          "unique_count": 256,
          "nan_count": 0,
          "min": "47.509",
          "max": "204.164",
          "histogram": [
           {
            "bin_start": 47.509,
            "bin_end": 63.174499999999995,
            "count": 13
           },
           {
            "bin_start": 63.174499999999995,
            "bin_end": 78.84,
            "count": 67
           },
           {
            "bin_start": 78.84,
            "bin_end": 94.5055,
            "count": 38
           },
           {
            "bin_start": 94.5055,
            "bin_end": 110.17099999999999,
            "count": 17
           },
           {
            "bin_start": 110.17099999999999,
            "bin_end": 125.83649999999999,
            "count": 24
           },
           {
            "bin_start": 125.83649999999999,
            "bin_end": 141.502,
            "count": 46
           },
           {
            "bin_start": 141.502,
            "bin_end": 157.1675,
            "count": 23
           },
           {
            "bin_start": 157.1675,
            "bin_end": 172.83299999999997,
            "count": 16
           },
           {
            "bin_start": 172.83299999999997,
            "bin_end": 188.49849999999998,
            "count": 11
           },
           {
            "bin_start": 188.49849999999998,
            "bin_end": 204.164,
            "count": 1
           }
          ]
         }
        },
        {
         "name": "type",
         "dtype": "object",
         "stats": {
          "unique_count": 1,
          "nan_count": 0,
          "categories": [
           {
            "name": "audio_features",
            "count": 256
           }
          ]
         }
        },
        {
         "name": "id",
         "dtype": "object",
         "stats": {
          "unique_count": 256,
          "nan_count": 0,
          "categories": [
           {
            "name": "1e5Xxhz3Ij8TLCNuhB2IEL",
            "count": 1
           },
           {
            "name": "2RF7VdZ8LSDU80BS1gnf7I",
            "count": 1
           },
           {
            "name": "254 others",
            "count": 254
           }
          ]
         }
        },
        {
         "name": "uri",
         "dtype": "object",
         "stats": {
          "unique_count": 256,
          "nan_count": 0,
          "categories": [
           {
            "name": "spotify:track:1e5Xxhz3Ij8TLCNuhB2IEL",
            "count": 1
           },
           {
            "name": "spotify:track:2RF7VdZ8LSDU80BS1gnf7I",
            "count": 1
           },
           {
            "name": "254 others",
            "count": 254
           }
          ]
         }
        },
        {
         "name": "track_href",
         "dtype": "object",
         "stats": {
          "unique_count": 256,
          "nan_count": 0,
          "categories": [
           {
            "name": "https://api.spotify.com/v1/tracks/1e5Xxhz3Ij8TLCNuhB2IEL",
            "count": 1
           },
           {
            "name": "https://api.spotify.com/v1/tracks/2RF7VdZ8LSDU80BS1gnf7I",
            "count": 1
           },
           {
            "name": "254 others",
            "count": 254
           }
          ]
         }
        },
        {
         "name": "analysis_url",
         "dtype": "object",
         "stats": {
          "unique_count": 256,
          "nan_count": 0,
          "categories": [
           {
            "name": "https://api.spotify.com/v1/audio-analysis/1e5Xxhz3Ij8TLCNuhB2IEL",
            "count": 1
           },
           {
            "name": "https://api.spotify.com/v1/audio-analysis/2RF7VdZ8LSDU80BS1gnf7I",
            "count": 1
           },
           {
            "name": "254 others",
            "count": 254
           }
          ]
         }
        },
        {
         "name": "duration_ms",
         "dtype": "int64",
         "stats": {
          "unique_count": 253,
          "nan_count": 0,
          "min": "78750",
          "max": "407498",
          "histogram": [
           {
            "bin_start": 78750,
            "bin_end": 111624.8,
            "count": 2
           },
           {
            "bin_start": 111624.8,
            "bin_end": 144499.6,
            "count": 34
           },
           {
            "bin_start": 144499.6,
            "bin_end": 177374.40000000002,
            "count": 26
           },
           {
            "bin_start": 177374.40000000002,
            "bin_end": 210249.2,
            "count": 59
           },
           {
            "bin_start": 210249.2,
            "bin_end": 243124,
            "count": 41
           },
           {
            "bin_start": 243124,
            "bin_end": 275998.80000000005,
            "count": 41
           },
           {
            "bin_start": 275998.80000000005,
            "bin_end": 308873.60000000003,
            "count": 35
           },
           {
            "bin_start": 308873.60000000003,
            "bin_end": 341748.4,
            "count": 11
           },
           {
            "bin_start": 341748.4,
            "bin_end": 374623.2,
            "count": 6
           },
           {
            "bin_start": 374623.2,
            "bin_end": 407498,
            "count": 1
           }
          ]
         }
        },
        {
         "name": "time_signature",
         "dtype": "int64",
         "stats": {
          "unique_count": 4,
          "nan_count": 0,
          "min": "1",
          "max": "5",
          "histogram": [
           {
            "bin_start": 1,
            "bin_end": 1.4,
            "count": 4
           },
           {
            "bin_start": 1.4,
            "bin_end": 1.8,
            "count": 0
           },
           {
            "bin_start": 1.8,
            "bin_end": 2.2,
            "count": 0
           },
           {
            "bin_start": 2.2,
            "bin_end": 2.6,
            "count": 0
           },
           {
            "bin_start": 2.6,
            "bin_end": 3,
            "count": 0
           },
           {
            "bin_start": 3,
            "bin_end": 3.4000000000000004,
            "count": 42
           },
           {
            "bin_start": 3.4000000000000004,
            "bin_end": 3.8000000000000003,
            "count": 0
           },
           {
            "bin_start": 3.8000000000000003,
            "bin_end": 4.2,
            "count": 198
           },
           {
            "bin_start": 4.2,
            "bin_end": 4.6,
            "count": 0
           },
           {
            "bin_start": 4.6,
            "bin_end": 5,
            "count": 12
           }
          ]
         }
        },
        {
         "name": "genre",
         "dtype": "object",
         "stats": {
          "unique_count": 256,
          "nan_count": 0,
          "categories": [
           {
            "name": "[]",
            "count": 119
           },
           {
            "name": "['mandopop', 'taiwan pop']",
            "count": 30
           },
           {
            "name": "37 others",
            "count": 107
           }
          ]
         }
        },
        {
         "name": "album",
         "dtype": "object",
         "stats": {
          "unique_count": 210,
          "nan_count": 0,
          "categories": [
           {
            "name": "Nature",
            "count": 5
           },
           {
            "name": "A Scandinavian Thing",
            "count": 4
           },
           {
            "name": "208 others",
            "count": 247
           }
          ]
         }
        },
        {
         "name": "popularity",
         "dtype": "int64",
         "stats": {
          "unique_count": 47,
          "nan_count": 0,
          "min": "0",
          "max": "61",
          "histogram": [
           {
            "bin_start": 0,
            "bin_end": 6.1,
            "count": 15
           },
           {
            "bin_start": 6.1,
            "bin_end": 12.2,
            "count": 1
           },
           {
            "bin_start": 12.2,
            "bin_end": 18.299999999999997,
            "count": 3
           },
           {
            "bin_start": 18.299999999999997,
            "bin_end": 24.4,
            "count": 8
           },
           {
            "bin_start": 24.4,
            "bin_end": 30.5,
            "count": 12
           },
           {
            "bin_start": 30.5,
            "bin_end": 36.599999999999994,
            "count": 23
           },
           {
            "bin_start": 36.599999999999994,
            "bin_end": 42.699999999999996,
            "count": 33
           },
           {
            "bin_start": 42.699999999999996,
            "bin_end": 48.8,
            "count": 33
           },
           {
            "bin_start": 48.8,
            "bin_end": 54.9,
            "count": 77
           },
           {
            "bin_start": 54.9,
            "bin_end": 61,
            "count": 51
           }
          ]
         }
        },
        {
         "name": "name",
         "dtype": "object",
         "stats": {
          "unique_count": 141,
          "nan_count": 0,
          "categories": [
           {
            "name": "Jay Chou",
            "count": 18
           },
           {
            "name": "Lunar Skybox",
            "count": 10
           },
           {
            "name": "139 others",
            "count": 228
           }
          ]
         }
        },
        {
         "name": "track_name",
         "dtype": "object",
         "stats": {
          "unique_count": 255,
          "nan_count": 0,
          "categories": [
           {
            "name": "玫瑰少年",
            "count": 2
           },
           {
            "name": "New York Nights",
            "count": 1
           },
           {
            "name": "253 others",
            "count": 253
           }
          ]
         }
        },
        {
         "name": "_deepnote_index_column",
         "dtype": "int64"
        }
       ],
       "rows": [
        {
         "danceability": 0.439,
         "energy": 0.477,
         "key": 10,
         "loudness": -5.638,
         "mode": 1,
         "speechiness": 0.0307,
         "acousticness": 0.643,
         "instrumentalness": 0,
         "liveness": 0.114,
         "valence": 0.535,
         "tempo": 159.819,
         "type": "audio_features",
         "id": "2gug6MRv4xQFYi9LA3PJCS",
         "uri": "spotify:track:2gug6MRv4xQFYi9LA3PJCS",
         "track_href": "https://api.spotify.com/v1/tracks/2gug6MRv4xQFYi9LA3PJCS",
         "analysis_url": "https://api.spotify.com/v1/audio-analysis/2gug6MRv4xQFYi9LA3PJCS",
         "duration_ms": 287307,
         "time_signature": 4,
         "genre": "['mandopop']",
         "album": "愛,教會我們的事",
         "popularity": 61,
         "name": "Eric Chou",
         "track_name": "你,好不好? - TVBS連續劇【遺憾拼圖】片尾曲",
         "_deepnote_index_column": 34
        },
        {
         "danceability": 0.471,
         "energy": 0.648,
         "key": 3,
         "loudness": -3.968,
         "mode": 1,
         "speechiness": 0.0342,
         "acousticness": 0.63,
         "instrumentalness": 0,
         "liveness": 0.122,
         "valence": 0.239,
         "tempo": 135.053,
         "type": "audio_features",
         "id": "190kU2WKyIzx9XaBjfWRPk",
         "uri": "spotify:track:190kU2WKyIzx9XaBjfWRPk",
         "track_href": "https://api.spotify.com/v1/tracks/190kU2WKyIzx9XaBjfWRPk",
         "analysis_url": "https://api.spotify.com/v1/audio-analysis/190kU2WKyIzx9XaBjfWRPk",
         "duration_ms": 287000,
         "time_signature": 4,
         "genre": "['mandopop', 'singaporean mandopop', 'singaporean pop']",
         "album": "因你 而在",
         "popularity": 57,
         "name": "JJ Lin",
         "track_name": "修煉愛情",
         "_deepnote_index_column": 35
        },
        {
         "danceability": 0.54,
         "energy": 0.405,
         "key": 6,
         "loudness": -7.295,
         "mode": 1,
         "speechiness": 0.0272,
         "acousticness": 0.768,
         "instrumentalness": 0,
         "liveness": 0.11,
         "valence": 0.309,
         "tempo": 136.028,
         "type": "audio_features",
         "id": "6NCylXeJcHOI908PjZDFcg",
         "uri": "spotify:track:6NCylXeJcHOI908PjZDFcg",
         "track_href": "https://api.spotify.com/v1/tracks/6NCylXeJcHOI908PjZDFcg",
         "analysis_url": "https://api.spotify.com/v1/audio-analysis/6NCylXeJcHOI908PjZDFcg",
         "duration_ms": 246000,
         "time_signature": 4,
         "genre": "['c-pop', 'malaysian mandopop', 'mandopop']",
         "album": "十光年精選輯",
         "popularity": 56,
         "name": "Michael Wong",
         "track_name": "童話",
         "_deepnote_index_column": 36
        },
        {
         "danceability": 0.399,
         "energy": 0.512,
         "key": 8,
         "loudness": -5.801,
         "mode": 1,
         "speechiness": 0.0357,
         "acousticness": 0.583,
         "instrumentalness": 0,
         "liveness": 0.104,
         "valence": 0.197,
         "tempo": 133.175,
         "type": "audio_features",
         "id": "2DcmVSLAg0ZzfOQxDshZHY",
         "uri": "spotify:track:2DcmVSLAg0ZzfOQxDshZHY",
         "track_href": "https://api.spotify.com/v1/tracks/2DcmVSLAg0ZzfOQxDshZHY",
         "analysis_url": "https://api.spotify.com/v1/audio-analysis/2DcmVSLAg0ZzfOQxDshZHY",
         "duration_ms": 285547,
         "time_signature": 4,
         "genre": "['mandopop']",
         "album": "寂寞不痛",
         "popularity": 55,
         "name": "A-Lin",
         "track_name": "給我一個理由忘記",
         "_deepnote_index_column": 37
        },
        {
         "danceability": 0.547,
         "energy": 0.567,
         "key": 7,
         "loudness": -7.295,
         "mode": 1,
         "speechiness": 0.0242,
         "acousticness": 0.276,
         "instrumentalness": 0.000548,
         "liveness": 0.104,
         "valence": 0.399,
         "tempo": 137.13,
         "type": "audio_features",
         "id": "0F02KChKwbcQ3tk4q1YxLH",
         "uri": "spotify:track:0F02KChKwbcQ3tk4q1YxLH",
         "track_href": "https://api.spotify.com/v1/tracks/0F02KChKwbcQ3tk4q1YxLH",
         "analysis_url": "https://api.spotify.com/v1/audio-analysis/0F02KChKwbcQ3tk4q1YxLH",
         "duration_ms": 269747,
         "time_signature": 4,
         "genre": "['c-pop', 'mandopop', 'taiwan pop', 'zhongguo feng']",
         "album": "葉惠美",
         "popularity": 59,
         "name": "Jay Chou",
         "track_name": "晴天",
         "_deepnote_index_column": 38
        },
        {
         "danceability": 0.402,
         "energy": 0.641,
         "key": 2,
         "loudness": -5.905,
         "mode": 1,
         "speechiness": 0.0335,
         "acousticness": 0.534,
         "instrumentalness": 0,
         "liveness": 0.112,
         "valence": 0.252,
         "tempo": 145.054,
         "type": "audio_features",
         "id": "0VqSdtXseb9khdZrnYVyM1",
         "uri": "spotify:track:0VqSdtXseb9khdZrnYVyM1",
         "track_href": "https://api.spotify.com/v1/tracks/0VqSdtXseb9khdZrnYVyM1",
         "analysis_url": "https://api.spotify.com/v1/audio-analysis/0VqSdtXseb9khdZrnYVyM1",
         "duration_ms": 265800,
         "time_signature": 4,
         "genre": "['mandopop', 'singaporean mandopop', 'singaporean pop']",
         "album": "\"和自己對話\" 實驗專輯",
         "popularity": 55,
         "name": "JJ Lin",
         "track_name": "不為誰而作的歌",
         "_deepnote_index_column": 39
        },
        {
         "danceability": 0.315,
         "energy": 0.534,
         "key": 6,
         "loudness": -5.931,
         "mode": 1,
         "speechiness": 0.0332,
         "acousticness": 0.525,
         "instrumentalness": 0,
         "liveness": 0.171,
         "valence": 0.445,
         "tempo": 136.725,
         "type": "audio_features",
         "id": "6kabSi7XCHHGThNme6J2tL",
         "uri": "spotify:track:6kabSi7XCHHGThNme6J2tL",
         "track_href": "https://api.spotify.com/v1/tracks/6kabSi7XCHHGThNme6J2tL",
         "analysis_url": "https://api.spotify.com/v1/audio-analysis/6kabSi7XCHHGThNme6J2tL",
         "duration_ms": 281200,
         "time_signature": 4,
         "genre": "['mandopop']",
         "album": "如果雨之後",
         "popularity": 57,
         "name": "Eric Chou",
         "track_name": "如果雨之後",
         "_deepnote_index_column": 40
        },
        {
         "danceability": 0.472,
         "energy": 0.507,
         "key": 7,
         "loudness": -7.124,
         "mode": 1,
         "speechiness": 0.0255,
         "acousticness": 0.433,
         "instrumentalness": 0,
         "liveness": 0.414,
         "valence": 0.408,
         "tempo": 144.006,
         "type": "audio_features",
         "id": "0I2We7TVGZhimAXUswSfMl",
         "uri": "spotify:track:0I2We7TVGZhimAXUswSfMl",
         "track_href": "https://api.spotify.com/v1/tracks/0I2We7TVGZhimAXUswSfMl",
         "analysis_url": "https://api.spotify.com/v1/audio-analysis/0I2We7TVGZhimAXUswSfMl",
         "duration_ms": 265507,
         "time_signature": 4,
         "genre": "['mandopop', 'taiwan pop']",
         "album": "第二人生(明日版)",
         "popularity": 52,
         "name": "Mayday",
         "track_name": "我不願讓你一個人",
         "_deepnote_index_column": 41
        },
        {
         "danceability": 0.313,
         "energy": 0.486,
         "key": 4,
         "loudness": -8.563,
         "mode": 1,
         "speechiness": 0.0328,
         "acousticness": 0.153,
         "instrumentalness": 0,
         "liveness": 0.0827,
         "valence": 0.159,
         "tempo": 129.799,
         "type": "audio_features",
         "id": "0rfBQiWdfayX9IwqaLiOeu",
         "uri": "spotify:track:0rfBQiWdfayX9IwqaLiOeu",
         "track_href": "https://api.spotify.com/v1/tracks/0rfBQiWdfayX9IwqaLiOeu",
         "analysis_url": "https://api.spotify.com/v1/audio-analysis/0rfBQiWdfayX9IwqaLiOeu",
         "duration_ms": 254067,
         "time_signature": 4,
         "genre": "['chinese drama ost']",
         "album": "The Untamed",
         "popularity": 43,
         "name": "Yin Lin",
         "track_name": "[Interlude] Yi Nan Ping",
         "_deepnote_index_column": 42
        },
        {
         "danceability": 0.423,
         "energy": 0.36,
         "key": 3,
         "loudness": -9.458,
         "mode": 1,
         "speechiness": 0.0372,
         "acousticness": 0.728,
         "instrumentalness": 0,
         "liveness": 0.105,
         "valence": 0.291,
         "tempo": 130.576,
         "type": "audio_features",
         "id": "7zyYmIdjqqiX6kLryb7QBx",
         "uri": "spotify:track:7zyYmIdjqqiX6kLryb7QBx",
         "track_href": "https://api.spotify.com/v1/tracks/7zyYmIdjqqiX6kLryb7QBx",
         "analysis_url": "https://api.spotify.com/v1/audio-analysis/7zyYmIdjqqiX6kLryb7QBx",
         "duration_ms": 260573,
         "time_signature": 4,
         "genre": "['mandopop']",
         "album": "學著愛",
         "popularity": 57,
         "name": "Eric Chou",
         "track_name": "以後別做朋友",
         "_deepnote_index_column": 43
        }
       ]
      },
      "text/plain": "    danceability   energy  key  loudness  mode  speechiness  acousticness  \\\n0          0.358  0.04820   11   -18.887     1       0.0452         0.994   \n1          0.391  0.03430   11   -19.342     1       0.0480         0.987   \n2          0.429  0.05100    8   -15.024     1       0.0605         0.995   \n3          0.460  0.14100    9   -14.994     1       0.0314         0.854   \n4          0.684  0.27400   11   -15.921     0       0.0339         0.822   \n..           ...      ...  ...       ...   ...          ...           ...   \n95         0.306  0.33900    8   -13.598     0       0.0418         0.397   \n96         0.144  0.11600   11   -26.927     0       0.0641         0.623   \n97         0.145  0.04100    5   -25.220     1       0.0348         0.982   \n98         0.380  0.01000    9   -29.684     1       0.0375         0.996   \n99         0.244  0.00574    0   -34.928     1       0.0406         0.993   \n\n    instrumentalness  liveness  valence  ...  \\\n0            0.94100    0.1090   0.3660  ...   \n1            0.92400    0.0943   0.1800  ...   \n2            0.96100    0.1160   0.1780  ...   \n3            0.88500    0.1100   0.1470  ...   \n4            0.90900    0.1120   0.1800  ...   \n..               ...       ...      ...  ...   \n95           0.00113    0.1040   0.0307  ...   \n96           0.91300    0.0918   0.0444  ...   \n97           0.86800    0.2630   0.0403  ...   \n98           0.84200    0.1080   0.1630  ...   \n99           0.93100    0.1100   0.1490  ...   \n\n                                     uri  \\\n0   spotify:track:1e5Xxhz3Ij8TLCNuhB2IEL   \n1   spotify:track:2RF7VdZ8LSDU80BS1gnf7I   \n2   spotify:track:06HQejVsTz9NqkSmxsVCCM   \n3   spotify:track:2wx4FLHxxKP6wJvgp3Cceu   \n4   spotify:track:1D93vTG8Uio5cpf5YRF4Do   \n..                                   ...   \n95  spotify:track:0r1Lskg885JtBYN2zeC6wM   \n96  spotify:track:5M2vSYhLSDww1n3x2zB1qN   \n97  spotify:track:1OMmObhWmRz0dpiARmgSL7   \n98  spotify:track:6ppu6cIKlNB6b2XPbFlKfV   \n99  spotify:track:0ykiMp7KHzpabUQtYNHqal   \n\n                                           track_href  \\\n0   https://api.spotify.com/v1/tracks/1e5Xxhz3Ij8T...   \n1   https://api.spotify.com/v1/tracks/2RF7VdZ8LSDU...   \n2   https://api.spotify.com/v1/tracks/06HQejVsTz9N...   \n3   https://api.spotify.com/v1/tracks/2wx4FLHxxKP6...   \n4   https://api.spotify.com/v1/tracks/1D93vTG8Uio5...   \n..                                                ...   \n95  https://api.spotify.com/v1/tracks/0r1Lskg885Jt...   \n96  https://api.spotify.com/v1/tracks/5M2vSYhLSDww...   \n97  https://api.spotify.com/v1/tracks/1OMmObhWmRz0...   \n98  https://api.spotify.com/v1/tracks/6ppu6cIKlNB6...   \n99  https://api.spotify.com/v1/tracks/0ykiMp7KHzpa...   \n\n                                         analysis_url duration_ms  \\\n0   https://api.spotify.com/v1/audio-analysis/1e5X...      170496   \n1   https://api.spotify.com/v1/audio-analysis/2RF7...      184289   \n2   https://api.spotify.com/v1/audio-analysis/06HQ...      299181   \n3   https://api.spotify.com/v1/audio-analysis/2wx4...      278071   \n4   https://api.spotify.com/v1/audio-analysis/1D93...      266669   \n..                                                ...         ...   \n95  https://api.spotify.com/v1/audio-analysis/0r1L...      114639   \n96  https://api.spotify.com/v1/audio-analysis/5M2v...      176432   \n97  https://api.spotify.com/v1/audio-analysis/1OMm...      204189   \n98  https://api.spotify.com/v1/audio-analysis/6ppu...      112800   \n99  https://api.spotify.com/v1/audio-analysis/0yki...      201600   \n\n   time_signature                                 genre  \\\n0               5                                    []   \n1               4                                    []   \n2               4  [christmas instrumental, pianissimo]   \n3               3                                    []   \n4               3              [christmas instrumental]   \n..            ...                                   ...   \n95              3                                    []   \n96              3                    [background music]   \n97              4                                    []   \n98              4                                    []   \n99              4                                    []   \n\n                      album  popularity                   name  \\\n0           Maude De Geyndt          37        Maude De Geyndt   \n1   Forgiving is Forgetting          31    Hip Jazz Collective   \n2                 Session 1          38           Ahron Kupner   \n3    Kissing in the Streets          37          Sassy Players   \n4            Jazz Standards          35          Milos Foreman   \n..                      ...         ...                    ...   \n95                   Dreams          54               Silkroad   \n96         Winds of Haryana          45              Muni Yogi   \n97            Keep Climbing          48           Nordic Winds   \n98             Follow Along          47  Riverside Underground   \n99               Palm Trees          53            Forest Noir   \n\n                       track_name  \n0                 New York Nights  \n1                        Near You  \n2                           Misty  \n3                 All I See is Us  \n4   Saga of Harrison Crabfeathers  \n..                            ...  \n95                         Dreams  \n96               Winds of Haryana  \n97                  Keep Climbing  \n98                   Follow Along  \n99                     Palm Trees  \n\n[256 rows x 23 columns]",
      "text/html": "<div>\n<style scoped>\n    .dataframe tbody tr th:only-of-type {\n        vertical-align: middle;\n    }\n\n    .dataframe tbody tr th {\n        vertical-align: top;\n    }\n\n    .dataframe thead th {\n        text-align: right;\n    }\n</style>\n<table border=\"1\" class=\"dataframe\">\n  <thead>\n    <tr style=\"text-align: right;\">\n      <th></th>\n      <th>danceability</th>\n      <th>energy</th>\n      <th>key</th>\n      <th>loudness</th>\n      <th>mode</th>\n      <th>speechiness</th>\n      <th>acousticness</th>\n      <th>instrumentalness</th>\n      <th>liveness</th>\n      <th>valence</th>\n      <th>...</th>\n      <th>uri</th>\n      <th>track_href</th>\n      <th>analysis_url</th>\n      <th>duration_ms</th>\n      <th>time_signature</th>\n      <th>genre</th>\n      <th>album</th>\n      <th>popularity</th>\n      <th>name</th>\n      <th>track_name</th>\n    </tr>\n  </thead>\n  <tbody>\n    <tr>\n      <th>0</th>\n      <td>0.358</td>\n      <td>0.04820</td>\n      <td>11</td>\n      <td>-18.887</td>\n      <td>1</td>\n      <td>0.0452</td>\n      <td>0.994</td>\n      <td>0.94100</td>\n      <td>0.1090</td>\n      <td>0.3660</td>\n      <td>...</td>\n      <td>spotify:track:1e5Xxhz3Ij8TLCNuhB2IEL</td>\n      <td>https://api.spotify.com/v1/tracks/1e5Xxhz3Ij8T...</td>\n      <td>https://api.spotify.com/v1/audio-analysis/1e5X...</td>\n      <td>170496</td>\n      <td>5</td>\n      <td>[]</td>\n      <td>Maude De Geyndt</td>\n      <td>37</td>\n      <td>Maude De Geyndt</td>\n      <td>New York Nights</td>\n    </tr>\n    <tr>\n      <th>1</th>\n      <td>0.391</td>\n      <td>0.03430</td>\n      <td>11</td>\n      <td>-19.342</td>\n      <td>1</td>\n      <td>0.0480</td>\n      <td>0.987</td>\n      <td>0.92400</td>\n      <td>0.0943</td>\n      <td>0.1800</td>\n      <td>...</td>\n      <td>spotify:track:2RF7VdZ8LSDU80BS1gnf7I</td>\n      <td>https://api.spotify.com/v1/tracks/2RF7VdZ8LSDU...</td>\n      <td>https://api.spotify.com/v1/audio-analysis/2RF7...</td>\n      <td>184289</td>\n      <td>4</td>\n      <td>[]</td>\n      <td>Forgiving is Forgetting</td>\n      <td>31</td>\n      <td>Hip Jazz Collective</td>\n      <td>Near You</td>\n    </tr>\n    <tr>\n      <th>2</th>\n      <td>0.429</td>\n      <td>0.05100</td>\n      <td>8</td>\n      <td>-15.024</td>\n      <td>1</td>\n      <td>0.0605</td>\n      <td>0.995</td>\n      <td>0.96100</td>\n      <td>0.1160</td>\n      <td>0.1780</td>\n      <td>...</td>\n      <td>spotify:track:06HQejVsTz9NqkSmxsVCCM</td>\n      <td>https://api.spotify.com/v1/tracks/06HQejVsTz9N...</td>\n      <td>https://api.spotify.com/v1/audio-analysis/06HQ...</td>\n      <td>299181</td>\n      <td>4</td>\n      <td>[christmas instrumental, pianissimo]</td>\n      <td>Session 1</td>\n      <td>38</td>\n      <td>Ahron Kupner</td>\n      <td>Misty</td>\n    </tr>\n    <tr>\n      <th>3</th>\n      <td>0.460</td>\n      <td>0.14100</td>\n      <td>9</td>\n      <td>-14.994</td>\n      <td>1</td>\n      <td>0.0314</td>\n      <td>0.854</td>\n      <td>0.88500</td>\n      <td>0.1100</td>\n      <td>0.1470</td>\n      <td>...</td>\n      <td>spotify:track:2wx4FLHxxKP6wJvgp3Cceu</td>\n      <td>https://api.spotify.com/v1/tracks/2wx4FLHxxKP6...</td>\n      <td>https://api.spotify.com/v1/audio-analysis/2wx4...</td>\n      <td>278071</td>\n      <td>3</td>\n      <td>[]</td>\n      <td>Kissing in the Streets</td>\n      <td>37</td>\n      <td>Sassy Players</td>\n      <td>All I See is Us</td>\n    </tr>\n    <tr>\n      <th>4</th>\n      <td>0.684</td>\n      <td>0.27400</td>\n      <td>11</td>\n      <td>-15.921</td>\n      <td>0</td>\n      <td>0.0339</td>\n      <td>0.822</td>\n      <td>0.90900</td>\n      <td>0.1120</td>\n      <td>0.1800</td>\n      <td>...</td>\n      <td>spotify:track:1D93vTG8Uio5cpf5YRF4Do</td>\n      <td>https://api.spotify.com/v1/tracks/1D93vTG8Uio5...</td>\n      <td>https://api.spotify.com/v1/audio-analysis/1D93...</td>\n      <td>266669</td>\n      <td>3</td>\n      <td>[christmas instrumental]</td>\n      <td>Jazz Standards</td>\n      <td>35</td>\n      <td>Milos Foreman</td>\n      <td>Saga of Harrison Crabfeathers</td>\n    </tr>\n    <tr>\n      <th>...</th>\n      <td>...</td>\n      <td>...</td>\n      <td>...</td>\n      <td>...</td>\n      <td>...</td>\n      <td>...</td>\n      <td>...</td>\n      <td>...</td>\n      <td>...</td>\n      <td>...</td>\n      <td>...</td>\n      <td>...</td>\n      <td>...</td>\n      <td>...</td>\n      <td>...</td>\n      <td>...</td>\n      <td>...</td>\n      <td>...</td>\n      <td>...</td>\n      <td>...</td>\n      <td>...</td>\n    </tr>\n    <tr>\n      <th>95</th>\n      <td>0.306</td>\n      <td>0.33900</td>\n      <td>8</td>\n      <td>-13.598</td>\n      <td>0</td>\n      <td>0.0418</td>\n      <td>0.397</td>\n      <td>0.00113</td>\n      <td>0.1040</td>\n      <td>0.0307</td>\n      <td>...</td>\n      <td>spotify:track:0r1Lskg885JtBYN2zeC6wM</td>\n      <td>https://api.spotify.com/v1/tracks/0r1Lskg885Jt...</td>\n      <td>https://api.spotify.com/v1/audio-analysis/0r1L...</td>\n      <td>114639</td>\n      <td>3</td>\n      <td>[]</td>\n      <td>Dreams</td>\n      <td>54</td>\n      <td>Silkroad</td>\n      <td>Dreams</td>\n    </tr>\n    <tr>\n      <th>96</th>\n      <td>0.144</td>\n      <td>0.11600</td>\n      <td>11</td>\n      <td>-26.927</td>\n      <td>0</td>\n      <td>0.0641</td>\n      <td>0.623</td>\n      <td>0.91300</td>\n      <td>0.0918</td>\n      <td>0.0444</td>\n      <td>...</td>\n      <td>spotify:track:5M2vSYhLSDww1n3x2zB1qN</td>\n      <td>https://api.spotify.com/v1/tracks/5M2vSYhLSDww...</td>\n      <td>https://api.spotify.com/v1/audio-analysis/5M2v...</td>\n      <td>176432</td>\n      <td>3</td>\n      <td>[background music]</td>\n      <td>Winds of Haryana</td>\n      <td>45</td>\n      <td>Muni Yogi</td>\n      <td>Winds of Haryana</td>\n    </tr>\n    <tr>\n      <th>97</th>\n      <td>0.145</td>\n      <td>0.04100</td>\n      <td>5</td>\n      <td>-25.220</td>\n      <td>1</td>\n      <td>0.0348</td>\n      <td>0.982</td>\n      <td>0.86800</td>\n      <td>0.2630</td>\n      <td>0.0403</td>\n      <td>...</td>\n      <td>spotify:track:1OMmObhWmRz0dpiARmgSL7</td>\n      <td>https://api.spotify.com/v1/tracks/1OMmObhWmRz0...</td>\n      <td>https://api.spotify.com/v1/audio-analysis/1OMm...</td>\n      <td>204189</td>\n      <td>4</td>\n      <td>[]</td>\n      <td>Keep Climbing</td>\n      <td>48</td>\n      <td>Nordic Winds</td>\n      <td>Keep Climbing</td>\n    </tr>\n    <tr>\n      <th>98</th>\n      <td>0.380</td>\n      <td>0.01000</td>\n      <td>9</td>\n      <td>-29.684</td>\n      <td>1</td>\n      <td>0.0375</td>\n      <td>0.996</td>\n      <td>0.84200</td>\n      <td>0.1080</td>\n      <td>0.1630</td>\n      <td>...</td>\n      <td>spotify:track:6ppu6cIKlNB6b2XPbFlKfV</td>\n      <td>https://api.spotify.com/v1/tracks/6ppu6cIKlNB6...</td>\n      <td>https://api.spotify.com/v1/audio-analysis/6ppu...</td>\n      <td>112800</td>\n      <td>4</td>\n      <td>[]</td>\n      <td>Follow Along</td>\n      <td>47</td>\n      <td>Riverside Underground</td>\n      <td>Follow Along</td>\n    </tr>\n    <tr>\n      <th>99</th>\n      <td>0.244</td>\n      <td>0.00574</td>\n      <td>0</td>\n      <td>-34.928</td>\n      <td>1</td>\n      <td>0.0406</td>\n      <td>0.993</td>\n      <td>0.93100</td>\n      <td>0.1100</td>\n      <td>0.1490</td>\n      <td>...</td>\n      <td>spotify:track:0ykiMp7KHzpabUQtYNHqal</td>\n      <td>https://api.spotify.com/v1/tracks/0ykiMp7KHzpa...</td>\n      <td>https://api.spotify.com/v1/audio-analysis/0yki...</td>\n      <td>201600</td>\n      <td>4</td>\n      <td>[]</td>\n      <td>Palm Trees</td>\n      <td>53</td>\n      <td>Forest Noir</td>\n      <td>Palm Trees</td>\n    </tr>\n  </tbody>\n</table>\n<p>256 rows × 23 columns</p>\n</div>"
     },
     "metadata": {}
    }
   ]
  },
  {
   "cell_type": "code",
   "metadata": {
    "cell_id": "9003a73a0858493d9238a06c474f7110",
    "tags": [],
    "deepnote_to_be_reexecuted": false,
    "source_hash": "b7943306",
    "execution_start": 1651615766775,
    "execution_millis": 17,
    "deepnote_cell_type": "code",
    "deepnote_cell_height": 492.4375,
    "deepnote_output_heights": [
     251.4375
    ]
   },
   "source": "#scale features \n#include popularity in addition to just sound features\nfeatures = ['danceability', 'energy', 'key', 'loudness', 'mode', 'speechiness',\n       'acousticness', 'instrumentalness', 'liveness', 'valence', 'tempo', 'duration_ms',\n       'time_signature', 'popularity'] \n\nscaler = MinMaxScaler()\ndf_norm2 = scaler.fit_transform(concat_df2[features])\ndf_norm2",
   "execution_count": null,
   "outputs": [
    {
     "output_type": "execute_result",
     "execution_count": 35,
     "data": {
      "text/plain": "array([[0.3873258 , 0.05345987, 1.        , ..., 0.27907698, 1.        ,\n        0.60655738],\n       [0.4307126 , 0.03758523, 1.        , ..., 0.32103313, 0.75      ,\n        0.50819672],\n       [0.48067315, 0.05665764, 0.72727273, ..., 0.67051663, 0.75      ,\n        0.62295082],\n       ...,\n       [0.10728372, 0.04523703, 0.45454545, ..., 0.38156582, 0.75      ,\n        0.78688525],\n       [0.41625033, 0.00983314, 0.81818182, ..., 0.10357477, 0.75      ,\n        0.7704918 ],\n       [0.23744412, 0.00496797, 0.        , ..., 0.37369049, 0.75      ,\n        0.86885246]])"
     },
     "metadata": {}
    }
   ]
  },
  {
   "cell_type": "code",
   "metadata": {
    "cell_id": "9703e111369044b48129bb2eccd52416",
    "tags": [],
    "deepnote_to_be_reexecuted": false,
    "source_hash": "d628c463",
    "execution_start": 1651615766796,
    "execution_millis": 11,
    "deepnote_cell_type": "code",
    "deepnote_cell_height": 384.4375,
    "deepnote_output_heights": [
     251.4375
    ]
   },
   "source": "#indices & track name\nindices2 = pd.Series(concat_df2.index, index=concat_df2['track_name'])\nindices2",
   "execution_count": null,
   "outputs": [
    {
     "output_type": "execute_result",
     "execution_count": 36,
     "data": {
      "text/plain": "track_name\nNew York Nights                   0\nNear You                          1\nMisty                             2\nAll I See is Us                   3\nSaga of Harrison Crabfeathers     4\n                                 ..\nDreams                           95\nWinds of Haryana                 96\nKeep Climbing                    97\nFollow Along                     98\nPalm Trees                       99\nLength: 256, dtype: int64"
     },
     "metadata": {}
    }
   ]
  },
  {
   "cell_type": "code",
   "metadata": {
    "cell_id": "101542ce24d248b8bd5249aee445e5e6",
    "tags": [],
    "deepnote_to_be_reexecuted": false,
    "source_hash": "a89f9711",
    "execution_start": 1651615766806,
    "execution_millis": 11,
    "deepnote_cell_type": "code",
    "deepnote_cell_height": 384.4375,
    "deepnote_output_heights": [
     251.4375
    ]
   },
   "source": "#get cos_sim\ncos_sim2 = cosine_similarity(df_norm2)\ncos_sim2",
   "execution_count": null,
   "outputs": [
    {
     "output_type": "execute_result",
     "execution_count": 37,
     "data": {
      "text/plain": "array([[1.        , 0.98982837, 0.96826476, ..., 0.94077479, 0.97650449,\n        0.87275944],\n       [0.98982837, 1.        , 0.97924264, ..., 0.94301692, 0.97798543,\n        0.86302496],\n       [0.96826476, 0.97924264, 1.        , ..., 0.95725618, 0.95129819,\n        0.90123776],\n       ...,\n       [0.94077479, 0.94301692, 0.95725618, ..., 1.        , 0.95951414,\n        0.95941476],\n       [0.97650449, 0.97798543, 0.95129819, ..., 0.95951414, 1.        ,\n        0.90987444],\n       [0.87275944, 0.86302496, 0.90123776, ..., 0.95941476, 0.90987444,\n        1.        ]])"
     },
     "metadata": {}
    }
   ]
  },
  {
   "cell_type": "code",
   "metadata": {
    "cell_id": "c418e3af6a634ead8cb393a33ff76f74",
    "tags": [],
    "deepnote_to_be_reexecuted": false,
    "source_hash": "fe0cd3ae",
    "execution_start": 1651615766823,
    "execution_millis": 1,
    "deepnote_cell_type": "code",
    "deepnote_cell_height": 279
   },
   "source": "#get recommendation\ndef CB_rec(trackname, topmost_recs):\n    index = indices2[trackname]\n    cos_score = list(enumerate(cos_sim2[indices2[trackname]])) \n    sim_score = sorted(cos_score,key = lambda x:x[1],reverse = True)\n    \n    #Get top 'topmost_recs' songs\n    sim_score2 = sim_score[1:topmost_recs+1]\n    topsongs_i = [i[0] for i in sim_score2]\n    top_songs = concat_df2['track_name'].iloc[topsongs_i]\n    top_artists = concat_df2['name'].iloc[topsongs_i]\n    return top_songs",
   "execution_count": null,
   "outputs": []
  },
  {
   "cell_type": "markdown",
   "source": "- try something from jazz playlist and see if recommended songs are in the same playlist",
   "metadata": {
    "cell_id": "c7a3ee7f787d4ec5bc663fb456ac1b65",
    "tags": [],
    "deepnote_cell_type": "markdown",
    "deepnote_cell_height": 69.390625
   }
  },
  {
   "cell_type": "code",
   "metadata": {
    "cell_id": "7620e375ef1c41f5a92eee1c8527af17",
    "tags": [],
    "deepnote_to_be_reexecuted": false,
    "source_hash": "bcbe0d3e",
    "execution_start": 1651615766869,
    "execution_millis": 551,
    "deepnote_cell_type": "code",
    "deepnote_cell_height": 310.0625,
    "deepnote_output_heights": [
     213.0625
    ]
   },
   "source": "CB_rec('Near You', 10)",
   "execution_count": null,
   "outputs": [
    {
     "output_type": "execute_result",
     "execution_count": 39,
     "data": {
      "text/plain": "37                    Imagine\n38         Fly Me To The Moon\n36      Every Breath You Take\n0             New York Nights\n35     What A Wonderful World\n46              In Thoughtful\n44                Fancy Fancy\n25    Forgiving is Forgetting\n23    Swing Low Sweet Chariot\n50                      Peace\nName: track_name, dtype: object"
     },
     "metadata": {}
    }
   ]
  },
  {
   "cell_type": "code",
   "metadata": {
    "cell_id": "43b3549023e345f4b42ae3419a94ceee",
    "tags": [],
    "deepnote_to_be_reexecuted": false,
    "source_hash": "8d74ad32",
    "execution_start": 1651615766870,
    "execution_millis": 551,
    "deepnote_cell_type": "code",
    "deepnote_cell_height": 231
   },
   "source": "final_df1[final_df1['track_name'] == 'Peace']",
   "execution_count": null,
   "outputs": [
    {
     "output_type": "execute_result",
     "execution_count": 40,
     "data": {
      "application/vnd.deepnote.dataframe.v3+json": {
       "column_count": 23,
       "row_count": 1,
       "columns": [
        {
         "name": "danceability",
         "dtype": "float64",
         "stats": {
          "unique_count": 1,
          "nan_count": 0,
          "min": "0.505",
          "max": "0.505",
          "histogram": [
           {
            "bin_start": 0.0050000000000000044,
            "bin_end": 0.105,
            "count": 0
           },
           {
            "bin_start": 0.105,
            "bin_end": 0.205,
            "count": 0
           },
           {
            "bin_start": 0.205,
            "bin_end": 0.305,
            "count": 0
           },
           {
            "bin_start": 0.305,
            "bin_end": 0.40499999999999997,
            "count": 0
           },
           {
            "bin_start": 0.40499999999999997,
            "bin_end": 0.5049999999999999,
            "count": 0
           },
           {
            "bin_start": 0.5049999999999999,
            "bin_end": 0.605,
            "count": 1
           },
           {
            "bin_start": 0.605,
            "bin_end": 0.705,
            "count": 0
           },
           {
            "bin_start": 0.705,
            "bin_end": 0.8049999999999999,
            "count": 0
           },
           {
            "bin_start": 0.8049999999999999,
            "bin_end": 0.9049999999999999,
            "count": 0
           },
           {
            "bin_start": 0.9049999999999999,
            "bin_end": 1.005,
            "count": 0
           }
          ]
         }
        },
        {
         "name": "energy",
         "dtype": "float64",
         "stats": {
          "unique_count": 1,
          "nan_count": 0,
          "min": "0.15",
          "max": "0.15",
          "histogram": [
           {
            "bin_start": -0.35,
            "bin_end": -0.24999999999999997,
            "count": 0
           },
           {
            "bin_start": -0.24999999999999997,
            "bin_end": -0.14999999999999997,
            "count": 0
           },
           {
            "bin_start": -0.14999999999999997,
            "bin_end": -0.04999999999999993,
            "count": 0
           },
           {
            "bin_start": -0.04999999999999993,
            "bin_end": 0.050000000000000044,
            "count": 0
           },
           {
            "bin_start": 0.050000000000000044,
            "bin_end": 0.15000000000000002,
            "count": 1
           },
           {
            "bin_start": 0.15000000000000002,
            "bin_end": 0.2500000000000001,
            "count": 0
           },
           {
            "bin_start": 0.2500000000000001,
            "bin_end": 0.3500000000000001,
            "count": 0
           },
           {
            "bin_start": 0.3500000000000001,
            "bin_end": 0.45000000000000007,
            "count": 0
           },
           {
            "bin_start": 0.45000000000000007,
            "bin_end": 0.55,
            "count": 0
           },
           {
            "bin_start": 0.55,
            "bin_end": 0.65,
            "count": 0
           }
          ]
         }
        },
        {
         "name": "key",
         "dtype": "int64",
         "stats": {
          "unique_count": 1,
          "nan_count": 0,
          "min": "10",
          "max": "10",
          "histogram": [
           {
            "bin_start": 9.5,
            "bin_end": 9.6,
            "count": 0
           },
           {
            "bin_start": 9.6,
            "bin_end": 9.7,
            "count": 0
           },
           {
            "bin_start": 9.7,
            "bin_end": 9.8,
            "count": 0
           },
           {
            "bin_start": 9.8,
            "bin_end": 9.9,
            "count": 0
           },
           {
            "bin_start": 9.9,
            "bin_end": 10,
            "count": 0
           },
           {
            "bin_start": 10,
            "bin_end": 10.1,
            "count": 1
           },
           {
            "bin_start": 10.1,
            "bin_end": 10.2,
            "count": 0
           },
           {
            "bin_start": 10.2,
            "bin_end": 10.3,
            "count": 0
           },
           {
            "bin_start": 10.3,
            "bin_end": 10.4,
            "count": 0
           },
           {
            "bin_start": 10.4,
            "bin_end": 10.5,
            "count": 0
           }
          ]
         }
        },
        {
         "name": "loudness",
         "dtype": "float64",
         "stats": {
          "unique_count": 1,
          "nan_count": 0,
          "min": "-17.508",
          "max": "-17.508",
          "histogram": [
           {
            "bin_start": -18.008,
            "bin_end": -17.907999999999998,
            "count": 0
           },
           {
            "bin_start": -17.907999999999998,
            "bin_end": -17.808,
            "count": 0
           },
           {
            "bin_start": -17.808,
            "bin_end": -17.708,
            "count": 0
           },
           {
            "bin_start": -17.708,
            "bin_end": -17.608,
            "count": 0
           },
           {
            "bin_start": -17.608,
            "bin_end": -17.508,
            "count": 0
           },
           {
            "bin_start": -17.508,
            "bin_end": -17.407999999999998,
            "count": 1
           },
           {
            "bin_start": -17.407999999999998,
            "bin_end": -17.308,
            "count": 0
           },
           {
            "bin_start": -17.308,
            "bin_end": -17.208,
            "count": 0
           },
           {
            "bin_start": -17.208,
            "bin_end": -17.108,
            "count": 0
           },
           {
            "bin_start": -17.108,
            "bin_end": -17.008,
            "count": 0
           }
          ]
         }
        },
        {
         "name": "mode",
         "dtype": "int64",
         "stats": {
          "unique_count": 1,
          "nan_count": 0,
          "min": "1",
          "max": "1",
          "histogram": [
           {
            "bin_start": 0.5,
            "bin_end": 0.6,
            "count": 0
           },
           {
            "bin_start": 0.6,
            "bin_end": 0.7,
            "count": 0
           },
           {
            "bin_start": 0.7,
            "bin_end": 0.8,
            "count": 0
           },
           {
            "bin_start": 0.8,
            "bin_end": 0.9,
            "count": 0
           },
           {
            "bin_start": 0.9,
            "bin_end": 1,
            "count": 0
           },
           {
            "bin_start": 1,
            "bin_end": 1.1,
            "count": 1
           },
           {
            "bin_start": 1.1,
            "bin_end": 1.2000000000000002,
            "count": 0
           },
           {
            "bin_start": 1.2000000000000002,
            "bin_end": 1.3,
            "count": 0
           },
           {
            "bin_start": 1.3,
            "bin_end": 1.4,
            "count": 0
           },
           {
            "bin_start": 1.4,
            "bin_end": 1.5,
            "count": 0
           }
          ]
         }
        },
        {
         "name": "speechiness",
         "dtype": "float64",
         "stats": {
          "unique_count": 1,
          "nan_count": 0,
          "min": "0.0335",
          "max": "0.0335",
          "histogram": [
           {
            "bin_start": -0.4665,
            "bin_end": -0.36650000000000005,
            "count": 0
           },
           {
            "bin_start": -0.36650000000000005,
            "bin_end": -0.2665,
            "count": 0
           },
           {
            "bin_start": -0.2665,
            "bin_end": -0.16649999999999998,
            "count": 0
           },
           {
            "bin_start": -0.16649999999999998,
            "bin_end": -0.0665,
            "count": 0
           },
           {
            "bin_start": -0.0665,
            "bin_end": 0.033499999999999974,
            "count": 0
           },
           {
            "bin_start": 0.033499999999999974,
            "bin_end": 0.13350000000000006,
            "count": 1
           },
           {
            "bin_start": 0.13350000000000006,
            "bin_end": 0.23350000000000004,
            "count": 0
           },
           {
            "bin_start": 0.23350000000000004,
            "bin_end": 0.3335,
            "count": 0
           },
           {
            "bin_start": 0.3335,
            "bin_end": 0.4335,
            "count": 0
           },
           {
            "bin_start": 0.4335,
            "bin_end": 0.5335,
            "count": 0
           }
          ]
         }
        },
        {
         "name": "acousticness",
         "dtype": "float64",
         "stats": {
          "unique_count": 1,
          "nan_count": 0,
          "min": "0.972",
          "max": "0.972",
          "histogram": [
           {
            "bin_start": 0.472,
            "bin_end": 0.572,
            "count": 0
           },
           {
            "bin_start": 0.572,
            "bin_end": 0.6719999999999999,
            "count": 0
           },
           {
            "bin_start": 0.6719999999999999,
            "bin_end": 0.772,
            "count": 0
           },
           {
            "bin_start": 0.772,
            "bin_end": 0.872,
            "count": 0
           },
           {
            "bin_start": 0.872,
            "bin_end": 0.972,
            "count": 0
           },
           {
            "bin_start": 0.972,
            "bin_end": 1.072,
            "count": 1
           },
           {
            "bin_start": 1.072,
            "bin_end": 1.1720000000000002,
            "count": 0
           },
           {
            "bin_start": 1.1720000000000002,
            "bin_end": 1.272,
            "count": 0
           },
           {
            "bin_start": 1.272,
            "bin_end": 1.3719999999999999,
            "count": 0
           },
           {
            "bin_start": 1.3719999999999999,
            "bin_end": 1.472,
            "count": 0
           }
          ]
         }
        },
        {
         "name": "instrumentalness",
         "dtype": "float64",
         "stats": {
          "unique_count": 1,
          "nan_count": 0,
          "min": "0.836",
          "max": "0.836",
          "histogram": [
           {
            "bin_start": 0.33599999999999997,
            "bin_end": 0.43599999999999994,
            "count": 0
           },
           {
            "bin_start": 0.43599999999999994,
            "bin_end": 0.5359999999999999,
            "count": 0
           },
           {
            "bin_start": 0.5359999999999999,
            "bin_end": 0.6359999999999999,
            "count": 0
           },
           {
            "bin_start": 0.6359999999999999,
            "bin_end": 0.736,
            "count": 0
           },
           {
            "bin_start": 0.736,
            "bin_end": 0.8359999999999999,
            "count": 0
           },
           {
            "bin_start": 0.8359999999999999,
            "bin_end": 0.9359999999999999,
            "count": 1
           },
           {
            "bin_start": 0.9359999999999999,
            "bin_end": 1.036,
            "count": 0
           },
           {
            "bin_start": 1.036,
            "bin_end": 1.136,
            "count": 0
           },
           {
            "bin_start": 1.136,
            "bin_end": 1.2359999999999998,
            "count": 0
           },
           {
            "bin_start": 1.2359999999999998,
            "bin_end": 1.3359999999999999,
            "count": 0
           }
          ]
         }
        },
        {
         "name": "liveness",
         "dtype": "float64",
         "stats": {
          "unique_count": 1,
          "nan_count": 0,
          "min": "0.11",
          "max": "0.11",
          "histogram": [
           {
            "bin_start": -0.39,
            "bin_end": -0.29000000000000004,
            "count": 0
           },
           {
            "bin_start": -0.29000000000000004,
            "bin_end": -0.19,
            "count": 0
           },
           {
            "bin_start": -0.19,
            "bin_end": -0.08999999999999997,
            "count": 0
           },
           {
            "bin_start": -0.08999999999999997,
            "bin_end": 0.010000000000000009,
            "count": 0
           },
           {
            "bin_start": 0.010000000000000009,
            "bin_end": 0.10999999999999999,
            "count": 0
           },
           {
            "bin_start": 0.10999999999999999,
            "bin_end": 0.21000000000000008,
            "count": 1
           },
           {
            "bin_start": 0.21000000000000008,
            "bin_end": 0.31000000000000005,
            "count": 0
           },
           {
            "bin_start": 0.31000000000000005,
            "bin_end": 0.41000000000000003,
            "count": 0
           },
           {
            "bin_start": 0.41000000000000003,
            "bin_end": 0.51,
            "count": 0
           },
           {
            "bin_start": 0.51,
            "bin_end": 0.61,
            "count": 0
           }
          ]
         }
        },
        {
         "name": "valence",
         "dtype": "float64",
         "stats": {
          "unique_count": 1,
          "nan_count": 0,
          "min": "0.169",
          "max": "0.169",
          "histogram": [
           {
            "bin_start": -0.33099999999999996,
            "bin_end": -0.23099999999999996,
            "count": 0
           },
           {
            "bin_start": -0.23099999999999996,
            "bin_end": -0.13099999999999995,
            "count": 0
           },
           {
            "bin_start": -0.13099999999999995,
            "bin_end": -0.030999999999999917,
            "count": 0
           },
           {
            "bin_start": -0.030999999999999917,
            "bin_end": 0.06900000000000006,
            "count": 0
           },
           {
            "bin_start": 0.06900000000000006,
            "bin_end": 0.16900000000000004,
            "count": 1
           },
           {
            "bin_start": 0.16900000000000004,
            "bin_end": 0.26900000000000013,
            "count": 0
           },
           {
            "bin_start": 0.26900000000000013,
            "bin_end": 0.3690000000000001,
            "count": 0
           },
           {
            "bin_start": 0.3690000000000001,
            "bin_end": 0.4690000000000001,
            "count": 0
           },
           {
            "bin_start": 0.4690000000000001,
            "bin_end": 0.5690000000000001,
            "count": 0
           },
           {
            "bin_start": 0.5690000000000001,
            "bin_end": 0.669,
            "count": 0
           }
          ]
         }
        },
        {
         "name": "tempo",
         "dtype": "float64",
         "stats": {
          "unique_count": 1,
          "nan_count": 0,
          "min": "101.114",
          "max": "101.114",
          "histogram": [
           {
            "bin_start": 100.614,
            "bin_end": 100.714,
            "count": 0
           },
           {
            "bin_start": 100.714,
            "bin_end": 100.81400000000001,
            "count": 0
           },
           {
            "bin_start": 100.81400000000001,
            "bin_end": 100.914,
            "count": 0
           },
           {
            "bin_start": 100.914,
            "bin_end": 101.01400000000001,
            "count": 0
           },
           {
            "bin_start": 101.01400000000001,
            "bin_end": 101.114,
            "count": 0
           },
           {
            "bin_start": 101.114,
            "bin_end": 101.214,
            "count": 1
           },
           {
            "bin_start": 101.214,
            "bin_end": 101.31400000000001,
            "count": 0
           },
           {
            "bin_start": 101.31400000000001,
            "bin_end": 101.414,
            "count": 0
           },
           {
            "bin_start": 101.414,
            "bin_end": 101.51400000000001,
            "count": 0
           },
           {
            "bin_start": 101.51400000000001,
            "bin_end": 101.614,
            "count": 0
           }
          ]
         }
        },
        {
         "name": "type",
         "dtype": "object",
         "stats": {
          "unique_count": 1,
          "nan_count": 0,
          "categories": [
           {
            "name": "audio_features",
            "count": 1
           }
          ]
         }
        },
        {
         "name": "id",
         "dtype": "object",
         "stats": {
          "unique_count": 1,
          "nan_count": 0,
          "categories": [
           {
            "name": "6qxR6arAISIf7Mm2ynH4u1",
            "count": 1
           }
          ]
         }
        },
        {
         "name": "uri",
         "dtype": "object",
         "stats": {
          "unique_count": 1,
          "nan_count": 0,
          "categories": [
           {
            "name": "spotify:track:6qxR6arAISIf7Mm2ynH4u1",
            "count": 1
           }
          ]
         }
        },
        {
         "name": "track_href",
         "dtype": "object",
         "stats": {
          "unique_count": 1,
          "nan_count": 0,
          "categories": [
           {
            "name": "https://api.spotify.com/v1/tracks/6qxR6arAISIf7Mm2ynH4u1",
            "count": 1
           }
          ]
         }
        },
        {
         "name": "analysis_url",
         "dtype": "object",
         "stats": {
          "unique_count": 1,
          "nan_count": 0,
          "categories": [
           {
            "name": "https://api.spotify.com/v1/audio-analysis/6qxR6arAISIf7Mm2ynH4u1",
            "count": 1
           }
          ]
         }
        },
        {
         "name": "duration_ms",
         "dtype": "int64",
         "stats": {
          "unique_count": 1,
          "nan_count": 0,
          "min": "193775",
          "max": "193775",
          "histogram": [
           {
            "bin_start": 193774.5,
            "bin_end": 193774.6,
            "count": 0
           },
           {
            "bin_start": 193774.6,
            "bin_end": 193774.7,
            "count": 0
           },
           {
            "bin_start": 193774.7,
            "bin_end": 193774.8,
            "count": 0
           },
           {
            "bin_start": 193774.8,
            "bin_end": 193774.9,
            "count": 0
           },
           {
            "bin_start": 193774.9,
            "bin_end": 193775,
            "count": 0
           },
           {
            "bin_start": 193775,
            "bin_end": 193775.1,
            "count": 1
           },
           {
            "bin_start": 193775.1,
            "bin_end": 193775.2,
            "count": 0
           },
           {
            "bin_start": 193775.2,
            "bin_end": 193775.3,
            "count": 0
           },
           {
            "bin_start": 193775.3,
            "bin_end": 193775.4,
            "count": 0
           },
           {
            "bin_start": 193775.4,
            "bin_end": 193775.5,
            "count": 0
           }
          ]
         }
        },
        {
         "name": "time_signature",
         "dtype": "int64",
         "stats": {
          "unique_count": 1,
          "nan_count": 0,
          "min": "4",
          "max": "4",
          "histogram": [
           {
            "bin_start": 3.5,
            "bin_end": 3.6,
            "count": 0
           },
           {
            "bin_start": 3.6,
            "bin_end": 3.7,
            "count": 0
           },
           {
            "bin_start": 3.7,
            "bin_end": 3.8,
            "count": 0
           },
           {
            "bin_start": 3.8,
            "bin_end": 3.9,
            "count": 0
           },
           {
            "bin_start": 3.9,
            "bin_end": 4,
            "count": 0
           },
           {
            "bin_start": 4,
            "bin_end": 4.1,
            "count": 1
           },
           {
            "bin_start": 4.1,
            "bin_end": 4.2,
            "count": 0
           },
           {
            "bin_start": 4.2,
            "bin_end": 4.3,
            "count": 0
           },
           {
            "bin_start": 4.3,
            "bin_end": 4.4,
            "count": 0
           },
           {
            "bin_start": 4.4,
            "bin_end": 4.5,
            "count": 0
           }
          ]
         }
        },
        {
         "name": "genre",
         "dtype": "object",
         "stats": {
          "unique_count": 1,
          "nan_count": 0,
          "categories": [
           {
            "name": "[]",
            "count": 1
           }
          ]
         }
        },
        {
         "name": "album",
         "dtype": "object",
         "stats": {
          "unique_count": 1,
          "nan_count": 0,
          "categories": [
           {
            "name": "Relaxin' at Camarillo",
            "count": 1
           }
          ]
         }
        },
        {
         "name": "popularity",
         "dtype": "int64",
         "stats": {
          "unique_count": 1,
          "nan_count": 0,
          "min": "46",
          "max": "46",
          "histogram": [
           {
            "bin_start": 45.5,
            "bin_end": 45.6,
            "count": 0
           },
           {
            "bin_start": 45.6,
            "bin_end": 45.7,
            "count": 0
           },
           {
            "bin_start": 45.7,
            "bin_end": 45.8,
            "count": 0
           },
           {
            "bin_start": 45.8,
            "bin_end": 45.9,
            "count": 0
           },
           {
            "bin_start": 45.9,
            "bin_end": 46,
            "count": 0
           },
           {
            "bin_start": 46,
            "bin_end": 46.1,
            "count": 1
           },
           {
            "bin_start": 46.1,
            "bin_end": 46.2,
            "count": 0
           },
           {
            "bin_start": 46.2,
            "bin_end": 46.3,
            "count": 0
           },
           {
            "bin_start": 46.3,
            "bin_end": 46.4,
            "count": 0
           },
           {
            "bin_start": 46.4,
            "bin_end": 46.5,
            "count": 0
           }
          ]
         }
        },
        {
         "name": "name",
         "dtype": "object",
         "stats": {
          "unique_count": 1,
          "nan_count": 0,
          "categories": [
           {
            "name": "William Carter Band",
            "count": 1
           }
          ]
         }
        },
        {
         "name": "track_name",
         "dtype": "object",
         "stats": {
          "unique_count": 1,
          "nan_count": 0,
          "categories": [
           {
            "name": "Peace",
            "count": 1
           }
          ]
         }
        },
        {
         "name": "_deepnote_index_column",
         "dtype": "int64"
        }
       ],
       "rows": [
        {
         "danceability": 0.505,
         "energy": 0.15,
         "key": 10,
         "loudness": -17.508,
         "mode": 1,
         "speechiness": 0.0335,
         "acousticness": 0.972,
         "instrumentalness": 0.836,
         "liveness": 0.11,
         "valence": 0.169,
         "tempo": 101.114,
         "type": "audio_features",
         "id": "6qxR6arAISIf7Mm2ynH4u1",
         "uri": "spotify:track:6qxR6arAISIf7Mm2ynH4u1",
         "track_href": "https://api.spotify.com/v1/tracks/6qxR6arAISIf7Mm2ynH4u1",
         "analysis_url": "https://api.spotify.com/v1/audio-analysis/6qxR6arAISIf7Mm2ynH4u1",
         "duration_ms": 193775,
         "time_signature": 4,
         "genre": "[]",
         "album": "Relaxin' at Camarillo",
         "popularity": 46,
         "name": "William Carter Band",
         "track_name": "Peace",
         "_deepnote_index_column": 50
        }
       ]
      },
      "text/plain": "    danceability  energy  key  loudness  mode  speechiness  acousticness  \\\n50         0.505    0.15   10   -17.508     1       0.0335         0.972   \n\n    instrumentalness  liveness  valence  ...  \\\n50             0.836      0.11    0.169  ...   \n\n                                     uri  \\\n50  spotify:track:6qxR6arAISIf7Mm2ynH4u1   \n\n                                           track_href  \\\n50  https://api.spotify.com/v1/tracks/6qxR6arAISIf...   \n\n                                         analysis_url duration_ms  \\\n50  https://api.spotify.com/v1/audio-analysis/6qxR...      193775   \n\n   time_signature genre                  album  popularity  \\\n50              4    []  Relaxin' at Camarillo          46   \n\n                   name track_name  \n50  William Carter Band      Peace  \n\n[1 rows x 23 columns]",
      "text/html": "<div>\n<style scoped>\n    .dataframe tbody tr th:only-of-type {\n        vertical-align: middle;\n    }\n\n    .dataframe tbody tr th {\n        vertical-align: top;\n    }\n\n    .dataframe thead th {\n        text-align: right;\n    }\n</style>\n<table border=\"1\" class=\"dataframe\">\n  <thead>\n    <tr style=\"text-align: right;\">\n      <th></th>\n      <th>danceability</th>\n      <th>energy</th>\n      <th>key</th>\n      <th>loudness</th>\n      <th>mode</th>\n      <th>speechiness</th>\n      <th>acousticness</th>\n      <th>instrumentalness</th>\n      <th>liveness</th>\n      <th>valence</th>\n      <th>...</th>\n      <th>uri</th>\n      <th>track_href</th>\n      <th>analysis_url</th>\n      <th>duration_ms</th>\n      <th>time_signature</th>\n      <th>genre</th>\n      <th>album</th>\n      <th>popularity</th>\n      <th>name</th>\n      <th>track_name</th>\n    </tr>\n  </thead>\n  <tbody>\n    <tr>\n      <th>50</th>\n      <td>0.505</td>\n      <td>0.15</td>\n      <td>10</td>\n      <td>-17.508</td>\n      <td>1</td>\n      <td>0.0335</td>\n      <td>0.972</td>\n      <td>0.836</td>\n      <td>0.11</td>\n      <td>0.169</td>\n      <td>...</td>\n      <td>spotify:track:6qxR6arAISIf7Mm2ynH4u1</td>\n      <td>https://api.spotify.com/v1/tracks/6qxR6arAISIf...</td>\n      <td>https://api.spotify.com/v1/audio-analysis/6qxR...</td>\n      <td>193775</td>\n      <td>4</td>\n      <td>[]</td>\n      <td>Relaxin' at Camarillo</td>\n      <td>46</td>\n      <td>William Carter Band</td>\n      <td>Peace</td>\n    </tr>\n  </tbody>\n</table>\n<p>1 rows × 23 columns</p>\n</div>"
     },
     "metadata": {}
    }
   ]
  },
  {
   "cell_type": "markdown",
   "source": "- try something from mandarin playlist and see if recommended songs are in the same playlist ",
   "metadata": {
    "cell_id": "3e928cbe2c96411ea63254cd1ce18100",
    "tags": [],
    "deepnote_cell_type": "markdown",
    "deepnote_cell_height": 69.390625
   }
  },
  {
   "cell_type": "code",
   "metadata": {
    "cell_id": "9d9bf9a9d44a46f18f965872ab3c78fe",
    "tags": [],
    "deepnote_to_be_reexecuted": false,
    "source_hash": "27d19f73",
    "execution_start": 1651615766976,
    "execution_millis": 446,
    "deepnote_cell_type": "code",
    "deepnote_cell_height": 310.0625,
    "deepnote_output_heights": [
     213.0625
    ]
   },
   "source": "CB_rec('沒有如果', 10)",
   "execution_count": null,
   "outputs": [
    {
     "output_type": "execute_result",
     "execution_count": 41,
     "data": {
      "text/plain": "40                        如果雨之後\n38                           晴天\n34    你,好不好? - TVBS連續劇【遺憾拼圖】片尾曲\n66         花背後的溫柔 - 電視劇「流星花園」插曲\n0                           怎麼了\n13                     你不是真正的快樂\n33                          髮如雪\n37                     給我一個理由忘記\n46                       不能說的秘密\n52                        背對背擁抱\nName: track_name, dtype: object"
     },
     "metadata": {}
    }
   ]
  },
  {
   "cell_type": "code",
   "metadata": {
    "cell_id": "b6c4cf415a16448c8f5e0e183651265a",
    "tags": [],
    "deepnote_to_be_reexecuted": false,
    "source_hash": "2b0c86e8",
    "execution_start": 1651615766977,
    "execution_millis": 1,
    "deepnote_cell_type": "code",
    "deepnote_cell_height": 118.1875,
    "deepnote_output_heights": [
     21.1875
    ]
   },
   "source": "final_df2['track_name'][97]",
   "execution_count": null,
   "outputs": [
    {
     "output_type": "execute_result",
     "execution_count": 42,
     "data": {
      "text/plain": "'沒有如果'"
     },
     "metadata": {}
    }
   ]
  },
  {
   "cell_type": "markdown",
   "source": "- try something from meditation playlist and see if recommended songs are in the same playlist",
   "metadata": {
    "cell_id": "6b380cc49b7348659fa2398e47e352c9",
    "tags": [],
    "deepnote_cell_type": "markdown",
    "deepnote_cell_height": 69.390625
   }
  },
  {
   "cell_type": "code",
   "metadata": {
    "cell_id": "7b4297782f6342ce99effb9a7f0b061a",
    "tags": [],
    "deepnote_to_be_reexecuted": false,
    "source_hash": "122e6cae",
    "execution_start": 1651615766978,
    "execution_millis": 444,
    "deepnote_cell_type": "code",
    "deepnote_cell_height": 118.1875,
    "deepnote_output_heights": [
     21.1875
    ]
   },
   "source": "final_df3['track_name'][4]",
   "execution_count": null,
   "outputs": [
    {
     "output_type": "execute_result",
     "execution_count": 43,
     "data": {
      "text/plain": "'Hypnosis'"
     },
     "metadata": {}
    }
   ]
  },
  {
   "cell_type": "code",
   "metadata": {
    "cell_id": "5e85acbeba8540ada4ee087888da0e0c",
    "tags": [],
    "deepnote_to_be_reexecuted": false,
    "source_hash": "382eeb9d",
    "execution_start": 1651615767022,
    "execution_millis": 400,
    "deepnote_cell_type": "code",
    "deepnote_cell_height": 310.0625,
    "deepnote_output_heights": [
     213.0625
    ]
   },
   "source": "CB_rec(\"Hypnosis\", 10)",
   "execution_count": null,
   "outputs": [
    {
     "output_type": "execute_result",
     "execution_count": 44,
     "data": {
      "text/plain": "9                Moonchild\n53    Pastorale in C minor\n15           Autumn Leaves\n41            Unforgetable\n31      My Funny Valentine\n85           New Awakening\n59                    Time\n24                 Forward\n12        Melody of Summer\n18          Piazzale Mauna\nName: track_name, dtype: object"
     },
     "metadata": {}
    }
   ]
  },
  {
   "cell_type": "code",
   "metadata": {
    "cell_id": "f0ca4af4b00e4254851d2ef212c65323",
    "tags": [],
    "deepnote_to_be_reexecuted": false,
    "source_hash": "584fdb17",
    "execution_start": 1651615767023,
    "execution_millis": 400,
    "deepnote_cell_type": "code",
    "deepnote_cell_height": 375
   },
   "source": "final_df3[final_df3['track_name'] == 'Piazzale Mauna']\n#moonchild\n#new awakening\n#time\n#forward\n#melody of summer\n#Piazzale Mauna\n\n",
   "execution_count": null,
   "outputs": [
    {
     "output_type": "execute_result",
     "execution_count": 45,
     "data": {
      "application/vnd.deepnote.dataframe.v3+json": {
       "column_count": 23,
       "row_count": 1,
       "columns": [
        {
         "name": "danceability",
         "dtype": "float64",
         "stats": {
          "unique_count": 1,
          "nan_count": 0,
          "min": "0.173",
          "max": "0.173",
          "histogram": [
           {
            "bin_start": -0.327,
            "bin_end": -0.227,
            "count": 0
           },
           {
            "bin_start": -0.227,
            "bin_end": -0.127,
            "count": 0
           },
           {
            "bin_start": -0.127,
            "bin_end": -0.02699999999999997,
            "count": 0
           },
           {
            "bin_start": -0.02699999999999997,
            "bin_end": 0.07300000000000001,
            "count": 0
           },
           {
            "bin_start": 0.07300000000000001,
            "bin_end": 0.173,
            "count": 0
           },
           {
            "bin_start": 0.173,
            "bin_end": 0.2730000000000001,
            "count": 1
           },
           {
            "bin_start": 0.2730000000000001,
            "bin_end": 0.37300000000000005,
            "count": 0
           },
           {
            "bin_start": 0.37300000000000005,
            "bin_end": 0.47300000000000003,
            "count": 0
           },
           {
            "bin_start": 0.47300000000000003,
            "bin_end": 0.573,
            "count": 0
           },
           {
            "bin_start": 0.573,
            "bin_end": 0.673,
            "count": 0
           }
          ]
         }
        },
        {
         "name": "energy",
         "dtype": "float64",
         "stats": {
          "unique_count": 1,
          "nan_count": 0,
          "min": "0.148",
          "max": "0.148",
          "histogram": [
           {
            "bin_start": -0.352,
            "bin_end": -0.252,
            "count": 0
           },
           {
            "bin_start": -0.252,
            "bin_end": -0.15199999999999997,
            "count": 0
           },
           {
            "bin_start": -0.15199999999999997,
            "bin_end": -0.051999999999999935,
            "count": 0
           },
           {
            "bin_start": -0.051999999999999935,
            "bin_end": 0.04800000000000004,
            "count": 0
           },
           {
            "bin_start": 0.04800000000000004,
            "bin_end": 0.14800000000000002,
            "count": 1
           },
           {
            "bin_start": 0.14800000000000002,
            "bin_end": 0.2480000000000001,
            "count": 0
           },
           {
            "bin_start": 0.2480000000000001,
            "bin_end": 0.3480000000000001,
            "count": 0
           },
           {
            "bin_start": 0.3480000000000001,
            "bin_end": 0.44800000000000006,
            "count": 0
           },
           {
            "bin_start": 0.44800000000000006,
            "bin_end": 0.548,
            "count": 0
           },
           {
            "bin_start": 0.548,
            "bin_end": 0.648,
            "count": 0
           }
          ]
         }
        },
        {
         "name": "key",
         "dtype": "int64",
         "stats": {
          "unique_count": 1,
          "nan_count": 0,
          "min": "7",
          "max": "7",
          "histogram": [
           {
            "bin_start": 6.5,
            "bin_end": 6.6,
            "count": 0
           },
           {
            "bin_start": 6.6,
            "bin_end": 6.7,
            "count": 0
           },
           {
            "bin_start": 6.7,
            "bin_end": 6.8,
            "count": 0
           },
           {
            "bin_start": 6.8,
            "bin_end": 6.9,
            "count": 0
           },
           {
            "bin_start": 6.9,
            "bin_end": 7,
            "count": 0
           },
           {
            "bin_start": 7,
            "bin_end": 7.1,
            "count": 1
           },
           {
            "bin_start": 7.1,
            "bin_end": 7.2,
            "count": 0
           },
           {
            "bin_start": 7.2,
            "bin_end": 7.3,
            "count": 0
           },
           {
            "bin_start": 7.3,
            "bin_end": 7.4,
            "count": 0
           },
           {
            "bin_start": 7.4,
            "bin_end": 7.5,
            "count": 0
           }
          ]
         }
        },
        {
         "name": "loudness",
         "dtype": "float64",
         "stats": {
          "unique_count": 1,
          "nan_count": 0,
          "min": "-21.697",
          "max": "-21.697",
          "histogram": [
           {
            "bin_start": -22.197,
            "bin_end": -22.096999999999998,
            "count": 0
           },
           {
            "bin_start": -22.096999999999998,
            "bin_end": -21.997,
            "count": 0
           },
           {
            "bin_start": -21.997,
            "bin_end": -21.897,
            "count": 0
           },
           {
            "bin_start": -21.897,
            "bin_end": -21.797,
            "count": 0
           },
           {
            "bin_start": -21.797,
            "bin_end": -21.697,
            "count": 0
           },
           {
            "bin_start": -21.697,
            "bin_end": -21.596999999999998,
            "count": 1
           },
           {
            "bin_start": -21.596999999999998,
            "bin_end": -21.497,
            "count": 0
           },
           {
            "bin_start": -21.497,
            "bin_end": -21.397,
            "count": 0
           },
           {
            "bin_start": -21.397,
            "bin_end": -21.297,
            "count": 0
           },
           {
            "bin_start": -21.297,
            "bin_end": -21.197,
            "count": 0
           }
          ]
         }
        },
        {
         "name": "mode",
         "dtype": "int64",
         "stats": {
          "unique_count": 1,
          "nan_count": 0,
          "min": "0",
          "max": "0",
          "histogram": [
           {
            "bin_start": -0.5,
            "bin_end": -0.4,
            "count": 0
           },
           {
            "bin_start": -0.4,
            "bin_end": -0.3,
            "count": 0
           },
           {
            "bin_start": -0.3,
            "bin_end": -0.19999999999999996,
            "count": 0
           },
           {
            "bin_start": -0.19999999999999996,
            "bin_end": -0.09999999999999998,
            "count": 0
           },
           {
            "bin_start": -0.09999999999999998,
            "bin_end": 0,
            "count": 0
           },
           {
            "bin_start": 0,
            "bin_end": 0.10000000000000009,
            "count": 1
           },
           {
            "bin_start": 0.10000000000000009,
            "bin_end": 0.20000000000000007,
            "count": 0
           },
           {
            "bin_start": 0.20000000000000007,
            "bin_end": 0.30000000000000004,
            "count": 0
           },
           {
            "bin_start": 0.30000000000000004,
            "bin_end": 0.4,
            "count": 0
           },
           {
            "bin_start": 0.4,
            "bin_end": 0.5,
            "count": 0
           }
          ]
         }
        },
        {
         "name": "speechiness",
         "dtype": "float64",
         "stats": {
          "unique_count": 1,
          "nan_count": 0,
          "min": "0.0367",
          "max": "0.0367",
          "histogram": [
           {
            "bin_start": -0.4633,
            "bin_end": -0.36329999999999996,
            "count": 0
           },
           {
            "bin_start": -0.36329999999999996,
            "bin_end": -0.2633,
            "count": 0
           },
           {
            "bin_start": -0.2633,
            "bin_end": -0.16329999999999995,
            "count": 0
           },
           {
            "bin_start": -0.16329999999999995,
            "bin_end": -0.06329999999999997,
            "count": 0
           },
           {
            "bin_start": -0.06329999999999997,
            "bin_end": 0.03670000000000001,
            "count": 1
           },
           {
            "bin_start": 0.03670000000000001,
            "bin_end": 0.1367000000000001,
            "count": 0
           },
           {
            "bin_start": 0.1367000000000001,
            "bin_end": 0.23670000000000008,
            "count": 0
           },
           {
            "bin_start": 0.23670000000000008,
            "bin_end": 0.33670000000000005,
            "count": 0
           },
           {
            "bin_start": 0.33670000000000005,
            "bin_end": 0.43670000000000003,
            "count": 0
           },
           {
            "bin_start": 0.43670000000000003,
            "bin_end": 0.5367,
            "count": 0
           }
          ]
         }
        },
        {
         "name": "acousticness",
         "dtype": "float64",
         "stats": {
          "unique_count": 1,
          "nan_count": 0,
          "min": "0.891",
          "max": "0.891",
          "histogram": [
           {
            "bin_start": 0.391,
            "bin_end": 0.491,
            "count": 0
           },
           {
            "bin_start": 0.491,
            "bin_end": 0.591,
            "count": 0
           },
           {
            "bin_start": 0.591,
            "bin_end": 0.6910000000000001,
            "count": 0
           },
           {
            "bin_start": 0.6910000000000001,
            "bin_end": 0.791,
            "count": 0
           },
           {
            "bin_start": 0.791,
            "bin_end": 0.891,
            "count": 0
           },
           {
            "bin_start": 0.891,
            "bin_end": 0.9910000000000001,
            "count": 1
           },
           {
            "bin_start": 0.9910000000000001,
            "bin_end": 1.0910000000000002,
            "count": 0
           },
           {
            "bin_start": 1.0910000000000002,
            "bin_end": 1.191,
            "count": 0
           },
           {
            "bin_start": 1.191,
            "bin_end": 1.291,
            "count": 0
           },
           {
            "bin_start": 1.291,
            "bin_end": 1.391,
            "count": 0
           }
          ]
         }
        },
        {
         "name": "instrumentalness",
         "dtype": "float64",
         "stats": {
          "unique_count": 1,
          "nan_count": 0,
          "min": "0.826",
          "max": "0.826",
          "histogram": [
           {
            "bin_start": 0.32599999999999996,
            "bin_end": 0.42599999999999993,
            "count": 0
           },
           {
            "bin_start": 0.42599999999999993,
            "bin_end": 0.526,
            "count": 0
           },
           {
            "bin_start": 0.526,
            "bin_end": 0.626,
            "count": 0
           },
           {
            "bin_start": 0.626,
            "bin_end": 0.726,
            "count": 0
           },
           {
            "bin_start": 0.726,
            "bin_end": 0.826,
            "count": 0
           },
           {
            "bin_start": 0.826,
            "bin_end": 0.926,
            "count": 1
           },
           {
            "bin_start": 0.926,
            "bin_end": 1.026,
            "count": 0
           },
           {
            "bin_start": 1.026,
            "bin_end": 1.126,
            "count": 0
           },
           {
            "bin_start": 1.126,
            "bin_end": 1.226,
            "count": 0
           },
           {
            "bin_start": 1.226,
            "bin_end": 1.326,
            "count": 0
           }
          ]
         }
        },
        {
         "name": "liveness",
         "dtype": "float64",
         "stats": {
          "unique_count": 1,
          "nan_count": 0,
          "min": "0.197",
          "max": "0.197",
          "histogram": [
           {
            "bin_start": -0.303,
            "bin_end": -0.20299999999999999,
            "count": 0
           },
           {
            "bin_start": -0.20299999999999999,
            "bin_end": -0.10299999999999998,
            "count": 0
           },
           {
            "bin_start": -0.10299999999999998,
            "bin_end": -0.002999999999999947,
            "count": 0
           },
           {
            "bin_start": -0.002999999999999947,
            "bin_end": 0.09700000000000003,
            "count": 0
           },
           {
            "bin_start": 0.09700000000000003,
            "bin_end": 0.197,
            "count": 0
           },
           {
            "bin_start": 0.197,
            "bin_end": 0.2970000000000001,
            "count": 1
           },
           {
            "bin_start": 0.2970000000000001,
            "bin_end": 0.3970000000000001,
            "count": 0
           },
           {
            "bin_start": 0.3970000000000001,
            "bin_end": 0.49700000000000005,
            "count": 0
           },
           {
            "bin_start": 0.49700000000000005,
            "bin_end": 0.597,
            "count": 0
           },
           {
            "bin_start": 0.597,
            "bin_end": 0.6970000000000001,
            "count": 0
           }
          ]
         }
        },
        {
         "name": "valence",
         "dtype": "float64",
         "stats": {
          "unique_count": 1,
          "nan_count": 0,
          "min": "0.0389",
          "max": "0.0389",
          "histogram": [
           {
            "bin_start": -0.4611,
            "bin_end": -0.3611,
            "count": 0
           },
           {
            "bin_start": -0.3611,
            "bin_end": -0.2611,
            "count": 0
           },
           {
            "bin_start": -0.2611,
            "bin_end": -0.16109999999999997,
            "count": 0
           },
           {
            "bin_start": -0.16109999999999997,
            "bin_end": -0.06109999999999999,
            "count": 0
           },
           {
            "bin_start": -0.06109999999999999,
            "bin_end": 0.03889999999999999,
            "count": 0
           },
           {
            "bin_start": 0.03889999999999999,
            "bin_end": 0.13890000000000008,
            "count": 1
           },
           {
            "bin_start": 0.13890000000000008,
            "bin_end": 0.23890000000000006,
            "count": 0
           },
           {
            "bin_start": 0.23890000000000006,
            "bin_end": 0.33890000000000003,
            "count": 0
           },
           {
            "bin_start": 0.33890000000000003,
            "bin_end": 0.4389,
            "count": 0
           },
           {
            "bin_start": 0.4389,
            "bin_end": 0.5389,
            "count": 0
           }
          ]
         }
        },
        {
         "name": "tempo",
         "dtype": "float64",
         "stats": {
          "unique_count": 1,
          "nan_count": 0,
          "min": "126.383",
          "max": "126.383",
          "histogram": [
           {
            "bin_start": 125.883,
            "bin_end": 125.98299999999999,
            "count": 0
           },
           {
            "bin_start": 125.98299999999999,
            "bin_end": 126.083,
            "count": 0
           },
           {
            "bin_start": 126.083,
            "bin_end": 126.18299999999999,
            "count": 0
           },
           {
            "bin_start": 126.18299999999999,
            "bin_end": 126.283,
            "count": 0
           },
           {
            "bin_start": 126.283,
            "bin_end": 126.383,
            "count": 0
           },
           {
            "bin_start": 126.383,
            "bin_end": 126.48299999999999,
            "count": 1
           },
           {
            "bin_start": 126.48299999999999,
            "bin_end": 126.583,
            "count": 0
           },
           {
            "bin_start": 126.583,
            "bin_end": 126.68299999999999,
            "count": 0
           },
           {
            "bin_start": 126.68299999999999,
            "bin_end": 126.783,
            "count": 0
           },
           {
            "bin_start": 126.783,
            "bin_end": 126.883,
            "count": 0
           }
          ]
         }
        },
        {
         "name": "type",
         "dtype": "object",
         "stats": {
          "unique_count": 1,
          "nan_count": 0,
          "categories": [
           {
            "name": "audio_features",
            "count": 1
           }
          ]
         }
        },
        {
         "name": "id",
         "dtype": "object",
         "stats": {
          "unique_count": 1,
          "nan_count": 0,
          "categories": [
           {
            "name": "0LKKLpXYCrS4cJLoWELHZs",
            "count": 1
           }
          ]
         }
        },
        {
         "name": "uri",
         "dtype": "object",
         "stats": {
          "unique_count": 1,
          "nan_count": 0,
          "categories": [
           {
            "name": "spotify:track:0LKKLpXYCrS4cJLoWELHZs",
            "count": 1
           }
          ]
         }
        },
        {
         "name": "track_href",
         "dtype": "object",
         "stats": {
          "unique_count": 1,
          "nan_count": 0,
          "categories": [
           {
            "name": "https://api.spotify.com/v1/tracks/0LKKLpXYCrS4cJLoWELHZs",
            "count": 1
           }
          ]
         }
        },
        {
         "name": "analysis_url",
         "dtype": "object",
         "stats": {
          "unique_count": 1,
          "nan_count": 0,
          "categories": [
           {
            "name": "https://api.spotify.com/v1/audio-analysis/0LKKLpXYCrS4cJLoWELHZs",
            "count": 1
           }
          ]
         }
        },
        {
         "name": "duration_ms",
         "dtype": "int64",
         "stats": {
          "unique_count": 1,
          "nan_count": 0,
          "min": "208594",
          "max": "208594",
          "histogram": [
           {
            "bin_start": 208593.5,
            "bin_end": 208593.6,
            "count": 0
           },
           {
            "bin_start": 208593.6,
            "bin_end": 208593.7,
            "count": 0
           },
           {
            "bin_start": 208593.7,
            "bin_end": 208593.8,
            "count": 0
           },
           {
            "bin_start": 208593.8,
            "bin_end": 208593.9,
            "count": 0
           },
           {
            "bin_start": 208593.9,
            "bin_end": 208594,
            "count": 0
           },
           {
            "bin_start": 208594,
            "bin_end": 208594.1,
            "count": 1
           },
           {
            "bin_start": 208594.1,
            "bin_end": 208594.2,
            "count": 0
           },
           {
            "bin_start": 208594.2,
            "bin_end": 208594.3,
            "count": 0
           },
           {
            "bin_start": 208594.3,
            "bin_end": 208594.4,
            "count": 0
           },
           {
            "bin_start": 208594.4,
            "bin_end": 208594.5,
            "count": 0
           }
          ]
         }
        },
        {
         "name": "time_signature",
         "dtype": "int64",
         "stats": {
          "unique_count": 1,
          "nan_count": 0,
          "min": "4",
          "max": "4",
          "histogram": [
           {
            "bin_start": 3.5,
            "bin_end": 3.6,
            "count": 0
           },
           {
            "bin_start": 3.6,
            "bin_end": 3.7,
            "count": 0
           },
           {
            "bin_start": 3.7,
            "bin_end": 3.8,
            "count": 0
           },
           {
            "bin_start": 3.8,
            "bin_end": 3.9,
            "count": 0
           },
           {
            "bin_start": 3.9,
            "bin_end": 4,
            "count": 0
           },
           {
            "bin_start": 4,
            "bin_end": 4.1,
            "count": 1
           },
           {
            "bin_start": 4.1,
            "bin_end": 4.2,
            "count": 0
           },
           {
            "bin_start": 4.2,
            "bin_end": 4.3,
            "count": 0
           },
           {
            "bin_start": 4.3,
            "bin_end": 4.4,
            "count": 0
           },
           {
            "bin_start": 4.4,
            "bin_end": 4.5,
            "count": 0
           }
          ]
         }
        },
        {
         "name": "genre",
         "dtype": "object",
         "stats": {
          "unique_count": 1,
          "nan_count": 0,
          "categories": [
           {
            "name": "[]",
            "count": 1
           }
          ]
         }
        },
        {
         "name": "album",
         "dtype": "object",
         "stats": {
          "unique_count": 1,
          "nan_count": 0,
          "categories": [
           {
            "name": "Piazzale Mauna",
            "count": 1
           }
          ]
         }
        },
        {
         "name": "popularity",
         "dtype": "int64",
         "stats": {
          "unique_count": 1,
          "nan_count": 0,
          "min": "45",
          "max": "45",
          "histogram": [
           {
            "bin_start": 44.5,
            "bin_end": 44.6,
            "count": 0
           },
           {
            "bin_start": 44.6,
            "bin_end": 44.7,
            "count": 0
           },
           {
            "bin_start": 44.7,
            "bin_end": 44.8,
            "count": 0
           },
           {
            "bin_start": 44.8,
            "bin_end": 44.9,
            "count": 0
           },
           {
            "bin_start": 44.9,
            "bin_end": 45,
            "count": 0
           },
           {
            "bin_start": 45,
            "bin_end": 45.1,
            "count": 1
           },
           {
            "bin_start": 45.1,
            "bin_end": 45.2,
            "count": 0
           },
           {
            "bin_start": 45.2,
            "bin_end": 45.3,
            "count": 0
           },
           {
            "bin_start": 45.3,
            "bin_end": 45.4,
            "count": 0
           },
           {
            "bin_start": 45.4,
            "bin_end": 45.5,
            "count": 0
           }
          ]
         }
        },
        {
         "name": "name",
         "dtype": "object",
         "stats": {
          "unique_count": 1,
          "nan_count": 0,
          "categories": [
           {
            "name": "Il Sognatore",
            "count": 1
           }
          ]
         }
        },
        {
         "name": "track_name",
         "dtype": "object",
         "stats": {
          "unique_count": 1,
          "nan_count": 0,
          "categories": [
           {
            "name": "Piazzale Mauna",
            "count": 1
           }
          ]
         }
        },
        {
         "name": "_deepnote_index_column",
         "dtype": "int64"
        }
       ],
       "rows": [
        {
         "danceability": 0.173,
         "energy": 0.148,
         "key": 7,
         "loudness": -21.697,
         "mode": 0,
         "speechiness": 0.0367,
         "acousticness": 0.891,
         "instrumentalness": 0.826,
         "liveness": 0.197,
         "valence": 0.0389,
         "tempo": 126.383,
         "type": "audio_features",
         "id": "0LKKLpXYCrS4cJLoWELHZs",
         "uri": "spotify:track:0LKKLpXYCrS4cJLoWELHZs",
         "track_href": "https://api.spotify.com/v1/tracks/0LKKLpXYCrS4cJLoWELHZs",
         "analysis_url": "https://api.spotify.com/v1/audio-analysis/0LKKLpXYCrS4cJLoWELHZs",
         "duration_ms": 208594,
         "time_signature": 4,
         "genre": "[]",
         "album": "Piazzale Mauna",
         "popularity": 45,
         "name": "Il Sognatore",
         "track_name": "Piazzale Mauna",
         "_deepnote_index_column": 18
        }
       ]
      },
      "text/plain": "    danceability  energy  key  loudness  mode  speechiness  acousticness  \\\n18         0.173   0.148    7   -21.697     0       0.0367         0.891   \n\n    instrumentalness  liveness  valence  ...  \\\n18             0.826     0.197   0.0389  ...   \n\n                                     uri  \\\n18  spotify:track:0LKKLpXYCrS4cJLoWELHZs   \n\n                                           track_href  \\\n18  https://api.spotify.com/v1/tracks/0LKKLpXYCrS4...   \n\n                                         analysis_url duration_ms  \\\n18  https://api.spotify.com/v1/audio-analysis/0LKK...      208594   \n\n   time_signature genre           album  popularity          name  \\\n18              4    []  Piazzale Mauna          45  Il Sognatore   \n\n        track_name  \n18  Piazzale Mauna  \n\n[1 rows x 23 columns]",
      "text/html": "<div>\n<style scoped>\n    .dataframe tbody tr th:only-of-type {\n        vertical-align: middle;\n    }\n\n    .dataframe tbody tr th {\n        vertical-align: top;\n    }\n\n    .dataframe thead th {\n        text-align: right;\n    }\n</style>\n<table border=\"1\" class=\"dataframe\">\n  <thead>\n    <tr style=\"text-align: right;\">\n      <th></th>\n      <th>danceability</th>\n      <th>energy</th>\n      <th>key</th>\n      <th>loudness</th>\n      <th>mode</th>\n      <th>speechiness</th>\n      <th>acousticness</th>\n      <th>instrumentalness</th>\n      <th>liveness</th>\n      <th>valence</th>\n      <th>...</th>\n      <th>uri</th>\n      <th>track_href</th>\n      <th>analysis_url</th>\n      <th>duration_ms</th>\n      <th>time_signature</th>\n      <th>genre</th>\n      <th>album</th>\n      <th>popularity</th>\n      <th>name</th>\n      <th>track_name</th>\n    </tr>\n  </thead>\n  <tbody>\n    <tr>\n      <th>18</th>\n      <td>0.173</td>\n      <td>0.148</td>\n      <td>7</td>\n      <td>-21.697</td>\n      <td>0</td>\n      <td>0.0367</td>\n      <td>0.891</td>\n      <td>0.826</td>\n      <td>0.197</td>\n      <td>0.0389</td>\n      <td>...</td>\n      <td>spotify:track:0LKKLpXYCrS4cJLoWELHZs</td>\n      <td>https://api.spotify.com/v1/tracks/0LKKLpXYCrS4...</td>\n      <td>https://api.spotify.com/v1/audio-analysis/0LKK...</td>\n      <td>208594</td>\n      <td>4</td>\n      <td>[]</td>\n      <td>Piazzale Mauna</td>\n      <td>45</td>\n      <td>Il Sognatore</td>\n      <td>Piazzale Mauna</td>\n    </tr>\n  </tbody>\n</table>\n<p>1 rows × 23 columns</p>\n</div>"
     },
     "metadata": {}
    }
   ]
  },
  {
   "cell_type": "code",
   "metadata": {
    "cell_id": "089c21d5205a4861b4e4987fc71b26fe",
    "tags": [],
    "deepnote_to_be_reexecuted": false,
    "source_hash": "b623e53d",
    "execution_start": 1651615767097,
    "execution_millis": 1,
    "deepnote_cell_type": "code",
    "deepnote_cell_height": 81
   },
   "source": "",
   "execution_count": null,
   "outputs": []
  },
  {
   "cell_type": "markdown",
   "source": "<a style='text-decoration:none;line-height:16px;display:flex;color:#5B5B62;padding:10px;justify-content:end;' href='https://deepnote.com?utm_source=created-in-deepnote-cell&projectId=320dce11-358c-40ca-8194-b0feec0651a9' target=\"_blank\">\n<img alt='Created in deepnote.com' style='display:inline;max-height:16px;margin:0px;margin-right:7.5px;' src='data:image/svg+xml;base64,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' > </img>\nCreated in <span style='font-weight:600;margin-left:4px;'>Deepnote</span></a>",
   "metadata": {
    "tags": [],
    "created_in_deepnote_cell": true,
    "deepnote_cell_type": "markdown"
   }
  }
 ],
 "nbformat": 4,
 "nbformat_minor": 2,
 "metadata": {
  "orig_nbformat": 2,
  "deepnote": {
   "is_reactive": false
  },
  "deepnote_notebook_id": "af8d0a33-34bd-4d94-a095-4c24960bc71e",
  "deepnote_execution_queue": []
 }
}